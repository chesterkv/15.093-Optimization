{
 "cells": [
  {
   "cell_type": "code",
   "execution_count": 37,
   "metadata": {},
   "outputs": [],
   "source": [
    "using CSV, Tables, LinearAlgebra, Random, Gurobi, JuMP, Statistics"
   ]
  },
  {
   "cell_type": "code",
   "execution_count": 38,
   "metadata": {},
   "outputs": [
    {
     "name": "stderr",
     "output_type": "stream",
     "text": [
      "\u001b[32m\u001b[1m   Resolving\u001b[22m\u001b[39m package versions...\n"
     ]
    },
    {
     "name": "stderr",
     "output_type": "stream",
     "text": [
      "\u001b[32m\u001b[1m  No Changes\u001b[22m\u001b[39m to `~/.julia/environments/v1.8/Project.toml`\n",
      "\u001b[32m\u001b[1m  No Changes\u001b[22m\u001b[39m to `~/.julia/environments/v1.8/Manifest.toml`\n"
     ]
    }
   ],
   "source": [
    "using Pkg\n",
    "Pkg.add(\"PyCall\")"
   ]
  },
  {
   "cell_type": "code",
   "execution_count": 284,
   "metadata": {},
   "outputs": [
    {
     "data": {
      "text/plain": [
       "5"
      ]
     },
     "metadata": {},
     "output_type": "display_data"
    }
   ],
   "source": [
    "n_stations_test=5"
   ]
  },
  {
   "cell_type": "code",
   "execution_count": 285,
   "metadata": {},
   "outputs": [
    {
     "data": {
      "text/plain": [
       "449×15 Matrix{Any}:\n",
       "   3  \"classic\"  …  \"B32006\"  42.3401   10\n",
       "   4  \"classic\"     \"C32000\"  42.3454   10\n",
       "   5  \"classic\"     \"B32012\"  42.3418   10\n",
       "   6  \"classic\"     \"D32000\"  42.3613   10\n",
       "   7  \"classic\"     \"A32000\"  42.3534   10\n",
       "   8  \"classic\"  …  \"A32001\"  42.3533   10\n",
       "   9  \"classic\"     \"A32002\"  42.3517   10\n",
       "  10  \"classic\"     \"A32003\"  42.3504   10\n",
       "  11  \"classic\"     \"A32004\"  42.3386   10\n",
       "  12  \"classic\"     \"B32002\"  42.3362   10\n",
       "   ⋮             ⋱                     \n",
       " 575  \"classic\"  …  \"T32014\"  42.5209  136\n",
       " 576  \"classic\"     \"F32001\"  42.4117  139\n",
       " 577  \"classic\"     \"F32002\"  42.4177  139\n",
       " 578  \"classic\"     \"F32003\"  42.4017  139\n",
       " 582  \"classic\"     \"M32081\"  42.3731    8\n",
       " 583  \"classic\"  …  \"M32082\"  42.363     8\n",
       " 584  \"classic\"     \"G32001\"  42.4265  140\n",
       " 585  \"classic\"     \"G32002\"  42.4239  140\n",
       " 586  \"classic\"     \"V32015\"  42.4082  104"
      ]
     },
     "metadata": {},
     "output_type": "display_data"
    }
   ],
   "source": [
    "# Read the data\n",
    "stations_info = CSV.read(\"../data/stations/station_information.csv\", Tables.matrix, header=1);\n",
    "#stations_info"
   ]
  },
  {
   "cell_type": "code",
   "execution_count": 286,
   "metadata": {},
   "outputs": [
    {
     "data": {
      "text/plain": [
       "449"
      ]
     },
     "metadata": {},
     "output_type": "display_data"
    }
   ],
   "source": [
    "n_stations=length(stations_info[:,1])"
   ]
  },
  {
   "cell_type": "markdown",
   "metadata": {},
   "source": [
    "## Let's build our input data matrices"
   ]
  },
  {
   "cell_type": "code",
   "execution_count": 287,
   "metadata": {},
   "outputs": [],
   "source": [
    "# Capacities C_i\n",
    "C=stations_info[:,9][:,:];\n",
    "C_test=C[1:n_stations_test,:];"
   ]
  },
  {
   "cell_type": "code",
   "execution_count": 288,
   "metadata": {},
   "outputs": [
    {
     "data": {
      "text/plain": [
       "5×5 Matrix{Float64}:\n",
       " 0.0        0.0314487  0.0105772  0.041174   0.0575982\n",
       " 0.0314487  0.0        0.020872   0.0164451  0.0262908\n",
       " 0.0105772  0.020872   0.0        0.0315853  0.0470539\n",
       " 0.041174   0.0164451  0.0315853  0.0        0.0221594\n",
       " 0.0575982  0.0262908  0.0470539  0.0221594  0.0"
      ]
     },
     "metadata": {},
     "output_type": "display_data"
    }
   ],
   "source": [
    "# Distances D_ij\n",
    "D=Array{Float64}(undef,n_stations,n_stations)\n",
    "for i=1:n_stations\n",
    "    for j=1:n_stations\n",
    "        D[i,j]=sqrt((stations_info[i,6]-stations_info[j,6])^2+(stations_info[i,14]-stations_info[j,14])^2)\n",
    "    end\n",
    "end\n",
    "D_test=D[1:n_stations_test,1:n_stations_test]"
   ]
  },
  {
   "cell_type": "code",
   "execution_count": 289,
   "metadata": {},
   "outputs": [
    {
     "data": {
      "text/plain": [
       "5×5 Matrix{Float64}:\n",
       " 1.0  0.0  0.0  0.0  0.0\n",
       " 0.0  1.0  0.0  0.0  0.0\n",
       " 0.0  0.0  1.0  0.0  0.0\n",
       " 0.0  0.0  0.0  1.0  0.0\n",
       " 0.0  0.0  0.0  0.0  1.0"
      ]
     },
     "metadata": {},
     "output_type": "display_data"
    }
   ],
   "source": [
    "# Feasibility X_ij\n",
    "threshold=0.01\n",
    "X=Array{Float64}(undef,n_stations,n_stations)\n",
    "for i=1:n_stations\n",
    "    for j=1:n_stations\n",
    "        if D[i,j]<threshold\n",
    "            X[i,j]=1\n",
    "        else\n",
    "            X[i,j]=0\n",
    "        end\n",
    "    end\n",
    "end\n",
    "#X\n",
    "X_test=X[1:n_stations_test,1:n_stations_test]"
   ]
  },
  {
   "cell_type": "code",
   "execution_count": 290,
   "metadata": {},
   "outputs": [
    {
     "data": {
      "text/plain": [
       "13"
      ]
     },
     "metadata": {},
     "output_type": "display_data"
    }
   ],
   "source": [
    "# Let's count the non-zero values in X\n",
    "sum(X[i,12] > 0 for i in 1:n_stations)"
   ]
  },
  {
   "cell_type": "code",
   "execution_count": 291,
   "metadata": {},
   "outputs": [],
   "source": [
    "# Demand d_ijt\n",
    "using PyCall\n",
    "\n",
    "py\"\"\"\n",
    "import pickle\n",
    " \n",
    "def load_pickle(fpath):\n",
    "    with open(fpath, \"rb\") as f:\n",
    "        data = pickle.load(f)\n",
    "    return data\n",
    "\"\"\"\n",
    "\n",
    "load_pickle = py\"load_pickle\"\n",
    "\n",
    "d = load_pickle(\"../data/parameters/demand_matrix.pkl\");"
   ]
  },
  {
   "cell_type": "code",
   "execution_count": 292,
   "metadata": {},
   "outputs": [
    {
     "data": {
      "text/plain": [
       "5×5×744 Array{Float64, 3}:\n",
       "[:, :, 1] =\n",
       " 0.0  0.0  0.0  0.0  0.0\n",
       " 0.0  0.0  0.0  0.0  0.0\n",
       " 0.0  0.0  1.0  0.0  0.0\n",
       " 0.0  0.0  0.0  0.0  0.0\n",
       " 0.0  0.0  0.0  0.0  0.0\n",
       "\n",
       "[:, :, 2] =\n",
       " 0.0  0.0  0.0  0.0  0.0\n",
       " 0.0  0.0  0.0  0.0  0.0\n",
       " 0.0  0.0  1.0  0.0  0.0\n",
       " 0.0  0.0  0.0  0.0  0.0\n",
       " 0.0  0.0  0.0  0.0  0.0\n",
       "\n",
       "[:, :, 3] =\n",
       " 0.0  0.0  0.0  0.0  0.0\n",
       " 0.0  0.0  0.0  0.0  0.0\n",
       " 0.0  0.0  0.0  0.0  0.0\n",
       " 0.0  0.0  0.0  0.0  0.0\n",
       " 0.0  0.0  0.0  0.0  0.0\n",
       "\n",
       ";;; … \n",
       "\n",
       "[:, :, 742] =\n",
       " 0.0  0.0  0.0  0.0  0.0\n",
       " 0.0  0.0  0.0  0.0  0.0\n",
       " 0.0  0.0  0.0  0.0  0.0\n",
       " 0.0  0.0  0.0  0.0  0.0\n",
       " 0.0  0.0  0.0  0.0  0.0\n",
       "\n",
       "[:, :, 743] =\n",
       " 0.0  0.0  0.0  0.0  0.0\n",
       " 0.0  0.0  0.0  0.0  0.0\n",
       " 0.0  0.0  0.0  0.0  0.0\n",
       " 0.0  0.0  0.0  0.0  0.0\n",
       " 0.0  0.0  0.0  0.0  0.0\n",
       "\n",
       "[:, :, 744] =\n",
       " 0.0  0.0  0.0  0.0  0.0\n",
       " 0.0  0.0  0.0  0.0  0.0\n",
       " 0.0  0.0  0.0  0.0  0.0\n",
       " 0.0  0.0  0.0  0.0  0.0\n",
       " 0.0  0.0  0.0  0.0  0.0"
      ]
     },
     "metadata": {},
     "output_type": "display_data"
    }
   ],
   "source": [
    "d_test=d[1:n_stations_test,1:n_stations_test,:]"
   ]
  },
  {
   "cell_type": "code",
   "execution_count": 295,
   "metadata": {},
   "outputs": [
    {
     "data": {
      "text/plain": [
       "89.0"
      ]
     },
     "metadata": {},
     "output_type": "display_data"
    }
   ],
   "source": [
    "sum(d_test[:,1,:])"
   ]
  },
  {
   "cell_type": "code",
   "execution_count": 272,
   "metadata": {},
   "outputs": [
    {
     "data": {
      "text/plain": [
       "10"
      ]
     },
     "metadata": {},
     "output_type": "display_data"
    }
   ],
   "source": [
    "# Number of vans\n",
    "K=2\n",
    "# Capacity of vans\n",
    "S=10"
   ]
  },
  {
   "cell_type": "code",
   "execution_count": 273,
   "metadata": {},
   "outputs": [],
   "source": [
    "# Initial number of bikes available y_i1\n",
    "y1=Array{Int64}(undef,n_stations)\n",
    "for i in 1:n_stations\n",
    "    y1[i]=floor(C[i]/2)\n",
    "end\n",
    "y1_test=y1[1:n_stations_test];"
   ]
  },
  {
   "cell_type": "markdown",
   "metadata": {},
   "source": [
    "## Simplified formulation"
   ]
  },
  {
   "cell_type": "code",
   "execution_count": 293,
   "metadata": {},
   "outputs": [
    {
     "data": {
      "text/plain": [
       "first_model (generic function with 1 method)"
      ]
     },
     "metadata": {},
     "output_type": "display_data"
    }
   ],
   "source": [
    "function first_model(C,D,X,y1,K,S,d,n_stations)\n",
    "    model = Model(Gurobi.Optimizer)\n",
    "    set_optimizer_attribute(model, \"OutputFlag\", 0)\n",
    "    set_optimizer_attribute(model, \"TimeLimit\", 100)\n",
    "    M=30\n",
    "    lambda=0.01 # to be tuned\n",
    "    n_rebal_stations = 5\n",
    "    # Decision variables\n",
    "    @variable(model, x[1:n_rebal_stations, 1:n_rebal_stations, 1:K, 1:24], Bin)\n",
    "    @variable(model, 0 <= z[1:n_rebal_stations, 1:n_rebal_stations, 1:K, 1:24], Int)\n",
    "    @variable(model, 0 <= y[1:n_stations, 1:24]) # Int by definition of the constraints\n",
    "    @variable(model, 0 <= w[1:n_stations, 1:n_stations, 1:24], Int) # Removed Int\n",
    "    @variable(model, 0 <= u[1:n_stations, 1:n_stations, 1:24])\n",
    "\n",
    "    # Add constraints\n",
    "    @constraint(model, [i in 1:n_stations, t in 1:24], y[i,t] <= C[i])\n",
    "    @constraint(model, [i in 1:n_rebal_stations, k in 1:K, t in 1:24], x[i,i,k,t] == 0)\n",
    "    @constraint(model, [i in 1:n_rebal_stations, t in 2:24], y[i,t] - y[i,t-1] == sum(w[j,i,t] for j in 1:n_stations)-sum(w[i,j,t] for j in 1:n_stations)+sum(z[i,j,k,t] for j in 1:n_rebal_stations, k in 1:K))\n",
    "    @constraint(model, [i in n_rebal_stations+1:n_stations, t in 2:24], y[i,t] - y[i,t-1] == sum(w[j,i,t] for j in 1:n_stations)-sum(w[i,j,t] for j in 1:n_stations))\n",
    "    @constraint(model, [i in 1:n_stations], y[i,1] == y1[i])\n",
    "    @constraint(model, [i in 1:n_rebal_stations, j in 1:n_rebal_stations, k in 1:K, t in 2:24], z[i,j,k,t] <= S)\n",
    "    @constraint(model, [i in 1:n_stations, t in 2:24], -y[i,t] <= sum(w[j,i,t] for j in 1:n_stations) - sum(w[i,j,t] for j in 1:n_stations))\n",
    "    @constraint(model, [i in 1:n_stations, t in 2:24], sum(w[j,i,t] for j in 1:n_stations) - sum(w[i,j,t] for j in 1:n_stations)<= C[i] - y[i,t])\n",
    "    @constraint(model, [k in 1:K, t in 2:24], sum(x[i,j,k,t] for i in 1:n_rebal_stations, j in 1:n_rebal_stations) == 1)\n",
    "    @constraint(model, [i in 1:n_rebal_stations, j in 1:n_rebal_stations, k in 1:K, t in 2:24], z[i,j,k,t] <= M*x[i,j,k,t])\n",
    "    @constraint(model, [i in 1:n_rebal_stations, j in 1:n_rebal_stations, k in 1:K, t in 2:24], x[i,j,k,t] <= X[i,j])\n",
    "    @constraint(model, [i in 1:n_stations, j in 1:n_stations, t in 2:24], u[i,j,t] >= d[i,j,t] - w[i,j,t])\n",
    "    #@constraint(model, [i in 1:n_stations, j in 1:n_stations, t in 2:24], u[i,j,t] >= w[i,j,t] - d[i,j,t])\n",
    "\n",
    "    # Set objective\n",
    "    @objective(model, Min, sum(u[i,j,t] for i in 1:n_stations, j in 1:n_stations, t in 1:24)+lambda*sum(D[i,j]*x[i,j,k,t] for i in 1:n_rebal_stations, j in 1:n_rebal_stations, k in 1:K, t in 1:24))\n",
    "    \n",
    "    # Solve the model\n",
    "    optimize!(model)\n",
    "    \n",
    "    # Print the solution\n",
    "    println(\"Objective value: \", objective_value(model))\n",
    "    return value.(x), value.(w), value.(u), objective_value(model)\n",
    "end"
   ]
  },
  {
   "cell_type": "code",
   "execution_count": 283,
   "metadata": {},
   "outputs": [
    {
     "name": "stdout",
     "output_type": "stream",
     "text": [
      "Set parameter Username\n",
      "Academic license - for non-commercial use only - expires 2023-09-04\n",
      "Set parameter TimeLimit to value 100\n"
     ]
    },
    {
     "ename": "MathOptInterface.ResultIndexBoundsError{MathOptInterface.ObjectiveValue}",
     "evalue": "Result index of attribute MathOptInterface.ObjectiveValue(1) out of bounds. There are currently 0 solution(s) in the model.",
     "output_type": "error",
     "traceback": [
      "Result index of attribute MathOptInterface.ObjectiveValue(1) out of bounds. There are currently 0 solution(s) in the model.\n",
      "\n",
      "Stacktrace:\n",
      "  [1] check_result_index_bounds\n",
      "    @ ~/.julia/packages/MathOptInterface/LqT2k/src/attributes.jl:198 [inlined]\n",
      "  [2] get(model::Gurobi.Optimizer, attr::MathOptInterface.ObjectiveValue)\n",
      "    @ Gurobi ~/.julia/packages/Gurobi/VPomg/src/MOI_wrapper/MOI_wrapper.jl:3084\n",
      "  [3] get(b::MathOptInterface.Bridges.LazyBridgeOptimizer{Gurobi.Optimizer}, attr::MathOptInterface.ObjectiveValue)\n",
      "    @ MathOptInterface.Bridges ~/.julia/packages/MathOptInterface/LqT2k/src/Bridges/bridge_optimizer.jl:988\n",
      "  [4] _get_model_attribute(model::MathOptInterface.Utilities.CachingOptimizer{MathOptInterface.Bridges.LazyBridgeOptimizer{Gurobi.Optimizer}, MathOptInterface.Utilities.UniversalFallback{MathOptInterface.Utilities.Model{Float64}}}, attr::MathOptInterface.ObjectiveValue)\n",
      "    @ MathOptInterface.Utilities ~/.julia/packages/MathOptInterface/LqT2k/src/Utilities/cachingoptimizer.jl:828\n",
      "  [5] get\n",
      "    @ ~/.julia/packages/MathOptInterface/LqT2k/src/Utilities/cachingoptimizer.jl:876 [inlined]\n",
      "  [6] _moi_get_result(model::MathOptInterface.Utilities.CachingOptimizer{MathOptInterface.Bridges.LazyBridgeOptimizer{Gurobi.Optimizer}, MathOptInterface.Utilities.UniversalFallback{MathOptInterface.Utilities.Model{Float64}}}, args::MathOptInterface.ObjectiveValue)\n",
      "    @ JuMP ~/.julia/packages/JuMP/60Bnj/src/JuMP.jl:1155\n",
      "  [7] get(model::Model, attr::MathOptInterface.ObjectiveValue)\n",
      "    @ JuMP ~/.julia/packages/JuMP/60Bnj/src/JuMP.jl:1175\n",
      "  [8] objective_value(model::Model; result::Int64)\n",
      "    @ JuMP ~/.julia/packages/JuMP/60Bnj/src/objective.jl:42\n",
      "  [9] objective_value\n",
      "    @ ~/.julia/packages/JuMP/60Bnj/src/objective.jl:42 [inlined]\n",
      " [10] first_model(C::Matrix{Any}, D::Matrix{Float64}, X::Matrix{Float64}, y1::Vector{Int64}, K::Int64, S::Int64, d::Array{Float64, 3}, n_stations::Int64)\n",
      "    @ Main ~/Desktop/Optimization/Project/15.093-Optimization/src/simplified_model.ipynb:37\n",
      " [11] top-level scope\n",
      "    @ ~/Desktop/Optimization/Project/15.093-Optimization/src/simplified_model.ipynb:1"
     ]
    }
   ],
   "source": [
    "x, w, u, obj=first_model(C_test,D_test,X_test,y1_test,K,S,d_test,n_stations_test)"
   ]
  },
  {
   "cell_type": "code",
   "execution_count": 276,
   "metadata": {},
   "outputs": [
    {
     "data": {
      "text/plain": [
       "0"
      ]
     },
     "metadata": {},
     "output_type": "display_data"
    }
   ],
   "source": [
    "# count non zeros values in x\n",
    "sum(x[i,j,k,t] > 0 for i in 1:3, j in 1:3, k in 1:K, t in 1:24)"
   ]
  },
  {
   "cell_type": "code",
   "execution_count": 277,
   "metadata": {},
   "outputs": [
    {
     "data": {
      "text/plain": [
       "0"
      ]
     },
     "metadata": {},
     "output_type": "display_data"
    }
   ],
   "source": [
    "sum(x[i,i,k,t] > 0 for i in 1:3, k in 1:K, t in 1:24)"
   ]
  },
  {
   "cell_type": "code",
   "execution_count": 278,
   "metadata": {},
   "outputs": [
    {
     "data": {
      "text/plain": [
       "0.0"
      ]
     },
     "metadata": {},
     "output_type": "display_data"
    }
   ],
   "source": [
    "sum(D[i,j]*x[i,j,k,t] for i in 1:3, j in 1:3, k in 1:K, t in 1:24)"
   ]
  },
  {
   "cell_type": "code",
   "execution_count": 279,
   "metadata": {},
   "outputs": [
    {
     "data": {
      "text/plain": [
       "3×3 Matrix{Float64}:\n",
       " 0.0        0.0314487  0.0105772\n",
       " 0.0314487  0.0        0.020872\n",
       " 0.0105772  0.020872   0.0"
      ]
     },
     "metadata": {},
     "output_type": "display_data"
    }
   ],
   "source": [
    "D[1:3,1:3]"
   ]
  },
  {
   "cell_type": "code",
   "execution_count": 280,
   "metadata": {},
   "outputs": [
    {
     "data": {
      "text/plain": [
       "870"
      ]
     },
     "metadata": {},
     "output_type": "display_data"
    }
   ],
   "source": [
    "# count non zeros values in w\n",
    "sum(w[i,j,t] > 0 for i in 1:n_stations_test, j in 1:n_stations_test, t in 1:24)"
   ]
  },
  {
   "cell_type": "code",
   "execution_count": 281,
   "metadata": {},
   "outputs": [
    {
     "data": {
      "text/plain": [
       "Vector{Int64}[]"
      ]
     },
     "metadata": {},
     "output_type": "display_data"
    }
   ],
   "source": [
    "# list i,j for which u[i,j,t] is not null\n",
    "a=[[i,j,t] for i in 1:n_stations_test, j in 1:n_stations_test, t in 1:24 if u[i,j,t] > 0]"
   ]
  },
  {
   "cell_type": "code",
   "execution_count": 248,
   "metadata": {},
   "outputs": [],
   "source": [
    "for i in 1:length(a)\n",
    "    println(w[a[i][1],a[i][2],a[i][3]])\n",
    "    println(d[a[i][1],a[i][2],a[i][3]])\n",
    "    println(u[a[i][1],a[i][2],a[i][3]])\n",
    "    print(\"\\n\")\n",
    "end"
   ]
  },
  {
   "cell_type": "code",
   "execution_count": 220,
   "metadata": {},
   "outputs": [],
   "source": []
  },
  {
   "cell_type": "code",
   "execution_count": null,
   "metadata": {},
   "outputs": [],
   "source": []
  }
 ],
 "metadata": {
  "kernelspec": {
   "display_name": "Julia 1.7.3",
   "language": "julia",
   "name": "julia-1.7"
  },
  "language_info": {
   "file_extension": ".jl",
   "mimetype": "application/julia",
   "name": "julia",
   "version": "1.7.3"
  },
  "orig_nbformat": 4,
  "vscode": {
   "interpreter": {
    "hash": "32466a21a07a3c6fbc499a46ef5738207d953e31ba20ebfadb807195852ba7c1"
   }
  }
 },
 "nbformat": 4,
 "nbformat_minor": 2
}
