{
 "cells": [
  {
   "cell_type": "code",
   "execution_count": 43,
   "metadata": {},
   "outputs": [],
   "source": [
    "using CSV, Tables, LinearAlgebra, Random, Gurobi, JuMP, Statistics"
   ]
  },
  {
   "cell_type": "code",
   "execution_count": 44,
   "metadata": {},
   "outputs": [
    {
     "name": "stderr",
     "output_type": "stream",
     "text": [
      "\u001b[32m\u001b[1m   Resolving\u001b[22m\u001b[39m package versions...\n"
     ]
    },
    {
     "name": "stderr",
     "output_type": "stream",
     "text": [
      "\u001b[32m\u001b[1m  No Changes\u001b[22m\u001b[39m to `~/.julia/environments/v1.8/Project.toml`\n",
      "\u001b[32m\u001b[1m  No Changes\u001b[22m\u001b[39m to `~/.julia/environments/v1.8/Manifest.toml`\n"
     ]
    }
   ],
   "source": [
    "using Pkg\n",
    "Pkg.add(\"PyCall\")"
   ]
  },
  {
   "cell_type": "code",
   "execution_count": 45,
   "metadata": {},
   "outputs": [
    {
     "data": {
      "text/plain": [
       "449×15 Matrix{Any}:\n",
       "   3  \"classic\"  …  \"B32006\"  42.3401   10\n",
       "   4  \"classic\"     \"C32000\"  42.3454   10\n",
       "   5  \"classic\"     \"B32012\"  42.3418   10\n",
       "   6  \"classic\"     \"D32000\"  42.3613   10\n",
       "   7  \"classic\"     \"A32000\"  42.3534   10\n",
       "   8  \"classic\"  …  \"A32001\"  42.3533   10\n",
       "   9  \"classic\"     \"A32002\"  42.3517   10\n",
       "  10  \"classic\"     \"A32003\"  42.3504   10\n",
       "  11  \"classic\"     \"A32004\"  42.3386   10\n",
       "  12  \"classic\"     \"B32002\"  42.3362   10\n",
       "   ⋮             ⋱                     \n",
       " 575  \"classic\"  …  \"T32014\"  42.5209  136\n",
       " 576  \"classic\"     \"F32001\"  42.4117  139\n",
       " 577  \"classic\"     \"F32002\"  42.4177  139\n",
       " 578  \"classic\"     \"F32003\"  42.4017  139\n",
       " 582  \"classic\"     \"M32081\"  42.3731    8\n",
       " 583  \"classic\"  …  \"M32082\"  42.363     8\n",
       " 584  \"classic\"     \"G32001\"  42.4265  140\n",
       " 585  \"classic\"     \"G32002\"  42.4239  140\n",
       " 586  \"classic\"     \"V32015\"  42.4082  104"
      ]
     },
     "metadata": {},
     "output_type": "display_data"
    }
   ],
   "source": [
    "# Read the data\n",
    "stations_info = CSV.read(\"../data/stations/station_information.csv\", Tables.matrix, header=1);\n",
    "#stations_info"
   ]
  },
  {
   "cell_type": "code",
   "execution_count": 46,
   "metadata": {},
   "outputs": [
    {
     "data": {
      "text/plain": [
       "449"
      ]
     },
     "metadata": {},
     "output_type": "display_data"
    }
   ],
   "source": [
    "n_stations=length(stations_info[:,1])"
   ]
  },
  {
   "cell_type": "markdown",
   "metadata": {},
   "source": [
    "## Let's build our input data matrices"
   ]
  },
  {
   "cell_type": "code",
   "execution_count": 47,
   "metadata": {},
   "outputs": [],
   "source": [
    "# Capacities C_i\n",
    "C=stations_info[:,9][:,:];"
   ]
  },
  {
   "cell_type": "code",
   "execution_count": 48,
   "metadata": {},
   "outputs": [],
   "source": [
    "# Distances D_ij\n",
    "D=Array{Float64}(undef,n_stations,n_stations)\n",
    "for i=1:n_stations\n",
    "    for j=1:n_stations\n",
    "        D[i,j]=sqrt((stations_info[i,6]-stations_info[j,6])^2+(stations_info[i,14]-stations_info[j,14])^2)\n",
    "    end\n",
    "end\n",
    "#D"
   ]
  },
  {
   "cell_type": "code",
   "execution_count": 49,
   "metadata": {},
   "outputs": [],
   "source": [
    "# Feasibility X_ij\n",
    "threshold=0.02\n",
    "X=Array{Float64}(undef,n_stations,n_stations)\n",
    "for i=1:n_stations\n",
    "    for j=1:n_stations\n",
    "        if D[i,j]<threshold\n",
    "            X[i,j]=1\n",
    "        else\n",
    "            X[i,j]=0\n",
    "        end\n",
    "    end\n",
    "end\n",
    "#X"
   ]
  },
  {
   "cell_type": "code",
   "execution_count": 50,
   "metadata": {},
   "outputs": [
    {
     "data": {
      "text/plain": [
       "41"
      ]
     },
     "metadata": {},
     "output_type": "display_data"
    }
   ],
   "source": [
    "# Let's count the non-zero values in X\n",
    "sum(X[i,12] > 0 for i in 1:n_stations)"
   ]
  },
  {
   "cell_type": "code",
   "execution_count": 51,
   "metadata": {},
   "outputs": [],
   "source": [
    "# Demand d_ijt\n",
    "using PyCall\n",
    "\n",
    "py\"\"\"\n",
    "import pickle\n",
    " \n",
    "def load_pickle(fpath):\n",
    "    with open(fpath, \"rb\") as f:\n",
    "        data = pickle.load(f)\n",
    "    return data\n",
    "\"\"\"\n",
    "\n",
    "load_pickle = py\"load_pickle\"\n",
    "\n",
    "d = load_pickle(\"../data/parameters/demand_matrix.pkl\");"
   ]
  },
  {
   "cell_type": "code",
   "execution_count": 52,
   "metadata": {},
   "outputs": [
    {
     "data": {
      "text/plain": [
       "20"
      ]
     },
     "metadata": {},
     "output_type": "display_data"
    }
   ],
   "source": [
    "# Number of vans\n",
    "K=5\n",
    "# Capacity of vans\n",
    "S=20"
   ]
  },
  {
   "cell_type": "code",
   "execution_count": 53,
   "metadata": {},
   "outputs": [],
   "source": [
    "# Initial number of bikes available y_i1\n",
    "y1=Array{Int64}(undef,n_stations)\n",
    "for i in 1:n_stations\n",
    "    y1[i]=floor(C[i]/2)\n",
    "end"
   ]
  },
  {
   "cell_type": "markdown",
   "metadata": {},
   "source": [
    "## Simplified formulation"
   ]
  },
  {
   "cell_type": "code",
   "execution_count": 57,
   "metadata": {},
   "outputs": [
    {
     "data": {
      "text/plain": [
       "first_model (generic function with 1 method)"
      ]
     },
     "metadata": {},
     "output_type": "display_data"
    }
   ],
   "source": [
    "function first_model(C,D,X,y1,K,S,d,n_stations)\n",
    "    model = Model(Gurobi.Optimizer)\n",
    "    set_optimizer_attribute(model, \"OutputFlag\", 0)\n",
    "    M=1000000\n",
    "    lambda=0.1 # to be tuned\n",
    "    \n",
    "    # Decision variables\n",
    "    @variable(model, x[1:n_stations, 1:n_stations, 1:K, 1:24], Bin)\n",
    "    @variable(model, 0 <= z[1:n_stations, 1:n_stations, 1:K, 1:24], Int)\n",
    "    @variable(model, 0 <= y[1:n_stations, 1:24], Int)\n",
    "    @variable(model, 0 <= w[1:n_stations, 1:n_stations, 1:24], Int)\n",
    "    @variable(model, 0 <= u[1:n_stations, 1:n_stations, 1:24], Int)\n",
    "\n",
    "    # Add constraints\n",
    "    @constraint(model, [i in 1:n_stations, t in 1:24], y[i,t] <= C[i])\n",
    "    @constraint(model, [i in 1:n_stations, t in 2:24], y[i,t] - y[i,t-1] == sum(w[j,i,t] for j in 1:n_stations)-sum(w[i,j,t] for j in 1:n_stations)+sum(z[i,j,k,t] for j in 1:n_stations, k in 1:K))\n",
    "    @constraint(model, [i in 1:n_stations], y[i,1] == y1[i])\n",
    "    @constraint(model, [i in 1:n_stations, j in 1:n_stations, k in 1:K, t in 2:24], z[i,j,k,t] <= S)\n",
    "    @constraint(model, [i in 1:n_stations, t in 2:24], -y[i,t] <= sum(w[j,i,t] for j in 1:n_stations) - sum(w[j,i,t] for j in 1:n_stations))\n",
    "    @constraint(model, [i in 1:n_stations, t in 2:24], sum(w[j,i,t] for j in 1:n_stations) - sum(w[j,i,t] for j in 1:n_stations)<= C[i] - y[i,t])\n",
    "    @constraint(model, [k in 1:K, t in 2:24], sum(x[i,j,k,t] for i in 1:n_stations, j in 1:n_stations) <= 1)\n",
    "    @constraint(model, [i in 1:n_stations, j in 1:n_stations, k in 1:K, t in 2:24], z[i,j,k,t] <= M*x[i,j,k,t])\n",
    "    @constraint(model, [i in 1:n_stations, j in 1:n_stations, k in 1:K, t in 2:24], x[i,j,k,t] <= X[i,j])\n",
    "\n",
    "    # Set objective\n",
    "    @objective(model, Min, sum(u[i,j,t] for i in 1:n_stations, j in 1:n_stations, t in 1:24)+lambda*sum(D[i,j]*x[i,j,k,t] for i in 1:n_stations, j in 1:n_stations, k in 1:K, t in 1:24))\n",
    "    \n",
    "    # Solve the model\n",
    "    optimize!(model)\n",
    "    \n",
    "    # Print the solution\n",
    "    println(\"Objective value: \", objective_value(model))\n",
    "    return value.(x), objective_value(model)\n",
    "end"
   ]
  },
  {
   "cell_type": "code",
   "execution_count": 58,
   "metadata": {},
   "outputs": [],
   "source": [
    "x, obj=first_model(C,D,X,y1,K,S,d,n_stations)"
   ]
  },
  {
   "cell_type": "code",
   "execution_count": null,
   "metadata": {},
   "outputs": [],
   "source": []
  }
 ],
 "metadata": {
  "kernelspec": {
   "display_name": "Julia 1.7.3",
   "language": "julia",
   "name": "julia-1.7"
  },
  "language_info": {
   "file_extension": ".jl",
   "mimetype": "application/julia",
   "name": "julia",
   "version": "1.7.3"
  },
  "orig_nbformat": 4,
  "vscode": {
   "interpreter": {
    "hash": "32466a21a07a3c6fbc499a46ef5738207d953e31ba20ebfadb807195852ba7c1"
   }
  }
 },
 "nbformat": 4,
 "nbformat_minor": 2
}
