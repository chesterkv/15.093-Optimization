{
 "cells": [
  {
   "cell_type": "code",
   "execution_count": 4,
   "metadata": {},
   "outputs": [
    {
     "name": "stderr",
     "output_type": "stream",
     "text": [
      "\u001b[32m\u001b[1m   Resolving\u001b[22m\u001b[39m package versions...\n"
     ]
    },
    {
     "name": "stderr",
     "output_type": "stream",
     "text": [
      "\u001b[32m\u001b[1m   Installed\u001b[22m\u001b[39m FileIO ─ v1.16.0\n"
     ]
    },
    {
     "name": "stderr",
     "output_type": "stream",
     "text": [
      "\u001b[32m\u001b[1m   Installed\u001b[22m\u001b[39m JLD2 ─── v0.4.29\n"
     ]
    },
    {
     "name": "stderr",
     "output_type": "stream",
     "text": [
      "\u001b[32m\u001b[1m    Updating\u001b[22m\u001b[39m `~/.julia/environments/v1.8/Project.toml`\n",
      " \u001b[90m [033835bb] \u001b[39m\u001b[92m+ JLD2 v0.4.29\u001b[39m\n",
      "\u001b[32m\u001b[1m    Updating\u001b[22m\u001b[39m `~/.julia/environments/v1.8/Manifest.toml`\n",
      " \u001b[90m [5789e2e9] \u001b[39m\u001b[92m+ FileIO v1.16.0\u001b[39m\n",
      " \u001b[90m [033835bb] \u001b[39m\u001b[92m+ JLD2 v0.4.29\u001b[39m\n"
     ]
    },
    {
     "name": "stderr",
     "output_type": "stream",
     "text": [
      "\u001b[32m\u001b[1mPrecompiling\u001b[22m\u001b[39m project...\n"
     ]
    },
    {
     "name": "stderr",
     "output_type": "stream",
     "text": [
      "\u001b[32m  ✓ \u001b[39m\u001b[90mFileIO\u001b[39m\n"
     ]
    },
    {
     "name": "stderr",
     "output_type": "stream",
     "text": [
      "\u001b[32m  ✓ \u001b[39mJLD2\n",
      "  2 dependencies successfully precompiled in 8 seconds (181 already precompiled)\n"
     ]
    }
   ],
   "source": [
    "import Pkg; Pkg.add(\"JLD2\")\n",
    "using CSV, Tables, LinearAlgebra, Random, Gurobi, JuMP, Statistics, DataFrames, JLD2"
   ]
  },
  {
   "cell_type": "markdown",
   "metadata": {},
   "source": [
    "# Import parameters"
   ]
  },
  {
   "cell_type": "code",
   "execution_count": 56,
   "metadata": {},
   "outputs": [],
   "source": [
    "# Van information\n",
    "# Number of vans\n",
    "K=2\n",
    "# Capacity of vans\n",
    "S=10\n",
    "\n",
    "# Station information\n",
    "stations_info = CSV.read(\"../data/stations/station_information.csv\", DataFrame);\n",
    "\n",
    "# Number of stations\n",
    "n_stations = size(stations_info, 1);\n",
    "n_stations_test = 100\n",
    "\n",
    "# Capacity\n",
    "C = stations_info[!, :capacity];\n",
    "C_test=C[1:n_stations_test,:];\n",
    "\n",
    "# Initial state \n",
    "y0 = floor.(C/2);\n",
    "y0_test=y0[1:n_stations_test];\n",
    "\n",
    "# Distances\n",
    "D = load(\"../data/parameters/distances.jld2\", \"D\");\n",
    "D_test=D[1:n_stations_test,1:n_stations_test];\n",
    "\n",
    "# Feasibility\n",
    "X = load(\"../data/parameters/feasibility.jld2\", \"X\");\n",
    "X_test=X[1:n_stations_test,1:n_stations_test];\n",
    "\n",
    "# Demand\n",
    "demand = load(\"../data/parameters/202210-demand.jld2\", \"demand\");\n",
    "d_test=demand[1:n_stations_test,1:n_stations_test,:];\n",
    "\n",
    "# Demand over one day\n",
    "demand_1day = demand[:,:,1:24];\n",
    "demand_1day_test = d_test[:, :, 1:24];"
   ]
  },
  {
   "cell_type": "code",
   "execution_count": 58,
   "metadata": {},
   "outputs": [],
   "source": [
    "# create empty list of size n_stations_test\n",
    "stations_score = zeros(n_stations)\n",
    "# for each station i, sum the number of bikes that gets in an out ot the station over the month\n",
    "for i in 1:n_stations\n",
    "    stations_score[i] += sum(demand_1day[i,:,:]) + sum(demand_1day[:,i,:])\n",
    "end\n",
    "stations_score;"
   ]
  },
  {
   "cell_type": "code",
   "execution_count": 71,
   "metadata": {},
   "outputs": [
    {
     "data": {
      "text/plain": [
       "27"
      ]
     },
     "metadata": {},
     "output_type": "display_data"
    }
   ],
   "source": [
    "# count the number of stations with a score above 200\n",
    "sum(stations_score .> 200)"
   ]
  },
  {
   "cell_type": "code",
   "execution_count": 59,
   "metadata": {},
   "outputs": [],
   "source": [
    "# sort stations by score\n",
    "stations_score_sorted = sortperm(stations_score, rev=true);"
   ]
  },
  {
   "cell_type": "code",
   "execution_count": 83,
   "metadata": {},
   "outputs": [],
   "source": [
    "# reorder index of columns and rows of demand according to the sorted stations\n",
    "demand_1day_sorted = demand_1day[stations_score_sorted, stations_score_sorted, :];\n",
    "# reorder index of capacity according to the sorted stations\n",
    "C_sorted = C[stations_score_sorted,:];\n",
    "# reorder index of initial state according to the sorted stations\n",
    "y0_sorted = y0[stations_score_sorted,:];\n",
    "# reorder index of distances according to the sorted stations\n",
    "D_sorted = D[stations_score_sorted, stations_score_sorted];\n",
    "# reorder index of feasibility according to the sorted stations\n",
    "X_sorted = X[stations_score_sorted, stations_score_sorted];"
   ]
  },
  {
   "cell_type": "code",
   "execution_count": 84,
   "metadata": {},
   "outputs": [],
   "source": [
    "# Let's reduce the number of stations to reduce complexity\n",
    "nb=200\n",
    "demand_1day_filtered = demand_1day_sorted[1:nb, 1:nb, :];\n",
    "C_filtered = C_sorted[1:nb,:];\n",
    "y0_filtered = y0_sorted[1:nb,:];\n",
    "D_filtered = D_sorted[1:nb, 1:nb];\n",
    "X_filtered = X_sorted[1:nb, 1:nb];"
   ]
  },
  {
   "cell_type": "code",
   "execution_count": 85,
   "metadata": {},
   "outputs": [],
   "source": [
    "# check that it is the same\n",
    "demand_1day[66,60,12];\n",
    "demand_1day_sorted[2,1,12];"
   ]
  },
  {
   "cell_type": "markdown",
   "metadata": {},
   "source": [
    "## Dummy data"
   ]
  },
  {
   "cell_type": "code",
   "execution_count": 17,
   "metadata": {},
   "outputs": [],
   "source": [
    "# capacity of stations\n",
    "C = [10,10,10,10];\n",
    "\n",
    "# demand of stations\n",
    "d = [[[0,10,0,5] [0,0,0,0] [0,5,0,0] [20,0,0,0]];;;\n",
    "    [[0,0,0,0] [0,0,0,0] [30,0,0,0] [0,10,0,0]];;;\n",
    "    [[0,0,0,5] [0,0,15,0] [0,0,0,0] [0,0,0,0]]];\n",
    "\n",
    "# proximity of stations\n",
    "X = [[0,1,1,1] [1,0,1,1] [1,1,0,1] [1,1,1,0]];\n",
    "\n",
    "# capacity of stations\n",
    "y0 = [6,2,4,3];\n",
    "\n",
    "# number of vans\n",
    "K = 2;\n",
    "\n",
    "# capacity of vans\n",
    "S = 20;\n",
    "\n",
    "# distance of stations\n",
    "D = [[0,0.5,1,0.5] [2,0,0.5,1] [0.5,1,0,0.5] [1,2,1,0]];\n",
    "\n",
    "# number of stations\n",
    "n_stations = 4;\n",
    "n_hours=3;"
   ]
  },
  {
   "cell_type": "markdown",
   "metadata": {},
   "source": [
    "# Model"
   ]
  },
  {
   "cell_type": "code",
   "execution_count": 86,
   "metadata": {},
   "outputs": [
    {
     "data": {
      "text/plain": [
       "first_model (generic function with 1 method)"
      ]
     },
     "metadata": {},
     "output_type": "display_data"
    }
   ],
   "source": [
    "function first_model(C,D,X,y0,K,S,d)\n",
    "    model = Model(Gurobi.Optimizer)\n",
    "    set_optimizer_attribute(model, \"OutputFlag\", 0)\n",
    "    set_optimizer_attribute(model, \"TimeLimit\", 100)\n",
    "\n",
    "    n_stations, _, n_hours = size(d)\n",
    "    M=30\n",
    "    lambda=0.01 # to be tuned\n",
    "    n_rebal_stations = 50 # to be tuned\n",
    "    # Decision variables\n",
    "    @variable(model, x[1:n_rebal_stations, 1:n_rebal_stations, 1:K, 1:n_hours], Bin)\n",
    "    @variable(model, 0 <= z[1:n_rebal_stations, 1:n_rebal_stations, 1:K, 1:n_hours], Int)\n",
    "    @variable(model, 0 <= y[1:n_stations, 1:n_hours]) # Int by definition of the constraints\n",
    "    @variable(model, 0 <= w[1:n_stations, 1:n_stations, 1:n_hours], Int)\n",
    "    @variable(model, 0 <= u[1:n_stations, 1:n_stations, 1:n_hours])\n",
    "\n",
    "    # Add constraints:\n",
    "    # Stations capacity\n",
    "    @constraint(model, [i in 1:n_stations, t in 1:n_hours], y[i,t] <= C[i])\n",
    "    # No rebalancing at the same station\n",
    "    @constraint(model, [i in 1:n_rebal_stations, k in 1:K, t in 1:n_hours], x[i,i,k,t] == 0)\n",
    "    # Flow balance \n",
    "    @constraint(model, [i in 1:n_rebal_stations, t in 2:n_hours], y[i,t] - y[i,t-1] == sum(w[j,i,t] for j in 1:n_stations)-sum(w[i,j,t] for j in 1:n_stations)-sum(z[i,j,k,t] for j in 1:n_rebal_stations, k in 1:K)+sum(z[j,i,k,t] for j in 1:n_rebal_stations, k in 1:K))\n",
    "    @constraint(model, [i in n_rebal_stations+1:n_stations, t in 2:n_hours], y[i,t] - y[i,t-1] == sum(w[j,i,t] for j in 1:n_stations)-sum(w[i,j,t] for j in 1:n_stations))\n",
    "    # Flow balance for the first hour \n",
    "    @constraint(model, [i in 1:n_rebal_stations], y[i,1] - y0[i] == sum(w[j,i,1] for j in 1:n_stations)-sum(w[i,j,1] for j in 1:n_stations)-sum(z[i,j,k,1] for j in 1:n_rebal_stations, k in 1:K)+sum(z[j,i,k,1] for j in 1:n_rebal_stations, k in 1:K))\n",
    "    @constraint(model, [i in n_rebal_stations+1:n_stations], y[i,1] - y0[i] == sum(w[j,i,1] for j in 1:n_stations)-sum(w[i,j,1] for j in 1:n_stations))\n",
    "    # Vans capacity\n",
    "    @constraint(model, [i in 1:n_rebal_stations, j in 1:n_rebal_stations, k in 1:K, t in 1:n_hours], z[i,j,k,t] <= S)\n",
    "    # Users travel availability\n",
    "    @constraint(model, [i in 1:n_stations, t in 1:n_hours], -y[i,t] <= sum(w[j,i,t] for j in 1:n_stations) - sum(w[i,j,t] for j in 1:n_stations))\n",
    "    @constraint(model, [i in 1:n_stations, t in 1:n_hours], sum(w[j,i,t] for j in 1:n_stations) - sum(w[i,j,t] for j in 1:n_stations)<= C[i] - y[i,t])\n",
    "    # Max 1 rebalancing per hour per van\n",
    "    @constraint(model, [k in 1:K, t in 1:n_hours], sum(x[i,j,k,t] for i in 1:n_rebal_stations, j in 1:n_rebal_stations) <= 1)\n",
    "    # Rebalancing feasibility\n",
    "    @constraint(model, [i in 1:n_rebal_stations, j in 1:n_rebal_stations, k in 1:K, t in 1:n_hours], z[i,j,k,t] <= M*x[i,j,k,t])\n",
    "    @constraint(model, [i in 1:n_rebal_stations, j in 1:n_rebal_stations, k in 1:K, t in 1:n_hours], x[i,j,k,t] <= X[i,j])\n",
    "    # Users travel is inferior to the demand and definition of u\n",
    "    @constraint(model, [i in 1:n_stations, j in 1:n_stations, t in 1:n_hours], u[i,j,t] >= d[i,j,t] - w[i,j,t])\n",
    "    @constraint(model, [i in 1:n_stations, j in 1:n_stations, t in 1:n_hours], d[i,j,t] >= w[i,j,t])\n",
    "\n",
    "    # Set objective\n",
    "    @objective(model, Min, sum(u[i,j,t] for i in 1:n_stations, j in 1:n_stations, t in 1:n_hours)+lambda*sum(D[i,j]*x[i,j,k,t] for i in 1:n_rebal_stations, j in 1:n_rebal_stations, k in 1:K, t in 1:n_hours))\n",
    "    \n",
    "    # Solve the model\n",
    "    optimize!(model)\n",
    "    \n",
    "    # Print the solution\n",
    "    println(\"Objective value: \", objective_value(model))\n",
    "    return value.(x), value.(w), value.(u), value.(y), value.(z), objective_value(model)\n",
    "end"
   ]
  },
  {
   "cell_type": "code",
   "execution_count": 87,
   "metadata": {},
   "outputs": [
    {
     "name": "stdout",
     "output_type": "stream",
     "text": [
      "Set parameter Username\n",
      "Academic license - for non-commercial use only - expires 2023-09-04\n",
      "Set parameter TimeLimit to value 100\n",
      "Objective value: 816.2338091798313\n"
     ]
    }
   ],
   "source": [
    "#x,w,u,y,z,obj=first_model(C,D,X,y0,K,S,demand_1day);\n",
    "#x,w,u,y,z,obj=first_model(C_sorted,D_sorted,X_sorted,y0_sorted,K,S,demand_1day_sorted);\n",
    "x,w,u,y,z,obj=first_model(C_filtered,D_filtered,X_filtered,y0_filtered,K,S,demand_1day_filtered);\n",
    "#x, w, u, obj=first_model(C_test,D_test,X_test,y0_test,K,S,demand_1day_test);"
   ]
  },
  {
   "cell_type": "code",
   "execution_count": 88,
   "metadata": {},
   "outputs": [
    {
     "data": {
      "text/plain": [
       "382.0"
      ]
     },
     "metadata": {},
     "output_type": "display_data"
    }
   ],
   "source": [
    "# count the number of non zeros values in z\n",
    "sum(z)"
   ]
  },
  {
   "cell_type": "code",
   "execution_count": 90,
   "metadata": {},
   "outputs": [
    {
     "data": {
      "text/plain": [
       "48.0"
      ]
     },
     "metadata": {},
     "output_type": "display_data"
    }
   ],
   "source": [
    "sum(x)"
   ]
  },
  {
   "cell_type": "code",
   "execution_count": null,
   "metadata": {},
   "outputs": [],
   "source": []
  }
 ],
 "metadata": {
  "kernelspec": {
   "display_name": "Julia 1.7.3",
   "language": "julia",
   "name": "julia-1.7"
  },
  "language_info": {
   "file_extension": ".jl",
   "mimetype": "application/julia",
   "name": "julia",
   "version": "1.7.3"
  },
  "orig_nbformat": 4,
  "vscode": {
   "interpreter": {
    "hash": "32466a21a07a3c6fbc499a46ef5738207d953e31ba20ebfadb807195852ba7c1"
   }
  }
 },
 "nbformat": 4,
 "nbformat_minor": 2
}
