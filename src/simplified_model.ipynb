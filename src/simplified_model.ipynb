{
 "cells": [
  {
   "cell_type": "code",
   "execution_count": 10,
   "metadata": {},
   "outputs": [
    {
     "name": "stderr",
     "output_type": "stream",
     "text": [
      "\u001b[32m\u001b[1m   Resolving\u001b[22m\u001b[39m package versions...\n",
      "\u001b[32m\u001b[1m  No Changes\u001b[22m\u001b[39m to `~/.julia/environments/v1.7/Project.toml`\n",
      "\u001b[32m\u001b[1m  No Changes\u001b[22m\u001b[39m to `~/.julia/environments/v1.7/Manifest.toml`\n"
     ]
    }
   ],
   "source": [
    "import Pkg; Pkg.add(\"JLD2\")\n",
    "using CSV, Tables, LinearAlgebra, Random, Gurobi, JuMP, Statistics, DataFrames, JLD2"
   ]
  },
  {
   "cell_type": "markdown",
   "metadata": {},
   "source": [
    "## Import files"
   ]
  },
  {
   "cell_type": "code",
   "execution_count": 17,
   "metadata": {},
   "outputs": [],
   "source": [
    "# Station information\n",
    "stations_info = CSV.read(\"../data/stations/station_information.csv\", DataFrame);\n",
    "# Capacities\n",
    "C = stations_info[!, :capacity];\n",
    "# Distances\n",
    "D = load(\"../data/parameters/distances.jld2\", \"D\");\n",
    "# Feasibility\n",
    "X = load(\"../data/parameters/feasibility.jld2\", \"X\");\n",
    "# demand\n",
    "demand = load(\"../data/parameters/202210-demand.jld2\", \"demand\");"
   ]
  },
  {
   "cell_type": "markdown",
   "metadata": {},
   "source": [
    "## Input parameters"
   ]
  },
  {
   "cell_type": "code",
   "execution_count": 41,
   "metadata": {},
   "outputs": [],
   "source": [
    "# Initial state \n",
    "y0 = floor.(C/2);\n",
    "# demand over one day\n",
    "# Day 1\n",
    "d = demand[:,:,1:24];\n",
    "# Day 10\n",
    "d_2 = demand[:,:,241:264];\n",
    "# Day 20\n",
    "d_3 = demand[:,:,481:504];"
   ]
  },
  {
   "cell_type": "markdown",
   "metadata": {},
   "source": [
    "## Problem size reduction"
   ]
  },
  {
   "cell_type": "code",
   "execution_count": 31,
   "metadata": {},
   "outputs": [
    {
     "data": {
      "text/plain": [
       "reduce_problem (generic function with 1 method)"
      ]
     },
     "execution_count": 31,
     "metadata": {},
     "output_type": "execute_result"
    }
   ],
   "source": [
    "function reduce_problem(d,C,y0,D,X,nb)\n",
    "    n_stations = size(d,1)\n",
    "    stations_score = zeros(n_stations)\n",
    "    # for each station i, sum the number of bikes that gets in an out ot the station over the month\n",
    "    for i in 1:n_stations\n",
    "        stations_score[i] += sum(d[i,:,:]) + sum(d[:,i,:])\n",
    "    end\n",
    "    # sort stations by score\n",
    "    stations_score_sorted = sortperm(stations_score, rev=true);\n",
    "    # reorder index of columns and rows according to the sorted stations\n",
    "    d_sorted = d[stations_score_sorted, stations_score_sorted, :];\n",
    "    C_sorted = C[stations_score_sorted,:];\n",
    "    y0_sorted = y0[stations_score_sorted,:];\n",
    "    D_sorted = D[stations_score_sorted, stations_score_sorted];\n",
    "    X_sorted = X[stations_score_sorted, stations_score_sorted];\n",
    "    # keep only the nb first stations\n",
    "    d_new = d_sorted[1:nb,1:nb,:];\n",
    "    C_new = C_sorted[1:nb,:];\n",
    "    y0_new = y0_sorted[1:nb,:];\n",
    "    D_new = D_sorted[1:nb,1:nb];\n",
    "    X_new = X_sorted[1:nb,1:nb];\n",
    "    return d_new, C_new, y0_new, D_new, X_new\n",
    "end"
   ]
  },
  {
   "cell_type": "code",
   "execution_count": 32,
   "metadata": {},
   "outputs": [],
   "source": [
    "d_new, C_new, y0_new, D_new, X_new = reduce_problem(d,C,y0,D,X,200);\n",
    "d_2_new, C_new, y0_new, D_new, X_new = reduce_problem(d_2,C,y0,D,X,200);\n",
    "d_3_new, C_new, y0_new, D_new, X_new = reduce_problem(d_3,C,y0,D,X,200);"
   ]
  },
  {
   "cell_type": "code",
   "execution_count": 34,
   "metadata": {},
   "outputs": [
    {
     "name": "stdout",
     "output_type": "stream",
     "text": [
      "true\n"
     ]
    }
   ],
   "source": [
    "# check that it is the same\n",
    "println(d[66,60,12]==d_new[2,1,12])"
   ]
  },
  {
   "cell_type": "markdown",
   "metadata": {},
   "source": [
    "# Model"
   ]
  },
  {
   "cell_type": "code",
   "execution_count": 62,
   "metadata": {},
   "outputs": [
    {
     "data": {
      "text/plain": [
       "solve_model (generic function with 1 method)"
      ]
     },
     "execution_count": 62,
     "metadata": {},
     "output_type": "execute_result"
    }
   ],
   "source": [
    "function solve_model(K,S,C,D,X,y0,d, lambda, n_rebal)\n",
    "    model = Model(Gurobi.Optimizer)\n",
    "    set_optimizer_attribute(model, \"OutputFlag\", 0)\n",
    "    set_optimizer_attribute(model, \"TimeLimit\", 100)\n",
    "\n",
    "    n_stations, _, n_hours = size(d)\n",
    "    M=30\n",
    "\n",
    "    # Decision variables\n",
    "    @variable(model, x[1:n_rebal, 1:n_rebal, 1:K, 1:n_hours], Bin)\n",
    "    @variable(model, 0 <= z[1:n_rebal, 1:n_rebal, 1:K, 1:n_hours], Int)\n",
    "    @variable(model, 0 <= y[1:n_stations, 1:n_hours]) # Int by definition of the constraints\n",
    "    @variable(model, 0 <= w[1:n_stations, 1:n_stations, 1:n_hours], Int)\n",
    "    @variable(model, 0 <= u[1:n_stations, 1:n_stations, 1:n_hours])\n",
    "\n",
    "    # Add constraints:\n",
    "    # Stations capacity\n",
    "    @constraint(model, [i in 1:n_stations, t in 1:n_hours], y[i,t] <= C[i])\n",
    "    # No rebalancing at the same station\n",
    "    @constraint(model, [i in 1:n_rebal, k in 1:K, t in 1:n_hours], x[i,i,k,t] == 0)\n",
    "    # Flow balance \n",
    "    @constraint(model, [i in 1:n_rebal, t in 2:n_hours], y[i,t] - y[i,t-1] == sum(w[j,i,t] for j in 1:n_stations)-sum(w[i,j,t] for j in 1:n_stations)-sum(z[i,j,k,t] for j in 1:n_rebal, k in 1:K)+sum(z[j,i,k,t] for j in 1:n_rebal, k in 1:K))\n",
    "    @constraint(model, [i in n_rebal+1:n_stations, t in 2:n_hours], y[i,t] - y[i,t-1] == sum(w[j,i,t] for j in 1:n_stations)-sum(w[i,j,t] for j in 1:n_stations))\n",
    "    # Flow balance for the first hour \n",
    "    @constraint(model, [i in 1:n_rebal], y[i,1] - y0[i] == sum(w[j,i,1] for j in 1:n_stations)-sum(w[i,j,1] for j in 1:n_stations)-sum(z[i,j,k,1] for j in 1:n_rebal, k in 1:K)+sum(z[j,i,k,1] for j in 1:n_rebal, k in 1:K))\n",
    "    @constraint(model, [i in n_rebal+1:n_stations], y[i,1] - y0[i] == sum(w[j,i,1] for j in 1:n_stations)-sum(w[i,j,1] for j in 1:n_stations))\n",
    "    # Vans capacity\n",
    "    @constraint(model, [i in 1:n_rebal, j in 1:n_rebal, k in 1:K, t in 1:n_hours], z[i,j,k,t] <= S)\n",
    "    # Users travel availability\n",
    "    @constraint(model, [i in 1:n_stations, t in 1:n_hours], -y[i,t] <= sum(w[j,i,t] for j in 1:n_stations) - sum(w[i,j,t] for j in 1:n_stations))\n",
    "    @constraint(model, [i in 1:n_stations, t in 1:n_hours], sum(w[j,i,t] for j in 1:n_stations) - sum(w[i,j,t] for j in 1:n_stations)<= C[i] - y[i,t])\n",
    "    # Max 1 rebalancing per hour per van\n",
    "    @constraint(model, [k in 1:K, t in 1:n_hours], sum(x[i,j,k,t] for i in 1:n_rebal, j in 1:n_rebal) <= 1)\n",
    "    # Rebalancing feasibility\n",
    "    @constraint(model, [i in 1:n_rebal, j in 1:n_rebal, k in 1:K, t in 1:n_hours], z[i,j,k,t] <= M*x[i,j,k,t])\n",
    "    @constraint(model, [i in 1:n_rebal, j in 1:n_rebal, k in 1:K, t in 1:n_hours], x[i,j,k,t] <= X[i,j])\n",
    "    # Users travel is inferior to the d and definition of u\n",
    "    @constraint(model, [i in 1:n_stations, j in 1:n_stations, t in 1:n_hours], u[i,j,t] >= d[i,j,t] - w[i,j,t])\n",
    "    @constraint(model, [i in 1:n_stations, j in 1:n_stations, t in 1:n_hours], d[i,j,t] >= w[i,j,t])\n",
    "\n",
    "    # Set objective\n",
    "    @objective(model, Min, sum(u[i,j,t] for i in 1:n_stations, j in 1:n_stations, t in 1:n_hours)+lambda*sum(D[i,j]*x[i,j,k,t] for i in 1:n_rebal, j in 1:n_rebal, k in 1:K, t in 1:n_hours))\n",
    "    \n",
    "    # Solve the model\n",
    "    optimize!(model)\n",
    "    \n",
    "    # Print the solution\n",
    "    println(\"Objective value: \", objective_value(model))\n",
    "    return value.(x), value.(w), value.(u), value.(y), value.(z), objective_value(model)\n",
    "end"
   ]
  },
  {
   "cell_type": "markdown",
   "metadata": {},
   "source": [
    "### Parameters"
   ]
  },
  {
   "cell_type": "code",
   "execution_count": 81,
   "metadata": {},
   "outputs": [
    {
     "data": {
      "text/plain": [
       "10"
      ]
     },
     "execution_count": 81,
     "metadata": {},
     "output_type": "execute_result"
    }
   ],
   "source": [
    "# Number of vans\n",
    "K=5\n",
    "# Capacity of vans\n",
    "S=10\n",
    "# stations for rebalancing \n",
    "n_rebal = 50; # Top 50 according to station scores\n",
    "# Trade-off for multi-objective\n",
    "lambda=10 # to be tuned according to the objectives scales"
   ]
  },
  {
   "cell_type": "markdown",
   "metadata": {},
   "source": [
    "## Solve for Day 1"
   ]
  },
  {
   "cell_type": "code",
   "execution_count": 82,
   "metadata": {},
   "outputs": [
    {
     "name": "stdout",
     "output_type": "stream",
     "text": [
      "Set parameter Username\n",
      "Academic license - for non-commercial use only - expires 2023-09-04\n",
      "Set parameter TimeLimit to value 100\n",
      "Objective value: 931.2845325792499\n"
     ]
    }
   ],
   "source": [
    "x_1,w_1,u_1,y_1,z_1,obj_1=solve_model(K,S,C_new,D_new,X_new,y0_new,d_new,lambda,n_rebal);"
   ]
  },
  {
   "cell_type": "code",
   "execution_count": 83,
   "metadata": {},
   "outputs": [
    {
     "name": "stdout",
     "output_type": "stream",
     "text": [
      "825.0\n"
     ]
    }
   ],
   "source": [
    "n_stations, _, n_hours = size(d_new)\n",
    "println(sum(u_1[i,j,t] for i in 1:n_stations, j in 1:n_stations, t in 1:n_hours))"
   ]
  },
  {
   "cell_type": "code",
   "execution_count": 84,
   "metadata": {},
   "outputs": [
    {
     "name": "stdout",
     "output_type": "stream",
     "text": [
      "10.628453257925008\n"
     ]
    }
   ],
   "source": [
    "println(sum(D_new[i,j]*x_1[i,j,k,t] for i in 1:n_rebal, j in 1:n_rebal, k in 1:K, t in 1:n_hours))"
   ]
  },
  {
   "cell_type": "code",
   "execution_count": 134,
   "metadata": {},
   "outputs": [
    {
     "data": {
      "image/svg+xml": "<?xml version=\"1.0\" encoding=\"utf-8\"?>\n<svg xmlns=\"http://www.w3.org/2000/svg\" xmlns:xlink=\"http://www.w3.org/1999/xlink\" width=\"600\" height=\"400\" viewBox=\"0 0 2400 1600\">\n<defs>\n  <clipPath id=\"clip870\">\n    <rect x=\"0\" y=\"0\" width=\"2400\" height=\"1600\"/>\n  </clipPath>\n</defs>\n<path clip-path=\"url(#clip870)\" d=\"\nM0 1600 L2400 1600 L2400 0 L0 0  Z\n  \" fill=\"#ffffff\" fill-rule=\"evenodd\" fill-opacity=\"1\"/>\n<defs>\n  <clipPath id=\"clip871\">\n    <rect x=\"480\" y=\"0\" width=\"1681\" height=\"1600\"/>\n  </clipPath>\n</defs>\n<path clip-path=\"url(#clip870)\" d=\"\nM175.445 1423.18 L2352.76 1423.18 L2352.76 123.472 L175.445 123.472  Z\n  \" fill=\"#ffffff\" fill-rule=\"evenodd\" fill-opacity=\"1\"/>\n<defs>\n  <clipPath id=\"clip872\">\n    <rect x=\"175\" y=\"123\" width=\"2178\" height=\"1301\"/>\n  </clipPath>\n</defs>\n<polyline clip-path=\"url(#clip872)\" style=\"stroke:#000000; stroke-linecap:butt; stroke-linejoin:round; stroke-width:2; stroke-opacity:0.1; fill:none\" points=\"\n  594.296,1423.18 594.296,123.472 \n  \"/>\n<polyline clip-path=\"url(#clip872)\" style=\"stroke:#000000; stroke-linecap:butt; stroke-linejoin:round; stroke-width:2; stroke-opacity:0.1; fill:none\" points=\"\n  1040.83,1423.18 1040.83,123.472 \n  \"/>\n<polyline clip-path=\"url(#clip872)\" style=\"stroke:#000000; stroke-linecap:butt; stroke-linejoin:round; stroke-width:2; stroke-opacity:0.1; fill:none\" points=\"\n  1487.37,1423.18 1487.37,123.472 \n  \"/>\n<polyline clip-path=\"url(#clip872)\" style=\"stroke:#000000; stroke-linecap:butt; stroke-linejoin:round; stroke-width:2; stroke-opacity:0.1; fill:none\" points=\"\n  1933.9,1423.18 1933.9,123.472 \n  \"/>\n<polyline clip-path=\"url(#clip870)\" style=\"stroke:#000000; stroke-linecap:butt; stroke-linejoin:round; stroke-width:4; stroke-opacity:1; fill:none\" points=\"\n  175.445,1423.18 2352.76,1423.18 \n  \"/>\n<polyline clip-path=\"url(#clip870)\" style=\"stroke:#000000; stroke-linecap:butt; stroke-linejoin:round; stroke-width:4; stroke-opacity:1; fill:none\" points=\"\n  594.296,1423.18 594.296,1404.28 \n  \"/>\n<polyline clip-path=\"url(#clip870)\" style=\"stroke:#000000; stroke-linecap:butt; stroke-linejoin:round; stroke-width:4; stroke-opacity:1; fill:none\" points=\"\n  1040.83,1423.18 1040.83,1404.28 \n  \"/>\n<polyline clip-path=\"url(#clip870)\" style=\"stroke:#000000; stroke-linecap:butt; stroke-linejoin:round; stroke-width:4; stroke-opacity:1; fill:none\" points=\"\n  1487.37,1423.18 1487.37,1404.28 \n  \"/>\n<polyline clip-path=\"url(#clip870)\" style=\"stroke:#000000; stroke-linecap:butt; stroke-linejoin:round; stroke-width:4; stroke-opacity:1; fill:none\" points=\"\n  1933.9,1423.18 1933.9,1404.28 \n  \"/>\n<path clip-path=\"url(#clip870)\" d=\"M584.574 1451.02 L602.93 1451.02 L602.93 1454.96 L588.856 1454.96 L588.856 1463.43 Q589.875 1463.08 590.893 1462.92 Q591.912 1462.73 592.93 1462.73 Q598.717 1462.73 602.097 1465.9 Q605.477 1469.08 605.477 1474.49 Q605.477 1480.07 602.004 1483.17 Q598.532 1486.25 592.213 1486.25 Q590.037 1486.25 587.768 1485.88 Q585.523 1485.51 583.116 1484.77 L583.116 1480.07 Q585.199 1481.2 587.421 1481.76 Q589.643 1482.32 592.12 1482.32 Q596.125 1482.32 598.463 1480.21 Q600.801 1478.1 600.801 1474.49 Q600.801 1470.88 598.463 1468.77 Q596.125 1466.67 592.12 1466.67 Q590.245 1466.67 588.37 1467.08 Q586.518 1467.5 584.574 1468.38 L584.574 1451.02 Z\" fill=\"#000000\" fill-rule=\"evenodd\" fill-opacity=\"1\" /><path clip-path=\"url(#clip870)\" d=\"M1015.52 1481.64 L1023.16 1481.64 L1023.16 1455.28 L1014.85 1456.95 L1014.85 1452.69 L1023.11 1451.02 L1027.79 1451.02 L1027.79 1481.64 L1035.43 1481.64 L1035.43 1485.58 L1015.52 1485.58 L1015.52 1481.64 Z\" fill=\"#000000\" fill-rule=\"evenodd\" fill-opacity=\"1\" /><path clip-path=\"url(#clip870)\" d=\"M1054.87 1454.1 Q1051.26 1454.1 1049.43 1457.66 Q1047.63 1461.2 1047.63 1468.33 Q1047.63 1475.44 1049.43 1479.01 Q1051.26 1482.55 1054.87 1482.55 Q1058.51 1482.55 1060.31 1479.01 Q1062.14 1475.44 1062.14 1468.33 Q1062.14 1461.2 1060.31 1457.66 Q1058.51 1454.1 1054.87 1454.1 M1054.87 1450.39 Q1060.68 1450.39 1063.74 1455 Q1066.82 1459.58 1066.82 1468.33 Q1066.82 1477.06 1063.74 1481.67 Q1060.68 1486.25 1054.87 1486.25 Q1049.06 1486.25 1045.98 1481.67 Q1042.93 1477.06 1042.93 1468.33 Q1042.93 1459.58 1045.98 1455 Q1049.06 1450.39 1054.87 1450.39 Z\" fill=\"#000000\" fill-rule=\"evenodd\" fill-opacity=\"1\" /><path clip-path=\"url(#clip870)\" d=\"M1462.55 1481.64 L1470.19 1481.64 L1470.19 1455.28 L1461.88 1456.95 L1461.88 1452.69 L1470.15 1451.02 L1474.82 1451.02 L1474.82 1481.64 L1482.46 1481.64 L1482.46 1485.58 L1462.55 1485.58 L1462.55 1481.64 Z\" fill=\"#000000\" fill-rule=\"evenodd\" fill-opacity=\"1\" /><path clip-path=\"url(#clip870)\" d=\"M1491.95 1451.02 L1510.31 1451.02 L1510.31 1454.96 L1496.23 1454.96 L1496.23 1463.43 Q1497.25 1463.08 1498.27 1462.92 Q1499.29 1462.73 1500.31 1462.73 Q1506.1 1462.73 1509.48 1465.9 Q1512.85 1469.08 1512.85 1474.49 Q1512.85 1480.07 1509.38 1483.17 Q1505.91 1486.25 1499.59 1486.25 Q1497.41 1486.25 1495.15 1485.88 Q1492.9 1485.51 1490.49 1484.77 L1490.49 1480.07 Q1492.58 1481.2 1494.8 1481.76 Q1497.02 1482.32 1499.5 1482.32 Q1503.5 1482.32 1505.84 1480.21 Q1508.18 1478.1 1508.18 1474.49 Q1508.18 1470.88 1505.84 1468.77 Q1503.5 1466.67 1499.5 1466.67 Q1497.62 1466.67 1495.75 1467.08 Q1493.9 1467.5 1491.95 1468.38 L1491.95 1451.02 Z\" fill=\"#000000\" fill-rule=\"evenodd\" fill-opacity=\"1\" /><path clip-path=\"url(#clip870)\" d=\"M1912.68 1481.64 L1929 1481.64 L1929 1485.58 L1907.05 1485.58 L1907.05 1481.64 Q1909.72 1478.89 1914.3 1474.26 Q1918.9 1469.61 1920.09 1468.27 Q1922.33 1465.74 1923.21 1464.01 Q1924.11 1462.25 1924.11 1460.56 Q1924.11 1457.8 1922.17 1456.07 Q1920.25 1454.33 1917.15 1454.33 Q1914.95 1454.33 1912.49 1455.09 Q1910.06 1455.86 1907.28 1457.41 L1907.28 1452.69 Q1910.11 1451.55 1912.56 1450.97 Q1915.02 1450.39 1917.05 1450.39 Q1922.42 1450.39 1925.62 1453.08 Q1928.81 1455.77 1928.81 1460.26 Q1928.81 1462.39 1928 1464.31 Q1927.22 1466.2 1925.11 1468.8 Q1924.53 1469.47 1921.43 1472.69 Q1918.33 1475.88 1912.68 1481.64 Z\" fill=\"#000000\" fill-rule=\"evenodd\" fill-opacity=\"1\" /><path clip-path=\"url(#clip870)\" d=\"M1948.81 1454.1 Q1945.2 1454.1 1943.37 1457.66 Q1941.57 1461.2 1941.57 1468.33 Q1941.57 1475.44 1943.37 1479.01 Q1945.2 1482.55 1948.81 1482.55 Q1952.45 1482.55 1954.25 1479.01 Q1956.08 1475.44 1956.08 1468.33 Q1956.08 1461.2 1954.25 1457.66 Q1952.45 1454.1 1948.81 1454.1 M1948.81 1450.39 Q1954.62 1450.39 1957.68 1455 Q1960.76 1459.58 1960.76 1468.33 Q1960.76 1477.06 1957.68 1481.67 Q1954.62 1486.25 1948.81 1486.25 Q1943 1486.25 1939.92 1481.67 Q1936.87 1477.06 1936.87 1468.33 Q1936.87 1459.58 1939.92 1455 Q1943 1450.39 1948.81 1450.39 Z\" fill=\"#000000\" fill-rule=\"evenodd\" fill-opacity=\"1\" /><path clip-path=\"url(#clip870)\" d=\"M1188.79 1520.52 L1195.22 1520.52 L1195.22 1540 L1218.59 1540 L1218.59 1520.52 L1225.02 1520.52 L1225.02 1568.04 L1218.59 1568.04 L1218.59 1545.41 L1195.22 1545.41 L1195.22 1568.04 L1188.79 1568.04 L1188.79 1520.52 Z\" fill=\"#000000\" fill-rule=\"evenodd\" fill-opacity=\"1\" /><path clip-path=\"url(#clip870)\" d=\"M1251.37 1536.5 Q1246.66 1536.5 1243.92 1540.19 Q1241.18 1543.85 1241.18 1550.25 Q1241.18 1556.65 1243.89 1560.34 Q1246.63 1564 1251.37 1564 Q1256.05 1564 1258.79 1560.31 Q1261.52 1556.62 1261.52 1550.25 Q1261.52 1543.92 1258.79 1540.23 Q1256.05 1536.5 1251.37 1536.5 M1251.37 1531.54 Q1259.01 1531.54 1263.37 1536.5 Q1267.73 1541.47 1267.73 1550.25 Q1267.73 1559 1263.37 1564 Q1259.01 1568.97 1251.37 1568.97 Q1243.7 1568.97 1239.34 1564 Q1235.01 1559 1235.01 1550.25 Q1235.01 1541.47 1239.34 1536.5 Q1243.7 1531.54 1251.37 1531.54 Z\" fill=\"#000000\" fill-rule=\"evenodd\" fill-opacity=\"1\" /><path clip-path=\"url(#clip870)\" d=\"M1276.83 1553.98 L1276.83 1532.4 L1282.69 1532.4 L1282.69 1553.75 Q1282.69 1558.81 1284.66 1561.36 Q1286.64 1563.87 1290.58 1563.87 Q1295.32 1563.87 1298.06 1560.85 Q1300.83 1557.83 1300.83 1552.61 L1300.83 1532.4 L1306.69 1532.4 L1306.69 1568.04 L1300.83 1568.04 L1300.83 1562.57 Q1298.7 1565.82 1295.87 1567.41 Q1293.06 1568.97 1289.34 1568.97 Q1283.2 1568.97 1280.01 1565.15 Q1276.83 1561.33 1276.83 1553.98 M1291.57 1531.54 L1291.57 1531.54 Z\" fill=\"#000000\" fill-rule=\"evenodd\" fill-opacity=\"1\" /><path clip-path=\"url(#clip870)\" d=\"M1339.41 1537.87 Q1338.42 1537.3 1337.24 1537.04 Q1336.1 1536.76 1334.7 1536.76 Q1329.73 1536.76 1327.06 1540 Q1324.42 1543.22 1324.42 1549.27 L1324.42 1568.04 L1318.53 1568.04 L1318.53 1532.4 L1324.42 1532.4 L1324.42 1537.93 Q1326.26 1534.69 1329.22 1533.13 Q1332.18 1531.54 1336.41 1531.54 Q1337.02 1531.54 1337.75 1531.63 Q1338.48 1531.7 1339.38 1531.85 L1339.41 1537.87 Z\" fill=\"#000000\" fill-rule=\"evenodd\" fill-opacity=\"1\" /><polyline clip-path=\"url(#clip872)\" style=\"stroke:#000000; stroke-linecap:butt; stroke-linejoin:round; stroke-width:2; stroke-opacity:0.1; fill:none\" points=\"\n  175.445,1386.4 2352.76,1386.4 \n  \"/>\n<polyline clip-path=\"url(#clip872)\" style=\"stroke:#000000; stroke-linecap:butt; stroke-linejoin:round; stroke-width:2; stroke-opacity:0.1; fill:none\" points=\"\n  175.445,1141.17 2352.76,1141.17 \n  \"/>\n<polyline clip-path=\"url(#clip872)\" style=\"stroke:#000000; stroke-linecap:butt; stroke-linejoin:round; stroke-width:2; stroke-opacity:0.1; fill:none\" points=\"\n  175.445,895.94 2352.76,895.94 \n  \"/>\n<polyline clip-path=\"url(#clip872)\" style=\"stroke:#000000; stroke-linecap:butt; stroke-linejoin:round; stroke-width:2; stroke-opacity:0.1; fill:none\" points=\"\n  175.445,650.712 2352.76,650.712 \n  \"/>\n<polyline clip-path=\"url(#clip872)\" style=\"stroke:#000000; stroke-linecap:butt; stroke-linejoin:round; stroke-width:2; stroke-opacity:0.1; fill:none\" points=\"\n  175.445,405.484 2352.76,405.484 \n  \"/>\n<polyline clip-path=\"url(#clip872)\" style=\"stroke:#000000; stroke-linecap:butt; stroke-linejoin:round; stroke-width:2; stroke-opacity:0.1; fill:none\" points=\"\n  175.445,160.256 2352.76,160.256 \n  \"/>\n<polyline clip-path=\"url(#clip870)\" style=\"stroke:#000000; stroke-linecap:butt; stroke-linejoin:round; stroke-width:4; stroke-opacity:1; fill:none\" points=\"\n  175.445,1423.18 175.445,123.472 \n  \"/>\n<polyline clip-path=\"url(#clip870)\" style=\"stroke:#000000; stroke-linecap:butt; stroke-linejoin:round; stroke-width:4; stroke-opacity:1; fill:none\" points=\"\n  175.445,1386.4 194.343,1386.4 \n  \"/>\n<polyline clip-path=\"url(#clip870)\" style=\"stroke:#000000; stroke-linecap:butt; stroke-linejoin:round; stroke-width:4; stroke-opacity:1; fill:none\" points=\"\n  175.445,1141.17 194.343,1141.17 \n  \"/>\n<polyline clip-path=\"url(#clip870)\" style=\"stroke:#000000; stroke-linecap:butt; stroke-linejoin:round; stroke-width:4; stroke-opacity:1; fill:none\" points=\"\n  175.445,895.94 194.343,895.94 \n  \"/>\n<polyline clip-path=\"url(#clip870)\" style=\"stroke:#000000; stroke-linecap:butt; stroke-linejoin:round; stroke-width:4; stroke-opacity:1; fill:none\" points=\"\n  175.445,650.712 194.343,650.712 \n  \"/>\n<polyline clip-path=\"url(#clip870)\" style=\"stroke:#000000; stroke-linecap:butt; stroke-linejoin:round; stroke-width:4; stroke-opacity:1; fill:none\" points=\"\n  175.445,405.484 194.343,405.484 \n  \"/>\n<polyline clip-path=\"url(#clip870)\" style=\"stroke:#000000; stroke-linecap:butt; stroke-linejoin:round; stroke-width:4; stroke-opacity:1; fill:none\" points=\"\n  175.445,160.256 194.343,160.256 \n  \"/>\n<path clip-path=\"url(#clip870)\" d=\"M127.501 1372.19 Q123.89 1372.19 122.061 1375.76 Q120.255 1379.3 120.255 1386.43 Q120.255 1393.54 122.061 1397.1 Q123.89 1400.64 127.501 1400.64 Q131.135 1400.64 132.941 1397.1 Q134.769 1393.54 134.769 1386.43 Q134.769 1379.3 132.941 1375.76 Q131.135 1372.19 127.501 1372.19 M127.501 1368.49 Q133.311 1368.49 136.367 1373.1 Q139.445 1377.68 139.445 1386.43 Q139.445 1395.16 136.367 1399.76 Q133.311 1404.35 127.501 1404.35 Q121.691 1404.35 118.612 1399.76 Q115.556 1395.16 115.556 1386.43 Q115.556 1377.68 118.612 1373.1 Q121.691 1368.49 127.501 1368.49 Z\" fill=\"#000000\" fill-rule=\"evenodd\" fill-opacity=\"1\" /><path clip-path=\"url(#clip870)\" d=\"M119.538 1154.51 L127.177 1154.51 L127.177 1128.15 L118.867 1129.81 L118.867 1125.55 L127.13 1123.89 L131.806 1123.89 L131.806 1154.51 L139.445 1154.51 L139.445 1158.45 L119.538 1158.45 L119.538 1154.51 Z\" fill=\"#000000\" fill-rule=\"evenodd\" fill-opacity=\"1\" /><path clip-path=\"url(#clip870)\" d=\"M123.126 909.285 L139.445 909.285 L139.445 913.22 L117.501 913.22 L117.501 909.285 Q120.163 906.53 124.746 901.901 Q129.353 897.248 130.533 895.905 Q132.779 893.382 133.658 891.646 Q134.561 889.887 134.561 888.197 Q134.561 885.442 132.617 883.706 Q130.695 881.97 127.593 881.97 Q125.394 881.97 122.941 882.734 Q120.51 883.498 117.732 885.049 L117.732 880.327 Q120.556 879.192 123.01 878.614 Q125.464 878.035 127.501 878.035 Q132.871 878.035 136.066 880.72 Q139.26 883.405 139.26 887.896 Q139.26 890.026 138.45 891.947 Q137.663 893.845 135.556 896.438 Q134.978 897.109 131.876 900.326 Q128.774 903.521 123.126 909.285 Z\" fill=\"#000000\" fill-rule=\"evenodd\" fill-opacity=\"1\" /><path clip-path=\"url(#clip870)\" d=\"M132.316 649.358 Q135.672 650.075 137.547 652.344 Q139.445 654.612 139.445 657.946 Q139.445 663.062 135.927 665.862 Q132.408 668.663 125.927 668.663 Q123.751 668.663 121.436 668.224 Q119.144 667.807 116.691 666.95 L116.691 662.437 Q118.635 663.571 120.95 664.149 Q123.265 664.728 125.788 664.728 Q130.186 664.728 132.478 662.992 Q134.792 661.256 134.792 657.946 Q134.792 654.89 132.64 653.177 Q130.51 651.441 126.691 651.441 L122.663 651.441 L122.663 647.599 L126.876 647.599 Q130.325 647.599 132.154 646.233 Q133.982 644.844 133.982 642.251 Q133.982 639.589 132.084 638.177 Q130.209 636.742 126.691 636.742 Q124.769 636.742 122.57 637.159 Q120.371 637.576 117.732 638.455 L117.732 634.289 Q120.394 633.548 122.709 633.177 Q125.047 632.807 127.107 632.807 Q132.431 632.807 135.533 635.238 Q138.635 637.645 138.635 641.765 Q138.635 644.636 136.992 646.626 Q135.348 648.594 132.316 649.358 Z\" fill=\"#000000\" fill-rule=\"evenodd\" fill-opacity=\"1\" /><path clip-path=\"url(#clip870)\" d=\"M129.862 392.278 L118.056 410.727 L129.862 410.727 L129.862 392.278 M128.635 388.204 L134.515 388.204 L134.515 410.727 L139.445 410.727 L139.445 414.616 L134.515 414.616 L134.515 422.764 L129.862 422.764 L129.862 414.616 L114.26 414.616 L114.26 410.102 L128.635 388.204 Z\" fill=\"#000000\" fill-rule=\"evenodd\" fill-opacity=\"1\" /><path clip-path=\"url(#clip870)\" d=\"M118.543 142.976 L136.899 142.976 L136.899 146.911 L122.825 146.911 L122.825 155.384 Q123.843 155.036 124.862 154.874 Q125.88 154.689 126.899 154.689 Q132.686 154.689 136.066 157.86 Q139.445 161.032 139.445 166.448 Q139.445 172.027 135.973 175.129 Q132.501 178.208 126.181 178.208 Q124.005 178.208 121.737 177.837 Q119.492 177.467 117.084 176.726 L117.084 172.027 Q119.168 173.161 121.39 173.717 Q123.612 174.272 126.089 174.272 Q130.093 174.272 132.431 172.166 Q134.769 170.059 134.769 166.448 Q134.769 162.837 132.431 160.731 Q130.093 158.624 126.089 158.624 Q124.214 158.624 122.339 159.041 Q120.487 159.458 118.543 160.337 L118.543 142.976 Z\" fill=\"#000000\" fill-rule=\"evenodd\" fill-opacity=\"1\" /><path clip-path=\"url(#clip870)\" d=\"M16.4842 1141.63 L16.4842 1132.97 L56.238 1111.9 L16.4842 1111.9 L16.4842 1105.66 L64.0042 1105.66 L64.0042 1114.32 L24.2503 1135.39 L64.0042 1135.39 L64.0042 1141.63 L16.4842 1141.63 Z\" fill=\"#000000\" fill-rule=\"evenodd\" fill-opacity=\"1\" /><path clip-path=\"url(#clip870)\" d=\"M49.9359 1093.73 L28.3562 1093.73 L28.3562 1087.87 L49.7131 1087.87 Q54.7739 1087.87 57.3202 1085.9 Q59.8346 1083.92 59.8346 1079.98 Q59.8346 1075.24 56.8109 1072.5 Q53.7872 1069.73 48.5673 1069.73 L28.3562 1069.73 L28.3562 1063.87 L64.0042 1063.87 L64.0042 1069.73 L58.5296 1069.73 Q61.7762 1071.86 63.3676 1074.69 Q64.9272 1077.5 64.9272 1081.22 Q64.9272 1087.36 61.1078 1090.55 Q57.2883 1093.73 49.9359 1093.73 M27.4968 1078.99 L27.4968 1078.99 Z\" fill=\"#000000\" fill-rule=\"evenodd\" fill-opacity=\"1\" /><path clip-path=\"url(#clip870)\" d=\"M35.1993 1024.06 Q31.2526 1021.86 29.3747 1018.8 Q27.4968 1015.75 27.4968 1011.61 Q27.4968 1006.04 31.4117 1003.02 Q35.2948 999.993 42.4881 999.993 L64.0042 999.993 L64.0042 1005.88 L42.679 1005.88 Q37.5546 1005.88 35.072 1007.7 Q32.5894 1009.51 32.5894 1013.23 Q32.5894 1017.79 35.6131 1020.43 Q38.6368 1023.07 43.8567 1023.07 L64.0042 1023.07 L64.0042 1028.96 L42.679 1028.96 Q37.5228 1028.96 35.072 1030.77 Q32.5894 1032.59 32.5894 1036.37 Q32.5894 1040.86 35.6449 1043.5 Q38.6686 1046.14 43.8567 1046.14 L64.0042 1046.14 L64.0042 1052.03 L28.3562 1052.03 L28.3562 1046.14 L33.8944 1046.14 Q30.616 1044.14 29.0564 1041.34 Q27.4968 1038.54 27.4968 1034.69 Q27.4968 1030.8 29.4702 1028.1 Q31.4436 1025.36 35.1993 1024.06 Z\" fill=\"#000000\" fill-rule=\"evenodd\" fill-opacity=\"1\" /><path clip-path=\"url(#clip870)\" d=\"M46.212 962.722 Q39.7508 962.722 36.0905 965.395 Q32.3984 968.037 32.3984 972.684 Q32.3984 977.331 36.0905 980.005 Q39.7508 982.646 46.212 982.646 Q52.6732 982.646 56.3653 980.005 Q60.0256 977.331 60.0256 972.684 Q60.0256 968.037 56.3653 965.395 Q52.6732 962.722 46.212 962.722 M33.7671 982.646 Q30.5842 980.8 29.0564 977.999 Q27.4968 975.167 27.4968 971.252 Q27.4968 964.759 32.6531 960.716 Q37.8093 956.642 46.212 956.642 Q54.6147 956.642 59.771 960.716 Q64.9272 964.759 64.9272 971.252 Q64.9272 975.167 63.3994 977.999 Q61.8398 980.8 58.657 982.646 L64.0042 982.646 L64.0042 988.535 L14.479 988.535 L14.479 982.646 L33.7671 982.646 Z\" fill=\"#000000\" fill-rule=\"evenodd\" fill-opacity=\"1\" /><path clip-path=\"url(#clip870)\" d=\"M44.7161 916.443 L47.5806 916.443 L47.5806 943.37 Q53.6281 942.988 56.8109 939.741 Q59.9619 936.463 59.9619 930.639 Q59.9619 927.265 59.1344 924.114 Q58.3069 920.931 56.6518 917.812 L62.1899 917.812 Q63.5267 920.963 64.227 924.273 Q64.9272 927.583 64.9272 930.989 Q64.9272 939.519 59.9619 944.516 Q54.9967 949.481 46.5303 949.481 Q37.7774 949.481 32.6531 944.77 Q27.4968 940.028 27.4968 932.007 Q27.4968 924.814 32.1438 920.644 Q36.7589 916.443 44.7161 916.443 M42.9973 922.299 Q38.1912 922.363 35.3266 925.005 Q32.4621 927.615 32.4621 931.943 Q32.4621 936.845 35.2312 939.805 Q38.0002 942.733 43.0292 943.179 L42.9973 922.299 Z\" fill=\"#000000\" fill-rule=\"evenodd\" fill-opacity=\"1\" /><path clip-path=\"url(#clip870)\" d=\"M33.8307 886.174 Q33.2578 887.161 33.0032 888.338 Q32.7167 889.484 32.7167 890.885 Q32.7167 895.85 35.9632 898.524 Q39.1779 901.165 45.2253 901.165 L64.0042 901.165 L64.0042 907.054 L28.3562 907.054 L28.3562 901.165 L33.8944 901.165 Q30.6479 899.319 29.0883 896.359 Q27.4968 893.399 27.4968 889.166 Q27.4968 888.561 27.5923 887.829 Q27.656 887.097 27.8151 886.206 L33.8307 886.174 Z\" fill=\"#000000\" fill-rule=\"evenodd\" fill-opacity=\"1\" /><path clip-path=\"url(#clip870)\" d=\"M32.4621 845.497 Q32.4621 850.208 36.1542 852.945 Q39.8145 855.682 46.212 855.682 Q52.6095 855.682 56.3017 852.977 Q59.9619 850.24 59.9619 845.497 Q59.9619 840.818 56.2698 838.081 Q52.5777 835.344 46.212 835.344 Q39.8781 835.344 36.186 838.081 Q32.4621 840.818 32.4621 845.497 M27.4968 845.497 Q27.4968 837.858 32.4621 833.498 Q37.4273 829.137 46.212 829.137 Q54.9649 829.137 59.9619 833.498 Q64.9272 837.858 64.9272 845.497 Q64.9272 853.168 59.9619 857.528 Q54.9649 861.857 46.212 861.857 Q37.4273 861.857 32.4621 857.528 Q27.4968 853.168 27.4968 845.497 Z\" fill=\"#000000\" fill-rule=\"evenodd\" fill-opacity=\"1\" /><path clip-path=\"url(#clip870)\" d=\"M14.479 801.383 L19.3487 801.383 L19.3487 806.985 Q19.3487 810.136 20.6219 811.377 Q21.895 812.586 25.2052 812.586 L28.3562 812.586 L28.3562 802.942 L32.9077 802.942 L32.9077 812.586 L64.0042 812.586 L64.0042 818.475 L32.9077 818.475 L32.9077 824.077 L28.3562 824.077 L28.3562 818.475 L25.8736 818.475 Q19.9216 818.475 17.2162 815.706 Q14.479 812.937 14.479 806.921 L14.479 801.383 Z\" fill=\"#000000\" fill-rule=\"evenodd\" fill-opacity=\"1\" /><path clip-path=\"url(#clip870)\" d=\"M33.8307 755.104 Q33.2578 756.091 33.0032 757.268 Q32.7167 758.414 32.7167 759.815 Q32.7167 764.78 35.9632 767.454 Q39.1779 770.095 45.2253 770.095 L64.0042 770.095 L64.0042 775.984 L28.3562 775.984 L28.3562 770.095 L33.8944 770.095 Q30.6479 768.249 29.0883 765.289 Q27.4968 762.329 27.4968 758.096 Q27.4968 757.491 27.5923 756.759 Q27.656 756.027 27.8151 755.136 L33.8307 755.104 Z\" fill=\"#000000\" fill-rule=\"evenodd\" fill-opacity=\"1\" /><path clip-path=\"url(#clip870)\" d=\"M44.7161 719.902 L47.5806 719.902 L47.5806 746.829 Q53.6281 746.447 56.8109 743.2 Q59.9619 739.922 59.9619 734.097 Q59.9619 730.723 59.1344 727.572 Q58.3069 724.39 56.6518 721.27 L62.1899 721.27 Q63.5267 724.421 64.227 727.732 Q64.9272 731.042 64.9272 734.447 Q64.9272 742.977 59.9619 747.975 Q54.9967 752.94 46.5303 752.94 Q37.7774 752.94 32.6531 748.229 Q27.4968 743.487 27.4968 735.466 Q27.4968 728.273 32.1438 724.103 Q36.7589 719.902 44.7161 719.902 M42.9973 725.758 Q38.1912 725.822 35.3266 728.464 Q32.4621 731.074 32.4621 735.402 Q32.4621 740.304 35.2312 743.264 Q38.0002 746.192 43.0292 746.638 L42.9973 725.758 Z\" fill=\"#000000\" fill-rule=\"evenodd\" fill-opacity=\"1\" /><path clip-path=\"url(#clip870)\" d=\"M46.212 684.699 Q39.7508 684.699 36.0905 687.373 Q32.3984 690.015 32.3984 694.662 Q32.3984 699.309 36.0905 701.982 Q39.7508 704.624 46.212 704.624 Q52.6732 704.624 56.3653 701.982 Q60.0256 699.309 60.0256 694.662 Q60.0256 690.015 56.3653 687.373 Q52.6732 684.699 46.212 684.699 M33.7671 704.624 Q30.5842 702.778 29.0564 699.977 Q27.4968 697.144 27.4968 693.229 Q27.4968 686.736 32.6531 682.694 Q37.8093 678.62 46.212 678.62 Q54.6147 678.62 59.771 682.694 Q64.9272 686.736 64.9272 693.229 Q64.9272 697.144 63.3994 699.977 Q61.8398 702.778 58.657 704.624 L64.0042 704.624 L64.0042 710.512 L14.479 710.512 L14.479 704.624 L33.7671 704.624 Z\" fill=\"#000000\" fill-rule=\"evenodd\" fill-opacity=\"1\" /><path clip-path=\"url(#clip870)\" d=\"M46.0847 652.712 Q46.0847 659.81 47.7079 662.547 Q49.3312 665.284 53.2461 665.284 Q56.3653 665.284 58.2114 663.247 Q60.0256 661.178 60.0256 657.645 Q60.0256 652.775 56.5881 649.847 Q53.1188 646.887 47.3897 646.887 L46.0847 646.887 L46.0847 652.712 M43.6657 641.031 L64.0042 641.031 L64.0042 646.887 L58.5933 646.887 Q61.8398 648.892 63.3994 651.884 Q64.9272 654.876 64.9272 659.205 Q64.9272 664.679 61.8716 667.926 Q58.7843 671.14 53.6281 671.14 Q47.6125 671.14 44.5569 667.13 Q41.5014 663.088 41.5014 655.099 L41.5014 646.887 L40.9285 646.887 Q36.8862 646.887 34.6901 649.561 Q32.4621 652.203 32.4621 657.009 Q32.4621 660.064 33.1941 662.961 Q33.9262 665.857 35.3903 668.531 L29.9795 668.531 Q28.7381 665.316 28.1334 662.292 Q27.4968 659.268 27.4968 656.404 Q27.4968 648.67 31.5072 644.85 Q35.5176 641.031 43.6657 641.031 Z\" fill=\"#000000\" fill-rule=\"evenodd\" fill-opacity=\"1\" /><path clip-path=\"url(#clip870)\" d=\"M14.479 628.968 L14.479 623.111 L64.0042 623.111 L64.0042 628.968 L14.479 628.968 Z\" fill=\"#000000\" fill-rule=\"evenodd\" fill-opacity=\"1\" /><path clip-path=\"url(#clip870)\" d=\"M46.0847 594.657 Q46.0847 601.754 47.7079 604.492 Q49.3312 607.229 53.2461 607.229 Q56.3653 607.229 58.2114 605.192 Q60.0256 603.123 60.0256 599.59 Q60.0256 594.72 56.5881 591.792 Q53.1188 588.832 47.3897 588.832 L46.0847 588.832 L46.0847 594.657 M43.6657 582.975 L64.0042 582.975 L64.0042 588.832 L58.5933 588.832 Q61.8398 590.837 63.3994 593.829 Q64.9272 596.821 64.9272 601.15 Q64.9272 606.624 61.8716 609.871 Q58.7843 613.085 53.6281 613.085 Q47.6125 613.085 44.5569 609.075 Q41.5014 605.033 41.5014 597.044 L41.5014 588.832 L40.9285 588.832 Q36.8862 588.832 34.6901 591.505 Q32.4621 594.147 32.4621 598.953 Q32.4621 602.009 33.1941 604.905 Q33.9262 607.802 35.3903 610.475 L29.9795 610.475 Q28.7381 607.261 28.1334 604.237 Q27.4968 601.213 27.4968 598.349 Q27.4968 590.614 31.5072 586.795 Q35.5176 582.975 43.6657 582.975 Z\" fill=\"#000000\" fill-rule=\"evenodd\" fill-opacity=\"1\" /><path clip-path=\"url(#clip870)\" d=\"M42.4881 541.28 L64.0042 541.28 L64.0042 547.137 L42.679 547.137 Q37.6183 547.137 35.1038 549.11 Q32.5894 551.083 32.5894 555.03 Q32.5894 559.772 35.6131 562.51 Q38.6368 565.247 43.8567 565.247 L64.0042 565.247 L64.0042 571.135 L28.3562 571.135 L28.3562 565.247 L33.8944 565.247 Q30.6797 563.146 29.0883 560.314 Q27.4968 557.449 27.4968 553.725 Q27.4968 547.582 31.3163 544.431 Q35.1038 541.28 42.4881 541.28 Z\" fill=\"#000000\" fill-rule=\"evenodd\" fill-opacity=\"1\" /><path clip-path=\"url(#clip870)\" d=\"M29.7248 503.945 L35.1993 503.945 Q33.8307 506.428 33.1623 508.942 Q32.4621 511.425 32.4621 513.971 Q32.4621 519.668 36.0905 522.82 Q39.6872 525.971 46.212 525.971 Q52.7369 525.971 56.3653 522.82 Q59.9619 519.668 59.9619 513.971 Q59.9619 511.425 59.2935 508.942 Q58.5933 506.428 57.2247 503.945 L62.6355 503.945 Q63.7814 506.396 64.3543 509.038 Q64.9272 511.648 64.9272 514.608 Q64.9272 522.66 59.8664 527.403 Q54.8057 532.145 46.212 532.145 Q37.491 532.145 32.4939 527.371 Q27.4968 522.565 27.4968 514.226 Q27.4968 511.52 28.0697 508.942 Q28.6108 506.364 29.7248 503.945 Z\" fill=\"#000000\" fill-rule=\"evenodd\" fill-opacity=\"1\" /><path clip-path=\"url(#clip870)\" d=\"M28.3562 493.76 L28.3562 487.904 L64.0042 487.904 L64.0042 493.76 L28.3562 493.76 M14.479 493.76 L14.479 487.904 L21.895 487.904 L21.895 493.76 L14.479 493.76 Z\" fill=\"#000000\" fill-rule=\"evenodd\" fill-opacity=\"1\" /><path clip-path=\"url(#clip870)\" d=\"M42.4881 446.017 L64.0042 446.017 L64.0042 451.874 L42.679 451.874 Q37.6183 451.874 35.1038 453.847 Q32.5894 455.82 32.5894 459.767 Q32.5894 464.51 35.6131 467.247 Q38.6368 469.984 43.8567 469.984 L64.0042 469.984 L64.0042 475.872 L28.3562 475.872 L28.3562 469.984 L33.8944 469.984 Q30.6797 467.883 29.0883 465.051 Q27.4968 462.186 27.4968 458.462 Q27.4968 452.319 31.3163 449.168 Q35.1038 446.017 42.4881 446.017 Z\" fill=\"#000000\" fill-rule=\"evenodd\" fill-opacity=\"1\" /><path clip-path=\"url(#clip870)\" d=\"M45.7664 410.879 Q39.4007 410.879 35.8996 413.52 Q32.3984 416.13 32.3984 420.873 Q32.3984 425.583 35.8996 428.225 Q39.4007 430.835 45.7664 430.835 Q52.1003 430.835 55.6014 428.225 Q59.1026 425.583 59.1026 420.873 Q59.1026 416.13 55.6014 413.52 Q52.1003 410.879 45.7664 410.879 M59.58 405.022 Q68.683 405.022 73.1071 409.064 Q77.5631 413.107 77.5631 421.446 Q77.5631 424.533 77.0857 427.27 Q76.6401 430.008 75.6852 432.586 L69.9879 432.586 Q71.3884 430.008 72.0568 427.493 Q72.7252 424.979 72.7252 422.369 Q72.7252 416.608 69.7015 413.743 Q66.7096 410.879 60.6303 410.879 L57.7339 410.879 Q60.885 412.693 62.4446 415.526 Q64.0042 418.358 64.0042 422.305 Q64.0042 428.862 59.0071 432.872 Q54.01 436.882 45.7664 436.882 Q37.491 436.882 32.4939 432.872 Q27.4968 428.862 27.4968 422.305 Q27.4968 418.358 29.0564 415.526 Q30.616 412.693 33.7671 410.879 L28.3562 410.879 L28.3562 405.022 L59.58 405.022 Z\" fill=\"#000000\" fill-rule=\"evenodd\" fill-opacity=\"1\" /><path clip-path=\"url(#clip870)\" d=\"M601.292 12.096 L612.31 12.096 L639.127 62.6918 L639.127 12.096 L647.067 12.096 L647.067 72.576 L636.048 72.576 L609.231 21.9802 L609.231 72.576 L601.292 72.576 L601.292 12.096 Z\" fill=\"#000000\" fill-rule=\"evenodd\" fill-opacity=\"1\" /><path clip-path=\"url(#clip870)\" d=\"M662.258 54.671 L662.258 27.2059 L669.711 27.2059 L669.711 54.3874 Q669.711 60.8284 672.223 64.0691 Q674.735 67.2693 679.758 67.2693 Q685.793 67.2693 689.277 63.421 Q692.802 59.5726 692.802 52.9291 L692.802 27.2059 L700.255 27.2059 L700.255 72.576 L692.802 72.576 L692.802 65.6084 Q690.087 69.7404 686.482 71.7658 Q682.917 73.7508 678.178 73.7508 Q670.36 73.7508 666.309 68.8897 Q662.258 64.0286 662.258 54.671 M681.013 26.1121 L681.013 26.1121 Z\" fill=\"#000000\" fill-rule=\"evenodd\" fill-opacity=\"1\" /><path clip-path=\"url(#clip870)\" d=\"M750.932 35.9153 Q753.727 30.8922 757.616 28.5022 Q761.505 26.1121 766.771 26.1121 Q773.86 26.1121 777.708 31.0947 Q781.557 36.0368 781.557 45.1919 L781.557 72.576 L774.063 72.576 L774.063 45.4349 Q774.063 38.913 771.754 35.7533 Q769.445 32.5936 764.705 32.5936 Q758.912 32.5936 755.55 36.4419 Q752.188 40.2903 752.188 46.9338 L752.188 72.576 L744.694 72.576 L744.694 45.4349 Q744.694 38.8725 742.385 35.7533 Q740.076 32.5936 735.255 32.5936 Q729.543 32.5936 726.181 36.4824 Q722.819 40.3308 722.819 46.9338 L722.819 72.576 L715.325 72.576 L715.325 27.2059 L722.819 27.2059 L722.819 34.2544 Q725.371 30.082 728.936 28.0971 Q732.5 26.1121 737.402 26.1121 Q742.344 26.1121 745.787 28.6237 Q749.271 31.1352 750.932 35.9153 Z\" fill=\"#000000\" fill-rule=\"evenodd\" fill-opacity=\"1\" /><path clip-path=\"url(#clip870)\" d=\"M828.993 49.9314 Q828.993 41.7081 825.59 37.0496 Q822.228 32.3505 816.314 32.3505 Q810.399 32.3505 806.997 37.0496 Q803.634 41.7081 803.634 49.9314 Q803.634 58.1548 806.997 62.8538 Q810.399 67.5124 816.314 67.5124 Q822.228 67.5124 825.59 62.8538 Q828.993 58.1548 828.993 49.9314 M803.634 34.0924 Q805.984 30.0415 809.549 28.0971 Q813.154 26.1121 818.137 26.1121 Q826.4 26.1121 831.545 32.6746 Q836.73 39.2371 836.73 49.9314 Q836.73 60.6258 831.545 67.1883 Q826.4 73.7508 818.137 73.7508 Q813.154 73.7508 809.549 71.8063 Q805.984 69.8214 803.634 65.7705 L803.634 72.576 L796.14 72.576 L796.14 9.54393 L803.634 9.54393 L803.634 34.0924 Z\" fill=\"#000000\" fill-rule=\"evenodd\" fill-opacity=\"1\" /><path clip-path=\"url(#clip870)\" d=\"M887.893 48.0275 L887.893 51.6733 L853.622 51.6733 Q854.109 59.3701 858.24 63.421 Q862.413 67.4314 869.826 67.4314 Q874.12 67.4314 878.13 66.3781 Q882.181 65.3249 886.151 63.2184 L886.151 70.267 Q882.141 71.9684 877.928 72.8596 Q873.715 73.7508 869.38 73.7508 Q858.524 73.7508 852.164 67.4314 Q845.845 61.1119 845.845 50.3365 Q845.845 39.1965 851.84 32.6746 Q857.876 26.1121 868.084 26.1121 Q877.239 26.1121 882.546 32.0264 Q887.893 37.9003 887.893 48.0275 M880.439 45.84 Q880.358 39.7232 876.996 36.0774 Q873.674 32.4315 868.165 32.4315 Q861.927 32.4315 858.159 35.9558 Q854.433 39.4801 853.865 45.8805 L880.439 45.84 Z\" fill=\"#000000\" fill-rule=\"evenodd\" fill-opacity=\"1\" /><path clip-path=\"url(#clip870)\" d=\"M926.417 34.1734 Q925.161 33.4443 923.663 33.1202 Q922.204 32.7556 920.422 32.7556 Q914.102 32.7556 910.7 36.8875 Q907.337 40.9789 907.337 48.6757 L907.337 72.576 L899.843 72.576 L899.843 27.2059 L907.337 27.2059 L907.337 34.2544 Q909.687 30.1225 913.454 28.1376 Q917.222 26.1121 922.609 26.1121 Q923.379 26.1121 924.311 26.2337 Q925.242 26.3147 926.377 26.5172 L926.417 34.1734 Z\" fill=\"#000000\" fill-rule=\"evenodd\" fill-opacity=\"1\" /><path clip-path=\"url(#clip870)\" d=\"M978.188 32.4315 Q972.192 32.4315 968.709 37.1306 Q965.225 41.7891 965.225 49.9314 Q965.225 58.0738 968.668 62.7728 Q972.152 67.4314 978.188 67.4314 Q984.143 67.4314 987.626 62.7323 Q991.11 58.0333 991.11 49.9314 Q991.11 41.8701 987.626 37.1711 Q984.143 32.4315 978.188 32.4315 M978.188 26.1121 Q987.91 26.1121 993.46 32.4315 Q999.009 38.7509 999.009 49.9314 Q999.009 61.0714 993.46 67.4314 Q987.91 73.7508 978.188 73.7508 Q968.425 73.7508 962.875 67.4314 Q957.366 61.0714 957.366 49.9314 Q957.366 38.7509 962.875 32.4315 Q968.425 26.1121 978.188 26.1121 Z\" fill=\"#000000\" fill-rule=\"evenodd\" fill-opacity=\"1\" /><path clip-path=\"url(#clip870)\" d=\"M1034.33 9.54393 L1034.33 15.7418 L1027.2 15.7418 Q1023.19 15.7418 1021.61 17.3622 Q1020.07 18.9825 1020.07 23.1955 L1020.07 27.2059 L1032.35 27.2059 L1032.35 32.9987 L1020.07 32.9987 L1020.07 72.576 L1012.58 72.576 L1012.58 32.9987 L1005.45 32.9987 L1005.45 27.2059 L1012.58 27.2059 L1012.58 24.0462 Q1012.58 16.471 1016.1 13.0277 Q1019.63 9.54393 1027.28 9.54393 L1034.33 9.54393 Z\" fill=\"#000000\" fill-rule=\"evenodd\" fill-opacity=\"1\" /><path clip-path=\"url(#clip870)\" d=\"M1093.23 34.1734 Q1091.98 33.4443 1090.48 33.1202 Q1089.02 32.7556 1087.24 32.7556 Q1080.92 32.7556 1077.52 36.8875 Q1074.15 40.9789 1074.15 48.6757 L1074.15 72.576 L1066.66 72.576 L1066.66 27.2059 L1074.15 27.2059 L1074.15 34.2544 Q1076.5 30.1225 1080.27 28.1376 Q1084.04 26.1121 1089.43 26.1121 Q1090.2 26.1121 1091.13 26.2337 Q1092.06 26.3147 1093.19 26.5172 L1093.23 34.1734 Z\" fill=\"#000000\" fill-rule=\"evenodd\" fill-opacity=\"1\" /><path clip-path=\"url(#clip870)\" d=\"M1138.04 48.0275 L1138.04 51.6733 L1103.77 51.6733 Q1104.25 59.3701 1108.38 63.421 Q1112.56 67.4314 1119.97 67.4314 Q1124.26 67.4314 1128.27 66.3781 Q1132.32 65.3249 1136.29 63.2184 L1136.29 70.267 Q1132.28 71.9684 1128.07 72.8596 Q1123.86 73.7508 1119.52 73.7508 Q1108.67 73.7508 1102.31 67.4314 Q1095.99 61.1119 1095.99 50.3365 Q1095.99 39.1965 1101.98 32.6746 Q1108.02 26.1121 1118.23 26.1121 Q1127.38 26.1121 1132.69 32.0264 Q1138.04 37.9003 1138.04 48.0275 M1130.58 45.84 Q1130.5 39.7232 1127.14 36.0774 Q1123.82 32.4315 1118.31 32.4315 Q1112.07 32.4315 1108.3 35.9558 Q1104.58 39.4801 1104.01 45.8805 L1130.58 45.84 Z\" fill=\"#000000\" fill-rule=\"evenodd\" fill-opacity=\"1\" /><path clip-path=\"url(#clip870)\" d=\"M1182.84 49.9314 Q1182.84 41.7081 1179.44 37.0496 Q1176.07 32.3505 1170.16 32.3505 Q1164.25 32.3505 1160.84 37.0496 Q1157.48 41.7081 1157.48 49.9314 Q1157.48 58.1548 1160.84 62.8538 Q1164.25 67.5124 1170.16 67.5124 Q1176.07 67.5124 1179.44 62.8538 Q1182.84 58.1548 1182.84 49.9314 M1157.48 34.0924 Q1159.83 30.0415 1163.4 28.0971 Q1167 26.1121 1171.98 26.1121 Q1180.25 26.1121 1185.39 32.6746 Q1190.58 39.2371 1190.58 49.9314 Q1190.58 60.6258 1185.39 67.1883 Q1180.25 73.7508 1171.98 73.7508 Q1167 73.7508 1163.4 71.8063 Q1159.83 69.8214 1157.48 65.7705 L1157.48 72.576 L1149.99 72.576 L1149.99 9.54393 L1157.48 9.54393 L1157.48 34.0924 Z\" fill=\"#000000\" fill-rule=\"evenodd\" fill-opacity=\"1\" /><path clip-path=\"url(#clip870)\" d=\"M1223.55 49.7694 Q1214.52 49.7694 1211.03 51.8354 Q1207.55 53.9013 1207.55 58.8839 Q1207.55 62.8538 1210.14 65.2034 Q1212.78 67.5124 1217.27 67.5124 Q1223.47 67.5124 1227.2 63.1374 Q1230.96 58.7219 1230.96 51.4303 L1230.96 49.7694 L1223.55 49.7694 M1238.42 46.6907 L1238.42 72.576 L1230.96 72.576 L1230.96 65.6895 Q1228.41 69.8214 1224.6 71.8063 Q1220.8 73.7508 1215.29 73.7508 Q1208.32 73.7508 1204.19 69.8619 Q1200.1 65.9325 1200.1 59.3701 Q1200.1 51.7138 1205.2 47.825 Q1210.35 43.9361 1220.51 43.9361 L1230.96 43.9361 L1230.96 43.2069 Q1230.96 38.0623 1227.56 35.2672 Q1224.2 32.4315 1218.08 32.4315 Q1214.19 32.4315 1210.51 33.3632 Q1206.82 34.295 1203.42 36.1584 L1203.42 29.2718 Q1207.51 27.692 1211.36 26.9223 Q1215.21 26.1121 1218.85 26.1121 Q1228.7 26.1121 1233.56 31.2163 Q1238.42 36.3204 1238.42 46.6907 Z\" fill=\"#000000\" fill-rule=\"evenodd\" fill-opacity=\"1\" /><path clip-path=\"url(#clip870)\" d=\"M1253.77 9.54393 L1261.22 9.54393 L1261.22 72.576 L1253.77 72.576 L1253.77 9.54393 Z\" fill=\"#000000\" fill-rule=\"evenodd\" fill-opacity=\"1\" /><path clip-path=\"url(#clip870)\" d=\"M1297.44 49.7694 Q1288.41 49.7694 1284.92 51.8354 Q1281.44 53.9013 1281.44 58.8839 Q1281.44 62.8538 1284.03 65.2034 Q1286.66 67.5124 1291.16 67.5124 Q1297.36 67.5124 1301.09 63.1374 Q1304.85 58.7219 1304.85 51.4303 L1304.85 49.7694 L1297.44 49.7694 M1312.31 46.6907 L1312.31 72.576 L1304.85 72.576 L1304.85 65.6895 Q1302.3 69.8214 1298.49 71.8063 Q1294.68 73.7508 1289.18 73.7508 Q1282.21 73.7508 1278.08 69.8619 Q1273.98 65.9325 1273.98 59.3701 Q1273.98 51.7138 1279.09 47.825 Q1284.23 43.9361 1294.4 43.9361 L1304.85 43.9361 L1304.85 43.2069 Q1304.85 38.0623 1301.45 35.2672 Q1298.09 32.4315 1291.97 32.4315 Q1288.08 32.4315 1284.4 33.3632 Q1280.71 34.295 1277.31 36.1584 L1277.31 29.2718 Q1281.4 27.692 1285.25 26.9223 Q1289.09 26.1121 1292.74 26.1121 Q1302.58 26.1121 1307.45 31.2163 Q1312.31 36.3204 1312.31 46.6907 Z\" fill=\"#000000\" fill-rule=\"evenodd\" fill-opacity=\"1\" /><path clip-path=\"url(#clip870)\" d=\"M1365.37 45.1919 L1365.37 72.576 L1357.92 72.576 L1357.92 45.4349 Q1357.92 38.994 1355.41 35.7938 Q1352.9 32.5936 1347.87 32.5936 Q1341.84 32.5936 1338.35 36.4419 Q1334.87 40.2903 1334.87 46.9338 L1334.87 72.576 L1327.38 72.576 L1327.38 27.2059 L1334.87 27.2059 L1334.87 34.2544 Q1337.54 30.163 1341.15 28.1376 Q1344.79 26.1121 1349.53 26.1121 Q1357.35 26.1121 1361.36 30.9732 Q1365.37 35.7938 1365.37 45.1919 Z\" fill=\"#000000\" fill-rule=\"evenodd\" fill-opacity=\"1\" /><path clip-path=\"url(#clip870)\" d=\"M1412.89 28.9478 L1412.89 35.9153 Q1409.73 34.1734 1406.53 33.3227 Q1403.37 32.4315 1400.13 32.4315 Q1392.88 32.4315 1388.87 37.0496 Q1384.86 41.6271 1384.86 49.9314 Q1384.86 58.2358 1388.87 62.8538 Q1392.88 67.4314 1400.13 67.4314 Q1403.37 67.4314 1406.53 66.5807 Q1409.73 65.6895 1412.89 63.9476 L1412.89 70.8341 Q1409.77 72.2924 1406.41 73.0216 Q1403.09 73.7508 1399.32 73.7508 Q1389.07 73.7508 1383.04 67.3098 Q1377 60.8689 1377 49.9314 Q1377 38.832 1383.08 32.472 Q1389.19 26.1121 1399.81 26.1121 Q1403.25 26.1121 1406.53 26.8413 Q1409.81 27.5299 1412.89 28.9478 Z\" fill=\"#000000\" fill-rule=\"evenodd\" fill-opacity=\"1\" /><path clip-path=\"url(#clip870)\" d=\"M1425.85 27.2059 L1433.31 27.2059 L1433.31 72.576 L1425.85 72.576 L1425.85 27.2059 M1425.85 9.54393 L1433.31 9.54393 L1433.31 18.9825 L1425.85 18.9825 L1425.85 9.54393 Z\" fill=\"#000000\" fill-rule=\"evenodd\" fill-opacity=\"1\" /><path clip-path=\"url(#clip870)\" d=\"M1486.62 45.1919 L1486.62 72.576 L1479.16 72.576 L1479.16 45.4349 Q1479.16 38.994 1476.65 35.7938 Q1474.14 32.5936 1469.12 32.5936 Q1463.08 32.5936 1459.6 36.4419 Q1456.11 40.2903 1456.11 46.9338 L1456.11 72.576 L1448.62 72.576 L1448.62 27.2059 L1456.11 27.2059 L1456.11 34.2544 Q1458.79 30.163 1462.39 28.1376 Q1466.04 26.1121 1470.78 26.1121 Q1478.6 26.1121 1482.61 30.9732 Q1486.62 35.7938 1486.62 45.1919 Z\" fill=\"#000000\" fill-rule=\"evenodd\" fill-opacity=\"1\" /><path clip-path=\"url(#clip870)\" d=\"M1531.34 49.3643 Q1531.34 41.2625 1527.98 36.8065 Q1524.65 32.3505 1518.62 32.3505 Q1512.62 32.3505 1509.26 36.8065 Q1505.94 41.2625 1505.94 49.3643 Q1505.94 57.4256 1509.26 61.8816 Q1512.62 66.3376 1518.62 66.3376 Q1524.65 66.3376 1527.98 61.8816 Q1531.34 57.4256 1531.34 49.3643 M1538.79 66.9452 Q1538.79 78.5308 1533.65 84.1616 Q1528.5 89.8329 1517.89 89.8329 Q1513.96 89.8329 1510.48 89.2252 Q1506.99 88.6581 1503.71 87.4428 L1503.71 80.1917 Q1506.99 81.9741 1510.19 82.8248 Q1513.39 83.6755 1516.71 83.6755 Q1524.05 83.6755 1527.69 79.8271 Q1531.34 76.0193 1531.34 68.282 L1531.34 64.5957 Q1529.03 68.6061 1525.42 70.5911 Q1521.82 72.576 1516.8 72.576 Q1508.45 72.576 1503.35 66.2161 Q1498.24 59.8562 1498.24 49.3643 Q1498.24 38.832 1503.35 32.472 Q1508.45 26.1121 1516.8 26.1121 Q1521.82 26.1121 1525.42 28.0971 Q1529.03 30.082 1531.34 34.0924 L1531.34 27.2059 L1538.79 27.2059 L1538.79 66.9452 Z\" fill=\"#000000\" fill-rule=\"evenodd\" fill-opacity=\"1\" /><path clip-path=\"url(#clip870)\" d=\"M1587.73 65.7705 L1587.73 89.8329 L1580.23 89.8329 L1580.23 27.2059 L1587.73 27.2059 L1587.73 34.0924 Q1590.08 30.0415 1593.64 28.0971 Q1597.25 26.1121 1602.23 26.1121 Q1610.49 26.1121 1615.64 32.6746 Q1620.82 39.2371 1620.82 49.9314 Q1620.82 60.6258 1615.64 67.1883 Q1610.49 73.7508 1602.23 73.7508 Q1597.25 73.7508 1593.64 71.8063 Q1590.08 69.8214 1587.73 65.7705 M1613.09 49.9314 Q1613.09 41.7081 1609.68 37.0496 Q1606.32 32.3505 1600.41 32.3505 Q1594.49 32.3505 1591.09 37.0496 Q1587.73 41.7081 1587.73 49.9314 Q1587.73 58.1548 1591.09 62.8538 Q1594.49 67.5124 1600.41 67.5124 Q1606.32 67.5124 1609.68 62.8538 Q1613.09 58.1548 1613.09 49.9314 Z\" fill=\"#000000\" fill-rule=\"evenodd\" fill-opacity=\"1\" /><path clip-path=\"url(#clip870)\" d=\"M1671.99 48.0275 L1671.99 51.6733 L1637.72 51.6733 Q1638.2 59.3701 1642.33 63.421 Q1646.51 67.4314 1653.92 67.4314 Q1658.21 67.4314 1662.22 66.3781 Q1666.27 65.3249 1670.24 63.2184 L1670.24 70.267 Q1666.23 71.9684 1662.02 72.8596 Q1657.81 73.7508 1653.47 73.7508 Q1642.62 73.7508 1636.26 67.4314 Q1629.94 61.1119 1629.94 50.3365 Q1629.94 39.1965 1635.93 32.6746 Q1641.97 26.1121 1652.18 26.1121 Q1661.33 26.1121 1666.64 32.0264 Q1671.99 37.9003 1671.99 48.0275 M1664.53 45.84 Q1664.45 39.7232 1661.09 36.0774 Q1657.77 32.4315 1652.26 32.4315 Q1646.02 32.4315 1642.25 35.9558 Q1638.53 39.4801 1637.96 45.8805 L1664.53 45.84 Z\" fill=\"#000000\" fill-rule=\"evenodd\" fill-opacity=\"1\" /><path clip-path=\"url(#clip870)\" d=\"M1710.51 34.1734 Q1709.25 33.4443 1707.76 33.1202 Q1706.3 32.7556 1704.51 32.7556 Q1698.2 32.7556 1694.79 36.8875 Q1691.43 40.9789 1691.43 48.6757 L1691.43 72.576 L1683.94 72.576 L1683.94 27.2059 L1691.43 27.2059 L1691.43 34.2544 Q1693.78 30.1225 1697.55 28.1376 Q1701.31 26.1121 1706.7 26.1121 Q1707.47 26.1121 1708.4 26.2337 Q1709.34 26.3147 1710.47 26.5172 L1710.51 34.1734 Z\" fill=\"#000000\" fill-rule=\"evenodd\" fill-opacity=\"1\" /><path clip-path=\"url(#clip870)\" d=\"M1782.41 45.1919 L1782.41 72.576 L1774.96 72.576 L1774.96 45.4349 Q1774.96 38.994 1772.45 35.7938 Q1769.94 32.5936 1764.91 32.5936 Q1758.88 32.5936 1755.39 36.4419 Q1751.91 40.2903 1751.91 46.9338 L1751.91 72.576 L1744.42 72.576 L1744.42 9.54393 L1751.91 9.54393 L1751.91 34.2544 Q1754.58 30.163 1758.19 28.1376 Q1761.84 26.1121 1766.57 26.1121 Q1774.39 26.1121 1778.4 30.9732 Q1782.41 35.7938 1782.41 45.1919 Z\" fill=\"#000000\" fill-rule=\"evenodd\" fill-opacity=\"1\" /><path clip-path=\"url(#clip870)\" d=\"M1814.86 32.4315 Q1808.87 32.4315 1805.38 37.1306 Q1801.9 41.7891 1801.9 49.9314 Q1801.9 58.0738 1805.34 62.7728 Q1808.83 67.4314 1814.86 67.4314 Q1820.82 67.4314 1824.3 62.7323 Q1827.78 58.0333 1827.78 49.9314 Q1827.78 41.8701 1824.3 37.1711 Q1820.82 32.4315 1814.86 32.4315 M1814.86 26.1121 Q1824.58 26.1121 1830.13 32.4315 Q1835.68 38.7509 1835.68 49.9314 Q1835.68 61.0714 1830.13 67.4314 Q1824.58 73.7508 1814.86 73.7508 Q1805.1 73.7508 1799.55 67.4314 Q1794.04 61.0714 1794.04 49.9314 Q1794.04 38.7509 1799.55 32.4315 Q1805.1 26.1121 1814.86 26.1121 Z\" fill=\"#000000\" fill-rule=\"evenodd\" fill-opacity=\"1\" /><path clip-path=\"url(#clip870)\" d=\"M1847.27 54.671 L1847.27 27.2059 L1854.72 27.2059 L1854.72 54.3874 Q1854.72 60.8284 1857.23 64.0691 Q1859.75 67.2693 1864.77 67.2693 Q1870.8 67.2693 1874.29 63.421 Q1877.81 59.5726 1877.81 52.9291 L1877.81 27.2059 L1885.27 27.2059 L1885.27 72.576 L1877.81 72.576 L1877.81 65.6084 Q1875.1 69.7404 1871.49 71.7658 Q1867.93 73.7508 1863.19 73.7508 Q1855.37 73.7508 1851.32 68.8897 Q1847.27 64.0286 1847.27 54.671 M1866.02 26.1121 L1866.02 26.1121 Z\" fill=\"#000000\" fill-rule=\"evenodd\" fill-opacity=\"1\" /><path clip-path=\"url(#clip870)\" d=\"M1926.91 34.1734 Q1925.65 33.4443 1924.15 33.1202 Q1922.7 32.7556 1920.91 32.7556 Q1914.59 32.7556 1911.19 36.8875 Q1907.83 40.9789 1907.83 48.6757 L1907.83 72.576 L1900.34 72.576 L1900.34 27.2059 L1907.83 27.2059 L1907.83 34.2544 Q1910.18 30.1225 1913.95 28.1376 Q1917.71 26.1121 1923.1 26.1121 Q1923.87 26.1121 1924.8 26.2337 Q1925.73 26.3147 1926.87 26.5172 L1926.91 34.1734 Z\" fill=\"#000000\" fill-rule=\"evenodd\" fill-opacity=\"1\" /><polyline clip-path=\"url(#clip872)\" style=\"stroke:#009af9; stroke-linecap:butt; stroke-linejoin:round; stroke-width:4; stroke-opacity:1; fill:none\" points=\"\n  237.067,1141.17 326.374,1386.4 415.682,1386.4 504.989,1386.4 594.296,1386.4 683.603,1386.4 772.911,895.94 862.218,1141.17 951.525,1141.17 1040.83,895.94 \n  1130.14,1386.4 1219.45,1386.4 1308.75,895.94 1398.06,650.712 1487.37,650.712 1576.68,1141.17 1665.98,160.256 1755.29,405.484 1844.6,160.256 1933.9,650.712 \n  2023.21,1141.17 2112.52,895.94 2201.83,1141.17 2291.13,895.94 \n  \"/>\n<path clip-path=\"url(#clip870)\" d=\"\nM1756.45 270.476 L2280.18 270.476 L2280.18 166.796 L1756.45 166.796  Z\n  \" fill=\"#ffffff\" fill-rule=\"evenodd\" fill-opacity=\"1\"/>\n<polyline clip-path=\"url(#clip870)\" style=\"stroke:#000000; stroke-linecap:butt; stroke-linejoin:round; stroke-width:4; stroke-opacity:1; fill:none\" points=\"\n  1756.45,270.476 2280.18,270.476 2280.18,166.796 1756.45,166.796 1756.45,270.476 \n  \"/>\n<polyline clip-path=\"url(#clip870)\" style=\"stroke:#009af9; stroke-linecap:butt; stroke-linejoin:round; stroke-width:4; stroke-opacity:1; fill:none\" points=\"\n  1780.64,218.636 1925.8,218.636 \n  \"/>\n<path clip-path=\"url(#clip870)\" d=\"M1966.38 219.712 Q1967.88 220.221 1969.3 221.888 Q1970.73 223.555 1972.17 226.471 L1976.91 235.916 L1971.89 235.916 L1967.47 227.05 Q1965.75 223.578 1964.13 222.444 Q1962.54 221.309 1959.76 221.309 L1954.67 221.309 L1954.67 235.916 L1949.99 235.916 L1949.99 201.356 L1960.55 201.356 Q1966.47 201.356 1969.39 203.833 Q1972.3 206.309 1972.3 211.309 Q1972.3 214.573 1970.78 216.726 Q1969.27 218.879 1966.38 219.712 M1954.67 205.198 L1954.67 217.467 L1960.55 217.467 Q1963.93 217.467 1965.64 215.916 Q1967.37 214.342 1967.37 211.309 Q1967.37 208.277 1965.64 206.749 Q1963.93 205.198 1960.55 205.198 L1954.67 205.198 Z\" fill=\"#000000\" fill-rule=\"evenodd\" fill-opacity=\"1\" /><path clip-path=\"url(#clip870)\" d=\"M2002.79 221.888 L2002.79 223.971 L1983.21 223.971 Q1983.49 228.369 1985.85 230.684 Q1988.23 232.976 1992.47 232.976 Q1994.92 232.976 1997.21 232.374 Q1999.53 231.772 2001.8 230.569 L2001.8 234.596 Q1999.5 235.568 1997.1 236.078 Q1994.69 236.587 1992.21 236.587 Q1986.01 236.587 1982.37 232.976 Q1978.76 229.365 1978.76 223.207 Q1978.76 216.842 1982.19 213.115 Q1985.64 209.365 1991.47 209.365 Q1996.7 209.365 1999.74 212.745 Q2002.79 216.101 2002.79 221.888 M1998.53 220.638 Q1998.49 217.143 1996.56 215.059 Q1994.67 212.976 1991.52 212.976 Q1987.95 212.976 1985.8 214.99 Q1983.67 217.004 1983.35 220.661 L1998.53 220.638 Z\" fill=\"#000000\" fill-rule=\"evenodd\" fill-opacity=\"1\" /><path clip-path=\"url(#clip870)\" d=\"M2028.39 222.976 Q2028.39 218.277 2026.45 215.615 Q2024.53 212.93 2021.15 212.93 Q2017.77 212.93 2015.82 215.615 Q2013.9 218.277 2013.9 222.976 Q2013.9 227.675 2015.82 230.36 Q2017.77 233.022 2021.15 233.022 Q2024.53 233.022 2026.45 230.36 Q2028.39 227.675 2028.39 222.976 M2013.9 213.925 Q2015.24 211.61 2017.28 210.499 Q2019.34 209.365 2022.19 209.365 Q2026.91 209.365 2029.85 213.115 Q2032.81 216.865 2032.81 222.976 Q2032.81 229.087 2029.85 232.837 Q2026.91 236.587 2022.19 236.587 Q2019.34 236.587 2017.28 235.476 Q2015.24 234.342 2013.9 232.027 L2013.9 235.916 L2009.62 235.916 L2009.62 199.897 L2013.9 199.897 L2013.9 213.925 Z\" fill=\"#000000\" fill-rule=\"evenodd\" fill-opacity=\"1\" /><path clip-path=\"url(#clip870)\" d=\"M2051.66 222.883 Q2046.49 222.883 2044.5 224.064 Q2042.51 225.244 2042.51 228.092 Q2042.51 230.36 2043.99 231.703 Q2045.5 233.022 2048.07 233.022 Q2051.61 233.022 2053.74 230.522 Q2055.89 227.999 2055.89 223.832 L2055.89 222.883 L2051.66 222.883 M2060.15 221.124 L2060.15 235.916 L2055.89 235.916 L2055.89 231.981 Q2054.43 234.342 2052.26 235.476 Q2050.08 236.587 2046.93 236.587 Q2042.95 236.587 2040.59 234.365 Q2038.25 232.119 2038.25 228.369 Q2038.25 223.994 2041.17 221.772 Q2044.11 219.55 2049.92 219.55 L2055.89 219.55 L2055.89 219.133 Q2055.89 216.194 2053.95 214.596 Q2052.03 212.976 2048.53 212.976 Q2046.31 212.976 2044.2 213.508 Q2042.1 214.041 2040.15 215.106 L2040.15 211.17 Q2042.49 210.268 2044.69 209.828 Q2046.89 209.365 2048.97 209.365 Q2054.6 209.365 2057.37 212.282 Q2060.15 215.198 2060.15 221.124 Z\" fill=\"#000000\" fill-rule=\"evenodd\" fill-opacity=\"1\" /><path clip-path=\"url(#clip870)\" d=\"M2068.92 199.897 L2073.18 199.897 L2073.18 235.916 L2068.92 235.916 L2068.92 199.897 Z\" fill=\"#000000\" fill-rule=\"evenodd\" fill-opacity=\"1\" /><path clip-path=\"url(#clip870)\" d=\"M2093.88 222.883 Q2088.72 222.883 2086.73 224.064 Q2084.73 225.244 2084.73 228.092 Q2084.73 230.36 2086.22 231.703 Q2087.72 233.022 2090.29 233.022 Q2093.83 233.022 2095.96 230.522 Q2098.11 227.999 2098.11 223.832 L2098.11 222.883 L2093.88 222.883 M2102.37 221.124 L2102.37 235.916 L2098.11 235.916 L2098.11 231.981 Q2096.66 234.342 2094.48 235.476 Q2092.3 236.587 2089.16 236.587 Q2085.17 236.587 2082.81 234.365 Q2080.48 232.119 2080.48 228.369 Q2080.48 223.994 2083.39 221.772 Q2086.33 219.55 2092.14 219.55 L2098.11 219.55 L2098.11 219.133 Q2098.11 216.194 2096.17 214.596 Q2094.25 212.976 2090.75 212.976 Q2088.53 212.976 2086.42 213.508 Q2084.32 214.041 2082.37 215.106 L2082.37 211.17 Q2084.71 210.268 2086.91 209.828 Q2089.11 209.365 2091.19 209.365 Q2096.82 209.365 2099.6 212.282 Q2102.37 215.198 2102.37 221.124 Z\" fill=\"#000000\" fill-rule=\"evenodd\" fill-opacity=\"1\" /><path clip-path=\"url(#clip870)\" d=\"M2132.7 220.268 L2132.7 235.916 L2128.44 235.916 L2128.44 220.407 Q2128.44 216.726 2127 214.897 Q2125.57 213.069 2122.7 213.069 Q2119.25 213.069 2117.26 215.268 Q2115.27 217.467 2115.27 221.263 L2115.27 235.916 L2110.98 235.916 L2110.98 209.99 L2115.27 209.99 L2115.27 214.018 Q2116.79 211.68 2118.85 210.522 Q2120.94 209.365 2123.65 209.365 Q2128.11 209.365 2130.41 212.143 Q2132.7 214.897 2132.7 220.268 Z\" fill=\"#000000\" fill-rule=\"evenodd\" fill-opacity=\"1\" /><path clip-path=\"url(#clip870)\" d=\"M2159.85 210.985 L2159.85 214.967 Q2158.04 213.971 2156.22 213.485 Q2154.41 212.976 2152.56 212.976 Q2148.42 212.976 2146.12 215.615 Q2143.83 218.231 2143.83 222.976 Q2143.83 227.721 2146.12 230.36 Q2148.42 232.976 2152.56 232.976 Q2154.41 232.976 2156.22 232.49 Q2158.04 231.981 2159.85 230.985 L2159.85 234.92 Q2158.07 235.754 2156.15 236.17 Q2154.25 236.587 2152.1 236.587 Q2146.24 236.587 2142.79 232.906 Q2139.34 229.226 2139.34 222.976 Q2139.34 216.633 2142.81 212.999 Q2146.31 209.365 2152.37 209.365 Q2154.34 209.365 2156.22 209.782 Q2158.09 210.175 2159.85 210.985 Z\" fill=\"#000000\" fill-rule=\"evenodd\" fill-opacity=\"1\" /><path clip-path=\"url(#clip870)\" d=\"M2167.26 209.99 L2171.52 209.99 L2171.52 235.916 L2167.26 235.916 L2167.26 209.99 M2167.26 199.897 L2171.52 199.897 L2171.52 205.291 L2167.26 205.291 L2167.26 199.897 Z\" fill=\"#000000\" fill-rule=\"evenodd\" fill-opacity=\"1\" /><path clip-path=\"url(#clip870)\" d=\"M2201.98 220.268 L2201.98 235.916 L2197.72 235.916 L2197.72 220.407 Q2197.72 216.726 2196.29 214.897 Q2194.85 213.069 2191.98 213.069 Q2188.53 213.069 2186.54 215.268 Q2184.55 217.467 2184.55 221.263 L2184.55 235.916 L2180.27 235.916 L2180.27 209.99 L2184.55 209.99 L2184.55 214.018 Q2186.08 211.68 2188.14 210.522 Q2190.22 209.365 2192.93 209.365 Q2197.4 209.365 2199.69 212.143 Q2201.98 214.897 2201.98 220.268 Z\" fill=\"#000000\" fill-rule=\"evenodd\" fill-opacity=\"1\" /><path clip-path=\"url(#clip870)\" d=\"M2227.53 222.652 Q2227.53 218.022 2225.61 215.476 Q2223.72 212.93 2220.27 212.93 Q2216.84 212.93 2214.92 215.476 Q2213.02 218.022 2213.02 222.652 Q2213.02 227.258 2214.92 229.805 Q2216.84 232.351 2220.27 232.351 Q2223.72 232.351 2225.61 229.805 Q2227.53 227.258 2227.53 222.652 M2231.79 232.698 Q2231.79 239.318 2228.85 242.536 Q2225.91 245.777 2219.85 245.777 Q2217.6 245.777 2215.61 245.43 Q2213.62 245.105 2211.75 244.411 L2211.75 240.268 Q2213.62 241.286 2215.45 241.772 Q2217.28 242.258 2219.18 242.258 Q2223.37 242.258 2225.45 240.059 Q2227.53 237.883 2227.53 233.462 L2227.53 231.356 Q2226.22 233.647 2224.16 234.781 Q2222.1 235.916 2219.22 235.916 Q2214.46 235.916 2211.54 232.281 Q2208.62 228.647 2208.62 222.652 Q2208.62 216.633 2211.54 212.999 Q2214.46 209.365 2219.22 209.365 Q2222.1 209.365 2224.16 210.499 Q2226.22 211.633 2227.53 213.925 L2227.53 209.99 L2231.79 209.99 L2231.79 232.698 Z\" fill=\"#000000\" fill-rule=\"evenodd\" fill-opacity=\"1\" /></svg>\n"
     },
     "execution_count": 134,
     "metadata": {},
     "output_type": "execute_result"
    }
   ],
   "source": [
    "using Plots\n",
    "plot([sum(x_1[:,:,:,i]) for i=1:24], label=\"Rebalancing\", xlabel=\"Hour\", ylabel=\"Number of rebalancing\", title=\"Number of rebalancing per hour\")"
   ]
  },
  {
   "cell_type": "code",
   "execution_count": 144,
   "metadata": {},
   "outputs": [
    {
     "data": {
      "text/plain": [
       "export_results (generic function with 1 method)"
      ]
     },
     "execution_count": 144,
     "metadata": {},
     "output_type": "execute_result"
    }
   ],
   "source": [
    "function export_results(z)\n",
    "    z_nonzero = Tuple.(findall(x -> x != 0, z))[:,:]\n",
    "    new=zeros(length(z_nonzero),5)\n",
    "    for i=1:length(z_nonzero)\n",
    "        indices=collect(z_nonzero[i])\n",
    "        new[i,1:4]=indices # indices of rebalancing\n",
    "        new[i,5]=z[indices] # nb of bikes\n",
    "    end\n",
    "    return new\n",
    "end"
   ]
  },
  {
   "cell_type": "code",
   "execution_count": 145,
   "metadata": {},
   "outputs": [
    {
     "data": {
      "text/plain": [
       "print_results (generic function with 1 method)"
      ]
     },
     "execution_count": 145,
     "metadata": {},
     "output_type": "execute_result"
    }
   ],
   "source": [
    "function print_results(results)\n",
    "    for i=1:length(results)\n",
    "        println(\"Rebalancing from station \",results[i,1], \" to \", results[i,2], \"by van \", results[i,3], \" at hour \", results[i,4],\" of \", results[i,5],\" bikes \")\n",
    "    end\n",
    "end"
   ]
  },
  {
   "cell_type": "code",
   "execution_count": 146,
   "metadata": {},
   "outputs": [
    {
     "data": {
      "text/plain": [
       "4-element Vector{Float64}:\n",
       "  0.0\n",
       "  0.0\n",
       "  0.0\n",
       " -0.0"
      ]
     },
     "execution_count": 146,
     "metadata": {},
     "output_type": "execute_result"
    }
   ],
   "source": [
    "z_1_nonzero = Tuple.(findall(x -> x != 0, z_1))[:,:]\n",
    "z_1[collect(z_1_nonzero[1])]"
   ]
  },
  {
   "cell_type": "code",
   "execution_count": 143,
   "metadata": {},
   "outputs": [
    {
     "name": "stdout",
     "output_type": "stream",
     "text": [
      "Rebalancing from station 11.0 to 22.0by van 4.0 at hour 1.0 of 0.0 bikes \n",
      "Rebalancing from station 3.0 to 26.0by van 3.0 at hour 7.0 of 0.0 bikes \n",
      "Rebalancing from station 3.0 to 27.0by van 5.0 at hour 7.0 of 0.0 bikes \n",
      "Rebalancing from station 49.0 to 45.0by van 4.0 at hour 8.0 of 0.0 bikes \n",
      "Rebalancing from station 43.0 to 24.0by van 2.0 at hour 9.0 of 0.0 bikes \n",
      "Rebalancing from station 2.0 to 25.0by van 1.0 at hour 10.0 of 0.0 bikes \n",
      "Rebalancing from station 49.0 to 23.0by van 4.0 at hour 10.0 of 0.0 bikes \n",
      "Rebalancing from station 33.0 to 2.0by van 1.0 at hour 13.0 of 0.0 bikes \n",
      "Rebalancing from station 25.0 to 2.0by van 4.0 at hour 13.0 of 0.0 bikes \n",
      "Rebalancing from station 2.0 to 33.0by van 1.0 at hour 14.0 of 0.0 bikes \n",
      "Rebalancing from station 4.0 to 31.0by van 2.0 at hour 14.0 of 0.0 bikes \n",
      "Rebalancing from station 2.0 to 33.0by van 5.0 at hour 14.0 of 0.0 bikes \n",
      "Rebalancing from station 33.0 to 15.0by van 2.0 at hour 15.0 of 0.0 bikes \n",
      "Rebalancing from station 42.0 to 4.0by van 3.0 at hour 15.0 of 0.0 bikes \n",
      "Rebalancing from station 33.0 to 25.0by van 4.0 at hour 15.0 of 0.0 bikes \n",
      "Rebalancing from station 9.0 to 32.0by van 2.0 at hour 16.0 of 0.0 bikes \n",
      "Rebalancing from station 18.0 to 25.0by van 1.0 at hour 17.0 of 0.0 bikes \n",
      "Rebalancing from station 17.0 to 3.0by van 2.0 at hour 17.0 of 0.0 bikes \n",
      "Rebalancing from station 29.0 to 3.0by van 3.0 at hour 17.0 of 0.0 bikes \n",
      "Rebalancing from station 19.0 to 6.0by van 4.0 at hour 17.0 of 0.0 bikes \n",
      "Rebalancing from station 10.0 to 14.0by van 5.0 at hour 17.0 of 0.0 bikes \n",
      "Rebalancing from station 4.0 to 31.0by van 2.0 at hour 18.0 of 0.0 bikes \n",
      "Rebalancing from station 4.0 to 9.0by van 3.0 at hour 18.0 of 0.0 bikes \n",
      "Rebalancing from station 6.0 to 19.0by van 4.0 at hour 18.0 of 0.0 bikes \n",
      "Rebalancing from station 4.0 to 10.0by van 5.0 at hour 18.0 of 0.0 bikes \n",
      "Rebalancing from station 9.0 to 4.0by van 1.0 at hour 19.0 of 0.0 bikes \n",
      "Rebalancing from station 9.0 to 32.0by van 2.0 at hour 19.0 of 0.0 bikes \n",
      "Rebalancing from station 2.0 to 33.0by van 3.0 at hour 19.0 of 0.0 bikes \n",
      "Rebalancing from station 9.0 to 4.0by van 4.0 at hour 19.0 of 0.0 bikes \n",
      "Rebalancing from station 31.0 to 4.0by van 5.0 at hour 19.0 of 0.0 bikes \n",
      "Rebalancing from station 6.0 to 5.0by van 1.0 at hour 20.0 of 0.0 bikes \n",
      "Rebalancing from station 32.0 to 9.0by van 3.0 at hour 20.0 of 0.0 bikes \n",
      "Rebalancing from station 50.0 to 2.0by van 5.0 at hour 20.0 of 0.0 bikes \n",
      "Rebalancing from station 33.0 to 2.0by van 4.0 at hour 21.0 of 0.0 bikes \n",
      "Rebalancing from station 2.0 to 33.0by van 2.0 at hour 22.0 of 0.0 bikes \n",
      "Rebalancing from station 32.0 to 9.0by van 4.0 at hour 22.0 of 0.0 bikes \n",
      "Rebalancing from station 25.0 to 33.0by van 5.0 at hour 23.0 of 0.0 bikes \n",
      "Rebalancing from station 9.0 to 32.0by van 1.0 at hour 24.0 of 0.0 bikes \n",
      "Rebalancing from station 26.0 to 29.0by van 4.0 at hour 24.0 of 0.0 bikes \n"
     ]
    },
    {
     "ename": "LoadError",
     "evalue": "BoundsError: attempt to access 39×5 Matrix{Float64} at index [40, 1]",
     "output_type": "error",
     "traceback": [
      "BoundsError: attempt to access 39×5 Matrix{Float64} at index [40, 1]",
      "",
      "Stacktrace:",
      " [1] getindex",
      "   @ ./array.jl:862 [inlined]",
      " [2] print_results(results::Matrix{Float64})",
      "   @ Main ./In[141]:3",
      " [3] top-level scope",
      "   @ In[143]:2",
      " [4] eval",
      "   @ ./boot.jl:373 [inlined]",
      " [5] include_string(mapexpr::typeof(REPL.softscope), mod::Module, code::String, filename::String)",
      "   @ Base ./loading.jl:1196"
     ]
    }
   ],
   "source": [
    "res_1=export_results(z_1)\n",
    "print_results(res_1)"
   ]
  },
  {
   "cell_type": "markdown",
   "metadata": {},
   "source": [
    "## Dummy data"
   ]
  },
  {
   "cell_type": "code",
   "execution_count": 17,
   "metadata": {},
   "outputs": [],
   "source": [
    "# capacity of stations\n",
    "C = [10,10,10,10];\n",
    "\n",
    "# d of stations\n",
    "d = [[[0,10,0,5] [0,0,0,0] [0,5,0,0] [20,0,0,0]];;;\n",
    "    [[0,0,0,0] [0,0,0,0] [30,0,0,0] [0,10,0,0]];;;\n",
    "    [[0,0,0,5] [0,0,15,0] [0,0,0,0] [0,0,0,0]]];\n",
    "\n",
    "# proximity of stations\n",
    "X = [[0,1,1,1] [1,0,1,1] [1,1,0,1] [1,1,1,0]];\n",
    "\n",
    "# capacity of stations\n",
    "y0 = [6,2,4,3];\n",
    "\n",
    "# number of vans\n",
    "K = 2;\n",
    "\n",
    "# capacity of vans\n",
    "S = 20;\n",
    "\n",
    "# distance of stations\n",
    "D = [[0,0.5,1,0.5] [2,0,0.5,1] [0.5,1,0,0.5] [1,2,1,0]];\n",
    "\n",
    "# number of stations\n",
    "n_stations = 4;\n",
    "n_hours=3;"
   ]
  }
 ],
 "metadata": {
  "kernelspec": {
   "display_name": "Julia 1.7.3",
   "language": "julia",
   "name": "julia-1.7"
  },
  "language_info": {
   "file_extension": ".jl",
   "mimetype": "application/julia",
   "name": "julia",
   "version": "1.7.3"
  },
  "orig_nbformat": 4,
  "vscode": {
   "interpreter": {
    "hash": "32466a21a07a3c6fbc499a46ef5738207d953e31ba20ebfadb807195852ba7c1"
   }
  }
 },
 "nbformat": 4,
 "nbformat_minor": 2
}
