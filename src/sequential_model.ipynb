{
 "cells": [
  {
   "cell_type": "code",
   "execution_count": 1,
   "metadata": {},
   "outputs": [],
   "source": [
    "using CSV, Tables, LinearAlgebra, Random, Gurobi, JuMP, Statistics, DataFrames, JLD2"
   ]
  },
  {
   "cell_type": "markdown",
   "metadata": {},
   "source": [
    "# Import parameters"
   ]
  },
  {
   "cell_type": "code",
   "execution_count": 6,
   "metadata": {},
   "outputs": [],
   "source": [
    "# Van information\n",
    "# Number of vans\n",
    "K=2\n",
    "# Capacity of vans\n",
    "S=10\n",
    "\n",
    "# Station information\n",
    "stations_info = CSV.read(\"../data/stations/station_information.csv\", DataFrame);\n",
    "\n",
    "# Number of stations\n",
    "n_stations = size(stations_info, 1);\n",
    "n_stations_test = 100\n",
    "\n",
    "# Capacity\n",
    "C = stations_info[!, :capacity];\n",
    "C_test=C[1:n_stations_test,:];\n",
    "\n",
    "# Initial state \n",
    "y0 = floor.(C/2);\n",
    "y0_test=y0[1:n_stations_test];\n",
    "\n",
    "# Distances\n",
    "D = load(\"../data/parameters/distances.jld2\", \"D\");\n",
    "d_test=D[1:n_stations_test,1:n_stations_test];\n",
    "\n",
    "# Feasibility\n",
    "X = load(\"../data/parameters/feasibility.jld2\", \"X\");\n",
    "X_test=X[1:n_stations_test,1:n_stations_test];\n",
    "\n",
    "# Demand\n",
    "demand = load(\"../data/parameters/202210-demand.jld2\", \"demand\");\n",
    "d_test=demand[1:n_stations_test,1:n_stations_test,:];\n",
    "\n",
    "# Demand over one day\n",
    "demand_1day = demand[:,:,1:24];\n",
    "demand_1day_test = d_test[:, :, 1:24];"
   ]
  },
  {
   "cell_type": "code",
   "execution_count": 16,
   "metadata": {},
   "outputs": [],
   "source": [
    "# create empty list of size n_stations_test\n",
    "stations_score = zeros(n_stations)\n",
    "# for each station i, sum the number of bikes that gets in an out ot the station over the month\n",
    "for i in 1:n_stations\n",
    "    stations_score[i] += sum(demand_1day[i,:,:]) + sum(demand_1day[:,i,:])\n",
    "end\n",
    "stations_score;\n",
    "\n",
    "# sort stations by score\n",
    "stations_score_sorted = sortperm(stations_score, rev=true);\n",
    "\n",
    "# reorder index of columns and rows of demand according to the sorted stations\n",
    "demand_1day_sorted = demand_1day[stations_score_sorted, stations_score_sorted, :];\n",
    "# reorder index of capacity according to the sorted stations\n",
    "C_sorted = C[stations_score_sorted,:];\n",
    "# reorder index of initial state according to the sorted stations\n",
    "y0_sorted = y0[stations_score_sorted,:];\n",
    "# reorder index of distances according to the sorted stations\n",
    "D_sorted = D[stations_score_sorted, stations_score_sorted];\n",
    "# reorder index of feasibility according to the sorted stations\n",
    "X_sorted = X[stations_score_sorted, stations_score_sorted];\n",
    "\n",
    "# Let's reduce the number of stations to reduce complexity\n",
    "nb=200\n",
    "demand_1day_filtered = demand_1day_sorted[1:nb, 1:nb, :];\n",
    "C_filtered = C_sorted[1:nb,:];\n",
    "y0_filtered = y0_sorted[1:nb,:];\n",
    "D_filtered = D_sorted[1:nb, 1:nb];\n",
    "X_filtered = X_sorted[1:nb, 1:nb];"
   ]
  },
  {
   "cell_type": "markdown",
   "metadata": {},
   "source": [
    "# Model"
   ]
  },
  {
   "cell_type": "code",
   "execution_count": 18,
   "metadata": {},
   "outputs": [
    {
     "data": {
      "text/plain": [
       "first_model (generic function with 1 method)"
      ]
     },
     "execution_count": 18,
     "metadata": {},
     "output_type": "execute_result"
    }
   ],
   "source": [
    "function first_model(C,D,X,y0,K,S,d)\n",
    "    model = Model(Gurobi.Optimizer)\n",
    "    set_optimizer_attribute(model, \"OutputFlag\", 0)\n",
    "    set_optimizer_attribute(model, \"TimeLimit\", 100)\n",
    "\n",
    "    n_stations, _, n_hours = size(d)\n",
    "    M=30\n",
    "    lambda=0.01 # to be tuned\n",
    "    n_rebal_stations = 50 # to be tuned\n",
    "    # Decision variables\n",
    "    @variable(model, x[1:n_rebal_stations, 1:n_rebal_stations, 1:K, 1:n_hours], Bin)\n",
    "    @variable(model, 0 <= z[1:n_rebal_stations, 1:n_rebal_stations, 1:K, 1:n_hours], Int)\n",
    "    @variable(model, 0 <= y[1:n_stations, 1:n_hours]) # Int by definition of the constraints\n",
    "    @variable(model, 0 <= w[1:n_stations, 1:n_stations, 1:n_hours], Int)\n",
    "    @variable(model, 0 <= u[1:n_stations, 1:n_stations, 1:n_hours])\n",
    "\n",
    "    # Add constraints:\n",
    "    # Stations capacity\n",
    "    @constraint(model, [i in 1:n_stations, t in 1:n_hours], y[i,t] <= C[i])\n",
    "    # No rebalancing at the same station\n",
    "    @constraint(model, [i in 1:n_rebal_stations, k in 1:K, t in 1:n_hours], x[i,i,k,t] == 0)\n",
    "    # Flow balance \n",
    "    @constraint(model, [i in 1:n_rebal_stations, t in 2:n_hours], y[i,t] - y[i,t-1] == sum(w[j,i,t] for j in 1:n_stations)-sum(w[i,j,t] for j in 1:n_stations)-sum(z[i,j,k,t] for j in 1:n_rebal_stations, k in 1:K)+sum(z[j,i,k,t] for j in 1:n_rebal_stations, k in 1:K))\n",
    "    @constraint(model, [i in n_rebal_stations+1:n_stations, t in 2:n_hours], y[i,t] - y[i,t-1] == sum(w[j,i,t] for j in 1:n_stations)-sum(w[i,j,t] for j in 1:n_stations))\n",
    "    # Flow balance for the first hour \n",
    "    @constraint(model, [i in 1:n_rebal_stations], y[i,1] - y0[i] == sum(w[j,i,1] for j in 1:n_stations)-sum(w[i,j,1] for j in 1:n_stations)-sum(z[i,j,k,1] for j in 1:n_rebal_stations, k in 1:K)+sum(z[j,i,k,1] for j in 1:n_rebal_stations, k in 1:K))\n",
    "    @constraint(model, [i in n_rebal_stations+1:n_stations], y[i,1] - y0[i] == sum(w[j,i,1] for j in 1:n_stations)-sum(w[i,j,1] for j in 1:n_stations))\n",
    "    # Vans capacity\n",
    "    @constraint(model, [i in 1:n_rebal_stations, j in 1:n_rebal_stations, k in 1:K, t in 1:n_hours], z[i,j,k,t] <= S)\n",
    "    # Users travel availability\n",
    "    @constraint(model, [i in 1:n_stations, t in 1:n_hours], -y[i,t] <= sum(w[j,i,t] for j in 1:n_stations) - sum(w[i,j,t] for j in 1:n_stations))\n",
    "    @constraint(model, [i in 1:n_stations, t in 1:n_hours], sum(w[j,i,t] for j in 1:n_stations) - sum(w[i,j,t] for j in 1:n_stations)<= C[i] - y[i,t])\n",
    "    # Max 1 rebalancing per hour per van\n",
    "    @constraint(model, [k in 1:K, t in 1:n_hours], sum(x[i,j,k,t] for i in 1:n_rebal_stations, j in 1:n_rebal_stations) <= 1)\n",
    "    # Rebalancing feasibility\n",
    "    @constraint(model, [i in 1:n_rebal_stations, j in 1:n_rebal_stations, k in 1:K, t in 1:n_hours], z[i,j,k,t] <= M*x[i,j,k,t])\n",
    "    @constraint(model, [i in 1:n_rebal_stations, j in 1:n_rebal_stations, k in 1:K, t in 1:n_hours], x[i,j,k,t] <= X[i,j])\n",
    "    # Vans must travel sequentially\n",
    "    @constraint(model, [i in 1:n_rebal_stations,l in 1:n_rebal_stations, k in 1:K, t in 2:n_hours], sum(x[i,j,k,t] for j in 1:n_rebal_stations) <= x[l,i,k,t-1])\n",
    "    # Users travel is inferior to the demand and definition of u\n",
    "    @constraint(model, [i in 1:n_stations, j in 1:n_stations, t in 1:n_hours], u[i,j,t] >= d[i,j,t] - w[i,j,t])\n",
    "    @constraint(model, [i in 1:n_stations, j in 1:n_stations, t in 1:n_hours], d[i,j,t] >= w[i,j,t])\n",
    "\n",
    "    # Set objective\n",
    "    @objective(model, Min, sum(u[i,j,t] for i in 1:n_stations, j in 1:n_stations, t in 1:n_hours)+lambda*sum(D[i,j]*x[i,j,k,t] for i in 1:n_rebal_stations, j in 1:n_rebal_stations, k in 1:K, t in 1:n_hours))\n",
    "    \n",
    "    # Solve the model\n",
    "    optimize!(model)\n",
    "    \n",
    "    # Print the solution\n",
    "    println(\"Objective value: \", objective_value(model))\n",
    "    return value.(x), value.(w), value.(u), value.(y), value.(z), objective_value(model)\n",
    "end"
   ]
  },
  {
   "cell_type": "code",
   "execution_count": 19,
   "metadata": {},
   "outputs": [
    {
     "name": "stdout",
     "output_type": "stream",
     "text": [
      "Set parameter Username\n",
      "Academic license - for non-commercial use only - expires 2023-08-15\n",
      "Set parameter TimeLimit to value 100\n",
      "Objective value: 987.0067295485362\n"
     ]
    }
   ],
   "source": [
    "# x,w,u,y,z,obj=first_model(C,D,X,y0,K,S,demand_1day);\n",
    "x,w,u,y,z,obj=first_model(C_filtered,D_filtered,X_filtered,y0_filtered,K,S,demand_1day_filtered);"
   ]
  },
  {
   "cell_type": "code",
   "execution_count": 151,
   "metadata": {},
   "outputs": [
    {
     "data": {
      "text/plain": [
       "11.0"
      ]
     },
     "execution_count": 151,
     "metadata": {},
     "output_type": "execute_result"
    }
   ],
   "source": [
    "sum(x)"
   ]
  },
  {
   "cell_type": "code",
   "execution_count": 148,
   "metadata": {},
   "outputs": [
    {
     "data": {
      "text/plain": [
       "449-element Vector{Float64}:\n",
       "  2.0\n",
       "  5.0\n",
       "  2.0\n",
       "  3.0\n",
       "  1.0\n",
       "  5.0\n",
       " 56.0\n",
       " 18.0\n",
       "  0.0\n",
       "  0.0\n",
       "  1.0\n",
       "  1.0\n",
       "  3.0\n",
       "  ⋮\n",
       "  0.0\n",
       "  0.0\n",
       "  0.0\n",
       "  0.0\n",
       "  0.0\n",
       "  0.0\n",
       "  0.0\n",
       "  5.0\n",
       "  0.0\n",
       "  0.0\n",
       "  0.0\n",
       "  0.0"
      ]
     },
     "execution_count": 148,
     "metadata": {},
     "output_type": "execute_result"
    }
   ],
   "source": [
    "sum(sum(demand_1day-w, dims=2),dims=3) |> vec"
   ]
  },
  {
   "cell_type": "code",
   "execution_count": 147,
   "metadata": {},
   "outputs": [
    {
     "data": {
      "text/plain": [
       "449-element Vector{Int64}:\n",
       "   9\n",
       "  10\n",
       "  30\n",
       "  31\n",
       "  35\n",
       "  37\n",
       "  41\n",
       "  42\n",
       "  43\n",
       "  44\n",
       "  52\n",
       "  54\n",
       "  57\n",
       "   ⋮\n",
       "   8\n",
       "  46\n",
       "  87\n",
       "  48\n",
       " 420\n",
       " 296\n",
       " 153\n",
       "  28\n",
       "  59\n",
       "  66\n",
       "  60\n",
       "   7"
      ]
     },
     "execution_count": 147,
     "metadata": {},
     "output_type": "execute_result"
    }
   ],
   "source": [
    "# total outgoing demand per day for each station\n",
    "mostsortperm(sum(sum(demand_1day-w, dims=2),dims=3) |> vec)\n"
   ]
  }
 ],
 "metadata": {
  "kernelspec": {
   "display_name": "Julia 1.8.0",
   "language": "julia",
   "name": "julia-1.8"
  },
  "language_info": {
   "file_extension": ".jl",
   "mimetype": "application/julia",
   "name": "julia",
   "version": "1.8.0"
  },
  "orig_nbformat": 4,
  "vscode": {
   "interpreter": {
    "hash": "32466a21a07a3c6fbc499a46ef5738207d953e31ba20ebfadb807195852ba7c1"
   }
  }
 },
 "nbformat": 4,
 "nbformat_minor": 2
}
