{
 "cells": [
  {
   "cell_type": "code",
   "execution_count": 1,
   "metadata": {},
   "outputs": [],
   "source": [
    "using DataFrames, CSV, Distances\n",
    "\n",
    "station_information = CSV.read(\"../../data/stations/station_information.csv\", DataFrame);"
   ]
  },
  {
   "cell_type": "markdown",
   "metadata": {},
   "source": [
    "# Distance"
   ]
  },
  {
   "cell_type": "code",
   "execution_count": 2,
   "metadata": {},
   "outputs": [],
   "source": [
    "n_stations = size(station_information, 1)\n",
    "D = zeros(n_stations, n_stations)\n",
    "\n",
    "for i in 1:n_stations\n",
    "    for j in 1:n_stations\n",
    "        D[i, j] = haversine([station_information[i, :lon], station_information[i, :lat]], [station_information[j, :lon], station_information[j, :lat]])\n",
    "    end\n",
    "end\n",
    "D = D ./ 1000; # convert to km"
   ]
  },
  {
   "cell_type": "code",
   "execution_count": 3,
   "metadata": {},
   "outputs": [],
   "source": [
    "using JLD2\n",
    "jldsave(\"../../data/parameters/distances.jld2\", true; D)"
   ]
  },
  {
   "cell_type": "markdown",
   "metadata": {},
   "source": [
    "# Feasibility"
   ]
  },
  {
   "cell_type": "code",
   "execution_count": 4,
   "metadata": {},
   "outputs": [],
   "source": [
    "threshold=0.7\n",
    "X = zeros(n_stations, n_stations)\n",
    "for i=1:n_stations\n",
    "    for j=1:i-1\n",
    "        X[i,j]=(D[i,j]<threshold)\n",
    "    end\n",
    "    for j=i+1:n_stations\n",
    "        X[i,j]=(D[i,j]<threshold)\n",
    "    end\n",
    "end\n",
    "\n",
    "\n",
    "# threshold=0.01\n",
    "# X=Array{Float64}(undef,n_stations,n_stations)\n",
    "# for i=1:n_stations\n",
    "#     for j=1:n_stations\n",
    "#         if D[i,j]<threshold\n",
    "#             X[i,j]=1\n",
    "#         else\n",
    "#             X[i,j]=0\n",
    "#         end\n",
    "#     end\n",
    "# end"
   ]
  },
  {
   "cell_type": "code",
   "execution_count": 5,
   "metadata": {},
   "outputs": [
    {
     "data": {
      "text/plain": [
       "5.233853006681515"
      ]
     },
     "execution_count": 5,
     "metadata": {},
     "output_type": "execute_result"
    }
   ],
   "source": [
    "using Statistics\n",
    "mean(sum(X, dims=2))"
   ]
  },
  {
   "cell_type": "code",
   "execution_count": 6,
   "metadata": {},
   "outputs": [],
   "source": [
    "jldsave(\"../../data/parameters/feasibility.jld2\", true; X)"
   ]
  },
  {
   "cell_type": "code",
   "execution_count": null,
   "metadata": {},
   "outputs": [],
   "source": []
  }
 ],
 "metadata": {
  "kernelspec": {
   "display_name": "Julia 1.7.3",
   "language": "julia",
   "name": "julia-1.7"
  },
  "language_info": {
   "file_extension": ".jl",
   "mimetype": "application/julia",
   "name": "julia",
   "version": "1.7.3"
  },
  "orig_nbformat": 4,
  "vscode": {
   "interpreter": {
    "hash": "41a3af9e8a224a38c30b28ede46ccf9b389caf1bbeda9ceffb5dc9a9d4076ee6"
   }
  }
 },
 "nbformat": 4,
 "nbformat_minor": 2
}
