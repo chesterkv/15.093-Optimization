{
 "cells": [
  {
   "cell_type": "code",
   "execution_count": 132,
   "metadata": {},
   "outputs": [],
   "source": [
    "using DataFrames, CSV, Dates, JLD2\n",
    "\n",
    "trips = CSV.read(\"../../data/trips/202209-bluebikes-tripdata.csv\", DataFrame);\n",
    "station_information = CSV.read(\"../../data/stations/station_information.csv\", DataFrame);"
   ]
  },
  {
   "cell_type": "markdown",
   "metadata": {},
   "source": [
    "# Trips "
   ]
  },
  {
   "cell_type": "code",
   "execution_count": 133,
   "metadata": {},
   "outputs": [],
   "source": [
    "# find unique station_id\n",
    "station_ids = unique(station_information[:, :station_id]);\n",
    "nb_stations = length(station_ids);\n",
    "stations_match = Dict(zip(station_ids, 1:nb_stations));\n",
    "\n",
    "# eliminate trips with station_id not in station_ids\n",
    "trips = trips[in.(trips[:, :\"start station id\"], [Set(station_ids)]), :];\n",
    "trips = trips[in.(trips[:, :\"end station id\"], [Set(station_ids)]), :];\n",
    "\n",
    "# convert starttime and stoptime to DateTime\n",
    "trips[!, :starttime] = DateTime.(trips[!, :starttime], \"yyyy-mm-dd HH:MM:SS.ssss\");\n",
    "trips[!, :stoptime] = DateTime.(trips[!, :stoptime], \"yyyy-mm-dd HH:MM:SS.ssss\");\n",
    "\n",
    "# extract day and hour from starttime and stoptime\n",
    "trips[!, :startday] = Dates.day.(trips[!, :starttime]);\n",
    "trips[!, :starthour] = Dates.hour.(trips[!, :starttime]);\n",
    "trips[!, :stopday] = Dates.day.(trips[!, :stoptime]);\n",
    "trips[!, :stophour] = Dates.hour.(trips[!, :stoptime]);\n",
    "\n",
    "# create matrix of hourly trips between stations_match\n",
    "nb_days = maximum(trips[:, :startday]);\n",
    "trips_matrix = zeros(Int, nb_stations, nb_stations, nb_days*24);\n",
    "for i in 1:size(trips, 1)\n",
    "    trips_matrix[stations_match[trips[i, :\"start station id\"]], stations_match[trips[i, :\"end station id\"]], (trips[i, :startday]-1)*24+trips[i, :starthour]+1] += 1\n",
    "end"
   ]
  },
  {
   "cell_type": "code",
   "execution_count": 134,
   "metadata": {},
   "outputs": [],
   "source": [
    "# jldsave(\"../../data/parameters/202209-trips-matrix.jld2\", true; trips_matrix)"
   ]
  },
  {
   "cell_type": "code",
   "execution_count": 135,
   "metadata": {},
   "outputs": [],
   "source": [
    "trips_matrix = load(\"../../data/parameters/202210-trips-matrix.jld2\", \"trips_matrix\");"
   ]
  },
  {
   "cell_type": "markdown",
   "metadata": {},
   "source": [
    "# Capacity"
   ]
  },
  {
   "cell_type": "code",
   "execution_count": 136,
   "metadata": {},
   "outputs": [],
   "source": [
    "capacity = station_information[:, :capacity];"
   ]
  },
  {
   "cell_type": "markdown",
   "metadata": {},
   "source": [
    "# Demand"
   ]
  },
  {
   "cell_type": "code",
   "execution_count": 137,
   "metadata": {},
   "outputs": [
    {
     "data": {
      "text/plain": [
       "estimate_demand (generic function with 1 method)"
      ]
     },
     "execution_count": 137,
     "metadata": {},
     "output_type": "execute_result"
    }
   ],
   "source": [
    "function estimate_demand(trips_matrix)\n",
    "    # if number of trips is more than 75% of capacity, corresponding number is quadrupled\n",
    "    nb_stations, _, nb_hours = size(trips_matrix)\n",
    "    demand = copy(trips_matrix)\n",
    "    for k in 1:nb_hours\n",
    "\n",
    "        # outgoing demand\n",
    "        for i in 1:nb_stations\n",
    "            if sum(trips_matrix[i, :, k]) > capacity[i]\n",
    "                total_outgoing = sum(trips_matrix[i, :, k])\n",
    "                for j in 1:nb_stations\n",
    "                    demand[i, j, k] += ceil(trips_matrix[i, j, k] - trips_matrix[i, j, k] * capacity[i]/total_outgoing)\n",
    "                end\n",
    "            end\n",
    "        end\n",
    "\n",
    "        # incoming demand\n",
    "        for j in 1:nb_stations\n",
    "            if sum(trips_matrix[:, j, k]) > capacity[j]\n",
    "                total_incoming = sum(trips_matrix[:, j, k])\n",
    "                for i in 1:nb_stations\n",
    "                    demand[i, j, k] += ceil(trips_matrix[i, j, k] - trips_matrix[i, j, k] * capacity[j]/total_incoming)\n",
    "                end\n",
    "            end\n",
    "        end\n",
    "    end\n",
    "    return demand\n",
    "end"
   ]
  },
  {
   "cell_type": "code",
   "execution_count": 138,
   "metadata": {},
   "outputs": [],
   "source": [
    "demand = estimate_demand(trips_matrix);"
   ]
  },
  {
   "cell_type": "code",
   "execution_count": 139,
   "metadata": {},
   "outputs": [],
   "source": [
    "jldsave(\"../../data/parameters/202210-demand.jld2\", true; demand)"
   ]
  }
 ],
 "metadata": {
  "kernelspec": {
   "display_name": "Julia 1.8.0",
   "language": "julia",
   "name": "julia-1.8"
  },
  "language_info": {
   "file_extension": ".jl",
   "mimetype": "application/julia",
   "name": "julia",
   "version": "1.8.0"
  },
  "orig_nbformat": 4
 },
 "nbformat": 4,
 "nbformat_minor": 2
}
