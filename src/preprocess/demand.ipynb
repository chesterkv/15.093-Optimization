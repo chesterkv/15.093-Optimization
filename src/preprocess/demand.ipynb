{
 "cells": [
  {
   "cell_type": "code",
   "execution_count": 6,
   "metadata": {},
   "outputs": [
    {
     "name": "stderr",
     "output_type": "stream",
     "text": [
      "\u001b[32m\u001b[1m   Resolving\u001b[22m\u001b[39m package versions...\n",
      "\u001b[32m\u001b[1m  No Changes\u001b[22m\u001b[39m to `~/.julia/environments/v1.7/Project.toml`\n",
      "\u001b[32m\u001b[1m  No Changes\u001b[22m\u001b[39m to `~/.julia/environments/v1.7/Manifest.toml`\n"
     ]
    }
   ],
   "source": [
    "import Pkg; Pkg.add(\"JLD2\")\n",
    "using DataFrames, CSV, Dates, JLD2\n",
    "\n",
    "trips = CSV.read(\"../../data/trips/202210-bluebikes-tripdata.csv\", DataFrame);\n",
    "station_information = CSV.read(\"../../data/stations/station_information.csv\", DataFrame);"
   ]
  },
  {
   "cell_type": "markdown",
   "metadata": {},
   "source": [
    "# Trips "
   ]
  },
  {
   "cell_type": "code",
   "execution_count": 7,
   "metadata": {},
   "outputs": [],
   "source": [
    "# find unique station_id\n",
    "station_ids = unique(station_information[:, :station_id]);\n",
    "nb_stations = length(station_ids);\n",
    "stations_match = Dict(zip(station_ids, 1:nb_stations));\n",
    "\n",
    "# eliminate trips with station_id not in station_ids\n",
    "trips = trips[in.(trips[:, :\"start station id\"], [Set(station_ids)]), :];\n",
    "trips = trips[in.(trips[:, :\"end station id\"], [Set(station_ids)]), :];\n",
    "\n",
    "# convert starttime and stoptime to DateTime\n",
    "trips[!, :starttime] = DateTime.(trips[!, :starttime], \"yyyy-mm-dd HH:MM:SS.ssss\");\n",
    "trips[!, :stoptime] = DateTime.(trips[!, :stoptime], \"yyyy-mm-dd HH:MM:SS.ssss\");\n",
    "\n",
    "# extract day and hour from starttime and stoptime\n",
    "trips[!, :startday] = Dates.day.(trips[!, :starttime]);\n",
    "trips[!, :starthour] = Dates.hour.(trips[!, :starttime]);\n",
    "trips[!, :stopday] = Dates.day.(trips[!, :stoptime]);\n",
    "trips[!, :stophour] = Dates.hour.(trips[!, :stoptime]);\n",
    "\n",
    "# create matrix of hourly trips between stations_match\n",
    "nb_days = maximum(trips[:, :startday]);\n",
    "trips_matrix = zeros(Int, nb_stations, nb_stations, nb_days*24);\n",
    "for i in 1:size(trips, 1)\n",
    "    trips_matrix[stations_match[trips[i, :\"start station id\"]], stations_match[trips[i, :\"end station id\"]], (trips[i, :startday]-1)*24+trips[i, :starthour]+1] += 1\n",
    "end"
   ]
  },
  {
   "cell_type": "code",
   "execution_count": 11,
   "metadata": {},
   "outputs": [],
   "source": [
    "jldsave(\"../../data/parameters/202210-trips-matrix.jld2\", true; trips_matrix)"
   ]
  },
  {
   "cell_type": "code",
   "execution_count": 12,
   "metadata": {},
   "outputs": [],
   "source": [
    "trips_matrix = load(\"../../data/parameters/202210-trips-matrix.jld2\", \"trips_matrix\");"
   ]
  },
  {
   "cell_type": "markdown",
   "metadata": {},
   "source": [
    "# Capacity"
   ]
  },
  {
   "cell_type": "code",
   "execution_count": 13,
   "metadata": {},
   "outputs": [],
   "source": [
    "capacity = station_information[:, :capacity];"
   ]
  },
  {
   "cell_type": "markdown",
   "metadata": {},
   "source": [
    "# Demand"
   ]
  },
  {
   "cell_type": "code",
   "execution_count": 14,
   "metadata": {},
   "outputs": [
    {
     "data": {
      "text/plain": [
       "estimate_demand (generic function with 1 method)"
      ]
     },
     "execution_count": 14,
     "metadata": {},
     "output_type": "execute_result"
    }
   ],
   "source": [
    "function estimate_demand(trips_matrix)\n",
    "    # if number of trips is more than 75% of capacity, corresponding number is quadrupled\n",
    "    nb_stations, _, nb_hours = size(trips_matrix)\n",
    "    demand = copy(trips_matrix)\n",
    "    for k in 1:nb_hours\n",
    "\n",
    "        # outgoing demand\n",
    "        for i in 1:nb_stations\n",
    "            if sum(trips_matrix[i, :, k]) > capacity[i]\n",
    "                total_outgoing = sum(trips_matrix[i, :, k])\n",
    "                for j in 1:nb_stations\n",
    "                    demand[i, j, k] += ceil(trips_matrix[i, j, k] - trips_matrix[i, j, k] * capacity[i]/total_outgoing)\n",
    "                end\n",
    "            end\n",
    "        end\n",
    "\n",
    "        # incoming demand\n",
    "        for j in 1:nb_stations\n",
    "            if sum(trips_matrix[:, j, k]) > capacity[j]\n",
    "                total_incoming = sum(trips_matrix[:, j, k])\n",
    "                for i in 1:nb_stations\n",
    "                    demand[i, j, k] += ceil(trips_matrix[i, j, k] - trips_matrix[i, j, k] * capacity[j]/total_incoming)\n",
    "                end\n",
    "            end\n",
    "        end\n",
    "    end\n",
    "    return demand\n",
    "end"
   ]
  },
  {
   "cell_type": "code",
   "execution_count": 15,
   "metadata": {},
   "outputs": [],
   "source": [
    "demand = estimate_demand(trips_matrix);"
   ]
  },
  {
   "cell_type": "code",
   "execution_count": 16,
   "metadata": {},
   "outputs": [],
   "source": [
    "jldsave(\"../../data/parameters/202210-demand.jld2\", true; demand)"
   ]
  },
  {
   "cell_type": "code",
   "execution_count": 20,
   "metadata": {},
   "outputs": [],
   "source": [
    "n_stations, _, nb_hours = size(demand)\n",
    "# create empty list of size n_stations_test\n",
    "stations_score = zeros(n_stations)\n",
    "# for each station i, sum the number of bikes that gets in an out ot the station over the month\n",
    "for i in 1:n_stations\n",
    "    stations_score[i] += sum(demand[i,:,:]) + sum(demand[:,i,:])\n",
    "end\n",
    "stations_score;"
   ]
  },
  {
   "cell_type": "code",
   "execution_count": 48,
   "metadata": {},
   "outputs": [],
   "source": [
    "# sort stations by score\n",
    "stations_score_sorted = sortperm(stations_score, rev=true);\n",
    "# keep only top 30 stations\n",
    "top30_stations = stations_score_sorted[1:30];\n",
    "\n",
    "# keep only top 50 stations\n",
    "top50_stations = stations_score_sorted[1:50];\n",
    "\n",
    "# keep only top 200 stations\n",
    "top200_stations = stations_score_sorted[1:200];"
   ]
  },
  {
   "cell_type": "code",
   "execution_count": 49,
   "metadata": {},
   "outputs": [
    {
     "data": {
      "text/plain": [
       "218"
      ]
     },
     "execution_count": 49,
     "metadata": {},
     "output_type": "execute_result"
    }
   ],
   "source": [
    "stations_score_sorted[200]"
   ]
  },
  {
   "cell_type": "code",
   "execution_count": 50,
   "metadata": {},
   "outputs": [
    {
     "data": {
      "text/plain": [
       "1298.0"
      ]
     },
     "execution_count": 50,
     "metadata": {},
     "output_type": "execute_result"
    }
   ],
   "source": [
    "stations_score[218]"
   ]
  },
  {
   "cell_type": "code",
   "execution_count": 51,
   "metadata": {},
   "outputs": [],
   "source": [
    "# invert the dictionary stations_match\n",
    "stations_match_inv = Dict(zip(values(stations_match), keys(stations_match)));"
   ]
  },
  {
   "cell_type": "code",
   "execution_count": 52,
   "metadata": {},
   "outputs": [],
   "source": [
    "# get the station_id of the top 30 stations\n",
    "top30_stations_id = [stations_match_inv[i] for i in top30_stations];\n",
    "# get the station_id of the top 50 stations\n",
    "top50_stations_id = [stations_match_inv[i] for i in top50_stations];\n",
    "# get the station_id of the top 200 stations\n",
    "top200_stations_id = [stations_match_inv[i] for i in top200_stations];"
   ]
  },
  {
   "cell_type": "code",
   "execution_count": 53,
   "metadata": {},
   "outputs": [
    {
     "data": {
      "text/plain": [
       "\"../../data/stations/top30-stations.csv\""
      ]
     },
     "execution_count": 53,
     "metadata": {},
     "output_type": "execute_result"
    }
   ],
   "source": [
    "top30_stations_id\n",
    "# save in csv file\n",
    "CSV.write(\"../../data/stations/top30-stations.csv\", DataFrame(station_id=top30_stations_id))"
   ]
  },
  {
   "cell_type": "code",
   "execution_count": 54,
   "metadata": {},
   "outputs": [
    {
     "data": {
      "text/plain": [
       "\"../../data/stations/top50-stations.csv\""
      ]
     },
     "execution_count": 54,
     "metadata": {},
     "output_type": "execute_result"
    }
   ],
   "source": [
    "top50_stations_id\n",
    "# save in csv file\n",
    "CSV.write(\"../../data/stations/top50-stations.csv\", DataFrame(station_id=top50_stations_id))"
   ]
  },
  {
   "cell_type": "code",
   "execution_count": 55,
   "metadata": {},
   "outputs": [
    {
     "data": {
      "text/plain": [
       "\"../../data/stations/top200-stations.csv\""
      ]
     },
     "execution_count": 55,
     "metadata": {},
     "output_type": "execute_result"
    }
   ],
   "source": [
    "top200_stations_id\n",
    "# save in csv file\n",
    "CSV.write(\"../../data/stations/top200-stations.csv\", DataFrame(station_id=top200_stations_id))"
   ]
  },
  {
   "cell_type": "code",
   "execution_count": 56,
   "metadata": {},
   "outputs": [],
   "source": [
    "# sort stations by score inv\n",
    "stations_score_sorted_incr = sortperm(stations_score, rev=false);\n",
    "# keep only top 50 stations\n",
    "worse_top100_stations = stations_score_sorted_incr[1:100];"
   ]
  },
  {
   "cell_type": "code",
   "execution_count": 57,
   "metadata": {},
   "outputs": [],
   "source": [
    "# get the station_id of the worse top 100 stations\n",
    "worse_top100_stations_id = [stations_match_inv[i] for i in worse_top100_stations];"
   ]
  },
  {
   "cell_type": "code",
   "execution_count": 58,
   "metadata": {},
   "outputs": [
    {
     "data": {
      "text/plain": [
       "\"../../data/stations/worse_top100-stations.csv\""
      ]
     },
     "execution_count": 58,
     "metadata": {},
     "output_type": "execute_result"
    }
   ],
   "source": [
    "CSV.write(\"../../data/stations/worse_top100-stations.csv\", DataFrame(station_id=worse_top100_stations_id))"
   ]
  },
  {
   "cell_type": "code",
   "execution_count": null,
   "metadata": {},
   "outputs": [],
   "source": []
  }
 ],
 "metadata": {
  "kernelspec": {
   "display_name": "Julia 1.7.3",
   "language": "julia",
   "name": "julia-1.7"
  },
  "language_info": {
   "file_extension": ".jl",
   "mimetype": "application/julia",
   "name": "julia",
   "version": "1.7.3"
  },
  "orig_nbformat": 4
 },
 "nbformat": 4,
 "nbformat_minor": 2
}
