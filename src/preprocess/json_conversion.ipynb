{
 "cells": [
  {
   "cell_type": "code",
   "execution_count": 5,
   "metadata": {},
   "outputs": [],
   "source": [
    "import json\n",
    "import csv\n",
    "import pandas as pd\n",
    "  \n",
    "stations_status_00 = pd.read_json(\"../../data/stations/station_status_12062022_0000.json\")[\"data\"][\"stations\"]\n",
    "stations_status_58 = pd.read_json(\"../../data/stations/station_status_12052022_0058.json\")[\"data\"][\"stations\"]\n",
    "stations_status_55 = pd.read_json(\"../../data/stations/station_status_12042022_2355.json\")[\"data\"][\"stations\"]"
   ]
  },
  {
   "cell_type": "code",
   "execution_count": 3,
   "metadata": {},
   "outputs": [],
   "source": [
    "def convert_list_dict_to_csv(list_dict,csv_name):\n",
    "    myFile = open(csv_name, 'w')\n",
    "    writer = csv.writer(myFile)\n",
    "    #writer.writerow(['Name', 'Roll', 'Language'])\n",
    "    count=0\n",
    "    for dictionary in list_dict:\n",
    "        if count == 0:\n",
    "            # Writing headers of CSV file\n",
    "            header = dictionary.keys()\n",
    "            writer.writerow(header)\n",
    "            count += 1\n",
    "        writer.writerow(dictionary.values())\n",
    "    myFile.close()\n",
    "    return"
   ]
  },
  {
   "cell_type": "code",
   "execution_count": 6,
   "metadata": {},
   "outputs": [],
   "source": [
    "convert_list_dict_to_csv(stations_status_00,\"../../data/stations/station_status_12062022_0000.csv\")\n",
    "convert_list_dict_to_csv(stations_status_58,\"../../data/stations/station_status_12052022_0058.csv\")\n",
    "convert_list_dict_to_csv(stations_status_55,\"../../data/stations/station_status_12042022_2355.csv\")"
   ]
  },
  {
   "cell_type": "code",
   "execution_count": null,
   "metadata": {},
   "outputs": [],
   "source": []
  }
 ],
 "metadata": {
  "kernelspec": {
   "display_name": "Python 3.9.13 ('env_maiwenn')",
   "language": "python",
   "name": "python3"
  },
  "language_info": {
   "codemirror_mode": {
    "name": "ipython",
    "version": 3
   },
   "file_extension": ".py",
   "mimetype": "text/x-python",
   "name": "python",
   "nbconvert_exporter": "python",
   "pygments_lexer": "ipython3",
   "version": "3.9.13"
  },
  "orig_nbformat": 4,
  "vscode": {
   "interpreter": {
    "hash": "32466a21a07a3c6fbc499a46ef5738207d953e31ba20ebfadb807195852ba7c1"
   }
  }
 },
 "nbformat": 4,
 "nbformat_minor": 2
}
