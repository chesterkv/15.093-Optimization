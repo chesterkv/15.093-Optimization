{
 "cells": [
  {
   "cell_type": "code",
   "execution_count": 295,
   "metadata": {},
   "outputs": [],
   "source": [
    "# import Pkg; Pkg.add(\"JLD2\")\n",
    "using DataFrames, CSV, Dates, JLD2, Distances"
   ]
  },
  {
   "cell_type": "code",
   "execution_count": 296,
   "metadata": {},
   "outputs": [],
   "source": [
    "station_information = CSV.read(\"../../data/stations/station_information.csv\", DataFrame);"
   ]
  },
  {
   "cell_type": "markdown",
   "metadata": {},
   "source": [
    "## Trips and stations_match "
   ]
  },
  {
   "cell_type": "code",
   "execution_count": 297,
   "metadata": {},
   "outputs": [],
   "source": [
    "trips = CSV.read(\"../../data/trips/202210-bluebikes-tripdata.csv\", DataFrame);"
   ]
  },
  {
   "cell_type": "code",
   "execution_count": 298,
   "metadata": {},
   "outputs": [],
   "source": [
    "# find unique station_id\n",
    "station_ids = unique(station_information[:, :station_id]);\n",
    "nb_stations = length(station_ids);\n",
    "stations_match = Dict(zip(station_ids, 1:nb_stations));\n",
    "\n",
    "# eliminate trips with station_id not in station_ids\n",
    "trips = trips[in.(trips[:, :\"start station id\"], [Set(station_ids)]), :];\n",
    "trips = trips[in.(trips[:, :\"end station id\"], [Set(station_ids)]), :];\n",
    "\n",
    "# convert starttime and stoptime to DateTime\n",
    "trips[!, :starttime] = DateTime.(trips[!, :starttime], \"yyyy-mm-dd HH:MM:SS.ssss\");\n",
    "trips[!, :stoptime] = DateTime.(trips[!, :stoptime], \"yyyy-mm-dd HH:MM:SS.ssss\");\n",
    "\n",
    "# extract day and hour from starttime and stoptime\n",
    "trips[!, :startday] = Dates.day.(trips[!, :starttime]);\n",
    "trips[!, :starthour] = Dates.hour.(trips[!, :starttime]);\n",
    "trips[!, :stopday] = Dates.day.(trips[!, :stoptime]);\n",
    "trips[!, :stophour] = Dates.hour.(trips[!, :stoptime]);\n",
    "\n",
    "# create matrix of hourly trips between stations_match\n",
    "nb_days = maximum(trips[:, :startday]);\n",
    "trips_matrix = zeros(Int, nb_stations, nb_stations, nb_days*24);\n",
    "for i in 1:size(trips, 1)\n",
    "    trips_matrix[stations_match[trips[i, :\"start station id\"]], stations_match[trips[i, :\"end station id\"]], (trips[i, :startday]-1)*24+trips[i, :starthour]+1] += 1\n",
    "end"
   ]
  },
  {
   "cell_type": "code",
   "execution_count": 299,
   "metadata": {},
   "outputs": [],
   "source": [
    "jldsave(\"../../data/parameters/global/202210-trips-matrix.jld2\", true; trips_matrix)"
   ]
  },
  {
   "cell_type": "code",
   "execution_count": 300,
   "metadata": {},
   "outputs": [],
   "source": [
    "trips_matrix = load(\"../../data/parameters/global/202210-trips-matrix.jld2\", \"trips_matrix\");"
   ]
  },
  {
   "cell_type": "markdown",
   "metadata": {},
   "source": [
    "# Capacity"
   ]
  },
  {
   "cell_type": "code",
   "execution_count": 301,
   "metadata": {},
   "outputs": [],
   "source": [
    "capacity=select(station_information, [:station_id, :capacity]);\n",
    "C=capacity.capacity;"
   ]
  },
  {
   "cell_type": "code",
   "execution_count": 302,
   "metadata": {},
   "outputs": [
    {
     "data": {
      "text/plain": [
       "\"../../data/parameters/global/capacity.csv\""
      ]
     },
     "execution_count": 302,
     "metadata": {},
     "output_type": "execute_result"
    }
   ],
   "source": [
    "# save capacity to CSV\n",
    "CSV.write(\"../../data/parameters/global/capacity.csv\", C |> Tables.table, header=false)"
   ]
  },
  {
   "cell_type": "markdown",
   "metadata": {},
   "source": [
    "# Initial state (midnight)"
   ]
  },
  {
   "cell_type": "code",
   "execution_count": 303,
   "metadata": {},
   "outputs": [
    {
     "data": {
      "text/plain": [
       "create_y0 (generic function with 1 method)"
      ]
     },
     "execution_count": 303,
     "metadata": {},
     "output_type": "execute_result"
    }
   ],
   "source": [
    "function create_y0(file,station_information)\n",
    "    station_status=CSV.read(file, DataFrame);\n",
    "    station_status_n = select(leftjoin(station_information, station_status, on=:station_id, makeunique=true),[\"station_id\",\"num_bikes_available\"])\n",
    "    # replace missing values in num_bikes_available with 0\n",
    "    station_status_n.num_bikes_available = coalesce.(station_status_n.num_bikes_available, 0)\n",
    "    return station_status_n.num_bikes_available\n",
    "end"
   ]
  },
  {
   "cell_type": "code",
   "execution_count": 334,
   "metadata": {},
   "outputs": [],
   "source": [
    "y0_00=create_y0(\"../../data/stations/station_status_12062022_0000.csv\",station_information);\n",
    "y0_58=create_y0(\"../../data/stations/station_status_12052022_0058.csv\",station_information);\n",
    "y0_55=create_y0(\"../../data/stations/station_status_12042022_2355.csv\",station_information);"
   ]
  },
  {
   "cell_type": "code",
   "execution_count": 335,
   "metadata": {},
   "outputs": [
    {
     "data": {
      "text/plain": [
       "\"../../data/parameters/global/y0_55.csv\""
      ]
     },
     "execution_count": 335,
     "metadata": {},
     "output_type": "execute_result"
    }
   ],
   "source": [
    "# save station_status00_n to csv\n",
    "CSV.write(\"../../data/parameters/global/y0_00.csv\", y0_00 |> Tables.table, header=false)\n",
    "CSV.write(\"../../data/parameters/global/y0_58.csv\", y0_58 |> Tables.table, header=false)\n",
    "CSV.write(\"../../data/parameters/global/y0_55.csv\", y0_55 |> Tables.table, header=false)"
   ]
  },
  {
   "cell_type": "markdown",
   "metadata": {},
   "source": [
    "# Demand"
   ]
  },
  {
   "cell_type": "code",
   "execution_count": 336,
   "metadata": {},
   "outputs": [
    {
     "data": {
      "text/plain": [
       "estimate_demand (generic function with 1 method)"
      ]
     },
     "execution_count": 336,
     "metadata": {},
     "output_type": "execute_result"
    }
   ],
   "source": [
    "function estimate_demand(trips_matrix,capacity)\n",
    "    # if number of trips is more than 75% of capacity, corresponding number is quadrupled\n",
    "    nb_stations, _, nb_hours = size(trips_matrix)\n",
    "    demand = copy(trips_matrix)\n",
    "    for k in 1:nb_hours\n",
    "\n",
    "        # outgoing demand\n",
    "        for i in 1:nb_stations\n",
    "            if sum(trips_matrix[i, :, k]) > capacity[i]\n",
    "                total_outgoing = sum(trips_matrix[i, :, k])\n",
    "                for j in 1:nb_stations\n",
    "                    demand[i, j, k] += ceil(trips_matrix[i, j, k] - trips_matrix[i, j, k] * capacity[i]/total_outgoing)\n",
    "                end\n",
    "            end\n",
    "        end\n",
    "\n",
    "        # incoming demand\n",
    "        for j in 1:nb_stations\n",
    "            if sum(trips_matrix[:, j, k]) > capacity[j]\n",
    "                total_incoming = sum(trips_matrix[:, j, k])\n",
    "                for i in 1:nb_stations\n",
    "                    demand[i, j, k] += ceil(trips_matrix[i, j, k] - trips_matrix[i, j, k] * capacity[j]/total_incoming)\n",
    "                end\n",
    "            end\n",
    "        end\n",
    "    end\n",
    "    return demand\n",
    "end"
   ]
  },
  {
   "cell_type": "code",
   "execution_count": 337,
   "metadata": {},
   "outputs": [],
   "source": [
    "demand = estimate_demand(trips_matrix,capacity[!, :capacity]);"
   ]
  },
  {
   "cell_type": "code",
   "execution_count": 338,
   "metadata": {},
   "outputs": [],
   "source": [
    "jldsave(\"../../data/parameters/global/202210-demand.jld2\", true; demand)"
   ]
  },
  {
   "cell_type": "code",
   "execution_count": 339,
   "metadata": {},
   "outputs": [],
   "source": [
    "demand = load(\"../../data/parameters/global/202210-demand.jld2\", \"demand\");"
   ]
  },
  {
   "cell_type": "code",
   "execution_count": 367,
   "metadata": {},
   "outputs": [],
   "source": [
    "i=1\n",
    "# lundi 10 octobre\n",
    "d1 = demand[:,:,49+7*24*i:72+7*24*i];\n",
    "# mardi 11 octobre\n",
    "d2 = demand[:,:,73+7*24*i:96+7*24*i];\n",
    "# mercredi 12 octobre\n",
    "d3 = demand[:,:,97+7*24*i:120+7*24*i];\n",
    "# jeudi 13 octobre\n",
    "d4 = demand[:,:,121+7*24*i:144+7*24*i];\n",
    "# vendredi 14 octobre\n",
    "d5 = demand[:,:,145+7*24*i:168+7*24*i];"
   ]
  },
  {
   "cell_type": "markdown",
   "metadata": {},
   "source": [
    "# Order stations by demand"
   ]
  },
  {
   "cell_type": "code",
   "execution_count": 368,
   "metadata": {},
   "outputs": [
    {
     "data": {
      "text/plain": [
       "sort_stations (generic function with 1 method)"
      ]
     },
     "execution_count": 368,
     "metadata": {},
     "output_type": "execute_result"
    }
   ],
   "source": [
    "function sort_stations(demand)\n",
    "    n_stations, _, nb_hours = size(demand)\n",
    "    # create empty list of size n_stations_test\n",
    "    stations_score = zeros(n_stations)\n",
    "    # for each station i, sum the number of bikes that gets in an out ot the station over the month\n",
    "    for i in 1:n_stations\n",
    "        stations_score[i] += sum(demand[i,:,:]) + sum(demand[:,i,:])\n",
    "    end\n",
    "    # sort stations by score\n",
    "    stations_score_sorted = sortperm(stations_score, rev=true);\n",
    "    return stations_score_sorted\n",
    "end"
   ]
  },
  {
   "cell_type": "code",
   "execution_count": 369,
   "metadata": {},
   "outputs": [],
   "source": [
    "# invert stations_match\n",
    "stations_match_inv = Dict() # give the station_id of a line in the station info file\n",
    "for (k,v) in stations_match\n",
    "    stations_match_inv[v] = k\n",
    "end"
   ]
  },
  {
   "cell_type": "code",
   "execution_count": 370,
   "metadata": {},
   "outputs": [],
   "source": [
    "stations_sorted=sort_stations(d1) # stations lines number sorted\n",
    "stations_sorted;"
   ]
  },
  {
   "cell_type": "code",
   "execution_count": 371,
   "metadata": {},
   "outputs": [],
   "source": [
    "stations_id_sorted=zeros(Int,length(stations_sorted))\n",
    "for i=1:length(stations_sorted)\n",
    "    stations_id_sorted[i]=stations_match_inv[stations_sorted[i]]\n",
    "end\n",
    "stations_id_sorted;"
   ]
  },
  {
   "cell_type": "code",
   "execution_count": 372,
   "metadata": {},
   "outputs": [
    {
     "data": {
      "text/plain": [
       "\"../../data/parameters/stations_id_sorted.csv\""
      ]
     },
     "execution_count": 372,
     "metadata": {},
     "output_type": "execute_result"
    }
   ],
   "source": [
    "# save stations ordering to CSV for Python maps\n",
    "CSV.write(\"../../data/parameters/stations_id_sorted.csv\", stations_id_sorted |> Tables.table, header=false)"
   ]
  },
  {
   "cell_type": "code",
   "execution_count": 373,
   "metadata": {},
   "outputs": [],
   "source": [
    "# save stations ordering to JLD2 for Julia\n",
    "jldsave(\"../../data/parameters/stations_match.jld2\", true; stations_match)"
   ]
  },
  {
   "cell_type": "markdown",
   "metadata": {},
   "source": [
    "# Distances"
   ]
  },
  {
   "cell_type": "code",
   "execution_count": 374,
   "metadata": {},
   "outputs": [],
   "source": [
    "n_stations = size(station_information, 1)\n",
    "D = zeros(n_stations, n_stations)\n",
    "\n",
    "for i in 1:n_stations\n",
    "    for j in 1:n_stations\n",
    "        D[i, j] = haversine([station_information[i, :lon], station_information[i, :lat]], [station_information[j, :lon], station_information[j, :lat]])\n",
    "    end\n",
    "end\n",
    "D = D ./ 1000; # convert to km"
   ]
  },
  {
   "cell_type": "code",
   "execution_count": 375,
   "metadata": {},
   "outputs": [],
   "source": [
    "jldsave(\"../../data/parameters/global/distances.jld2\", true; D)"
   ]
  },
  {
   "cell_type": "markdown",
   "metadata": {},
   "source": [
    "# Feasibility"
   ]
  },
  {
   "cell_type": "code",
   "execution_count": 376,
   "metadata": {},
   "outputs": [],
   "source": [
    "threshold=0.7\n",
    "X = zeros(n_stations, n_stations)\n",
    "for i=1:n_stations\n",
    "    for j=1:i-1\n",
    "        X[i,j]=(D[i,j]<threshold)\n",
    "    end\n",
    "    for j=i+1:n_stations\n",
    "        X[i,j]=(D[i,j]<threshold)\n",
    "    end\n",
    "end"
   ]
  },
  {
   "cell_type": "code",
   "execution_count": 377,
   "metadata": {},
   "outputs": [],
   "source": [
    "jldsave(\"../../data/parameters/global/X.jld2\", true; X)"
   ]
  },
  {
   "cell_type": "code",
   "execution_count": 378,
   "metadata": {},
   "outputs": [
    {
     "data": {
      "text/plain": [
       "make_all_trips_feasible (generic function with 1 method)"
      ]
     },
     "execution_count": 378,
     "metadata": {},
     "output_type": "execute_result"
    }
   ],
   "source": [
    "function make_all_trips_feasible(X)\n",
    "    X_new=X\n",
    "    # Make all trips feasible\n",
    "    for i in 1:size(X_new,1)\n",
    "        for j in 1:size(X_new,2)\n",
    "            X_new[i,j] =1\n",
    "        end\n",
    "    end\n",
    "    return X_new\n",
    "end"
   ]
  },
  {
   "cell_type": "code",
   "execution_count": 379,
   "metadata": {},
   "outputs": [],
   "source": [
    "X_feas=make_all_trips_feasible(X);"
   ]
  },
  {
   "cell_type": "code",
   "execution_count": 380,
   "metadata": {},
   "outputs": [],
   "source": [
    "jldsave(\"../../data/parameters/global/X_feasible.jld2\", true; X)"
   ]
  },
  {
   "cell_type": "markdown",
   "metadata": {},
   "source": [
    "# Problem size reduction and sink"
   ]
  },
  {
   "cell_type": "code",
   "execution_count": 381,
   "metadata": {},
   "outputs": [
    {
     "data": {
      "text/plain": [
       "update_demand (generic function with 4 methods)"
      ]
     },
     "execution_count": 381,
     "metadata": {},
     "output_type": "execute_result"
    }
   ],
   "source": [
    "function update_demand(d,d_selected,nb,selected_stations,not_selected_stations)\n",
    "    d_new = zeros(nb+1,nb+1,24)\n",
    "    d_new[1:nb,1:nb,:] = d_selected\n",
    "    for i =1:30\n",
    "        for t in 1:24\n",
    "            d_new[nb+1,i,t] = sum(d[k,selected_stations[i],t] for k in not_selected_stations)\n",
    "            d_new[i,nb+1,t] = sum(d[selected_stations[i],k,t] for k in not_selected_stations)\n",
    "        end\n",
    "    end\n",
    "    for t in 1:24\n",
    "        d_new[nb+1,nb+1,t] = sum(d[not_selected_stations,not_selected_stations,t])\n",
    "    end\n",
    "    return d_new\n",
    "end"
   ]
  },
  {
   "cell_type": "code",
   "execution_count": 382,
   "metadata": {},
   "outputs": [
    {
     "data": {
      "text/plain": [
       "update_distances (generic function with 2 methods)"
      ]
     },
     "execution_count": 382,
     "metadata": {},
     "output_type": "execute_result"
    }
   ],
   "source": [
    "function update_distances(D_selected,nb)\n",
    "    D_new = zeros(nb+1,nb+1)\n",
    "    D_new[1:nb,1:nb] = D_selected\n",
    "    for i in 1:nb\n",
    "        D_new[nb+1,i] = 1000 # infinite distance to sink\n",
    "        D_new[i,nb+1] = 1000\n",
    "    end\n",
    "    return D_new\n",
    "end"
   ]
  },
  {
   "cell_type": "code",
   "execution_count": 383,
   "metadata": {},
   "outputs": [
    {
     "data": {
      "text/plain": [
       "update_feasibility (generic function with 2 methods)"
      ]
     },
     "execution_count": 383,
     "metadata": {},
     "output_type": "execute_result"
    }
   ],
   "source": [
    "function update_feasibility(X_selected,nb)\n",
    "    X_new=zeros(nb+1,nb+1)\n",
    "    X_new[1:nb,1:nb] = X_selected\n",
    "    for i in 1:nb\n",
    "        X_new[i,i] = 1\n",
    "    end\n",
    "    return X_new\n",
    "end"
   ]
  },
  {
   "cell_type": "code",
   "execution_count": 384,
   "metadata": {},
   "outputs": [
    {
     "data": {
      "text/plain": [
       "reduce_problem_and_create_sink (generic function with 1 method)"
      ]
     },
     "execution_count": 384,
     "metadata": {},
     "output_type": "execute_result"
    }
   ],
   "source": [
    "function reduce_problem_and_create_sink(d,C,y0,D,X,nb,stations_sorted)\n",
    "    selected_stations = stations_sorted[1:nb]\n",
    "    not_selected_stations = stations_sorted[nb+1:end]\n",
    "    # reorder index of columns and rows according to the sorted stations\n",
    "    d_sel = d[selected_stations, selected_stations, :];\n",
    "    C_sel = C[selected_stations,:];\n",
    "    y0_sel = y0[selected_stations,:];\n",
    "    D_sel = D[selected_stations, selected_stations];\n",
    "    X_sel = X[selected_stations, selected_stations];\n",
    "    # Update : create a sink station \n",
    "    # demand matrix update\n",
    "    d_new=update_demand(d,d_sel,nb,selected_stations,not_selected_stations)\n",
    "    # capacity matrix update\n",
    "    C_new = [C_sel; sum(C[k,:] for k in not_selected_stations)]\n",
    "    # initial state update\n",
    "    y0_new = [y0_sel; sum(y0[k,:] for k in not_selected_stations)]\n",
    "    # distance matrix update\n",
    "    D_new=update_distances(D_sel,nb)\n",
    "    # feasibility matrix update\n",
    "    X_new=update_feasibility(X_sel,nb)\n",
    "    return d_new, C_new, y0_new, D_new, X_new\n",
    "end"
   ]
  },
  {
   "cell_type": "markdown",
   "metadata": {},
   "source": [
    "# Inputs construction - Reduced problem"
   ]
  },
  {
   "cell_type": "markdown",
   "metadata": {},
   "source": [
    "### Keep top 30"
   ]
  },
  {
   "cell_type": "markdown",
   "metadata": {},
   "source": [
    "Day 1"
   ]
  },
  {
   "cell_type": "code",
   "execution_count": 385,
   "metadata": {},
   "outputs": [],
   "source": [
    "d_30_1, C_30, y0_30, D_30, X_30 = reduce_problem_and_create_sink(d1,C,y0_00,D,X_feas,30,stations_sorted);"
   ]
  },
  {
   "cell_type": "markdown",
   "metadata": {},
   "source": [
    "Day 2"
   ]
  },
  {
   "cell_type": "code",
   "execution_count": 386,
   "metadata": {},
   "outputs": [],
   "source": [
    "d_30_2, _, _, _, _ = reduce_problem_and_create_sink(d2,C,y0_00,D,X_feas,30,stations_sorted);"
   ]
  },
  {
   "cell_type": "markdown",
   "metadata": {},
   "source": [
    "Day 3"
   ]
  },
  {
   "cell_type": "code",
   "execution_count": 387,
   "metadata": {},
   "outputs": [],
   "source": [
    "d_30_3, _, _, _, _ = reduce_problem_and_create_sink(d3,C,y0_00,D,X,30,stations_sorted);"
   ]
  },
  {
   "cell_type": "markdown",
   "metadata": {},
   "source": [
    "Day 4"
   ]
  },
  {
   "cell_type": "code",
   "execution_count": 388,
   "metadata": {},
   "outputs": [],
   "source": [
    "d_30_4, _, _, _, _ = reduce_problem_and_create_sink(d4,C,y0_00,D,X,30,stations_sorted);"
   ]
  },
  {
   "cell_type": "markdown",
   "metadata": {},
   "source": [
    "Day 5"
   ]
  },
  {
   "cell_type": "code",
   "execution_count": 390,
   "metadata": {},
   "outputs": [],
   "source": [
    "d_30_5, _, _, _, _ = reduce_problem_and_create_sink(d5,C,y0_00,D,X,30,stations_sorted);"
   ]
  },
  {
   "cell_type": "code",
   "execution_count": 391,
   "metadata": {},
   "outputs": [],
   "source": [
    "jldsave(\"../../data/parameters/top30/d_1.jld2\", true; d_30_1)\n",
    "jldsave(\"../../data/parameters/top30/d_2.jld2\", true; d_30_2)\n",
    "jldsave(\"../../data/parameters/top30/d_3.jld2\", true; d_30_3)\n",
    "jldsave(\"../../data/parameters/top30/d_4.jld2\", true; d_30_4)\n",
    "jldsave(\"../../data/parameters/top30/d_5.jld2\", true; d_30_5)"
   ]
  },
  {
   "cell_type": "code",
   "execution_count": 392,
   "metadata": {},
   "outputs": [],
   "source": [
    "CSV.write(\"../../data/parameters/top30/C.csv\", C_30|> Tables.table, header=false)\n",
    "CSV.write(\"../../data/parameters/top30/y0_00.csv\", y0_00_30|> Tables.table, header=false)\n",
    "#CSV.write(\"../../data/parameters/top30/y0_55.csv\", y0_55_30|> Tables.table, header=false)\n",
    "#CSV.write(\"../../data/parameters/top30/y0_58.csv\", y0_58_30|> Tables.table, header=false)\n",
    "jldsave(\"../../data/parameters/top30/X.jld2\", true; X_30)\n",
    "jldsave(\"../../data/parameters/top30/X_feasible.jld2\", true; Xfeas_30)\n",
    "jldsave(\"../../data/parameters/top30/D.jld2\", true; D_30)"
   ]
  },
  {
   "cell_type": "markdown",
   "metadata": {},
   "source": [
    "### Keep top 50"
   ]
  },
  {
   "cell_type": "markdown",
   "metadata": {},
   "source": [
    "Day 1"
   ]
  },
  {
   "cell_type": "code",
   "execution_count": 202,
   "metadata": {},
   "outputs": [],
   "source": [
    "#d_50_1, C_50, y0_00_50, D_50, X_50 = reduce_problem_and_create_sink(d1,C,y0_00,D,X,50,stations_sorted);"
   ]
  },
  {
   "cell_type": "markdown",
   "metadata": {},
   "source": [
    "Day 2"
   ]
  },
  {
   "cell_type": "code",
   "execution_count": 203,
   "metadata": {},
   "outputs": [],
   "source": [
    "#d_50_2, _, y0_55_50, _, Xfeas_50 = reduce_problem_and_create_sink(d2,C,y0_55,D,X_feas,50,stations_sorted);"
   ]
  },
  {
   "cell_type": "markdown",
   "metadata": {},
   "source": [
    "Day 3"
   ]
  },
  {
   "cell_type": "code",
   "execution_count": 204,
   "metadata": {},
   "outputs": [],
   "source": [
    "#d_50_3, _, y0_58_50, _, _ = reduce_problem_and_create_sink(d3,C,y0_58,D,X,50,stations_sorted);"
   ]
  },
  {
   "cell_type": "code",
   "execution_count": 205,
   "metadata": {},
   "outputs": [],
   "source": [
    "#jldsave(\"../../data/parameters/top50/d_1.jld2\", true; d_50_1)\n",
    "#jldsave(\"../../data/parameters/top50/d_2.jld2\", true; d_50_2)\n",
    "#jldsave(\"../../data/parameters/top50/d_3.jld2\", true; d_50_3)"
   ]
  },
  {
   "cell_type": "code",
   "execution_count": 206,
   "metadata": {},
   "outputs": [],
   "source": [
    "#CSV.write(\"../../data/parameters/top50/C.csv\", C_50|> Tables.table, header=false)\n",
    "#CSV.write(\"../../data/parameters/top50/y0_00.csv\", y0_00_50|> Tables.table, header=false)\n",
    "#CSV.write(\"../../data/parameters/top50/y0_55.csv\", y0_55_50|> Tables.table, header=false)\n",
    "#CSV.write(\"../../data/parameters/top50/y0_58.csv\", y0_58_50|> Tables.table, header=false)\n",
    "#jldsave(\"../../data/parameters/top50/X.jld2\", true; X_50)\n",
    "#jldsave(\"../../data/parameters/top50/X_feasible.jld2\", true; Xfeas_50)\n",
    "#jldsave(\"../../data/parameters/top50/D.jld2\", true; D_50)"
   ]
  }
 ],
 "metadata": {
  "kernelspec": {
   "display_name": "Julia 1.7.3",
   "language": "julia",
   "name": "julia-1.7"
  },
  "language_info": {
   "file_extension": ".jl",
   "mimetype": "application/julia",
   "name": "julia",
   "version": "1.7.3"
  },
  "orig_nbformat": 4
 },
 "nbformat": 4,
 "nbformat_minor": 2
}
