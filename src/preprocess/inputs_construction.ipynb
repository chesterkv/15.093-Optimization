{
 "cells": [
  {
   "cell_type": "code",
   "execution_count": 1,
   "metadata": {},
   "outputs": [],
   "source": [
    "import pandas as pd\n",
    "import numpy as np\n",
    "import json\n",
    "import csv"
   ]
  },
  {
   "cell_type": "code",
   "execution_count": null,
   "metadata": {},
   "outputs": [
    {
     "ename": "",
     "evalue": "",
     "output_type": "error",
     "traceback": [
      "\u001b[1;31mÉchec du démarrage du noyau. \n",
      "\u001b[1;31mUnhandled error. \n",
      "\u001b[1;31mPour plus d’informations, consultez Jupyter <a href='command:jupyter.viewOutput'>log</a>."
     ]
    }
   ],
   "source": [
    "with open(\"./station_information.json\") as f:\n",
    "    data = json.load(f)\n",
    "\n",
    "stations = data['data']['stations']\n",
    "\n",
    "with open('./station_information.csv', 'w') as f:\n",
    "    writer = csv.writer(f)\n",
    "    count=0\n",
    "    for station in stations:\n",
    "        if count==0:\n",
    "            writer.writerow(station.keys())\n",
    "        count+=1\n",
    "        writer.writerow(station.values())\n",
    "    "
   ]
  },
  {
   "cell_type": "code",
   "execution_count": null,
   "metadata": {},
   "outputs": [
    {
     "ename": "",
     "evalue": "",
     "output_type": "error",
     "traceback": [
      "\u001b[1;31mÉchec du démarrage du noyau. \n",
      "\u001b[1;31mUnhandled error. \n",
      "\u001b[1;31mPour plus d’informations, consultez Jupyter <a href='command:jupyter.viewOutput'>log</a>."
     ]
    }
   ],
   "source": [
    "with open(\"./station_status.json\") as f:\n",
    "    data = json.load(f)\n",
    "\n",
    "stations = data['data']['stations']\n",
    "\n",
    "with open('./station_status.csv', 'w') as f:\n",
    "    writer = csv.writer(f)\n",
    "    count=0\n",
    "    for station in stations:\n",
    "        if count==0:\n",
    "            writer.writerow(station.keys())\n",
    "        count+=1\n",
    "        writer.writerow(station.values())"
   ]
  },
  {
   "cell_type": "code",
   "execution_count": 3,
   "metadata": {},
   "outputs": [],
   "source": [
    "trips = pd.read_csv('../../data/trips/202210-bluebikes-tripdata.csv')\n",
    "\n",
    "n_stations = len(trips['start station id'].unique())\n",
    "\n",
    "stations_match = dict(zip(trips['start station id'].unique(),range(n_stations)))\n",
    "\n",
    "X = np.zeros((n_stations, 1440*30))"
   ]
  },
  {
   "cell_type": "code",
   "execution_count": 7,
   "metadata": {},
   "outputs": [],
   "source": [
    "stations_info=pd.read_csv('../../data/stations/station_information.csv')\n",
    "#stations_info"
   ]
  },
  {
   "cell_type": "code",
   "execution_count": 8,
   "metadata": {},
   "outputs": [
    {
     "data": {
      "text/plain": [
       "449"
      ]
     },
     "execution_count": 8,
     "metadata": {},
     "output_type": "execute_result"
    }
   ],
   "source": [
    "## Other version of stations_match with all the stations from the stations_information file\n",
    "n_stations2=len(stations_info['station_id'].unique())\n",
    "stations_match2 = dict(zip(stations_info['station_id'].unique(),range(n_stations2)))\n",
    "len(stations_match2)"
   ]
  },
  {
   "cell_type": "code",
   "execution_count": 9,
   "metadata": {},
   "outputs": [],
   "source": [
    "from pandas import to_datetime\n",
    "\n",
    "\n",
    "trips.starttime = trips.starttime.apply(to_datetime)\n",
    "trips.stoptime = trips.stoptime.apply(to_datetime)\n",
    "\n",
    "trips['start_hour'] = trips.starttime.apply(lambda x: x.hour)\n",
    "trips['start_minute'] = trips.starttime.apply(lambda x: x.minute)\n",
    "trips['start_day'] = trips.starttime.apply(lambda x: x.day)\n",
    "\n",
    "trips['stop_hour'] = trips.stoptime.apply(lambda x: x.hour)\n",
    "trips['stop_minute'] = trips.stoptime.apply(lambda x: x.minute)\n",
    "trips['stop_day'] = trips.stoptime.apply(lambda x: x.day)\n",
    "\n"
   ]
  },
  {
   "cell_type": "code",
   "execution_count": null,
   "metadata": {},
   "outputs": [
    {
     "ename": "",
     "evalue": "",
     "output_type": "error",
     "traceback": [
      "\u001b[1;31mÉchec du démarrage du noyau. \n",
      "\u001b[1;31mUnhandled error. \n",
      "\u001b[1;31mPour plus d’informations, consultez Jupyter <a href='command:jupyter.viewOutput'>log</a>."
     ]
    }
   ],
   "source": [
    "bikes_taken = trips.groupby(['start_day', 'start_hour', 'start_minute', 'start station id']).size().reset_index(name='counts')\n",
    "bikes_returned = trips.groupby(['stop_day', 'stop_hour', 'stop_minute', 'end station id']).size().reset_index(name='counts')"
   ]
  },
  {
   "cell_type": "code",
   "execution_count": null,
   "metadata": {},
   "outputs": [
    {
     "ename": "",
     "evalue": "",
     "output_type": "error",
     "traceback": [
      "\u001b[1;31mÉchec du démarrage du noyau. \n",
      "\u001b[1;31mUnhandled error. \n",
      "\u001b[1;31mPour plus d’informations, consultez Jupyter <a href='command:jupyter.viewOutput'>log</a>."
     ]
    }
   ],
   "source": [
    "for i in range(len(bikes_taken)):\n",
    "    X[stations_match[bikes_taken.iloc[i,3]], (bikes_taken.iloc[i,0]-1)*1440 + bikes_taken.iloc[i,1]*60 + bikes_taken.iloc[i,2]] -= bikes_taken.iloc[i,4]\n",
    "for i in range(len(bikes_returned)):\n",
    "    X[stations_match[bikes_returned.iloc[i,3]], (bikes_returned.iloc[i,0]-1)*1440 + bikes_returned.iloc[i,1]*60 + bikes_returned.iloc[i,2]] += bikes_returned.iloc[i,4]"
   ]
  },
  {
   "cell_type": "code",
   "execution_count": null,
   "metadata": {},
   "outputs": [
    {
     "ename": "",
     "evalue": "",
     "output_type": "error",
     "traceback": [
      "\u001b[1;31mÉchec du démarrage du noyau. \n",
      "\u001b[1;31mUnhandled error. \n",
      "\u001b[1;31mPour plus d’informations, consultez Jupyter <a href='command:jupyter.viewOutput'>log</a>."
     ]
    }
   ],
   "source": [
    "min(X[0])"
   ]
  },
  {
   "cell_type": "markdown",
   "metadata": {},
   "source": [
    "# Input data construction"
   ]
  },
  {
   "cell_type": "code",
   "execution_count": null,
   "metadata": {},
   "outputs": [
    {
     "ename": "",
     "evalue": "",
     "output_type": "error",
     "traceback": [
      "\u001b[1;31mÉchec du démarrage du noyau. \n",
      "\u001b[1;31mUnhandled error. \n",
      "\u001b[1;31mPour plus d’informations, consultez Jupyter <a href='command:jupyter.viewOutput'>log</a>."
     ]
    }
   ],
   "source": [
    "capacity_df = stations_info[['station_id','capacity']] \n",
    "# Data frame with columns \"station_id\" and \"capacity\""
   ]
  },
  {
   "cell_type": "code",
   "execution_count": null,
   "metadata": {},
   "outputs": [
    {
     "ename": "",
     "evalue": "",
     "output_type": "error",
     "traceback": [
      "\u001b[1;31mÉchec du démarrage du noyau. \n",
      "\u001b[1;31mUnhandled error. \n",
      "\u001b[1;31mPour plus d’informations, consultez Jupyter <a href='command:jupyter.viewOutput'>log</a>."
     ]
    }
   ],
   "source": [
    "# Capacity Matrix C -> index = stations_match2['station_id']\n",
    "C=capacity_df['capacity'].to_numpy()\n",
    "#C"
   ]
  },
  {
   "cell_type": "code",
   "execution_count": null,
   "metadata": {},
   "outputs": [
    {
     "ename": "",
     "evalue": "",
     "output_type": "error",
     "traceback": [
      "\u001b[1;31mÉchec du démarrage du noyau. \n",
      "\u001b[1;31mUnhandled error. \n",
      "\u001b[1;31mPour plus d’informations, consultez Jupyter <a href='command:jupyter.viewOutput'>log</a>."
     ]
    }
   ],
   "source": [
    "# Distance matrix D -> index = stations_match2['station_id']\n",
    "D=np.zeros((n_stations2,n_stations2))\n",
    "for i in range(n_stations2):\n",
    "    for j in range(n_stations2):\n",
    "        D[i,j]=np.sqrt((stations_info['lon'][i]-stations_info['lon'][j])**2+(stations_info['lat'][i]-stations_info['lat'][j])**2)\n",
    "#D"
   ]
  },
  {
   "cell_type": "code",
   "execution_count": null,
   "metadata": {},
   "outputs": [
    {
     "ename": "",
     "evalue": "",
     "output_type": "error",
     "traceback": [
      "\u001b[1;31mÉchec du démarrage du noyau. \n",
      "\u001b[1;31mUnhandled error. \n",
      "\u001b[1;31mPour plus d’informations, consultez Jupyter <a href='command:jupyter.viewOutput'>log</a>."
     ]
    }
   ],
   "source": [
    "# Feasibility matrix X\n",
    "threshold=np.quantile(D,0.1)\n",
    "# let's build a matrix X with the same shape as D that is equal to 1 when D is inferior to the threshold and 0 otherwise\n",
    "X=np.zeros((n_stations2,n_stations2))\n",
    "for i in range(n_stations2):\n",
    "    for j in range(n_stations2):\n",
    "        if D[i,j]<threshold:\n",
    "            X[i,j]=1"
   ]
  },
  {
   "cell_type": "code",
   "execution_count": null,
   "metadata": {},
   "outputs": [
    {
     "ename": "",
     "evalue": "",
     "output_type": "error",
     "traceback": [
      "\u001b[1;31mÉchec du démarrage du noyau. \n",
      "\u001b[1;31mUnhandled error. \n",
      "\u001b[1;31mPour plus d’informations, consultez Jupyter <a href='command:jupyter.viewOutput'>log</a>."
     ]
    }
   ],
   "source": [
    "# Let's count the non-zero elements of X\n",
    "np.count_nonzero(X)"
   ]
  },
  {
   "cell_type": "code",
   "execution_count": null,
   "metadata": {},
   "outputs": [
    {
     "ename": "",
     "evalue": "",
     "output_type": "error",
     "traceback": [
      "\u001b[1;31mÉchec du démarrage du noyau. \n",
      "\u001b[1;31mUnhandled error. \n",
      "\u001b[1;31mPour plus d’informations, consultez Jupyter <a href='command:jupyter.viewOutput'>log</a>."
     ]
    }
   ],
   "source": [
    "# let's count the non-zero elements in a row of X\n",
    "np.count_nonzero(X[0])"
   ]
  }
 ],
 "metadata": {
  "kernelspec": {
   "display_name": "Python 3.9.13 ('env_maiwenn')",
   "language": "python",
   "name": "python3"
  },
  "language_info": {
   "codemirror_mode": {
    "name": "ipython",
    "version": 3
   },
   "file_extension": ".py",
   "mimetype": "text/x-python",
   "name": "python",
   "nbconvert_exporter": "python",
   "pygments_lexer": "ipython3",
   "version": "3.9.13"
  },
  "orig_nbformat": 4,
  "vscode": {
   "interpreter": {
    "hash": "32466a21a07a3c6fbc499a46ef5738207d953e31ba20ebfadb807195852ba7c1"
   }
  }
 },
 "nbformat": 4,
 "nbformat_minor": 2
}
