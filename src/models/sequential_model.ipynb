{
 "cells": [
  {
   "cell_type": "code",
   "execution_count": 11,
   "metadata": {},
   "outputs": [],
   "source": [
    "using CSV, Tables, LinearAlgebra, Random, Gurobi, JuMP, Statistics, DataFrames, JLD2, Dates"
   ]
  },
  {
   "cell_type": "markdown",
   "metadata": {},
   "source": [
    "# Inputs"
   ]
  },
  {
   "cell_type": "code",
   "execution_count": 12,
   "metadata": {},
   "outputs": [],
   "source": [
    "# Station information\n",
    "stations_info = CSV.read(\"../../data/stations/station_information.csv\", DataFrame);"
   ]
  },
  {
   "cell_type": "markdown",
   "metadata": {},
   "source": [
    "#### for top 30 stations"
   ]
  },
  {
   "cell_type": "code",
   "execution_count": 13,
   "metadata": {},
   "outputs": [],
   "source": [
    "# Capacity\n",
    "C_30=CSV.read(\"../../data/parameters/top30/C.csv\", DataFrame, header=false);\n",
    "# initial bikes availability\n",
    "y0_30=CSV.read(\"../../data/parameters/top30/y0_00.csv\", DataFrame, header=false);\n",
    "#y0_30_2=CSV.read(\"../../data/parameters/top30/y0_55.csv\", DataFrame, header=false);\n",
    "#y0_30_3=CSV.read(\"../../data/parameters/top30/y0_58.csv\", DataFrame, header=false);\n",
    "# Distances\n",
    "D_30 = load(\"../../data/parameters/top30/D.jld2\",\"D_30\");\n",
    "# Feasibility\n",
    "X_30 = load(\"../../data/parameters/top30/X.jld2\",\"X_30\");\n",
    "Xfeas_30 = load(\"../../data/parameters/top30/X_feasible.jld2\",\"Xfeas_30\");\n",
    "# Demand\n",
    "d_30_1 = load(\"../../data/parameters/top30/d_1.jld2\",\"d_30_1\");\n",
    "d_30_2 = load(\"../../data/parameters/top30/d_2.jld2\",\"d_30_2\");\n",
    "d_30_3 = load(\"../../data/parameters/top30/d_3.jld2\",\"d_30_3\");\n",
    "d_30_4 = load(\"../../data/parameters/top30/d_4.jld2\",\"d_30_4\");\n",
    "d_30_5 = load(\"../../data/parameters/top30/d_5.jld2\",\"d_30_5\");"
   ]
  },
  {
   "cell_type": "markdown",
   "metadata": {},
   "source": [
    "### for top 50 stations"
   ]
  },
  {
   "cell_type": "code",
   "execution_count": 14,
   "metadata": {},
   "outputs": [],
   "source": [
    "# Capacity\n",
    "#C_50=CSV.read(\"../../data/parameters/top50/C.csv\", DataFrame, header=false);\n",
    "## initial bikes availability\n",
    "#y0_50_1=CSV.read(\"../../data/parameters/top50/y0_00.csv\", DataFrame, header=false);\n",
    "#y0_50_2=CSV.read(\"../../data/parameters/top50/y0_55.csv\", DataFrame, header=false);\n",
    "#y0_50_3=CSV.read(\"../../data/parameters/top50/y0_58.csv\", DataFrame, header=false);\n",
    "## Distances\n",
    "#D_50 = load(\"../../data/parameters/top50/D.jld2\",\"D_50\");\n",
    "## Feasibility\n",
    "#X_50 = load(\"../../data/parameters/top50/X.jld2\",\"X_50\");\n",
    "#Xfeas_50 = load(\"../../data/parameters/top50/X_feasible.jld2\",\"Xfeas_50\");\n",
    "## Demand\n",
    "#d_50_1 = load(\"../../data/parameters/top50/d_1.jld2\",\"d_50_1\");\n",
    "#d_50_2 = load(\"../../data/parameters/top50/d_2.jld2\",\"d_50_2\");\n",
    "#d_50_3 = load(\"../../data/parameters/top50/d_3.jld2\",\"d_50_3\");"
   ]
  },
  {
   "cell_type": "markdown",
   "metadata": {},
   "source": [
    "# Model - Sequential"
   ]
  },
  {
   "cell_type": "code",
   "execution_count": 15,
   "metadata": {},
   "outputs": [
    {
     "data": {
      "text/plain": [
       "solve_sequential_model (generic function with 1 method)"
      ]
     },
     "execution_count": 15,
     "metadata": {},
     "output_type": "execute_result"
    }
   ],
   "source": [
    "function solve_sequential_model(K,S,C,D,X,y0,d,lambda,time_limit,save)\n",
    "    model = Model(Gurobi.Optimizer)\n",
    "    # set_optimizer_attribute(model, \"OutputFlag\", 0)\n",
    "    set_optimizer_attribute(model, \"TimeLimit\", time_limit)\n",
    "\n",
    "    n_stations, _, n_hours = size(d)\n",
    "    C=C[!,1]\n",
    "    y0=y0[!,1]\n",
    "    # Decision variables\n",
    "    @variable(model, x[1:n_stations, 1:n_stations, 1:K, 1:n_hours], Bin)\n",
    "    @variable(model, v[1:n_stations, 1:n_stations, 1:K, 1:n_hours], Bin)\n",
    "    @variable(model, 0 <= z[1:n_stations, 1:n_stations, 1:K, 1:n_hours], Int)\n",
    "    @variable(model, 0 <= y[1:n_stations, 1:n_hours]) # Int by definition of the constraints\n",
    "    @variable(model, 0 <= w[1:n_stations, 1:n_stations, 1:n_hours], Int)\n",
    "    @variable(model, 0 <= u[1:n_stations, 1:n_stations, 1:n_hours])\n",
    "\n",
    "    # Add constraints:\n",
    "    # Stations capacity\n",
    "    @constraint(model, [i in 1:n_stations, t in 1:n_hours], y[i,t] <= C[i])\n",
    "    # Flow balance \n",
    "    @constraint(model, [i in 1:n_stations, t in 2:n_hours], y[i,t] - y[i,t-1] == sum(w[j,i,t] for j in 1:n_stations)-sum(w[i,j,t] for j in 1:n_stations)-sum(z[i,j,k,t] for j in 1:n_stations, k in 1:K)+sum(z[j,i,k,t] for j in 1:n_stations, k in 1:K))\n",
    "    # Flow balance for the first hour \n",
    "    @constraint(model, [i in 1:n_stations], y[i,1] - y0[i] == sum(w[j,i,1] for j in 1:n_stations)-sum(w[i,j,1] for j in 1:n_stations)-sum(z[i,j,k,1] for j in 1:n_stations, k in 1:K)+sum(z[j,i,k,1] for j in 1:n_stations, k in 1:K))\n",
    "    # Vans capacity\n",
    "    @constraint(model, [i in 1:n_stations, j in 1:n_stations, k in 1:K, t in 1:n_hours], z[i,j,k,t] <= S)\n",
    "    # Users travel availability\n",
    "    @constraint(model, [i in 1:n_stations, t in 1:n_hours], -y[i,t] <= sum(w[j,i,t] for j in 1:n_stations) - sum(w[i,j,t] for j in 1:n_stations))\n",
    "    @constraint(model, [i in 1:n_stations, t in 1:n_hours], sum(w[j,i,t] for j in 1:n_stations) - sum(w[i,j,t] for j in 1:n_stations)<= C[i] - y[i,t])\n",
    "    \n",
    "    # Max 1 rebalancing per hour per van\n",
    "    @constraint(model, [k in 1:K, t in 1:n_hours], sum(x[i,j,k,t] for i in 1:n_stations, j in 1:n_stations) == 1)\n",
    "    @constraint(model, [k in 1:K, t in 1:n_hours], sum(v[i,j,k,t] for i in 1:n_stations, j in 1:n_stations) == 1)\n",
    "    # Rebalancing feasibility\n",
    "    @constraint(model, [i in 1:n_stations, j in 1:n_stations, k in 1:K, t in 1:n_hours], z[i,j,k,t] <= S*x[i,j,k,t])\n",
    "    for i in 1:n_stations\n",
    "        for j in 1:n_stations\n",
    "            if X[i,j] == 0\n",
    "                for k in 1:K\n",
    "                    for t in 1:n_hours\n",
    "                        @constraint(model, x[i,j,k,t] == 0)\n",
    "                        @constraint(model, v[i,j,k,t] == 0)\n",
    "                        @constraint(model, z[i,j,k,t] == 0)\n",
    "                    end\n",
    "                end\n",
    "            end\n",
    "        end\n",
    "    end\n",
    "   # Vans must travel sequentially\n",
    "    @constraint(model, [i in 1:n_stations, k in 1:K, t in 2:n_hours], sum(x[i,j,k,t] for j in 1:n_stations) <= sum(v[l,i,k,t-1] for l in 1:n_stations))\n",
    "    @constraint(model, [j in 1:n_stations, k in 1:K, t in 1:n_hours], sum(v[j,l,k,t] for l in 1:n_stations) <= sum(x[i,j,k,t] for i in 1:n_stations))\n",
    "    \n",
    "    @constraint(model, [i in 1:n_stations, j in 1:n_stations, t in 1:n_hours], w[i,j,t] <= d[i,j,t])\n",
    "    @constraint(model, [i in 1:n_stations, j in 1:n_stations, t in 1:n_hours], u[i,j,t] >= d[i,j,t] - w[i,j,t])\n",
    "    \n",
    "    # Users travel is inferior to the demand and definition of u\n",
    "    #for eps in -2:1:2 # for Robustness\n",
    "    #    for i in 1:n_stations\n",
    "    #        for j in 1:n_stations\n",
    "    #            for t in 1:n_hours\n",
    "    #                if d[i,j,t] + eps >=0\n",
    "    #                    @constraint(model, u[i,j,t] >= d[i,j,t] + eps - w[i,j,t])\n",
    "    #                    @constraint(model, d[i,j,t] + eps >= w[i,j,t])\n",
    "    #                end\n",
    "    #            end\n",
    "    #        end\n",
    "    #    end    \n",
    "    #end\n",
    "\n",
    "    # Set objective\n",
    "    @objective(model, Min, sum(u[i,j,t] for i in 1:n_stations, j in 1:n_stations, t in 1:n_hours)+lambda*sum(D[i,j]*(x[i,j,k,t]+v[i,j,k,t]/3) for i in 1:n_stations, j in 1:n_stations, k in 1:K, t in 1:n_hours))\n",
    "    \n",
    "    # Solve the model\n",
    "    optimize!(model)\n",
    "    \n",
    "    # Export the solution\n",
    "    x_sol = value.(x)\n",
    "    v_sol = value.(v)\n",
    "    z_sol = value.(z)\n",
    "    w_sol = value.(w)\n",
    "    y_sol = value.(y)\n",
    "    u_sol = value.(u)\n",
    "\n",
    "    if save\n",
    "        # current date without millisecond and no colon\n",
    "        current_date = Dates.format(now(), \"yyyy-mm-ddTHHMMSS\")\n",
    "        folder = \"../../results/data/\"*string(current_date)*\"_nstations_\"*string(n_stations)*\"_nvans_\"*string(K)*\"_capacity_\"*string(S)*\"_lambda_\"*string(lambda)*\"_timelimit_\"*string(time_limit)*\"/\"\n",
    "        mkdir(folder)\n",
    "        CSV.write(folder*\"x.csv\", Tables.table(reshape(x_sol,:)), writeheader=false)\n",
    "        CSV.write(folder*\"v.csv\", Tables.table(reshape(v_sol,:)), writeheader=false)\n",
    "        CSV.write(folder*\"z.csv\", Tables.table(reshape(z_sol,:)), writeheader=false)\n",
    "        CSV.write(folder*\"w.csv\", Tables.table(reshape(w_sol,:)), writeheader=false)\n",
    "        CSV.write(folder*\"y.csv\", Tables.table(reshape(y_sol,:)), writeheader=false)\n",
    "        CSV.write(folder*\"u.csv\", Tables.table(reshape(u_sol,:)), writeheader=false)\n",
    "        CSV.write(folder*\"d.csv\", Tables.table(reshape(d,:)), writeheader=false)\n",
    "    end\n",
    "\n",
    "    return value.(x), value.(v), value.(w), value.(u), value.(y), value.(z), objective_value(model)\n",
    "end"
   ]
  },
  {
   "cell_type": "markdown",
   "metadata": {},
   "source": [
    "## No rebalancing model"
   ]
  },
  {
   "cell_type": "code",
   "execution_count": 54,
   "metadata": {},
   "outputs": [
    {
     "data": {
      "text/plain": [
       "solve_no_rebalancing_model (generic function with 1 method)"
      ]
     },
     "execution_count": 54,
     "metadata": {},
     "output_type": "execute_result"
    }
   ],
   "source": [
    "function solve_no_rebalancing_model(C,D,X,y0,d,time_limit,save)\n",
    "    model = Model(Gurobi.Optimizer)\n",
    "    # set_optimizer_attribute(model, \"OutputFlag\", 0)\n",
    "    set_optimizer_attribute(model, \"TimeLimit\", time_limit)\n",
    "    K=1\n",
    "    n_stations, _, n_hours = size(d)\n",
    "    C=C[!,1]\n",
    "    y0=y0[!,1]\n",
    "    # Decision variables\n",
    "    @variable(model, 0 <= y[1:n_stations, 1:n_hours]) # Int by definition of the constraints\n",
    "    @variable(model, 0 <= w[1:n_stations, 1:n_stations, 1:n_hours], Int)\n",
    "    @variable(model, 0 <= u[1:n_stations, 1:n_stations, 1:n_hours])\n",
    "\n",
    "    # Add constraints:\n",
    "    # Stations capacity\n",
    "    @constraint(model, [i in 1:n_stations, t in 1:n_hours], y[i,t] <= C[i])\n",
    "    # Flow balance \n",
    "    @constraint(model, [i in 1:n_stations, t in 2:n_hours], y[i,t] - y[i,t-1] == sum(w[j,i,t] for j in 1:n_stations)-sum(w[i,j,t] for j in 1:n_stations))\n",
    "    # Flow balance for the first hour \n",
    "    @constraint(model, [i in 1:n_stations], y[i,1] - y0[i] == sum(w[j,i,1] for j in 1:n_stations)-sum(w[i,j,1] for j in 1:n_stations))\n",
    "    # Users travel availability\n",
    "    @constraint(model, [i in 1:n_stations, t in 1:n_hours], -y[i,t] <= sum(w[j,i,t] for j in 1:n_stations) - sum(w[i,j,t] for j in 1:n_stations))\n",
    "    @constraint(model, [i in 1:n_stations, t in 1:n_hours], sum(w[j,i,t] for j in 1:n_stations) - sum(w[i,j,t] for j in 1:n_stations)<= C[i] - y[i,t])\n",
    "    \n",
    "    @constraint(model, [i in 1:n_stations, j in 1:n_stations, t in 1:n_hours], w[i,j,t] <= d[i,j,t])\n",
    "    @constraint(model, [i in 1:n_stations, j in 1:n_stations, t in 1:n_hours], u[i,j,t] >= d[i,j,t] - w[i,j,t])\n",
    "    # Users travel is inferior to the demand and definition of u\n",
    "    #for eps in -2:1:2 # for Robustness\n",
    "    #    for i in 1:n_stations\n",
    "    #        for j in 1:n_stations\n",
    "    #            for t in 1:n_hours\n",
    "    #                if d[i,j,t] + eps >=0 \n",
    "    #                    @constraint(model, u[i,j,t] >= d[i,j,t] + eps - w[i,j,t])\n",
    "    #                    @constraint(model, d[i,j,t] + eps >= w[i,j,t])\n",
    "    #                end\n",
    "    #            end\n",
    "    #        end\n",
    "    #    end    \n",
    "    #end\n",
    "\n",
    "    # Set objective\n",
    "    @objective(model, Min, sum(u[i,j,t] for i in 1:n_stations, j in 1:n_stations, t in 1:n_hours))\n",
    "    \n",
    "    # Solve the model\n",
    "    optimize!(model)\n",
    "    \n",
    "    # Export the solution\n",
    "    x_sol = zeros(n_stations,n_stations,K,n_hours)\n",
    "    v_sol = zeros(n_stations,n_stations,K,n_hours)\n",
    "    z_sol = zeros(n_stations,n_stations,K,n_hours)\n",
    "    w_sol = value.(w)\n",
    "    y_sol = value.(y)\n",
    "    u_sol = value.(u)\n",
    "\n",
    "    if save\n",
    "        # current date without millisecond and no colon\n",
    "        current_date = Dates.format(now(), \"yyyy-mm-ddTHHMMSS\")\n",
    "        folder = \"../../results/data/\"*string(current_date)*\"_nstations_\"*string(n_stations)*\"_nvans_\"*string(K)*\"_capacity_\"*string(S)*\"_lambda_\"*string(lambda)*\"_timelimit_\"*string(time_limit)*\"_norebal\"*\"/\"\n",
    "        mkdir(folder)\n",
    "        CSV.write(folder*\"x.csv\", Tables.table(reshape(x_sol,:)), writeheader=false)\n",
    "        CSV.write(folder*\"v.csv\", Tables.table(reshape(v_sol,:)), writeheader=false)\n",
    "        CSV.write(folder*\"z.csv\", Tables.table(reshape(z_sol,:)), writeheader=false)\n",
    "        CSV.write(folder*\"w.csv\", Tables.table(reshape(w_sol,:)), writeheader=false)\n",
    "        CSV.write(folder*\"y.csv\", Tables.table(reshape(y_sol,:)), writeheader=false)\n",
    "        CSV.write(folder*\"u.csv\", Tables.table(reshape(u_sol,:)), writeheader=false)\n",
    "        CSV.write(folder*\"d.csv\", Tables.table(reshape(d,:)), writeheader=false)\n",
    "    end\n",
    "\n",
    "    return x_sol, v_sol, value.(w), value.(u), value.(y), z_sol, objective_value(model)\n",
    "end"
   ]
  },
  {
   "cell_type": "markdown",
   "metadata": {},
   "source": [
    "### Parameters"
   ]
  },
  {
   "cell_type": "code",
   "execution_count": 17,
   "metadata": {},
   "outputs": [],
   "source": [
    "# Number of vans\n",
    "K=5\n",
    "# Capacity of vans\n",
    "S=20\n",
    "# Trade-off for multi-objective\n",
    "lambda=4; # to be tuned according to the objectives scales"
   ]
  },
  {
   "cell_type": "markdown",
   "metadata": {},
   "source": [
    "### with top 30 stations"
   ]
  },
  {
   "cell_type": "code",
   "execution_count": 19,
   "metadata": {},
   "outputs": [],
   "source": [
    "#findall(x -> x >0.5, z_1[:,:,:,:]);"
   ]
  },
  {
   "cell_type": "code",
   "execution_count": null,
   "metadata": {},
   "outputs": [],
   "source": [
    "#findall(x -> x >0.5, x_1[:,:,:,:]);"
   ]
  },
  {
   "cell_type": "code",
   "execution_count": 20,
   "metadata": {},
   "outputs": [],
   "source": [
    "# Count the number of non-moving trips\n",
    "#non_moving=sum(sum(x_1[i,i,:,:] for i in 1:30))\n",
    "# Count the number of rebalancing trips\n",
    "#rebalancing=sum(sum(x_1[i,j,:,:] for i in 1:30, j in 1:30))-non_moving"
   ]
  },
  {
   "cell_type": "markdown",
   "metadata": {},
   "source": [
    "## Try different K"
   ]
  },
  {
   "cell_type": "code",
   "execution_count": 21,
   "metadata": {},
   "outputs": [
    {
     "data": {
      "text/plain": [
       "build_analysis (generic function with 1 method)"
      ]
     },
     "execution_count": 21,
     "metadata": {},
     "output_type": "execute_result"
    }
   ],
   "source": [
    "function build_analysis(nb_rebalancings,unmet_demand,distance_vans)\n",
    "    analysis_K_30=Dict()\n",
    "    analysis_K_30[\"K\"]=1:10\n",
    "    analysis_K_30[\"nb_rebalancings\"]=nb_rebalancings\n",
    "    analysis_K_30[\"unmet_demand\"]=unmet_demand\n",
    "    analysis_K_30[\"distance_vans\"]=distance_vans\n",
    "    return analysis_K_30\n",
    "end"
   ]
  },
  {
   "cell_type": "markdown",
   "metadata": {},
   "source": [
    "### for 30 stations"
   ]
  },
  {
   "cell_type": "code",
   "execution_count": 22,
   "metadata": {},
   "outputs": [
    {
     "data": {
      "text/plain": [
       "compute_results (generic function with 1 method)"
      ]
     },
     "execution_count": 22,
     "metadata": {},
     "output_type": "execute_result"
    }
   ],
   "source": [
    "function compute_results(x_1,v_1,D_30,u_1,K)\n",
    "    n_stations,_,_,n_hours=size(x_1)\n",
    "    nb_rebalancings=sum(sum(x_1[i,j,:,:] for i in 1:n_stations, j in 1:n_stations))-sum(sum(x_1[i,i,:,:] for i in 1:n_stations))\n",
    "    unmet_demand=sum(u_1[i,j,t] for i in 1:n_stations, j in 1:n_stations, t in 1:n_hours)\n",
    "    distance_vans=sum(D_30[i,j]*(x_1[i,j,k,t]+v_1[i,j,k,t]) for i in 1:n_stations, j in 1:n_stations, k in 1:K, t in 1:n_hours)\n",
    "    return nb_rebalancings,unmet_demand,distance_vans\n",
    "end"
   ]
  },
  {
   "cell_type": "code",
   "execution_count": 23,
   "metadata": {},
   "outputs": [
    {
     "data": {
      "text/plain": [
       "results_day (generic function with 2 methods)"
      ]
     },
     "execution_count": 23,
     "metadata": {},
     "output_type": "execute_result"
    }
   ],
   "source": [
    "function results_day(S,C_30,D_30,Xfeas_30,y0_30,demand,lambda,timelimit,save)\n",
    "    nb_rebalancings=zeros(10)\n",
    "    unmet_demand=zeros(10)\n",
    "    distance_vans=zeros(10)\n",
    "    for K in 1:10\n",
    "        println(K)\n",
    "        n_stations,_,n_hours=size(demand)\n",
    "        x,v,w,u,y,z,obj=solve_sequential_model(K,S,C_30,D_30,Xfeas_30,y0_30,demand,lambda,timelimit,save);\n",
    "        nb_rebalancings_K,unmet_demand_K,distance_vans_K=compute_results(x,v,D_30,u,K)\n",
    "        nb_rebalancings[K]=nb_rebalancings_K\n",
    "        unmet_demand[K]=unmet_demand_K\n",
    "        distance_vans[K]=distance_vans_K\n",
    "    end\n",
    "    return build_analysis(nb_rebalancings,unmet_demand,distance_vans)\n",
    "end"
   ]
  },
  {
   "cell_type": "code",
   "execution_count": 24,
   "metadata": {},
   "outputs": [],
   "source": [
    "lambda=4\n",
    "S=20\n",
    "# day 1 - with and without rebalancing\n",
    "#analysis_K_30_day1=results_day(S,C_30,D_30,Xfeas_30,y0_30,d_30_1,lambda,160,true)\n",
    "#CSV.write(\"../../results/data/analysis_K_30_day1.csv\", DataFrame(analysis_K_30_day1))\n",
    "# without\n",
    "#x_1b,v_1_b,w_1b,u_1b,y_1b,z_1b,obj_1b=solve_no_rebalancing_model(C_30,D_30,Xfeas_30,y0_30,d_30_1,160,true);"
   ]
  },
  {
   "cell_type": "code",
   "execution_count": 25,
   "metadata": {},
   "outputs": [],
   "source": [
    "# day 2\n",
    "#analysis_K_30_day2=results_day(S,C_30,D_30,Xfeas_30,y0_30,d_30_2,lambda,160,false);\n",
    "#CSV.write(\"../../results/data/analysis_K_30_day2.csv\", DataFrame(analysis_K_30_day2));"
   ]
  },
  {
   "cell_type": "code",
   "execution_count": 26,
   "metadata": {},
   "outputs": [],
   "source": [
    "# day 3\n",
    "#analysis_K_30_day3=results_day(S,C_30,D_30,Xfeas_30,y0_30,d_30_3,lambda,160,false)\n",
    "#CSV.write(\"../../results/data/analysis_K_30_day3.csv\", DataFrame(analysis_K_30_day3))"
   ]
  },
  {
   "cell_type": "code",
   "execution_count": 60,
   "metadata": {},
   "outputs": [],
   "source": [
    "#lambda=4\n",
    "#S=20\n",
    "## day 4\n",
    "#analysis_K_30_day4=results_day(S,C_30,D_30,Xfeas_30,y0_30,d_30_4,lambda,160,false)\n",
    "#CSV.write(\"../../results/data/analysis_K_30_day4.csv\", DataFrame(analysis_K_30_day4))"
   ]
  },
  {
   "cell_type": "code",
   "execution_count": 29,
   "metadata": {},
   "outputs": [],
   "source": [
    "# day 5\n",
    "#analysis_K_30_day5=results_day(K,S,C_30,D_30,Xfeas_30,y0_30,d_30_5,lambda,160,true)\n",
    "#CSV.write(\"../../results/data/analysis_K_30_day5.csv\", DataFrame(analysis_K_30_day5))"
   ]
  },
  {
   "cell_type": "markdown",
   "metadata": {},
   "source": [
    "## Unmet demand analysis for the 5 days"
   ]
  },
  {
   "cell_type": "code",
   "execution_count": 61,
   "metadata": {},
   "outputs": [],
   "source": [
    "d_30_1 = load(\"../../data/parameters/top30/d_1.jld2\",\"d_30_1\");\n",
    "d_30_2 = load(\"../../data/parameters/top30/d_2.jld2\",\"d_30_2\");\n",
    "d_30_3 = load(\"../../data/parameters/top30/d_3.jld2\",\"d_30_3\");\n",
    "d_30_4 = load(\"../../data/parameters/top30/d_4.jld2\",\"d_30_4\");\n",
    "d_30_5 = load(\"../../data/parameters/top30/d_5.jld2\",\"d_30_5\");"
   ]
  },
  {
   "cell_type": "code",
   "execution_count": 71,
   "metadata": {},
   "outputs": [
    {
     "name": "stdout",
     "output_type": "stream",
     "text": [
      "Set parameter Username\n",
      "Academic license - for non-commercial use only - expires 2023-09-04\n",
      "Set parameter TimeLimit to value 160\n",
      "Set parameter TimeLimit to value 160\n",
      "Gurobi Optimizer version 9.5.2 build v9.5.2rc0 (mac64[rosetta2])\n",
      "Thread count: 8 physical cores, 8 logical processors, using up to 8 threads\n",
      "Optimize a model with 309229 rows, 392832 columns and 1480231 nonzeros\n",
      "Model fingerprint: 0xd28c00d9\n",
      "Variable types: 23808 continuous, 369024 integer (230640 binary)\n",
      "Coefficient statistics:\n",
      "  Matrix range     [1e+00, 2e+01]\n",
      "  Objective range  [2e-01, 4e+03]\n",
      "  Bounds range     [0e+00, 0e+00]\n",
      "  RHS range        [1e+00, 7e+03]\n",
      "Presolve removed 195710 rows and 74097 columns\n",
      "Presolve time: 1.17s\n",
      "Presolved: 113519 rows, 318735 columns, 1059016 nonzeros\n",
      "Variable types: 0 continuous, 318735 integer (212468 binary)\n",
      "\n",
      "Deterministic concurrent LP optimizer: primal and dual simplex\n",
      "Showing first log only...\n",
      "\n",
      "\n",
      "Root simplex log...\n",
      "\n",
      "Iteration    Objective       Primal Inf.    Dual Inf.      Time\n",
      "   30830    1.1771126e+03   0.000000e+00   1.061663e+06      5s\n",
      "Concurrent spin time: 0.00s\n",
      "\n",
      "Solved with dual simplex\n",
      "\n",
      "Root relaxation: objective 2.946362e+02, 41472 iterations, 3.49 seconds (5.81 work units)\n",
      "Total elapsed time = 10.26s\n",
      "\n",
      "    Nodes    |    Current Node    |     Objective Bounds      |     Work\n",
      " Expl Unexpl |  Obj  Depth IntInf | Incumbent    BestBd   Gap | It/Node Time\n",
      "\n",
      "     0     0  294.63617    0 1555          -  294.63617      -     -   12s\n",
      "H    0     0                     544.6421710  294.63617  45.9%     -   16s\n",
      "H    0     0                     531.6305611  294.63617  44.6%     -   16s\n",
      "     0     0  299.07832    0 2295  531.63056  299.07832  43.7%     -   32s\n",
      "H    0     0                     501.9656610  299.07832  40.4%     -   77s\n",
      "     0     0  305.84606    0 2380  501.96566  305.84606  39.1%     -   97s\n",
      "     0     0  306.18213    0 2296  501.96566  306.18213  39.0%     -   98s\n",
      "     0     0  306.18213    0 2289  501.96566  306.18213  39.0%     -   99s\n",
      "     0     0  308.43123    0 2485  501.96566  308.43123  38.6%     -  128s\n",
      "     0     0  313.94503    0 2756  501.96566  313.94503  37.5%     -  153s\n",
      "     0     0          -    0       501.96566  313.94503  37.5%     -  160s\n",
      "\n",
      "Cutting planes:\n",
      "  Gomory: 24\n",
      "  MIR: 253\n",
      "  StrongCG: 11\n",
      "  Flow cover: 69\n",
      "  Flow path: 5\n",
      "  Zero half: 10\n",
      "\n",
      "Explored 1 nodes (109264 simplex iterations) in 160.03 seconds (307.26 work units)\n",
      "Thread count was 8 (of 8 available processors)\n",
      "\n",
      "Solution count 3: 501.966 531.631 544.642 \n",
      "\n",
      "Time limit reached\n",
      "Best objective 5.019656610348e+02, best bound 3.139450288815e+02, gap 37.4569%\n",
      "\n",
      "User-callback calls 20095, time in user-callback 0.01 sec\n"
     ]
    }
   ],
   "source": [
    "K=5\n",
    "S=20\n",
    "lambda=4\n",
    "x_1,v_1,w_1,u_1,y_1,z_1,obj_1=solve_sequential_model(K,S,C_30,D_30,Xfeas_30,y0_30,d_30_1,lambda,160,false);"
   ]
  },
  {
   "cell_type": "code",
   "execution_count": 120,
   "metadata": {},
   "outputs": [
    {
     "data": {
      "text/plain": [
       "solve_sequential_model_xv_fixed (generic function with 2 methods)"
      ]
     },
     "execution_count": 120,
     "metadata": {},
     "output_type": "execute_result"
    }
   ],
   "source": [
    "function solve_sequential_model_xv_fixed(K,S,C,D,X,y0,d_,lambda,time_limit,save,x,v)\n",
    "    model = Model(Gurobi.Optimizer)\n",
    "    # set_optimizer_attribute(model, \"OutputFlag\", 0)\n",
    "    set_optimizer_attribute(model, \"TimeLimit\", time_limit)\n",
    "\n",
    "    n_stations, _, n_hours = size(d_)\n",
    "    C=C[!,1]\n",
    "    y0=y0[!,1]\n",
    "    # Decision variables\n",
    "    #@variable(model, x[1:n_stations, 1:n_stations, 1:K, 1:n_hours], Bin)\n",
    "    #@variable(model, v[1:n_stations, 1:n_stations, 1:K, 1:n_hours], Bin)\n",
    "    @variable(model, 0 <= z[1:n_stations, 1:n_stations, 1:K, 1:n_hours], Int)\n",
    "    @variable(model, 0 <= y[1:n_stations, 1:n_hours]) # Int by definition of the constraints\n",
    "    @variable(model, 0 <= w[1:n_stations, 1:n_stations, 1:n_hours], Int)\n",
    "    @variable(model, 0 <= u[1:n_stations, 1:n_stations, 1:n_hours])\n",
    "\n",
    "    # Add constraints:\n",
    "    # Stations capacity\n",
    "    @constraint(model, [i in 1:n_stations, t in 1:n_hours], y[i,t] <= C[i])\n",
    "    # Flow balance \n",
    "    @constraint(model, [i in 1:n_stations, t in 2:n_hours], y[i,t] - y[i,t-1] == sum(w[j,i,t] for j in 1:n_stations)-sum(w[i,j,t] for j in 1:n_stations)-sum(z[i,j,k,t] for j in 1:n_stations, k in 1:K)+sum(z[j,i,k,t] for j in 1:n_stations, k in 1:K))\n",
    "    # Flow balance for the first hour \n",
    "    @constraint(model, [i in 1:n_stations], y[i,1] - y0[i] == sum(w[j,i,1] for j in 1:n_stations)-sum(w[i,j,1] for j in 1:n_stations)-sum(z[i,j,k,1] for j in 1:n_stations, k in 1:K)+sum(z[j,i,k,1] for j in 1:n_stations, k in 1:K))\n",
    "    # Vans capacity\n",
    "    @constraint(model, [i in 1:n_stations, j in 1:n_stations, k in 1:K, t in 1:n_hours], z[i,j,k,t] <= S)\n",
    "    # Users travel availability\n",
    "    @constraint(model, [i in 1:n_stations, t in 1:n_hours], -y[i,t] <= sum(w[j,i,t] for j in 1:n_stations) - sum(w[i,j,t] for j in 1:n_stations))\n",
    "    @constraint(model, [i in 1:n_stations, t in 1:n_hours], sum(w[j,i,t] for j in 1:n_stations) - sum(w[i,j,t] for j in 1:n_stations)<= C[i] - y[i,t])\n",
    "    \n",
    "    # Rebalancing feasibility\n",
    "    @constraint(model, [i in 1:n_stations, j in 1:n_stations, k in 1:K, t in 1:n_hours], z[i,j,k,t] <= S*x[i,j,k,t])\n",
    "   \n",
    "    # CONSTRAINT THAT MAKE THE PROBLEM INFEASIBLE ??\n",
    "    @constraint(model, [i in 1:n_stations, j in 1:n_stations, t in 1:n_hours], w[i,j,t] <= d_[i,j,t])\n",
    "    @constraint(model, [i in 1:n_stations, j in 1:n_stations, t in 1:n_hours], u[i,j,t] >= d_[i,j,t] - w[i,j,t])\n",
    "\n",
    "    # Set objective\n",
    "    @objective(model, Min, sum(u[i,j,t] for i in 1:n_stations, j in 1:n_stations, t in 1:n_hours)+lambda*sum(D[i,j]*(x[i,j,k,t]+v[i,j,k,t]/3) for i in 1:n_stations, j in 1:n_stations, k in 1:K, t in 1:n_hours))\n",
    "    \n",
    "    # Solve the model\n",
    "    optimize!(model)\n",
    "    \n",
    "    # Export the solution\n",
    "    x_sol = x\n",
    "    v_sol = v\n",
    "    z_sol = value.(z)\n",
    "    w_sol = value.(w)\n",
    "    y_sol = value.(y)\n",
    "    u_sol = value.(u)\n",
    "\n",
    "    return x_sol, v_sol, w_sol, u_sol, y_sol, z_sol, objective_value(model)\n",
    "end"
   ]
  },
  {
   "cell_type": "code",
   "execution_count": 122,
   "metadata": {},
   "outputs": [
    {
     "data": {
      "text/plain": [
       "0.0"
      ]
     },
     "execution_count": 122,
     "metadata": {},
     "output_type": "execute_result"
    }
   ],
   "source": [
    "minimum(d_30_2)"
   ]
  },
  {
   "cell_type": "code",
   "execution_count": 121,
   "metadata": {},
   "outputs": [
    {
     "name": "stdout",
     "output_type": "stream",
     "text": [
      "Set parameter Username\n",
      "Academic license - for non-commercial use only - expires 2023-09-04\n",
      "Set parameter TimeLimit to value 160\n",
      "Set parameter TimeLimit to value 160\n",
      "Gurobi Optimizer version 9.5.2 build v9.5.2rc0 (mac64[rosetta2])\n",
      "Thread count: 8 physical cores, 8 logical processors, using up to 8 threads\n",
      "Optimize a model with 279744 rows, 162192 columns and 660641 nonzeros\n",
      "Model fingerprint: 0xb4c9919c\n",
      "Variable types: 23808 continuous, 138384 integer (0 binary)\n",
      "Coefficient statistics:\n",
      "  Matrix range     [1e+00, 1e+00]\n",
      "  Objective range  [1e+00, 1e+00]\n",
      "  Bounds range     [0e+00, 0e+00]\n",
      "  RHS range        [1e+00, 7e+03]\n",
      "Presolve removed 277822 rows and 159147 columns\n",
      "Presolve time: 0.04s\n",
      "\n",
      "Explored 0 nodes (0 simplex iterations) in 0.08 seconds (0.18 work units)\n",
      "Thread count was 1 (of 8 available processors)\n",
      "\n",
      "Solution count 0\n",
      "\n",
      "Model is infeasible\n",
      "Best objective -, best bound -, gap -\n",
      "\n",
      "User-callback calls 94, time in user-callback 0.00 sec\n"
     ]
    },
    {
     "ename": "LoadError",
     "evalue": "Result index of attribute MathOptInterface.VariablePrimal(1) out of bounds. There are currently 0 solution(s) in the model.",
     "output_type": "error",
     "traceback": [
      "Result index of attribute MathOptInterface.VariablePrimal(1) out of bounds. There are currently 0 solution(s) in the model.",
      "",
      "Stacktrace:",
      "  [1] check_result_index_bounds",
      "    @ ~/.julia/packages/MathOptInterface/LqT2k/src/attributes.jl:198 [inlined]",
      "  [2] get(model::Gurobi.Optimizer, attr::MathOptInterface.VariablePrimal, x::MathOptInterface.VariableIndex)",
      "    @ Gurobi ~/.julia/packages/Gurobi/VPomg/src/MOI_wrapper/MOI_wrapper.jl:2846",
      "  [3] get(b::MathOptInterface.Bridges.LazyBridgeOptimizer{Gurobi.Optimizer}, attr::MathOptInterface.VariablePrimal, index::MathOptInterface.VariableIndex)",
      "    @ MathOptInterface.Bridges ~/.julia/packages/MathOptInterface/LqT2k/src/Bridges/bridge_optimizer.jl:1116",
      "  [4] get(model::MathOptInterface.Utilities.CachingOptimizer{MathOptInterface.Bridges.LazyBridgeOptimizer{Gurobi.Optimizer}, MathOptInterface.Utilities.UniversalFallback{MathOptInterface.Utilities.Model{Float64}}}, attr::MathOptInterface.VariablePrimal, index::MathOptInterface.VariableIndex)",
      "    @ MathOptInterface.Utilities ~/.julia/packages/MathOptInterface/LqT2k/src/Utilities/cachingoptimizer.jl:911",
      "  [5] _moi_get_result(::MathOptInterface.Utilities.CachingOptimizer{MathOptInterface.Bridges.LazyBridgeOptimizer{Gurobi.Optimizer}, MathOptInterface.Utilities.UniversalFallback{MathOptInterface.Utilities.Model{Float64}}}, ::MathOptInterface.VariablePrimal, ::Vararg{Any})",
      "    @ JuMP ~/.julia/packages/JuMP/60Bnj/src/JuMP.jl:1155",
      "  [6] get(model::Model, attr::MathOptInterface.VariablePrimal, v::VariableRef)",
      "    @ JuMP ~/.julia/packages/JuMP/60Bnj/src/JuMP.jl:1212",
      "  [7] value(v::VariableRef; result::Int64)",
      "    @ JuMP ~/.julia/packages/JuMP/60Bnj/src/variables.jl:1032",
      "  [8] value",
      "    @ ~/.julia/packages/JuMP/60Bnj/src/variables.jl:1032 [inlined]",
      "  [9] _broadcast_getindex_evalf",
      "    @ ./broadcast.jl:670 [inlined]",
      " [10] _broadcast_getindex",
      "    @ ./broadcast.jl:643 [inlined]",
      " [11] getindex",
      "    @ ./broadcast.jl:597 [inlined]",
      " [12] macro expansion",
      "    @ ./broadcast.jl:961 [inlined]",
      " [13] macro expansion",
      "    @ ./simdloop.jl:77 [inlined]",
      " [14] copyto!",
      "    @ ./broadcast.jl:960 [inlined]",
      " [15] copyto!",
      "    @ ./broadcast.jl:913 [inlined]",
      " [16] copy",
      "    @ ./broadcast.jl:885 [inlined]",
      " [17] materialize",
      "    @ ./broadcast.jl:860 [inlined]",
      " [18] solve_sequential_model_xv_fixed(K::Int64, S::Int64, C::DataFrame, D::Matrix{Float64}, X::Matrix{Float64}, y0::DataFrame, d_::Array{Float64, 3}, lambda::Int64, time_limit::Int64, save::Bool, x::Array{Float64, 4}, v::Array{Float64, 4})",
      "    @ Main ./In[120]:46",
      " [19] top-level scope",
      "    @ In[121]:1",
      " [20] eval",
      "    @ ./boot.jl:373 [inlined]",
      " [21] include_string(mapexpr::typeof(REPL.softscope), mod::Module, code::String, filename::String)",
      "    @ Base ./loading.jl:1196"
     ]
    }
   ],
   "source": [
    "x_2,v_2,w_2,u_2,y_2,z_2,obj_2=solve_sequential_model_xv_fixed(K,S,C_30,D_30,Xfeas_30,y0_30,d_30_3,lambda,160,false,x_1,v_1)"
   ]
  },
  {
   "cell_type": "code",
   "execution_count": null,
   "metadata": {},
   "outputs": [
    {
     "data": {
      "text/plain": [
       "116.0"
      ]
     },
     "execution_count": 111,
     "metadata": {},
     "output_type": "execute_result"
    }
   ],
   "source": [
    "sum(z_2)"
   ]
  },
  {
   "cell_type": "code",
   "execution_count": null,
   "metadata": {},
   "outputs": [
    {
     "data": {
      "text/plain": [
       "544.0"
      ]
     },
     "execution_count": 112,
     "metadata": {},
     "output_type": "execute_result"
    }
   ],
   "source": [
    "sum(z_1)"
   ]
  },
  {
   "cell_type": "code",
   "execution_count": null,
   "metadata": {},
   "outputs": [],
   "source": []
  }
 ],
 "metadata": {
  "kernelspec": {
   "display_name": "Julia 1.7.3",
   "language": "julia",
   "name": "julia-1.7"
  },
  "language_info": {
   "file_extension": ".jl",
   "mimetype": "application/julia",
   "name": "julia",
   "version": "1.7.3"
  },
  "orig_nbformat": 4,
  "vscode": {
   "interpreter": {
    "hash": "32466a21a07a3c6fbc499a46ef5738207d953e31ba20ebfadb807195852ba7c1"
   }
  }
 },
 "nbformat": 4,
 "nbformat_minor": 2
}
