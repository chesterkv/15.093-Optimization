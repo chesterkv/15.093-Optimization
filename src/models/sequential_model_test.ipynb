{
 "cells": [
  {
   "cell_type": "code",
   "execution_count": 2,
   "metadata": {},
   "outputs": [],
   "source": [
    "using CSV, Tables, LinearAlgebra, Random, Gurobi, JuMP, Statistics"
   ]
  },
  {
   "cell_type": "code",
   "execution_count": null,
   "metadata": {},
   "outputs": [],
   "source": [
    "# Station information\n",
    "stations_info = CSV.read(\"../../data/stations/station_information.csv\", DataFrame);\n",
    "# Capacities\n",
    "C = stations_info[!, :capacity];\n",
    "# Distances\n",
    "D = load(\"../../data/parameters/distances.jld2\", \"D\");\n",
    "# Feasibility\n",
    "X = load(\"../../data/parameters/feasibility.jld2\", \"X\");\n",
    "# demand\n",
    "demand = load(\"../../data/parameters/202210-demand.jld2\", \"demand\");"
   ]
  },
  {
   "cell_type": "code",
   "execution_count": null,
   "metadata": {},
   "outputs": [],
   "source": [
    "# Initial state \n",
    "y0 = floor.(C/2);\n",
    "# demand over one day\n",
    "# Day 1\n",
    "d = demand[:,:,1:24];\n",
    "# Day 8\n",
    "d_2 = demand[:,:,169:192];\n",
    "# Day 15\n",
    "d_3 = demand[:,:,337:360];"
   ]
  },
  {
   "cell_type": "code",
   "execution_count": null,
   "metadata": {},
   "outputs": [],
   "source": [
    "function reduce_problem(d,C,y0,D,X,nb)\n",
    "    n_stations = size(d,1)\n",
    "    stations_score = zeros(n_stations)\n",
    "    # for each station i, sum the number of bikes that gets in an out ot the station over the month\n",
    "    for i in 1:n_stations\n",
    "        stations_score[i] += sum(d[i,:,:]) + sum(d[:,i,:])\n",
    "    end\n",
    "    # sort stations by score\n",
    "    stations_score_sorted = sortperm(stations_score, rev=true);\n",
    "    # reorder index of columns and rows according to the sorted stations\n",
    "    d_sorted = d[stations_score_sorted, stations_score_sorted, :];\n",
    "    C_sorted = C[stations_score_sorted,:];\n",
    "    y0_sorted = y0[stations_score_sorted,:];\n",
    "    D_sorted = D[stations_score_sorted, stations_score_sorted];\n",
    "    X_sorted = X[stations_score_sorted, stations_score_sorted];\n",
    "    # keep only the nb first stations\n",
    "    d_new = d_sorted[1:nb,1:nb,:];\n",
    "    C_new = C_sorted[1:nb,:];\n",
    "    y0_new = y0_sorted[1:nb,:];\n",
    "    D_new = D_sorted[1:nb,1:nb];\n",
    "    X_new = X_sorted[1:nb,1:nb];\n",
    "    return d_new, C_new, y0_new, D_new, X_new\n",
    "end"
   ]
  },
  {
   "cell_type": "code",
   "execution_count": null,
   "metadata": {},
   "outputs": [],
   "source": [
    "d_new, C_new, y0_new, D_new, X_new = reduce_problem(d,C,y0,D,X,200);"
   ]
  },
  {
   "cell_type": "code",
   "execution_count": 72,
   "metadata": {},
   "outputs": [],
   "source": [
    "function solve_sequential_model(K,S,C,D,X,y0,d, lambda, n_rebal)\n",
    "    model = Model(Gurobi.Optimizer)\n",
    "    set_optimizer_attribute(model, \"OutputFlag\", 0)\n",
    "    set_optimizer_attribute(model, \"TimeLimit\", 100)\n",
    "\n",
    "    n_stations, _, n_hours = size(d)\n",
    "    M=30\n",
    "    \n",
    "    # Decision variables\n",
    "    @variable(model, x[1:n_rebal, 1:n_rebal, 1:K, 1:n_hours], Bin)\n",
    "    @variable(model, v[1:n_rebal, 1:n_rebal, 1:K, 1:n_hours], Bin)\n",
    "    @variable(model, 0 <= z[1:n_rebal, 1:n_rebal, 1:K, 1:n_hours], Int)\n",
    "    @variable(model, 0 <= y[1:n_stations, 1:n_hours]) # Int by definition of the constraints\n",
    "    @variable(model, 0 <= w[1:n_stations, 1:n_stations, 1:n_hours], Int)\n",
    "    @variable(model, 0 <= u[1:n_stations, 1:n_stations, 1:n_hours])\n",
    "\n",
    "    # Add constraints:\n",
    "    # Stations capacity\n",
    "    @constraint(model, [i in 1:n_stations, t in 1:n_hours], y[i,t] <= C[i])\n",
    "    # No rebalancing at the same station\n",
    "    @constraint(model, [i in 1:n_rebal, k in 1:K, t in 1:n_hours], x[i,i,k,t] == 0)\n",
    "    # Flow balance \n",
    "    @constraint(model, [i in 1:n_rebal, t in 2:n_hours], y[i,t] - y[i,t-1] == sum(w[j,i,t] for j in 1:n_stations)-sum(w[i,j,t] for j in 1:n_stations)-sum(z[i,j,k,t] for j in 1:n_rebal, k in 1:K)+sum(z[j,i,k,t] for j in 1:n_rebal, k in 1:K))\n",
    "    @constraint(model, [i in n_rebal+1:n_stations, t in 2:n_hours], y[i,t] - y[i,t-1] == sum(w[j,i,t] for j in 1:n_stations)-sum(w[i,j,t] for j in 1:n_stations))\n",
    "    # Flow balance for the first hour \n",
    "    @constraint(model, [i in 1:n_rebal], y[i,1] - y0[i] == sum(w[j,i,1] for j in 1:n_stations)-sum(w[i,j,1] for j in 1:n_stations)-sum(z[i,j,k,1] for j in 1:n_rebal, k in 1:K)+sum(z[j,i,k,1] for j in 1:n_rebal, k in 1:K))\n",
    "    @constraint(model, [i in n_rebal+1:n_stations], y[i,1] - y0[i] == sum(w[j,i,1] for j in 1:n_stations)-sum(w[i,j,1] for j in 1:n_stations))\n",
    "    # Vans capacity\n",
    "    @constraint(model, [i in 1:n_rebal, j in 1:n_rebal, k in 1:K, t in 1:n_hours], z[i,j,k,t] <= S)\n",
    "    # Users travel availability\n",
    "    @constraint(model, [i in 1:n_stations, t in 1:n_hours], -y[i,t] <= sum(w[j,i,t] for j in 1:n_stations) - sum(w[i,j,t] for j in 1:n_stations))\n",
    "    @constraint(model, [i in 1:n_stations, t in 1:n_hours], sum(w[j,i,t] for j in 1:n_stations) - sum(w[i,j,t] for j in 1:n_stations)<= C[i] - y[i,t])\n",
    "    # Max 1 rebalancing per hour per van\n",
    "    @constraint(model, [k in 1:K, t in 1:n_hours], sum(x[i,j,k,t] for i in 1:n_rebal, j in 1:n_rebal) <= 1)\n",
    "    # Rebalancing feasibility\n",
    "    @constraint(model, [i in 1:n_rebal, j in 1:n_rebal, k in 1:K, t in 1:n_hours], z[i,j,k,t] <= M*x[i,j,k,t])\n",
    "    @constraint(model, [i in 1:n_rebal, j in 1:n_rebal, k in 1:K, t in 1:n_hours], x[i,j,k,t] <= X[i,j])\n",
    "    @constraint(model, [i in 1:n_rebal, j in 1:n_rebal, k in 1:K, t in 1:n_hours], v[i,j,k,t] <= X[i,j])\n",
    "    # Vans must travel sequentially\n",
    "    @constraint(model, [i in 1:n_rebal, k in 1:K, t in 2:n_hours], sum(x[i,j,k,t] for j in 1:n_rebal) <= sum(v[l,i,k,t-1] for l in 1:n_rebal))\n",
    "    @constraint(model, [j in 1:n_rebal, k in 1:K, t in 1:n_hours], sum(v[j,l,k,t] for l in 1:n_rebal) <= sum(x[i,j,k,t] for i in 1:n_rebal))\n",
    "    # Users travel is inferior to the demand and definition of u\n",
    "    @constraint(model, [i in 1:n_stations, j in 1:n_stations, t in 1:n_hours], u[i,j,t] >= d[i,j,t] - w[i,j,t])\n",
    "    @constraint(model, [i in 1:n_stations, j in 1:n_stations, t in 1:n_hours], d[i,j,t] >= w[i,j,t])\n",
    "\n",
    "    # Set objective\n",
    "    @objective(model, Min, sum(u[i,j,t] for i in 1:n_stations, j in 1:n_stations, t in 1:n_hours)+lambda*((sum(D[i,j]*x[i,j,k,t] for i in 1:n_rebal, j in 1:n_rebal, k in 1:K, t in 1:n_hours))+sum(D[j,l]*v[j,l,k,t] for j in 1:n_rebal, l in 1:n_rebal, k in 1:K, t in 1:n_hours)))\n",
    "    \n",
    "    # Solve the model\n",
    "    optimize!(model)\n",
    "    \n",
    "    # Print the solution\n",
    "    println(\"Objective value: \", objective_value(model))\n",
    "    return value.(x), value.(v), value.(w), value.(u), value.(y), value.(z), objective_value(model)\n",
    "end"
   ]
  },
  {
   "cell_type": "code",
   "execution_count": null,
   "metadata": {},
   "outputs": [],
   "source": [
    "# Number of vans\n",
    "K=3\n",
    "# Capacity of vans\n",
    "S=10\n",
    "# stations for rebalancing \n",
    "n_rebal = 50; # Top 50 according to station scores\n",
    "# Trade-off for multi-objective\n",
    "lambda=10 # to be tuned according to the objectives scales"
   ]
  },
  {
   "cell_type": "code",
   "execution_count": null,
   "metadata": {},
   "outputs": [],
   "source": [
    "x_1,v_1, w_1,u_1,y_1,z_1,obj_1=solve_sequential_model(K,S,C_new,D_new,X_new,y0_new,d_new,lambda,n_rebal);"
   ]
  }
 ],
 "metadata": {
  "kernelspec": {
   "display_name": "Julia 1.7.3",
   "language": "julia",
   "name": "julia-1.7"
  },
  "language_info": {
   "file_extension": ".jl",
   "mimetype": "application/julia",
   "name": "julia",
   "version": "1.7.3"
  },
  "orig_nbformat": 4,
  "vscode": {
   "interpreter": {
    "hash": "41a3af9e8a224a38c30b28ede46ccf9b389caf1bbeda9ceffb5dc9a9d4076ee6"
   }
  }
 },
 "nbformat": 4,
 "nbformat_minor": 2
}
