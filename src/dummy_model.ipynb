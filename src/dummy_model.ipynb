{
 "cells": [
  {
   "cell_type": "code",
   "execution_count": 1,
   "metadata": {},
   "outputs": [],
   "source": [
    "using CSV, Tables, LinearAlgebra, Random, Gurobi, JuMP, Statistics"
   ]
  },
  {
   "cell_type": "code",
   "execution_count": 140,
   "metadata": {},
   "outputs": [],
   "source": [
    "# capacity of stations\n",
    "C = [10,10,10,10];\n",
    "\n",
    "# demand of stations\n",
    "d = [[[0,10,0,5] [0,0,0,0] [0,5,0,0] [20,0,0,0]];;;\n",
    "    [[0,0,0,0] [0,0,0,0] [30,0,0,0] [0,10,0,0]];;;\n",
    "    [[0,0,0,5] [0,0,15,0] [0,0,0,0] [0,0,0,0]]];\n",
    "\n",
    "# proximity of stations\n",
    "X = [[0,1,1,1] [1,0,1,1] [1,1,0,1] [1,1,1,0]];\n",
    "\n",
    "# capacity of stations\n",
    "y1 = [6,2,4,3];\n",
    "\n",
    "# number of vans\n",
    "K = 1;\n",
    "\n",
    "# capacity of vans\n",
    "S = 20;\n",
    "\n",
    "# distance of stations\n",
    "D = [[0,0.5,1,0.5] [2,0,0.5,1] [0.5,1,0,0.5] [1,2,1,0]];\n",
    "\n",
    "# number of stations\n",
    "n_stations = 4;\n"
   ]
  },
  {
   "cell_type": "code",
   "execution_count": 135,
   "metadata": {},
   "outputs": [
    {
     "data": {
      "text/plain": [
       "4×4 Matrix{Int64}:\n",
       " 0  0  30   0\n",
       " 0  0   0  10\n",
       " 0  0   0   0\n",
       " 0  0   0   0"
      ]
     },
     "execution_count": 135,
     "metadata": {},
     "output_type": "execute_result"
    }
   ],
   "source": [
    "d[:,:,2]"
   ]
  },
  {
   "cell_type": "code",
   "execution_count": 162,
   "metadata": {},
   "outputs": [
    {
     "data": {
      "text/plain": [
       "first_model (generic function with 1 method)"
      ]
     },
     "execution_count": 162,
     "metadata": {},
     "output_type": "execute_result"
    }
   ],
   "source": [
    "function first_model(C,D,X,y1,K,S,d,n_stations)\n",
    "    model = Model(Gurobi.Optimizer)\n",
    "    set_optimizer_attribute(model, \"OutputFlag\", 0)\n",
    "    set_optimizer_attribute(model, \"TimeLimit\", 100)\n",
    "    M=30\n",
    "    lambda=0 # to be tuned\n",
    "    n_hours = 3\n",
    "    # Decision variables\n",
    "    @variable(model, x[1:n_stations, 1:n_stations, 1:K, 1:n_hours], Bin)\n",
    "    @variable(model, 0 <= z[1:n_stations, 1:n_stations, 1:K, 1:n_hours], Int)\n",
    "    @variable(model, 0 <= y[1:n_stations, 1:n_hours]) # Int by definition of the constraints\n",
    "    @variable(model, 0 <= w[1:n_stations, 1:n_stations, 1:n_hours], Int) # Removed Int\n",
    "    @variable(model, 0 <= u[1:n_stations, 1:n_stations, 1:n_hours])\n",
    "\n",
    "    # Add constraints\n",
    "    @constraint(model, [i in 1:n_stations, t in 1:n_hours], y[i,t] <= C[i])\n",
    "    @constraint(model, [i in 1:n_stations, k in 1:K, t in 1:n_hours], x[i,i,k,t] == 0)\n",
    "    @constraint(model, [i in 1:n_stations, t in 2:n_hours], y[i,t] - y[i,t-1] == sum(w[j,i,t] for j in 1:n_stations)-sum(w[i,j,t] for j in 1:n_stations)-sum(z[i,j,k,t] for j in 1:n_stations, k in 1:K)+sum(z[j,i,k,t] for j in 1:n_stations, k in 1:K))\n",
    "    @constraint(model, [i in n_stations+1:n_stations, t in 2:n_hours], y[i,t] - y[i,t-1] == sum(w[j,i,t] for j in 1:n_stations)-sum(w[i,j,t] for j in 1:n_stations))\n",
    "    @constraint(model, [i in 1:n_stations], y[i,1] == y1[i])\n",
    "    @constraint(model, [i in 1:n_stations, j in 1:n_stations, k in 1:K, t in 2:n_hours], z[i,j,k,t] <= S)\n",
    "    @constraint(model, [i in 1:n_stations, t in 2:n_hours], -y[i,t] <= sum(w[j,i,t] for j in 1:n_stations) - sum(w[i,j,t] for j in 1:n_stations))\n",
    "    @constraint(model, [i in 1:n_stations, t in 2:n_hours], sum(w[j,i,t] for j in 1:n_stations) - sum(w[i,j,t] for j in 1:n_stations)<= C[i] - y[i,t])\n",
    "    @constraint(model, [k in 1:K, t in 1:n_hours], sum(x[i,j,k,t] for i in 1:n_stations, j in 1:n_stations) <= 1)\n",
    "    @constraint(model, [i in 1:n_stations, j in 1:n_stations, k in 1:K, t in 2:n_hours], z[i,j,k,t] <= M*x[i,j,k,t])\n",
    "    @constraint(model, [i in 1:n_stations, j in 1:n_stations, k in 1:K, t in 2:n_hours], x[i,j,k,t] <= X[i,j])\n",
    "    @constraint(model, [i in 1:n_stations, j in 1:n_stations, t in 2:n_hours], u[i,j,t] >= d[i,j,t] - w[i,j,t])\n",
    "    @constraint(model, [i in 1:n_stations, j in 1:n_stations, t in 2:n_hours], u[i,j,t] >= w[i,j,t] - d[i,j,t])\n",
    "\n",
    "    # Set objective\n",
    "    @objective(model, Min, sum(u[i,j,t] for i in 1:n_stations, j in 1:n_stations, t in 1:n_hours)+lambda*sum(D[i,j]*x[i,j,k,t] for i in 1:n_stations, j in 1:n_stations, k in 1:K, t in 1:n_hours))\n",
    "    \n",
    "    # Solve the model\n",
    "    optimize!(model)\n",
    "    \n",
    "    # Print the solution\n",
    "    println(\"Objective value: \", objective_value(model))\n",
    "    return value.(x), value.(w), value.(u), value.(y), value.(z), objective_value(model)\n",
    "end"
   ]
  },
  {
   "cell_type": "code",
   "execution_count": 163,
   "metadata": {},
   "outputs": [
    {
     "name": "stdout",
     "output_type": "stream",
     "text": [
      "Set parameter Username\n",
      "Academic license - for non-commercial use only - expires 2023-08-15\n",
      "Set parameter TimeLimit to value 100\n",
      "Objective value: 38.0\n"
     ]
    },
    {
     "data": {
      "text/plain": [
       "([0.0 0.0 0.0 0.0; 0.0 0.0 0.0 0.0; 0.0 0.0 0.0 0.0; 0.0 0.0 0.0 0.0;;;; 0.0 -0.0 -0.0 -0.0; 0.0 0.0 -0.0 -0.0; -0.0 1.0 0.0 0.0; 0.0 0.0 -0.0 0.0;;;; 0.0 -0.0 0.0 -0.0; 0.0 0.0 1.0 -0.0; -0.0 -0.0 0.0 -0.0; -0.0 -0.0 -0.0 0.0], [-0.0 -0.0 -0.0 -0.0; -0.0 -0.0 -0.0 -0.0; -0.0 -0.0 -0.0 -0.0; -0.0 -0.0 -0.0 -0.0;;; -0.0 -0.0 10.0 -0.0; -0.0 -0.0 -0.0 8.0; -0.0 -0.0 -0.0 -0.0; 7.0 -0.0 -0.0 -0.0;;; -0.0 -0.0 1.0 -0.0; -0.0 -0.0 -0.0 -0.0; -0.0 10.0 -0.0 -0.0; 2.0 -0.0 -0.0 -0.0], [0.0 0.0 0.0 0.0; 0.0 0.0 0.0 0.0; 0.0 0.0 0.0 0.0; 0.0 0.0 0.0 0.0;;; -0.0 0.0 20.0 0.0; 0.0 -0.0 0.0 2.0; 0.0 0.0 -0.0 0.0; 7.0 0.0 0.0 -0.0;;; -0.0 0.0 1.0 0.0; 0.0 -0.0 0.0 0.0; 0.0 5.0 -0.0 0.0; 3.0 0.0 0.0 -0.0], [6.0 2.9999999999999996 4.0; 2.0 8.0 0.0; 4.0 0.0 9.0; 3.0 4.0 2.0], [-0.0 -0.0 -0.0 -0.0; -0.0 -0.0 -0.0 -0.0; -0.0 -0.0 -0.0 -0.0; -0.0 -0.0 -0.0 -0.0;;;; -0.0 0.0 -0.0 -0.0; -0.0 -0.0 -0.0 -0.0; -0.0 14.0 -0.0 -0.0; 0.0 -0.0 0.0 -0.0;;;; -0.0 0.0 0.0 0.0; -0.0 -0.0 18.0 0.0; -0.0 -0.0 -0.0 -0.0; -0.0 -0.0 -0.0 -0.0], 38.0)"
      ]
     },
     "execution_count": 163,
     "metadata": {},
     "output_type": "execute_result"
    }
   ],
   "source": [
    "x,w,u,y,z,obj=first_model(C,D,X,y1,K,S,d,n_stations)"
   ]
  },
  {
   "cell_type": "code",
   "execution_count": 166,
   "metadata": {},
   "outputs": [
    {
     "data": {
      "text/plain": [
       "15.0"
      ]
     },
     "execution_count": 166,
     "metadata": {},
     "output_type": "execute_result"
    }
   ],
   "source": [
    "sum(y[:,3])"
   ]
  },
  {
   "cell_type": "code",
   "execution_count": 167,
   "metadata": {},
   "outputs": [
    {
     "name": "stdout",
     "output_type": "stream",
     "text": [
      "Hour 1\n",
      "Station 1 has 6.0 bikes\n",
      "Station 2 has 2.0 bikes\n",
      "Station 3 has 4.0 bikes\n",
      "Station 4 has 3.0 bikes\n",
      "Hour 2\n",
      "Station 1 has 2.9999999999999996 bikes\n",
      "Station 2 has 8.0 bikes\n",
      "Station 3 has 0.0 bikes\n",
      "Station 4 has 4.0 bikes\n",
      "Hour 3\n",
      "Station 1 has 4.0 bikes\n",
      "Station 2 has 0.0 bikes\n",
      "Station 3 has 9.0 bikes\n",
      "Station 4 has 2.0 bikes\n"
     ]
    }
   ],
   "source": [
    "function summary(x,w,u,y,z,obj)\n",
    "    n,_,K,n_hours = size(x)\n",
    "    for h=1:n_hours\n",
    "        println(\"Hour \", h)\n",
    "        for i=1:n\n",
    "            println(\"Station \", i, \" has \", y[i,h], \" bikes\")\n",
    "        end\n",
    "    end\n",
    "end\n",
    "summary(x,w,u,y,z,obj)\n",
    "\n"
   ]
  },
  {
   "cell_type": "code",
   "execution_count": 161,
   "metadata": {},
   "outputs": [
    {
     "data": {
      "text/plain": [
       "4×4 Matrix{Float64}:\n",
       " 0.0  0.0  0.0  0.0\n",
       " 5.0  0.0  0.0  0.0\n",
       " 0.0  0.0  0.0  0.0\n",
       " 0.0  0.0  0.0  0.0"
      ]
     },
     "execution_count": 161,
     "metadata": {},
     "output_type": "execute_result"
    }
   ],
   "source": [
    "z[:,:,1,2]"
   ]
  },
  {
   "cell_type": "code",
   "execution_count": 119,
   "metadata": {},
   "outputs": [
    {
     "data": {
      "text/plain": [
       "8.0"
      ]
     },
     "execution_count": 119,
     "metadata": {},
     "output_type": "execute_result"
    }
   ],
   "source": [
    "y[1,3]"
   ]
  }
 ],
 "metadata": {
  "kernelspec": {
   "display_name": "Julia 1.8.0",
   "language": "julia",
   "name": "julia-1.8"
  },
  "language_info": {
   "file_extension": ".jl",
   "mimetype": "application/julia",
   "name": "julia",
   "version": "1.8.0"
  },
  "orig_nbformat": 4,
  "vscode": {
   "interpreter": {
    "hash": "41a3af9e8a224a38c30b28ede46ccf9b389caf1bbeda9ceffb5dc9a9d4076ee6"
   }
  }
 },
 "nbformat": 4,
 "nbformat_minor": 2
}
