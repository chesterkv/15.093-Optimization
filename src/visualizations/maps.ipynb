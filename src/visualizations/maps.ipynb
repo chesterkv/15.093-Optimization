{
 "cells": [
  {
   "cell_type": "code",
   "execution_count": 1,
   "metadata": {},
   "outputs": [],
   "source": [
    "import pandas as pd\n",
    "import plotly.express as px"
   ]
  },
  {
   "cell_type": "code",
   "execution_count": 2,
   "metadata": {},
   "outputs": [],
   "source": [
    "station_information = pd.read_csv('../../data/stations/station_information.csv')\n",
    "system_regions = pd.read_csv('../../data/stations/system_regions.csv')\n",
    "station_information = station_information.merge(system_regions, on='region_id')"
   ]
  },
  {
   "cell_type": "code",
   "execution_count": 5,
   "metadata": {},
   "outputs": [],
   "source": [
    "top30_stations = pd.read_csv('../../data/stations/top30-stations.csv')"
   ]
  },
  {
   "cell_type": "code",
   "execution_count": 19,
   "metadata": {},
   "outputs": [],
   "source": [
    "top50_stations = pd.read_csv('../../data/stations/top50-stations.csv')"
   ]
  },
  {
   "cell_type": "code",
   "execution_count": 27,
   "metadata": {},
   "outputs": [],
   "source": [
    "top200_stations = pd.read_csv('../../data/stations/top200-stations.csv')"
   ]
  },
  {
   "cell_type": "code",
   "execution_count": 24,
   "metadata": {},
   "outputs": [],
   "source": [
    "worse_top100_stations = pd.read_csv('../../data/stations/worse_top100-stations.csv')"
   ]
  },
  {
   "cell_type": "code",
   "execution_count": 20,
   "metadata": {},
   "outputs": [],
   "source": [
    "# filter station_information with top30 stations\n",
    "station_info_30=station_information[station_information['station_id'].isin(top30_stations['station_id'])]"
   ]
  },
  {
   "cell_type": "code",
   "execution_count": 21,
   "metadata": {},
   "outputs": [],
   "source": [
    "# filter station_information with top50 stations\n",
    "station_info_50=station_information[station_information['station_id'].isin(top50_stations['station_id'])]"
   ]
  },
  {
   "cell_type": "code",
   "execution_count": 28,
   "metadata": {},
   "outputs": [],
   "source": [
    "# filter station_information with top200 stations\n",
    "station_info_200=station_information[station_information['station_id'].isin(top200_stations['station_id'])]"
   ]
  },
  {
   "cell_type": "code",
   "execution_count": 25,
   "metadata": {},
   "outputs": [],
   "source": [
    "station_info_worse100=station_information[station_information['station_id'].isin(worse_top100_stations['station_id'])]"
   ]
  },
  {
   "cell_type": "code",
   "execution_count": 29,
   "metadata": {},
   "outputs": [
    {
     "data": {
      "application/vnd.plotly.v1+json": {
       "config": {
        "plotlyServerURL": "https://plot.ly"
       },
       "data": [
        {
         "hovertemplate": "lat=%{lat}<br>lon=%{lon}<extra></extra>",
         "lat": [
          42.34011512249236,
          42.345392,
          42.341814,
          42.36125721646537,
          42.3533905070523,
          42.353334,
          42.35169201885973,
          42.350406,
          42.338629,
          42.33624444796878,
          42.33639915372498,
          42.3374174845973,
          42.3615457081725,
          42.34807412317439,
          42.36426344063853,
          42.347241,
          42.35991176110118,
          42.34652003998412,
          42.352175,
          42.35892,
          42.35148193460858,
          42.341332,
          42.34157471873748,
          42.331184,
          42.36371276003581,
          42.33462893055976,
          42.34881026188269,
          42.34369055719748,
          42.348706,
          42.35533501941256,
          42.34992828230057,
          42.338514601786,
          42.363871,
          42.352261,
          42.35200960743121,
          42.357143,
          42.36041774637169,
          42.3436658245146,
          42.362811,
          42.351146,
          42.3511419825475,
          42.3350989929096,
          42.348717,
          42.35082680669095,
          42.354979,
          42.34740620525209,
          42.329842993518085,
          42.340814,
          42.35553628489709,
          42.351356,
          42.36079296858265,
          42.351004495946704,
          42.34922469338298,
          42.352409,
          42.378338,
          42.375603,
          42.371848,
          42.335741,
          42.356052,
          42.33595897943309,
          42.345733,
          42.32176525723952,
          42.32293117195949,
          42.363796,
          42.358155,
          42.345901,
          42.35317809186252,
          42.33758601097239,
          42.3391085,
          42.34894857235593,
          42.3481,
          42.365673,
          42.354659,
          42.332817,
          42.3598253979878,
          42.351586001198456,
          42.34949599514002,
          42.300923,
          42.316966,
          42.374878467440965,
          42.336585554561154,
          42.34953016890375,
          42.348358628170445,
          42.34465062887831,
          42.35182806892068,
          42.374124549426526,
          42.33392270136997,
          42.34924376955301,
          42.34521562115022,
          42.338431795290944,
          42.34942609892521,
          42.35096144421219,
          42.349589423682445,
          42.35668334969929,
          42.36027370454934,
          42.34254913737952,
          42.35159662465317,
          42.33664795427071,
          42.34854543411198,
          42.34734473177431,
          42.34135615767354,
          42.34303291130257,
          42.34954403114251,
          42.36435589027983,
          42.34474224772802,
          42.35294569782581,
          42.34960945333059,
          42.35019319808638,
          42.36530094929082,
          42.339194,
          42.368019,
          42.3607028354884,
          42.36473898691789,
          42.339202,
          42.33329254719182,
          42.3502102,
          42.3528376,
          42.3581,
          42.36507,
          42.3722168027866,
          42.36224178650923,
          42.373328798874056,
          42.373268,
          42.36346469304347,
          42.366426,
          42.3621312344991,
          42.367074071490926,
          42.366621,
          42.379011,
          42.366277,
          42.372969,
          42.373379,
          42.369239074859216,
          42.380287,
          42.357218503176526,
          42.3625,
          42.377945,
          42.376369,
          42.387995,
          42.370803,
          42.36608797388682,
          42.397828,
          42.36178043960605,
          42.36356015842989,
          42.369885,
          42.366446738529454,
          42.38674802045056,
          42.36264779118595,
          42.35957320109044,
          42.35560121327927,
          42.37478628706384,
          42.39558845716709,
          42.35775309465199,
          42.36544486137399,
          42.3624278429124,
          42.37197678467975,
          42.37250864997261,
          42.37119727759414,
          42.361619320766856,
          42.3636929,
          42.37500235137831,
          42.39120971915856,
          42.36599432867437,
          42.36135837662249,
          42.37426713524931,
          42.36860524248197,
          42.36550728505653,
          42.36955297756508,
          42.37207657915397,
          42.38294430172271,
          42.36054174140606,
          42.36085937353302,
          42.363003781560096,
          42.36895180540729,
          42.35766247889882,
          42.371141,
          42.3664204,
          42.3629016,
          42.373079797934935,
          42.36304549626695,
          42.341598,
          42.33274392304887,
          42.35154734791375,
          42.346197076555455,
          42.34012242696642,
          42.34414898749529,
          42.3443517550051,
          42.383638948222654,
          42.37964789967527,
          42.37875351212593,
          42.396969,
          42.40449,
          42.39407223665884,
          42.396386809455,
          42.38100143038052,
          42.37927324600841,
          42.38032335045416,
          42.38952436305763,
          42.392525,
          42.380078
         ],
         "legendgroup": "",
         "lon": [
          -71.10061883926392,
          -71.069616,
          -71.090179,
          -71.06528744101524,
          -71.04457139968872,
          -71.137313,
          -71.11903488636017,
          -71.108279,
          -71.1065,
          -71.08798563480377,
          -71.07306711393903,
          -71.10286116600037,
          -71.13776206970215,
          -71.07657015323639,
          -71.1182756971175,
          -71.105301,
          -71.0514298081398,
          -71.08065776545118,
          -71.055547,
          -71.057629,
          -71.04436084628105,
          -71.076847,
          -71.06890439987183,
          -71.095171,
          -71.12459778785706,
          -71.10407917767589,
          -71.04167744055303,
          -71.10235286881107,
          -71.097009,
          -71.0582291708306,
          -71.07739206866427,
          -71.07404083013535,
          -71.050877,
          -71.123831,
          -71.07060294892108,
          -71.050699,
          -71.05752243543975,
          -71.08582377433777,
          -71.056067,
          -71.066289,
          -71.07329249382019,
          -71.07903778553009,
          -71.085954,
          -71.0898108780384,
          -71.063348,
          -71.08678414955648,
          -71.08386572459494,
          -71.0816197,
          -71.07286870479584,
          -71.059367,
          -71.07118962337152,
          -71.04930013418198,
          -71.13275302578586,
          -71.062679,
          -71.048927,
          -71.064608,
          -71.060292,
          -71.03877,
          -71.069849,
          -71.04622899561036,
          -71.100694,
          -71.10984160567114,
          -71.10014140605927,
          -71.129164,
          -71.052163,
          -71.063187,
          -71.04817356923377,
          -71.09627097845076,
          -71.0514432,
          -71.15027189254761,
          -71.03764,
          -71.064263,
          -71.053181,
          -71.081198,
          -71.05979576244862,
          -71.04569256305693,
          -71.10057592391968,
          -71.114249,
          -71.104374,
          -71.06383498767171,
          -71.0988699646623,
          -71.13022770741735,
          -71.13997217276847,
          -71.09732501226972,
          -71.06781138111728,
          -71.05481199938367,
          -71.10446508982932,
          -71.09728209692548,
          -71.0638403149278,
          -71.08169049924982,
          -71.06209959843909,
          -71.07782810926437,
          -71.0794677917329,
          -71.06166645884514,
          -71.12852452327388,
          -71.07421449387857,
          -71.0756166279316,
          -71.0689445958451,
          -71.06559185315746,
          -71.1001680795016,
          -71.08336953450817,
          -71.06688730436872,
          -71.0724207387284,
          -71.0695936904267,
          -71.07648162175792,
          -71.05656400803126,
          -71.10391523698127,
          -71.07744187116623,
          -71.06092190993877,
          -71.06975,
          -71.1242,
          -71.05524927377701,
          -71.05934903025626,
          -71.090511,
          -71.10124647617339,
          -71.0446705,
          -71.1296752,
          -71.093198,
          -71.1031,
          -71.12188071012497,
          -71.0831107199192,
          -71.12098601080106,
          -71.118579,
          -71.10057324171066,
          -71.105495,
          -71.09115600585936,
          -71.07679277658461,
          -71.114214,
          -71.119945,
          -71.09169,
          -71.094445,
          -71.111075,
          -71.11687034368515,
          -71.125107,
          -71.1138716340065,
          -71.08822,
          -71.116865,
          -71.114025,
          -71.119084,
          -71.104412,
          -71.08633603909765,
          -71.130516,
          -71.10809952020645,
          -71.08216792345047,
          -71.069957,
          -71.07654601335526,
          -71.11901879310608,
          -71.10006093978882,
          -71.10129475593567,
          -71.10394477844238,
          -71.13320231437683,
          -71.14260613918304,
          -71.10393404960632,
          -71.08277142047882,
          -71.08495473861694,
          -71.07200495972165,
          -71.11305356025696,
          -71.09759867191315,
          -71.0804355052096,
          -71.0875672,
          -71.14871613699506,
          -71.12260755160605,
          -71.09522221614498,
          -71.09670273977825,
          -71.10026478767395,
          -71.09930185605663,
          -71.0801375997653,
          -71.08579014980933,
          -71.08995433905875,
          -71.12449831038248,
          -71.08669817447662,
          -71.08551858007559,
          -71.08974037706501,
          -71.10998779535294,
          -71.1084133386612,
          -71.076198,
          -71.0885418,
          -71.0915669,
          -71.08634233665725,
          -71.08287078916874,
          -71.123338,
          -71.11626680949485,
          -71.12126246094704,
          -71.10728681087494,
          -71.12070563810447,
          -71.11467361450195,
          -71.12490355968475,
          -71.10853672027588,
          -71.09540475672475,
          -71.10707223415375,
          -71.123024,
          -71.123413,
          -71.11133694648743,
          -71.12011306006025,
          -71.10402522613185,
          -71.10341902831351,
          -71.10878612855231,
          -71.11694140364307,
          -71.105587,
          -71.090098
         ],
         "marker": {
          "color": "#636efa"
         },
         "mode": "markers",
         "name": "",
         "showlegend": false,
         "subplot": "mapbox",
         "type": "scattermapbox"
        }
       ],
       "layout": {
        "height": 800,
        "legend": {
         "tracegroupgap": 0
        },
        "mapbox": {
         "center": {
          "lat": 42.357695396485525,
          "lon": -71.09025129768547
         },
         "domain": {
          "x": [
           0,
           1
          ],
          "y": [
           0,
           1
          ]
         },
         "style": "open-street-map",
         "zoom": 8
        },
        "margin": {
         "b": 0,
         "l": 0,
         "r": 0,
         "t": 0
        },
        "template": {
         "data": {
          "bar": [
           {
            "error_x": {
             "color": "#2a3f5f"
            },
            "error_y": {
             "color": "#2a3f5f"
            },
            "marker": {
             "line": {
              "color": "#E5ECF6",
              "width": 0.5
             },
             "pattern": {
              "fillmode": "overlay",
              "size": 10,
              "solidity": 0.2
             }
            },
            "type": "bar"
           }
          ],
          "barpolar": [
           {
            "marker": {
             "line": {
              "color": "#E5ECF6",
              "width": 0.5
             },
             "pattern": {
              "fillmode": "overlay",
              "size": 10,
              "solidity": 0.2
             }
            },
            "type": "barpolar"
           }
          ],
          "carpet": [
           {
            "aaxis": {
             "endlinecolor": "#2a3f5f",
             "gridcolor": "white",
             "linecolor": "white",
             "minorgridcolor": "white",
             "startlinecolor": "#2a3f5f"
            },
            "baxis": {
             "endlinecolor": "#2a3f5f",
             "gridcolor": "white",
             "linecolor": "white",
             "minorgridcolor": "white",
             "startlinecolor": "#2a3f5f"
            },
            "type": "carpet"
           }
          ],
          "choropleth": [
           {
            "colorbar": {
             "outlinewidth": 0,
             "ticks": ""
            },
            "type": "choropleth"
           }
          ],
          "contour": [
           {
            "colorbar": {
             "outlinewidth": 0,
             "ticks": ""
            },
            "colorscale": [
             [
              0,
              "#0d0887"
             ],
             [
              0.1111111111111111,
              "#46039f"
             ],
             [
              0.2222222222222222,
              "#7201a8"
             ],
             [
              0.3333333333333333,
              "#9c179e"
             ],
             [
              0.4444444444444444,
              "#bd3786"
             ],
             [
              0.5555555555555556,
              "#d8576b"
             ],
             [
              0.6666666666666666,
              "#ed7953"
             ],
             [
              0.7777777777777778,
              "#fb9f3a"
             ],
             [
              0.8888888888888888,
              "#fdca26"
             ],
             [
              1,
              "#f0f921"
             ]
            ],
            "type": "contour"
           }
          ],
          "contourcarpet": [
           {
            "colorbar": {
             "outlinewidth": 0,
             "ticks": ""
            },
            "type": "contourcarpet"
           }
          ],
          "heatmap": [
           {
            "colorbar": {
             "outlinewidth": 0,
             "ticks": ""
            },
            "colorscale": [
             [
              0,
              "#0d0887"
             ],
             [
              0.1111111111111111,
              "#46039f"
             ],
             [
              0.2222222222222222,
              "#7201a8"
             ],
             [
              0.3333333333333333,
              "#9c179e"
             ],
             [
              0.4444444444444444,
              "#bd3786"
             ],
             [
              0.5555555555555556,
              "#d8576b"
             ],
             [
              0.6666666666666666,
              "#ed7953"
             ],
             [
              0.7777777777777778,
              "#fb9f3a"
             ],
             [
              0.8888888888888888,
              "#fdca26"
             ],
             [
              1,
              "#f0f921"
             ]
            ],
            "type": "heatmap"
           }
          ],
          "heatmapgl": [
           {
            "colorbar": {
             "outlinewidth": 0,
             "ticks": ""
            },
            "colorscale": [
             [
              0,
              "#0d0887"
             ],
             [
              0.1111111111111111,
              "#46039f"
             ],
             [
              0.2222222222222222,
              "#7201a8"
             ],
             [
              0.3333333333333333,
              "#9c179e"
             ],
             [
              0.4444444444444444,
              "#bd3786"
             ],
             [
              0.5555555555555556,
              "#d8576b"
             ],
             [
              0.6666666666666666,
              "#ed7953"
             ],
             [
              0.7777777777777778,
              "#fb9f3a"
             ],
             [
              0.8888888888888888,
              "#fdca26"
             ],
             [
              1,
              "#f0f921"
             ]
            ],
            "type": "heatmapgl"
           }
          ],
          "histogram": [
           {
            "marker": {
             "pattern": {
              "fillmode": "overlay",
              "size": 10,
              "solidity": 0.2
             }
            },
            "type": "histogram"
           }
          ],
          "histogram2d": [
           {
            "colorbar": {
             "outlinewidth": 0,
             "ticks": ""
            },
            "colorscale": [
             [
              0,
              "#0d0887"
             ],
             [
              0.1111111111111111,
              "#46039f"
             ],
             [
              0.2222222222222222,
              "#7201a8"
             ],
             [
              0.3333333333333333,
              "#9c179e"
             ],
             [
              0.4444444444444444,
              "#bd3786"
             ],
             [
              0.5555555555555556,
              "#d8576b"
             ],
             [
              0.6666666666666666,
              "#ed7953"
             ],
             [
              0.7777777777777778,
              "#fb9f3a"
             ],
             [
              0.8888888888888888,
              "#fdca26"
             ],
             [
              1,
              "#f0f921"
             ]
            ],
            "type": "histogram2d"
           }
          ],
          "histogram2dcontour": [
           {
            "colorbar": {
             "outlinewidth": 0,
             "ticks": ""
            },
            "colorscale": [
             [
              0,
              "#0d0887"
             ],
             [
              0.1111111111111111,
              "#46039f"
             ],
             [
              0.2222222222222222,
              "#7201a8"
             ],
             [
              0.3333333333333333,
              "#9c179e"
             ],
             [
              0.4444444444444444,
              "#bd3786"
             ],
             [
              0.5555555555555556,
              "#d8576b"
             ],
             [
              0.6666666666666666,
              "#ed7953"
             ],
             [
              0.7777777777777778,
              "#fb9f3a"
             ],
             [
              0.8888888888888888,
              "#fdca26"
             ],
             [
              1,
              "#f0f921"
             ]
            ],
            "type": "histogram2dcontour"
           }
          ],
          "mesh3d": [
           {
            "colorbar": {
             "outlinewidth": 0,
             "ticks": ""
            },
            "type": "mesh3d"
           }
          ],
          "parcoords": [
           {
            "line": {
             "colorbar": {
              "outlinewidth": 0,
              "ticks": ""
             }
            },
            "type": "parcoords"
           }
          ],
          "pie": [
           {
            "automargin": true,
            "type": "pie"
           }
          ],
          "scatter": [
           {
            "fillpattern": {
             "fillmode": "overlay",
             "size": 10,
             "solidity": 0.2
            },
            "type": "scatter"
           }
          ],
          "scatter3d": [
           {
            "line": {
             "colorbar": {
              "outlinewidth": 0,
              "ticks": ""
             }
            },
            "marker": {
             "colorbar": {
              "outlinewidth": 0,
              "ticks": ""
             }
            },
            "type": "scatter3d"
           }
          ],
          "scattercarpet": [
           {
            "marker": {
             "colorbar": {
              "outlinewidth": 0,
              "ticks": ""
             }
            },
            "type": "scattercarpet"
           }
          ],
          "scattergeo": [
           {
            "marker": {
             "colorbar": {
              "outlinewidth": 0,
              "ticks": ""
             }
            },
            "type": "scattergeo"
           }
          ],
          "scattergl": [
           {
            "marker": {
             "colorbar": {
              "outlinewidth": 0,
              "ticks": ""
             }
            },
            "type": "scattergl"
           }
          ],
          "scattermapbox": [
           {
            "marker": {
             "colorbar": {
              "outlinewidth": 0,
              "ticks": ""
             }
            },
            "type": "scattermapbox"
           }
          ],
          "scatterpolar": [
           {
            "marker": {
             "colorbar": {
              "outlinewidth": 0,
              "ticks": ""
             }
            },
            "type": "scatterpolar"
           }
          ],
          "scatterpolargl": [
           {
            "marker": {
             "colorbar": {
              "outlinewidth": 0,
              "ticks": ""
             }
            },
            "type": "scatterpolargl"
           }
          ],
          "scatterternary": [
           {
            "marker": {
             "colorbar": {
              "outlinewidth": 0,
              "ticks": ""
             }
            },
            "type": "scatterternary"
           }
          ],
          "surface": [
           {
            "colorbar": {
             "outlinewidth": 0,
             "ticks": ""
            },
            "colorscale": [
             [
              0,
              "#0d0887"
             ],
             [
              0.1111111111111111,
              "#46039f"
             ],
             [
              0.2222222222222222,
              "#7201a8"
             ],
             [
              0.3333333333333333,
              "#9c179e"
             ],
             [
              0.4444444444444444,
              "#bd3786"
             ],
             [
              0.5555555555555556,
              "#d8576b"
             ],
             [
              0.6666666666666666,
              "#ed7953"
             ],
             [
              0.7777777777777778,
              "#fb9f3a"
             ],
             [
              0.8888888888888888,
              "#fdca26"
             ],
             [
              1,
              "#f0f921"
             ]
            ],
            "type": "surface"
           }
          ],
          "table": [
           {
            "cells": {
             "fill": {
              "color": "#EBF0F8"
             },
             "line": {
              "color": "white"
             }
            },
            "header": {
             "fill": {
              "color": "#C8D4E3"
             },
             "line": {
              "color": "white"
             }
            },
            "type": "table"
           }
          ]
         },
         "layout": {
          "annotationdefaults": {
           "arrowcolor": "#2a3f5f",
           "arrowhead": 0,
           "arrowwidth": 1
          },
          "autotypenumbers": "strict",
          "coloraxis": {
           "colorbar": {
            "outlinewidth": 0,
            "ticks": ""
           }
          },
          "colorscale": {
           "diverging": [
            [
             0,
             "#8e0152"
            ],
            [
             0.1,
             "#c51b7d"
            ],
            [
             0.2,
             "#de77ae"
            ],
            [
             0.3,
             "#f1b6da"
            ],
            [
             0.4,
             "#fde0ef"
            ],
            [
             0.5,
             "#f7f7f7"
            ],
            [
             0.6,
             "#e6f5d0"
            ],
            [
             0.7,
             "#b8e186"
            ],
            [
             0.8,
             "#7fbc41"
            ],
            [
             0.9,
             "#4d9221"
            ],
            [
             1,
             "#276419"
            ]
           ],
           "sequential": [
            [
             0,
             "#0d0887"
            ],
            [
             0.1111111111111111,
             "#46039f"
            ],
            [
             0.2222222222222222,
             "#7201a8"
            ],
            [
             0.3333333333333333,
             "#9c179e"
            ],
            [
             0.4444444444444444,
             "#bd3786"
            ],
            [
             0.5555555555555556,
             "#d8576b"
            ],
            [
             0.6666666666666666,
             "#ed7953"
            ],
            [
             0.7777777777777778,
             "#fb9f3a"
            ],
            [
             0.8888888888888888,
             "#fdca26"
            ],
            [
             1,
             "#f0f921"
            ]
           ],
           "sequentialminus": [
            [
             0,
             "#0d0887"
            ],
            [
             0.1111111111111111,
             "#46039f"
            ],
            [
             0.2222222222222222,
             "#7201a8"
            ],
            [
             0.3333333333333333,
             "#9c179e"
            ],
            [
             0.4444444444444444,
             "#bd3786"
            ],
            [
             0.5555555555555556,
             "#d8576b"
            ],
            [
             0.6666666666666666,
             "#ed7953"
            ],
            [
             0.7777777777777778,
             "#fb9f3a"
            ],
            [
             0.8888888888888888,
             "#fdca26"
            ],
            [
             1,
             "#f0f921"
            ]
           ]
          },
          "colorway": [
           "#636efa",
           "#EF553B",
           "#00cc96",
           "#ab63fa",
           "#FFA15A",
           "#19d3f3",
           "#FF6692",
           "#B6E880",
           "#FF97FF",
           "#FECB52"
          ],
          "font": {
           "color": "#2a3f5f"
          },
          "geo": {
           "bgcolor": "white",
           "lakecolor": "white",
           "landcolor": "#E5ECF6",
           "showlakes": true,
           "showland": true,
           "subunitcolor": "white"
          },
          "hoverlabel": {
           "align": "left"
          },
          "hovermode": "closest",
          "mapbox": {
           "style": "light"
          },
          "paper_bgcolor": "white",
          "plot_bgcolor": "#E5ECF6",
          "polar": {
           "angularaxis": {
            "gridcolor": "white",
            "linecolor": "white",
            "ticks": ""
           },
           "bgcolor": "#E5ECF6",
           "radialaxis": {
            "gridcolor": "white",
            "linecolor": "white",
            "ticks": ""
           }
          },
          "scene": {
           "xaxis": {
            "backgroundcolor": "#E5ECF6",
            "gridcolor": "white",
            "gridwidth": 2,
            "linecolor": "white",
            "showbackground": true,
            "ticks": "",
            "zerolinecolor": "white"
           },
           "yaxis": {
            "backgroundcolor": "#E5ECF6",
            "gridcolor": "white",
            "gridwidth": 2,
            "linecolor": "white",
            "showbackground": true,
            "ticks": "",
            "zerolinecolor": "white"
           },
           "zaxis": {
            "backgroundcolor": "#E5ECF6",
            "gridcolor": "white",
            "gridwidth": 2,
            "linecolor": "white",
            "showbackground": true,
            "ticks": "",
            "zerolinecolor": "white"
           }
          },
          "shapedefaults": {
           "line": {
            "color": "#2a3f5f"
           }
          },
          "ternary": {
           "aaxis": {
            "gridcolor": "white",
            "linecolor": "white",
            "ticks": ""
           },
           "baxis": {
            "gridcolor": "white",
            "linecolor": "white",
            "ticks": ""
           },
           "bgcolor": "#E5ECF6",
           "caxis": {
            "gridcolor": "white",
            "linecolor": "white",
            "ticks": ""
           }
          },
          "title": {
           "x": 0.05
          },
          "xaxis": {
           "automargin": true,
           "gridcolor": "white",
           "linecolor": "white",
           "ticks": "",
           "title": {
            "standoff": 15
           },
           "zerolinecolor": "white",
           "zerolinewidth": 2
          },
          "yaxis": {
           "automargin": true,
           "gridcolor": "white",
           "linecolor": "white",
           "ticks": "",
           "title": {
            "standoff": 15
           },
           "zerolinecolor": "white",
           "zerolinewidth": 2
          }
         }
        },
        "width": 800
       }
      }
     },
     "metadata": {},
     "output_type": "display_data"
    }
   ],
   "source": [
    "fig = px.scatter_mapbox(\n",
    "    station_info_200, \n",
    "    lat=\"lat\", \n",
    "    lon=\"lon\", \n",
    "    height=800,\n",
    "    width=800)\n",
    "\n",
    "fig.update_layout(mapbox_style=\"open-street-map\")\n",
    "fig.update_layout(margin={\"r\":0,\"t\":0,\"l\":0,\"b\":0})\n",
    "fig.show()"
   ]
  },
  {
   "cell_type": "code",
   "execution_count": 4,
   "metadata": {},
   "outputs": [
    {
     "data": {
      "text/plain": [
       "Boston        253\n",
       "Cambridge      78\n",
       "Somerville     33\n",
       "Newton         16\n",
       "Brookline      14\n",
       "Everett        14\n",
       "Salem          14\n",
       "Watertown       6\n",
       "Arlington       6\n",
       "Chelsea         6\n",
       "Revere          4\n",
       "Medford         3\n",
       "Malden          2\n",
       "Name: name_y, dtype: int64"
      ]
     },
     "execution_count": 4,
     "metadata": {},
     "output_type": "execute_result"
    }
   ],
   "source": [
    "station_information['name_y'].value_counts()"
   ]
  },
  {
   "cell_type": "code",
   "execution_count": null,
   "metadata": {},
   "outputs": [],
   "source": []
  }
 ],
 "metadata": {
  "kernelspec": {
   "display_name": "Python 3.9.13 ('env_maiwenn')",
   "language": "python",
   "name": "python3"
  },
  "language_info": {
   "codemirror_mode": {
    "name": "ipython",
    "version": 3
   },
   "file_extension": ".py",
   "mimetype": "text/x-python",
   "name": "python",
   "nbconvert_exporter": "python",
   "pygments_lexer": "ipython3",
   "version": "3.9.13"
  },
  "orig_nbformat": 4,
  "vscode": {
   "interpreter": {
    "hash": "32466a21a07a3c6fbc499a46ef5738207d953e31ba20ebfadb807195852ba7c1"
   }
  }
 },
 "nbformat": 4,
 "nbformat_minor": 2
}
