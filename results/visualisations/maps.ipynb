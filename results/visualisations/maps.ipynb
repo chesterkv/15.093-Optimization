{
 "cells": [
  {
   "cell_type": "code",
   "execution_count": 15,
   "metadata": {},
   "outputs": [],
   "source": [
    "import pandas as pd\n",
    "import numpy as np\n",
    "import plotly.express as px\n",
    "import plotly.graph_objects as go\n",
    "import os"
   ]
  },
  {
   "cell_type": "markdown",
   "metadata": {},
   "source": [
    "#### Import stations_sorted and keep top n"
   ]
  },
  {
   "cell_type": "code",
   "execution_count": 52,
   "metadata": {},
   "outputs": [],
   "source": [
    "stations_sorted = pd.read_csv('../../data/parameters/stations_sorted.csv')\n",
    "top_n=stations_sorted[:30]"
   ]
  },
  {
   "cell_type": "markdown",
   "metadata": {},
   "source": [
    "#### Import station_information and keep only top n"
   ]
  },
  {
   "cell_type": "code",
   "execution_count": 53,
   "metadata": {},
   "outputs": [],
   "source": [
    "station_information = pd.read_csv('../../data/stations/station_information.csv')\n",
    "station_information_topn=station_information.merge(top_n,on='station_id')"
   ]
  },
  {
   "cell_type": "markdown",
   "metadata": {},
   "source": [
    "#### Create match between stations_id and rows in Optim model"
   ]
  },
  {
   "cell_type": "code",
   "execution_count": 54,
   "metadata": {},
   "outputs": [],
   "source": [
    "def create_stations_match(stations_sorted):\n",
    "    stations_match = dict()\n",
    "    for i in range(1,len(stations_sorted)+1):\n",
    "        stations_match[i] = stations_sorted.iloc[i-1].station_id\n",
    "    return stations_match"
   ]
  },
  {
   "cell_type": "code",
   "execution_count": 73,
   "metadata": {},
   "outputs": [],
   "source": [
    "stations_match=create_stations_match(stations_sorted)\n",
    "row_to_station_id=create_stations_match(top_n)\n",
    "station_id_to_row = {v: k for k, v in row_to_station_id.items()}\n",
    "# NB : row numbers start at 1 cf Julia"
   ]
  },
  {
   "cell_type": "markdown",
   "metadata": {},
   "source": [
    "## Load results"
   ]
  },
  {
   "cell_type": "code",
   "execution_count": 56,
   "metadata": {},
   "outputs": [],
   "source": [
    "# folder should be named 'nb_stations'_'nb_vans'_'S'_*\n",
    "def load_results(data_folder):\n",
    "    results_folder = os.path.join(\"../../results/data\", data_folder)\n",
    "    nb_stations = int(data_folder.split('_')[2])\n",
    "    nb_vans = int(data_folder.split('_')[4])\n",
    "\n",
    "    with open(os.path.join(results_folder, 'x.csv'), 'r') as f:\n",
    "        x = f.read().splitlines()\n",
    "    x = np.array(x).astype(float).reshape((nb_stations,nb_stations,nb_vans,24),order='F')\n",
    "\n",
    "    with open(os.path.join(results_folder, 'v.csv'), 'r') as f:\n",
    "        v = f.read().splitlines()\n",
    "    v = np.array(v).astype(float).reshape((nb_stations,nb_stations,nb_vans,24),order='F')\n",
    "\n",
    "    with open(os.path.join(results_folder, 'z.csv'), 'r') as f:\n",
    "        z = f.read().splitlines()\n",
    "    z = np.array(z).astype(float).reshape((nb_stations,nb_stations,nb_vans,24),order='F')\n",
    "\n",
    "    with open(os.path.join(results_folder, 'y.csv'), 'r') as f:\n",
    "        y = f.read().splitlines()\n",
    "    y = np.array(y).astype(float).reshape((nb_stations,24),order='F')\n",
    "\n",
    "    with open(os.path.join(results_folder, 'w.csv'), 'r') as f:\n",
    "        w = f.read().splitlines()\n",
    "    w = np.array(w).astype(float).reshape((nb_stations,nb_stations,24),order='F')\n",
    "\n",
    "    with open(os.path.join(results_folder, 'u.csv'), 'r') as f:\n",
    "        u = f.read().splitlines()\n",
    "    u = np.array(u).astype(float).reshape((nb_stations,nb_stations,24),order='F')\n",
    "\n",
    "    with open(os.path.join(results_folder, 'd.csv'), 'r') as f:\n",
    "        d = f.read().splitlines()\n",
    "    d = np.array(d).astype(float).reshape((nb_stations,nb_stations,24),order='F')\n",
    "\n",
    "    return x, v, z, y, w, u, d"
   ]
  },
  {
   "cell_type": "code",
   "execution_count": 57,
   "metadata": {},
   "outputs": [],
   "source": [
    "x, v, z, y, w, u, d = load_results('2022-12-05T002617_nstations_31_nvans_2_capacity_25_lambda_15_timelimit_30')"
   ]
  },
  {
   "cell_type": "markdown",
   "metadata": {},
   "source": [
    "# Plot stations"
   ]
  },
  {
   "cell_type": "code",
   "execution_count": 58,
   "metadata": {},
   "outputs": [
    {
     "data": {
      "application/vnd.plotly.v1+json": {
       "config": {
        "plotlyServerURL": "https://plot.ly"
       },
       "data": [
        {
         "hovertemplate": "lat=%{lat}<br>lon=%{lon}<extra></extra>",
         "lat": [
          42.34011512249236,
          42.3533905070523,
          42.353334,
          42.350406,
          42.35533501941256,
          42.338514601786,
          42.363871,
          42.3436658245146,
          42.35585435522005,
          42.351356,
          42.36079296858265,
          42.34922469338298,
          42.3581,
          42.36507,
          42.373328798874056,
          42.366621,
          42.375603,
          42.372969,
          42.346197076555455,
          42.374878467440965,
          42.286212948246096,
          42.35159662465317,
          42.35872530462163
         ],
         "legendgroup": "",
         "lon": [
          -71.10061883926392,
          -71.04457139968872,
          -71.137313,
          -71.108279,
          -71.0582291708306,
          -71.07404083013535,
          -71.050877,
          -71.08582377433777,
          -71.05459745998814,
          -71.059367,
          -71.07118962337152,
          -71.13275302578586,
          -71.093198,
          -71.1031,
          -71.12098601080106,
          -71.114214,
          -71.064608,
          -71.094445,
          -71.10728681087494,
          -71.06383498767171,
          -71.07942931372236,
          -71.0756166279316,
          -71.07079532006537
         ],
         "marker": {
          "color": "#636efa"
         },
         "mode": "markers",
         "name": "",
         "showlegend": false,
         "subplot": "mapbox",
         "type": "scattermapbox"
        }
       ],
       "layout": {
        "height": 800,
        "legend": {
         "tracegroupgap": 0
        },
        "mapbox": {
         "center": {
          "lat": 42.35413749186239,
          "lon": -71.08544235628125
         },
         "domain": {
          "x": [
           0,
           1
          ],
          "y": [
           0,
           1
          ]
         },
         "style": "open-street-map",
         "zoom": 8
        },
        "margin": {
         "b": 0,
         "l": 0,
         "r": 0,
         "t": 0
        },
        "template": {
         "data": {
          "bar": [
           {
            "error_x": {
             "color": "#2a3f5f"
            },
            "error_y": {
             "color": "#2a3f5f"
            },
            "marker": {
             "line": {
              "color": "#E5ECF6",
              "width": 0.5
             },
             "pattern": {
              "fillmode": "overlay",
              "size": 10,
              "solidity": 0.2
             }
            },
            "type": "bar"
           }
          ],
          "barpolar": [
           {
            "marker": {
             "line": {
              "color": "#E5ECF6",
              "width": 0.5
             },
             "pattern": {
              "fillmode": "overlay",
              "size": 10,
              "solidity": 0.2
             }
            },
            "type": "barpolar"
           }
          ],
          "carpet": [
           {
            "aaxis": {
             "endlinecolor": "#2a3f5f",
             "gridcolor": "white",
             "linecolor": "white",
             "minorgridcolor": "white",
             "startlinecolor": "#2a3f5f"
            },
            "baxis": {
             "endlinecolor": "#2a3f5f",
             "gridcolor": "white",
             "linecolor": "white",
             "minorgridcolor": "white",
             "startlinecolor": "#2a3f5f"
            },
            "type": "carpet"
           }
          ],
          "choropleth": [
           {
            "colorbar": {
             "outlinewidth": 0,
             "ticks": ""
            },
            "type": "choropleth"
           }
          ],
          "contour": [
           {
            "colorbar": {
             "outlinewidth": 0,
             "ticks": ""
            },
            "colorscale": [
             [
              0,
              "#0d0887"
             ],
             [
              0.1111111111111111,
              "#46039f"
             ],
             [
              0.2222222222222222,
              "#7201a8"
             ],
             [
              0.3333333333333333,
              "#9c179e"
             ],
             [
              0.4444444444444444,
              "#bd3786"
             ],
             [
              0.5555555555555556,
              "#d8576b"
             ],
             [
              0.6666666666666666,
              "#ed7953"
             ],
             [
              0.7777777777777778,
              "#fb9f3a"
             ],
             [
              0.8888888888888888,
              "#fdca26"
             ],
             [
              1,
              "#f0f921"
             ]
            ],
            "type": "contour"
           }
          ],
          "contourcarpet": [
           {
            "colorbar": {
             "outlinewidth": 0,
             "ticks": ""
            },
            "type": "contourcarpet"
           }
          ],
          "heatmap": [
           {
            "colorbar": {
             "outlinewidth": 0,
             "ticks": ""
            },
            "colorscale": [
             [
              0,
              "#0d0887"
             ],
             [
              0.1111111111111111,
              "#46039f"
             ],
             [
              0.2222222222222222,
              "#7201a8"
             ],
             [
              0.3333333333333333,
              "#9c179e"
             ],
             [
              0.4444444444444444,
              "#bd3786"
             ],
             [
              0.5555555555555556,
              "#d8576b"
             ],
             [
              0.6666666666666666,
              "#ed7953"
             ],
             [
              0.7777777777777778,
              "#fb9f3a"
             ],
             [
              0.8888888888888888,
              "#fdca26"
             ],
             [
              1,
              "#f0f921"
             ]
            ],
            "type": "heatmap"
           }
          ],
          "heatmapgl": [
           {
            "colorbar": {
             "outlinewidth": 0,
             "ticks": ""
            },
            "colorscale": [
             [
              0,
              "#0d0887"
             ],
             [
              0.1111111111111111,
              "#46039f"
             ],
             [
              0.2222222222222222,
              "#7201a8"
             ],
             [
              0.3333333333333333,
              "#9c179e"
             ],
             [
              0.4444444444444444,
              "#bd3786"
             ],
             [
              0.5555555555555556,
              "#d8576b"
             ],
             [
              0.6666666666666666,
              "#ed7953"
             ],
             [
              0.7777777777777778,
              "#fb9f3a"
             ],
             [
              0.8888888888888888,
              "#fdca26"
             ],
             [
              1,
              "#f0f921"
             ]
            ],
            "type": "heatmapgl"
           }
          ],
          "histogram": [
           {
            "marker": {
             "pattern": {
              "fillmode": "overlay",
              "size": 10,
              "solidity": 0.2
             }
            },
            "type": "histogram"
           }
          ],
          "histogram2d": [
           {
            "colorbar": {
             "outlinewidth": 0,
             "ticks": ""
            },
            "colorscale": [
             [
              0,
              "#0d0887"
             ],
             [
              0.1111111111111111,
              "#46039f"
             ],
             [
              0.2222222222222222,
              "#7201a8"
             ],
             [
              0.3333333333333333,
              "#9c179e"
             ],
             [
              0.4444444444444444,
              "#bd3786"
             ],
             [
              0.5555555555555556,
              "#d8576b"
             ],
             [
              0.6666666666666666,
              "#ed7953"
             ],
             [
              0.7777777777777778,
              "#fb9f3a"
             ],
             [
              0.8888888888888888,
              "#fdca26"
             ],
             [
              1,
              "#f0f921"
             ]
            ],
            "type": "histogram2d"
           }
          ],
          "histogram2dcontour": [
           {
            "colorbar": {
             "outlinewidth": 0,
             "ticks": ""
            },
            "colorscale": [
             [
              0,
              "#0d0887"
             ],
             [
              0.1111111111111111,
              "#46039f"
             ],
             [
              0.2222222222222222,
              "#7201a8"
             ],
             [
              0.3333333333333333,
              "#9c179e"
             ],
             [
              0.4444444444444444,
              "#bd3786"
             ],
             [
              0.5555555555555556,
              "#d8576b"
             ],
             [
              0.6666666666666666,
              "#ed7953"
             ],
             [
              0.7777777777777778,
              "#fb9f3a"
             ],
             [
              0.8888888888888888,
              "#fdca26"
             ],
             [
              1,
              "#f0f921"
             ]
            ],
            "type": "histogram2dcontour"
           }
          ],
          "mesh3d": [
           {
            "colorbar": {
             "outlinewidth": 0,
             "ticks": ""
            },
            "type": "mesh3d"
           }
          ],
          "parcoords": [
           {
            "line": {
             "colorbar": {
              "outlinewidth": 0,
              "ticks": ""
             }
            },
            "type": "parcoords"
           }
          ],
          "pie": [
           {
            "automargin": true,
            "type": "pie"
           }
          ],
          "scatter": [
           {
            "fillpattern": {
             "fillmode": "overlay",
             "size": 10,
             "solidity": 0.2
            },
            "type": "scatter"
           }
          ],
          "scatter3d": [
           {
            "line": {
             "colorbar": {
              "outlinewidth": 0,
              "ticks": ""
             }
            },
            "marker": {
             "colorbar": {
              "outlinewidth": 0,
              "ticks": ""
             }
            },
            "type": "scatter3d"
           }
          ],
          "scattercarpet": [
           {
            "marker": {
             "colorbar": {
              "outlinewidth": 0,
              "ticks": ""
             }
            },
            "type": "scattercarpet"
           }
          ],
          "scattergeo": [
           {
            "marker": {
             "colorbar": {
              "outlinewidth": 0,
              "ticks": ""
             }
            },
            "type": "scattergeo"
           }
          ],
          "scattergl": [
           {
            "marker": {
             "colorbar": {
              "outlinewidth": 0,
              "ticks": ""
             }
            },
            "type": "scattergl"
           }
          ],
          "scattermapbox": [
           {
            "marker": {
             "colorbar": {
              "outlinewidth": 0,
              "ticks": ""
             }
            },
            "type": "scattermapbox"
           }
          ],
          "scatterpolar": [
           {
            "marker": {
             "colorbar": {
              "outlinewidth": 0,
              "ticks": ""
             }
            },
            "type": "scatterpolar"
           }
          ],
          "scatterpolargl": [
           {
            "marker": {
             "colorbar": {
              "outlinewidth": 0,
              "ticks": ""
             }
            },
            "type": "scatterpolargl"
           }
          ],
          "scatterternary": [
           {
            "marker": {
             "colorbar": {
              "outlinewidth": 0,
              "ticks": ""
             }
            },
            "type": "scatterternary"
           }
          ],
          "surface": [
           {
            "colorbar": {
             "outlinewidth": 0,
             "ticks": ""
            },
            "colorscale": [
             [
              0,
              "#0d0887"
             ],
             [
              0.1111111111111111,
              "#46039f"
             ],
             [
              0.2222222222222222,
              "#7201a8"
             ],
             [
              0.3333333333333333,
              "#9c179e"
             ],
             [
              0.4444444444444444,
              "#bd3786"
             ],
             [
              0.5555555555555556,
              "#d8576b"
             ],
             [
              0.6666666666666666,
              "#ed7953"
             ],
             [
              0.7777777777777778,
              "#fb9f3a"
             ],
             [
              0.8888888888888888,
              "#fdca26"
             ],
             [
              1,
              "#f0f921"
             ]
            ],
            "type": "surface"
           }
          ],
          "table": [
           {
            "cells": {
             "fill": {
              "color": "#EBF0F8"
             },
             "line": {
              "color": "white"
             }
            },
            "header": {
             "fill": {
              "color": "#C8D4E3"
             },
             "line": {
              "color": "white"
             }
            },
            "type": "table"
           }
          ]
         },
         "layout": {
          "annotationdefaults": {
           "arrowcolor": "#2a3f5f",
           "arrowhead": 0,
           "arrowwidth": 1
          },
          "autotypenumbers": "strict",
          "coloraxis": {
           "colorbar": {
            "outlinewidth": 0,
            "ticks": ""
           }
          },
          "colorscale": {
           "diverging": [
            [
             0,
             "#8e0152"
            ],
            [
             0.1,
             "#c51b7d"
            ],
            [
             0.2,
             "#de77ae"
            ],
            [
             0.3,
             "#f1b6da"
            ],
            [
             0.4,
             "#fde0ef"
            ],
            [
             0.5,
             "#f7f7f7"
            ],
            [
             0.6,
             "#e6f5d0"
            ],
            [
             0.7,
             "#b8e186"
            ],
            [
             0.8,
             "#7fbc41"
            ],
            [
             0.9,
             "#4d9221"
            ],
            [
             1,
             "#276419"
            ]
           ],
           "sequential": [
            [
             0,
             "#0d0887"
            ],
            [
             0.1111111111111111,
             "#46039f"
            ],
            [
             0.2222222222222222,
             "#7201a8"
            ],
            [
             0.3333333333333333,
             "#9c179e"
            ],
            [
             0.4444444444444444,
             "#bd3786"
            ],
            [
             0.5555555555555556,
             "#d8576b"
            ],
            [
             0.6666666666666666,
             "#ed7953"
            ],
            [
             0.7777777777777778,
             "#fb9f3a"
            ],
            [
             0.8888888888888888,
             "#fdca26"
            ],
            [
             1,
             "#f0f921"
            ]
           ],
           "sequentialminus": [
            [
             0,
             "#0d0887"
            ],
            [
             0.1111111111111111,
             "#46039f"
            ],
            [
             0.2222222222222222,
             "#7201a8"
            ],
            [
             0.3333333333333333,
             "#9c179e"
            ],
            [
             0.4444444444444444,
             "#bd3786"
            ],
            [
             0.5555555555555556,
             "#d8576b"
            ],
            [
             0.6666666666666666,
             "#ed7953"
            ],
            [
             0.7777777777777778,
             "#fb9f3a"
            ],
            [
             0.8888888888888888,
             "#fdca26"
            ],
            [
             1,
             "#f0f921"
            ]
           ]
          },
          "colorway": [
           "#636efa",
           "#EF553B",
           "#00cc96",
           "#ab63fa",
           "#FFA15A",
           "#19d3f3",
           "#FF6692",
           "#B6E880",
           "#FF97FF",
           "#FECB52"
          ],
          "font": {
           "color": "#2a3f5f"
          },
          "geo": {
           "bgcolor": "white",
           "lakecolor": "white",
           "landcolor": "#E5ECF6",
           "showlakes": true,
           "showland": true,
           "subunitcolor": "white"
          },
          "hoverlabel": {
           "align": "left"
          },
          "hovermode": "closest",
          "mapbox": {
           "style": "light"
          },
          "paper_bgcolor": "white",
          "plot_bgcolor": "#E5ECF6",
          "polar": {
           "angularaxis": {
            "gridcolor": "white",
            "linecolor": "white",
            "ticks": ""
           },
           "bgcolor": "#E5ECF6",
           "radialaxis": {
            "gridcolor": "white",
            "linecolor": "white",
            "ticks": ""
           }
          },
          "scene": {
           "xaxis": {
            "backgroundcolor": "#E5ECF6",
            "gridcolor": "white",
            "gridwidth": 2,
            "linecolor": "white",
            "showbackground": true,
            "ticks": "",
            "zerolinecolor": "white"
           },
           "yaxis": {
            "backgroundcolor": "#E5ECF6",
            "gridcolor": "white",
            "gridwidth": 2,
            "linecolor": "white",
            "showbackground": true,
            "ticks": "",
            "zerolinecolor": "white"
           },
           "zaxis": {
            "backgroundcolor": "#E5ECF6",
            "gridcolor": "white",
            "gridwidth": 2,
            "linecolor": "white",
            "showbackground": true,
            "ticks": "",
            "zerolinecolor": "white"
           }
          },
          "shapedefaults": {
           "line": {
            "color": "#2a3f5f"
           }
          },
          "ternary": {
           "aaxis": {
            "gridcolor": "white",
            "linecolor": "white",
            "ticks": ""
           },
           "baxis": {
            "gridcolor": "white",
            "linecolor": "white",
            "ticks": ""
           },
           "bgcolor": "#E5ECF6",
           "caxis": {
            "gridcolor": "white",
            "linecolor": "white",
            "ticks": ""
           }
          },
          "title": {
           "x": 0.05
          },
          "xaxis": {
           "automargin": true,
           "gridcolor": "white",
           "linecolor": "white",
           "ticks": "",
           "title": {
            "standoff": 15
           },
           "zerolinecolor": "white",
           "zerolinewidth": 2
          },
          "yaxis": {
           "automargin": true,
           "gridcolor": "white",
           "linecolor": "white",
           "ticks": "",
           "title": {
            "standoff": 15
           },
           "zerolinecolor": "white",
           "zerolinewidth": 2
          }
         }
        },
        "width": 800
       }
      }
     },
     "metadata": {},
     "output_type": "display_data"
    }
   ],
   "source": [
    "fig = px.scatter_mapbox(\n",
    "    station_information_topn, \n",
    "    lat=\"lat\", \n",
    "    lon=\"lon\", \n",
    "    height=800,\n",
    "    width=800)\n",
    "\n",
    "fig.update_layout(mapbox_style=\"open-street-map\")\n",
    "fig.update_layout(margin={\"r\":0,\"t\":0,\"l\":0,\"b\":0})\n",
    "fig.show()"
   ]
  },
  {
   "cell_type": "markdown",
   "metadata": {},
   "source": [
    "# Plot demand"
   ]
  },
  {
   "cell_type": "code",
   "execution_count": 59,
   "metadata": {},
   "outputs": [
    {
     "data": {
      "application/vnd.plotly.v1+json": {
       "config": {
        "plotlyServerURL": "https://plot.ly"
       },
       "data": [
        {
         "lat": [
          42.34011512249236,
          42.3533905070523,
          42.353334,
          42.350406,
          42.35533501941256,
          42.338514601786,
          42.363871,
          42.3436658245146,
          42.35585435522005,
          42.351356,
          42.36079296858265,
          42.34922469338298,
          42.3581,
          42.36507,
          42.373328798874056,
          42.366621,
          42.375603,
          42.372969,
          42.346197076555455,
          42.374878467440965,
          42.286212948246096,
          42.35159662465317,
          42.35872530462163
         ],
         "lon": [
          -71.10061883926392,
          -71.04457139968872,
          -71.137313,
          -71.108279,
          -71.0582291708306,
          -71.07404083013535,
          -71.050877,
          -71.08582377433777,
          -71.05459745998814,
          -71.059367,
          -71.07118962337152,
          -71.13275302578586,
          -71.093198,
          -71.1031,
          -71.12098601080106,
          -71.114214,
          -71.064608,
          -71.094445,
          -71.10728681087494,
          -71.06383498767171,
          -71.07942931372236,
          -71.0756166279316,
          -71.07079532006537
         ],
         "marker": {
          "size": [
           1.2195121951219512,
           2.3996852871754526,
           1.3178599527930763,
           2.143981117230527,
           1.3768686073957515,
           3.9929189614476788,
           2.242328874901652,
           3.933910306845004,
           1.3965381589299763,
           4.091266719118804,
           4.484657749803304,
           6.235247836349331,
           1.5145554681353266,
           3.127458693941778,
           1.7702596380802518,
           1.4162077104642015,
           2.045633359559402,
           25,
           1.5735641227380015,
           2.5373721479150277,
           1.8095987411487018,
           1.829268292682927,
           3.5995279307631787
          ]
         },
         "mode": "markers",
         "type": "scattermapbox"
        }
       ],
       "layout": {
        "height": 800,
        "hovermode": "closest",
        "mapbox": {
         "bearing": 0,
         "center": {
          "lat": 42.364981,
          "lon": -71.079021
         },
         "pitch": 0,
         "style": "open-street-map",
         "zoom": 11
        },
        "template": {
         "data": {
          "bar": [
           {
            "error_x": {
             "color": "#2a3f5f"
            },
            "error_y": {
             "color": "#2a3f5f"
            },
            "marker": {
             "line": {
              "color": "#E5ECF6",
              "width": 0.5
             },
             "pattern": {
              "fillmode": "overlay",
              "size": 10,
              "solidity": 0.2
             }
            },
            "type": "bar"
           }
          ],
          "barpolar": [
           {
            "marker": {
             "line": {
              "color": "#E5ECF6",
              "width": 0.5
             },
             "pattern": {
              "fillmode": "overlay",
              "size": 10,
              "solidity": 0.2
             }
            },
            "type": "barpolar"
           }
          ],
          "carpet": [
           {
            "aaxis": {
             "endlinecolor": "#2a3f5f",
             "gridcolor": "white",
             "linecolor": "white",
             "minorgridcolor": "white",
             "startlinecolor": "#2a3f5f"
            },
            "baxis": {
             "endlinecolor": "#2a3f5f",
             "gridcolor": "white",
             "linecolor": "white",
             "minorgridcolor": "white",
             "startlinecolor": "#2a3f5f"
            },
            "type": "carpet"
           }
          ],
          "choropleth": [
           {
            "colorbar": {
             "outlinewidth": 0,
             "ticks": ""
            },
            "type": "choropleth"
           }
          ],
          "contour": [
           {
            "colorbar": {
             "outlinewidth": 0,
             "ticks": ""
            },
            "colorscale": [
             [
              0,
              "#0d0887"
             ],
             [
              0.1111111111111111,
              "#46039f"
             ],
             [
              0.2222222222222222,
              "#7201a8"
             ],
             [
              0.3333333333333333,
              "#9c179e"
             ],
             [
              0.4444444444444444,
              "#bd3786"
             ],
             [
              0.5555555555555556,
              "#d8576b"
             ],
             [
              0.6666666666666666,
              "#ed7953"
             ],
             [
              0.7777777777777778,
              "#fb9f3a"
             ],
             [
              0.8888888888888888,
              "#fdca26"
             ],
             [
              1,
              "#f0f921"
             ]
            ],
            "type": "contour"
           }
          ],
          "contourcarpet": [
           {
            "colorbar": {
             "outlinewidth": 0,
             "ticks": ""
            },
            "type": "contourcarpet"
           }
          ],
          "heatmap": [
           {
            "colorbar": {
             "outlinewidth": 0,
             "ticks": ""
            },
            "colorscale": [
             [
              0,
              "#0d0887"
             ],
             [
              0.1111111111111111,
              "#46039f"
             ],
             [
              0.2222222222222222,
              "#7201a8"
             ],
             [
              0.3333333333333333,
              "#9c179e"
             ],
             [
              0.4444444444444444,
              "#bd3786"
             ],
             [
              0.5555555555555556,
              "#d8576b"
             ],
             [
              0.6666666666666666,
              "#ed7953"
             ],
             [
              0.7777777777777778,
              "#fb9f3a"
             ],
             [
              0.8888888888888888,
              "#fdca26"
             ],
             [
              1,
              "#f0f921"
             ]
            ],
            "type": "heatmap"
           }
          ],
          "heatmapgl": [
           {
            "colorbar": {
             "outlinewidth": 0,
             "ticks": ""
            },
            "colorscale": [
             [
              0,
              "#0d0887"
             ],
             [
              0.1111111111111111,
              "#46039f"
             ],
             [
              0.2222222222222222,
              "#7201a8"
             ],
             [
              0.3333333333333333,
              "#9c179e"
             ],
             [
              0.4444444444444444,
              "#bd3786"
             ],
             [
              0.5555555555555556,
              "#d8576b"
             ],
             [
              0.6666666666666666,
              "#ed7953"
             ],
             [
              0.7777777777777778,
              "#fb9f3a"
             ],
             [
              0.8888888888888888,
              "#fdca26"
             ],
             [
              1,
              "#f0f921"
             ]
            ],
            "type": "heatmapgl"
           }
          ],
          "histogram": [
           {
            "marker": {
             "pattern": {
              "fillmode": "overlay",
              "size": 10,
              "solidity": 0.2
             }
            },
            "type": "histogram"
           }
          ],
          "histogram2d": [
           {
            "colorbar": {
             "outlinewidth": 0,
             "ticks": ""
            },
            "colorscale": [
             [
              0,
              "#0d0887"
             ],
             [
              0.1111111111111111,
              "#46039f"
             ],
             [
              0.2222222222222222,
              "#7201a8"
             ],
             [
              0.3333333333333333,
              "#9c179e"
             ],
             [
              0.4444444444444444,
              "#bd3786"
             ],
             [
              0.5555555555555556,
              "#d8576b"
             ],
             [
              0.6666666666666666,
              "#ed7953"
             ],
             [
              0.7777777777777778,
              "#fb9f3a"
             ],
             [
              0.8888888888888888,
              "#fdca26"
             ],
             [
              1,
              "#f0f921"
             ]
            ],
            "type": "histogram2d"
           }
          ],
          "histogram2dcontour": [
           {
            "colorbar": {
             "outlinewidth": 0,
             "ticks": ""
            },
            "colorscale": [
             [
              0,
              "#0d0887"
             ],
             [
              0.1111111111111111,
              "#46039f"
             ],
             [
              0.2222222222222222,
              "#7201a8"
             ],
             [
              0.3333333333333333,
              "#9c179e"
             ],
             [
              0.4444444444444444,
              "#bd3786"
             ],
             [
              0.5555555555555556,
              "#d8576b"
             ],
             [
              0.6666666666666666,
              "#ed7953"
             ],
             [
              0.7777777777777778,
              "#fb9f3a"
             ],
             [
              0.8888888888888888,
              "#fdca26"
             ],
             [
              1,
              "#f0f921"
             ]
            ],
            "type": "histogram2dcontour"
           }
          ],
          "mesh3d": [
           {
            "colorbar": {
             "outlinewidth": 0,
             "ticks": ""
            },
            "type": "mesh3d"
           }
          ],
          "parcoords": [
           {
            "line": {
             "colorbar": {
              "outlinewidth": 0,
              "ticks": ""
             }
            },
            "type": "parcoords"
           }
          ],
          "pie": [
           {
            "automargin": true,
            "type": "pie"
           }
          ],
          "scatter": [
           {
            "fillpattern": {
             "fillmode": "overlay",
             "size": 10,
             "solidity": 0.2
            },
            "type": "scatter"
           }
          ],
          "scatter3d": [
           {
            "line": {
             "colorbar": {
              "outlinewidth": 0,
              "ticks": ""
             }
            },
            "marker": {
             "colorbar": {
              "outlinewidth": 0,
              "ticks": ""
             }
            },
            "type": "scatter3d"
           }
          ],
          "scattercarpet": [
           {
            "marker": {
             "colorbar": {
              "outlinewidth": 0,
              "ticks": ""
             }
            },
            "type": "scattercarpet"
           }
          ],
          "scattergeo": [
           {
            "marker": {
             "colorbar": {
              "outlinewidth": 0,
              "ticks": ""
             }
            },
            "type": "scattergeo"
           }
          ],
          "scattergl": [
           {
            "marker": {
             "colorbar": {
              "outlinewidth": 0,
              "ticks": ""
             }
            },
            "type": "scattergl"
           }
          ],
          "scattermapbox": [
           {
            "marker": {
             "colorbar": {
              "outlinewidth": 0,
              "ticks": ""
             }
            },
            "type": "scattermapbox"
           }
          ],
          "scatterpolar": [
           {
            "marker": {
             "colorbar": {
              "outlinewidth": 0,
              "ticks": ""
             }
            },
            "type": "scatterpolar"
           }
          ],
          "scatterpolargl": [
           {
            "marker": {
             "colorbar": {
              "outlinewidth": 0,
              "ticks": ""
             }
            },
            "type": "scatterpolargl"
           }
          ],
          "scatterternary": [
           {
            "marker": {
             "colorbar": {
              "outlinewidth": 0,
              "ticks": ""
             }
            },
            "type": "scatterternary"
           }
          ],
          "surface": [
           {
            "colorbar": {
             "outlinewidth": 0,
             "ticks": ""
            },
            "colorscale": [
             [
              0,
              "#0d0887"
             ],
             [
              0.1111111111111111,
              "#46039f"
             ],
             [
              0.2222222222222222,
              "#7201a8"
             ],
             [
              0.3333333333333333,
              "#9c179e"
             ],
             [
              0.4444444444444444,
              "#bd3786"
             ],
             [
              0.5555555555555556,
              "#d8576b"
             ],
             [
              0.6666666666666666,
              "#ed7953"
             ],
             [
              0.7777777777777778,
              "#fb9f3a"
             ],
             [
              0.8888888888888888,
              "#fdca26"
             ],
             [
              1,
              "#f0f921"
             ]
            ],
            "type": "surface"
           }
          ],
          "table": [
           {
            "cells": {
             "fill": {
              "color": "#EBF0F8"
             },
             "line": {
              "color": "white"
             }
            },
            "header": {
             "fill": {
              "color": "#C8D4E3"
             },
             "line": {
              "color": "white"
             }
            },
            "type": "table"
           }
          ]
         },
         "layout": {
          "annotationdefaults": {
           "arrowcolor": "#2a3f5f",
           "arrowhead": 0,
           "arrowwidth": 1
          },
          "autotypenumbers": "strict",
          "coloraxis": {
           "colorbar": {
            "outlinewidth": 0,
            "ticks": ""
           }
          },
          "colorscale": {
           "diverging": [
            [
             0,
             "#8e0152"
            ],
            [
             0.1,
             "#c51b7d"
            ],
            [
             0.2,
             "#de77ae"
            ],
            [
             0.3,
             "#f1b6da"
            ],
            [
             0.4,
             "#fde0ef"
            ],
            [
             0.5,
             "#f7f7f7"
            ],
            [
             0.6,
             "#e6f5d0"
            ],
            [
             0.7,
             "#b8e186"
            ],
            [
             0.8,
             "#7fbc41"
            ],
            [
             0.9,
             "#4d9221"
            ],
            [
             1,
             "#276419"
            ]
           ],
           "sequential": [
            [
             0,
             "#0d0887"
            ],
            [
             0.1111111111111111,
             "#46039f"
            ],
            [
             0.2222222222222222,
             "#7201a8"
            ],
            [
             0.3333333333333333,
             "#9c179e"
            ],
            [
             0.4444444444444444,
             "#bd3786"
            ],
            [
             0.5555555555555556,
             "#d8576b"
            ],
            [
             0.6666666666666666,
             "#ed7953"
            ],
            [
             0.7777777777777778,
             "#fb9f3a"
            ],
            [
             0.8888888888888888,
             "#fdca26"
            ],
            [
             1,
             "#f0f921"
            ]
           ],
           "sequentialminus": [
            [
             0,
             "#0d0887"
            ],
            [
             0.1111111111111111,
             "#46039f"
            ],
            [
             0.2222222222222222,
             "#7201a8"
            ],
            [
             0.3333333333333333,
             "#9c179e"
            ],
            [
             0.4444444444444444,
             "#bd3786"
            ],
            [
             0.5555555555555556,
             "#d8576b"
            ],
            [
             0.6666666666666666,
             "#ed7953"
            ],
            [
             0.7777777777777778,
             "#fb9f3a"
            ],
            [
             0.8888888888888888,
             "#fdca26"
            ],
            [
             1,
             "#f0f921"
            ]
           ]
          },
          "colorway": [
           "#636efa",
           "#EF553B",
           "#00cc96",
           "#ab63fa",
           "#FFA15A",
           "#19d3f3",
           "#FF6692",
           "#B6E880",
           "#FF97FF",
           "#FECB52"
          ],
          "font": {
           "color": "#2a3f5f"
          },
          "geo": {
           "bgcolor": "white",
           "lakecolor": "white",
           "landcolor": "#E5ECF6",
           "showlakes": true,
           "showland": true,
           "subunitcolor": "white"
          },
          "hoverlabel": {
           "align": "left"
          },
          "hovermode": "closest",
          "mapbox": {
           "style": "light"
          },
          "paper_bgcolor": "white",
          "plot_bgcolor": "#E5ECF6",
          "polar": {
           "angularaxis": {
            "gridcolor": "white",
            "linecolor": "white",
            "ticks": ""
           },
           "bgcolor": "#E5ECF6",
           "radialaxis": {
            "gridcolor": "white",
            "linecolor": "white",
            "ticks": ""
           }
          },
          "scene": {
           "xaxis": {
            "backgroundcolor": "#E5ECF6",
            "gridcolor": "white",
            "gridwidth": 2,
            "linecolor": "white",
            "showbackground": true,
            "ticks": "",
            "zerolinecolor": "white"
           },
           "yaxis": {
            "backgroundcolor": "#E5ECF6",
            "gridcolor": "white",
            "gridwidth": 2,
            "linecolor": "white",
            "showbackground": true,
            "ticks": "",
            "zerolinecolor": "white"
           },
           "zaxis": {
            "backgroundcolor": "#E5ECF6",
            "gridcolor": "white",
            "gridwidth": 2,
            "linecolor": "white",
            "showbackground": true,
            "ticks": "",
            "zerolinecolor": "white"
           }
          },
          "shapedefaults": {
           "line": {
            "color": "#2a3f5f"
           }
          },
          "ternary": {
           "aaxis": {
            "gridcolor": "white",
            "linecolor": "white",
            "ticks": ""
           },
           "baxis": {
            "gridcolor": "white",
            "linecolor": "white",
            "ticks": ""
           },
           "bgcolor": "#E5ECF6",
           "caxis": {
            "gridcolor": "white",
            "linecolor": "white",
            "ticks": ""
           }
          },
          "title": {
           "x": 0.05
          },
          "xaxis": {
           "automargin": true,
           "gridcolor": "white",
           "linecolor": "white",
           "ticks": "",
           "title": {
            "standoff": 15
           },
           "zerolinecolor": "white",
           "zerolinewidth": 2
          },
          "yaxis": {
           "automargin": true,
           "gridcolor": "white",
           "linecolor": "white",
           "ticks": "",
           "title": {
            "standoff": 15
           },
           "zerolinecolor": "white",
           "zerolinewidth": 2
          }
         }
        },
        "width": 800
       }
      }
     },
     "metadata": {},
     "output_type": "display_data"
    }
   ],
   "source": [
    "def plot_demand(d):\n",
    "    fig = go.Figure()\n",
    "    demands = np.array([d[station_id_to_row[station_id],:,:].sum() for station_id in station_information_topn['station_id']])\n",
    "    demands_scaled = 25*demands/np.max(demands)\n",
    "    fig.add_trace(go.Scattermapbox(\n",
    "        lat=station_information_topn['lat'],\n",
    "        lon=station_information_topn['lon'],\n",
    "        mode='markers',\n",
    "        marker=go.scattermapbox.Marker(\n",
    "            size=demands_scaled,\n",
    "        )))\n",
    "    fig.update_layout(\n",
    "        mapbox_style=\"open-street-map\",\n",
    "        hovermode='closest',\n",
    "        mapbox=dict(\n",
    "            bearing=0,\n",
    "            center=go.layout.mapbox.Center(\n",
    "                lat=42.364981,\n",
    "                lon=-71.079021,\n",
    "            ),\n",
    "            pitch=0,\n",
    "            zoom=11\n",
    "        ),\n",
    "        width=800,\n",
    "        height=800,\n",
    "    )\n",
    "    fig.show()\n",
    "plot_demand(d)\n"
   ]
  },
  {
   "cell_type": "markdown",
   "metadata": {},
   "source": [
    "# Plots rebalancing trips"
   ]
  },
  {
   "cell_type": "code",
   "execution_count": 61,
   "metadata": {},
   "outputs": [
    {
     "data": {
      "text/plain": [
       "[-71.07404083013535, -71.07942931372236]"
      ]
     },
     "execution_count": 61,
     "metadata": {},
     "output_type": "execute_result"
    }
   ],
   "source": [
    "i,j=9,21\n",
    "[station_information.loc[station_information['station_id']==row_to_station_id[i],\"lon\"].iloc[0],station_information.loc[station_information['station_id']==row_to_station_id[j],\"lon\"].iloc[0]]"
   ]
  },
  {
   "cell_type": "code",
   "execution_count": 70,
   "metadata": {},
   "outputs": [],
   "source": [
    "for t in range(24):\n",
    "    if x[:,:,0,t].sum()>0:\n",
    "        i,j = np.argwhere(x[:,:,0,t] != 0)[0]\n",
    "        #print(i,j)"
   ]
  },
  {
   "cell_type": "code",
   "execution_count": 63,
   "metadata": {},
   "outputs": [
    {
     "ename": "KeyError",
     "evalue": "0",
     "output_type": "error",
     "traceback": [
      "\u001b[0;31m---------------------------------------------------------------------------\u001b[0m",
      "\u001b[0;31mKeyError\u001b[0m                                  Traceback (most recent call last)",
      "\u001b[1;32m/Users/maiwenn/Desktop/Optimization/Project/15.093-Optimization/results/visualisations/maps.ipynb Cellule 19\u001b[0m in \u001b[0;36m<cell line: 54>\u001b[0;34m()\u001b[0m\n\u001b[1;32m     <a href='vscode-notebook-cell:/Users/maiwenn/Desktop/Optimization/Project/15.093-Optimization/results/visualisations/maps.ipynb#X12sZmlsZQ%3D%3D?line=34'>35</a>\u001b[0m     fig\u001b[39m.\u001b[39mupdate_layout(\n\u001b[1;32m     <a href='vscode-notebook-cell:/Users/maiwenn/Desktop/Optimization/Project/15.093-Optimization/results/visualisations/maps.ipynb#X12sZmlsZQ%3D%3D?line=35'>36</a>\u001b[0m         \u001b[39m# mapbox_style=\"open-street-map\",\u001b[39;00m\n\u001b[1;32m     <a href='vscode-notebook-cell:/Users/maiwenn/Desktop/Optimization/Project/15.093-Optimization/results/visualisations/maps.ipynb#X12sZmlsZQ%3D%3D?line=36'>37</a>\u001b[0m         mapbox_style\u001b[39m=\u001b[39m\u001b[39m\"\u001b[39m\u001b[39mcarto-positron\u001b[39m\u001b[39m\"\u001b[39m,\n\u001b[0;32m   (...)\u001b[0m\n\u001b[1;32m     <a href='vscode-notebook-cell:/Users/maiwenn/Desktop/Optimization/Project/15.093-Optimization/results/visualisations/maps.ipynb#X12sZmlsZQ%3D%3D?line=50'>51</a>\u001b[0m         showlegend\u001b[39m=\u001b[39m\u001b[39mTrue\u001b[39;00m\n\u001b[1;32m     <a href='vscode-notebook-cell:/Users/maiwenn/Desktop/Optimization/Project/15.093-Optimization/results/visualisations/maps.ipynb#X12sZmlsZQ%3D%3D?line=51'>52</a>\u001b[0m     )\n\u001b[1;32m     <a href='vscode-notebook-cell:/Users/maiwenn/Desktop/Optimization/Project/15.093-Optimization/results/visualisations/maps.ipynb#X12sZmlsZQ%3D%3D?line=52'>53</a>\u001b[0m     fig\u001b[39m.\u001b[39mshow()\n\u001b[0;32m---> <a href='vscode-notebook-cell:/Users/maiwenn/Desktop/Optimization/Project/15.093-Optimization/results/visualisations/maps.ipynb#X12sZmlsZQ%3D%3D?line=53'>54</a>\u001b[0m plot_trips(v,z,\u001b[39m0\u001b[39;49m)\n",
      "\u001b[1;32m/Users/maiwenn/Desktop/Optimization/Project/15.093-Optimization/results/visualisations/maps.ipynb Cellule 19\u001b[0m in \u001b[0;36mplot_trips\u001b[0;34m(v, z, van_id)\u001b[0m\n\u001b[1;32m     <a href='vscode-notebook-cell:/Users/maiwenn/Desktop/Optimization/Project/15.093-Optimization/results/visualisations/maps.ipynb#X12sZmlsZQ%3D%3D?line=24'>25</a>\u001b[0m     i,j \u001b[39m=\u001b[39m np\u001b[39m.\u001b[39margwhere(v[:,:,van_id,t] \u001b[39m!=\u001b[39m \u001b[39m0\u001b[39m)[\u001b[39m0\u001b[39m]\n\u001b[1;32m     <a href='vscode-notebook-cell:/Users/maiwenn/Desktop/Optimization/Project/15.093-Optimization/results/visualisations/maps.ipynb#X12sZmlsZQ%3D%3D?line=25'>26</a>\u001b[0m     \u001b[39mif\u001b[39;00m i\u001b[39m!=\u001b[39mj:\n\u001b[1;32m     <a href='vscode-notebook-cell:/Users/maiwenn/Desktop/Optimization/Project/15.093-Optimization/results/visualisations/maps.ipynb#X12sZmlsZQ%3D%3D?line=26'>27</a>\u001b[0m         fig\u001b[39m.\u001b[39madd_trace(go\u001b[39m.\u001b[39mScattermapbox(\n\u001b[1;32m     <a href='vscode-notebook-cell:/Users/maiwenn/Desktop/Optimization/Project/15.093-Optimization/results/visualisations/maps.ipynb#X12sZmlsZQ%3D%3D?line=27'>28</a>\u001b[0m             mode\u001b[39m=\u001b[39m\u001b[39m\"\u001b[39m\u001b[39mlines\u001b[39m\u001b[39m\"\u001b[39m,\n\u001b[0;32m---> <a href='vscode-notebook-cell:/Users/maiwenn/Desktop/Optimization/Project/15.093-Optimization/results/visualisations/maps.ipynb#X12sZmlsZQ%3D%3D?line=28'>29</a>\u001b[0m             lon\u001b[39m=\u001b[39m[station_information\u001b[39m.\u001b[39mloc[station_information[\u001b[39m'\u001b[39m\u001b[39mstation_id\u001b[39m\u001b[39m'\u001b[39m]\u001b[39m==\u001b[39mrow_to_station_id[i],\u001b[39m\"\u001b[39m\u001b[39mlon\u001b[39m\u001b[39m\"\u001b[39m]\u001b[39m.\u001b[39miloc[\u001b[39m0\u001b[39m],station_information\u001b[39m.\u001b[39mloc[station_information[\u001b[39m'\u001b[39m\u001b[39mstation_id\u001b[39m\u001b[39m'\u001b[39m]\u001b[39m==\u001b[39mrow_to_station_id[j],\u001b[39m\"\u001b[39m\u001b[39mlon\u001b[39m\u001b[39m\"\u001b[39m]\u001b[39m.\u001b[39miloc[\u001b[39m0\u001b[39m]],\n\u001b[1;32m     <a href='vscode-notebook-cell:/Users/maiwenn/Desktop/Optimization/Project/15.093-Optimization/results/visualisations/maps.ipynb#X12sZmlsZQ%3D%3D?line=29'>30</a>\u001b[0m             lat\u001b[39m=\u001b[39m[station_information\u001b[39m.\u001b[39mloc[station_information[\u001b[39m'\u001b[39m\u001b[39mstation_id\u001b[39m\u001b[39m'\u001b[39m]\u001b[39m==\u001b[39mrow_to_station_id[i],\u001b[39m\"\u001b[39m\u001b[39mlat\u001b[39m\u001b[39m\"\u001b[39m]\u001b[39m.\u001b[39miloc[\u001b[39m0\u001b[39m],station_information\u001b[39m.\u001b[39mloc[station_information[\u001b[39m'\u001b[39m\u001b[39mstation_id\u001b[39m\u001b[39m'\u001b[39m]\u001b[39m==\u001b[39mrow_to_station_id[j],\u001b[39m\"\u001b[39m\u001b[39mlat\u001b[39m\u001b[39m\"\u001b[39m]\u001b[39m.\u001b[39miloc[\u001b[39m0\u001b[39m]],\n\u001b[1;32m     <a href='vscode-notebook-cell:/Users/maiwenn/Desktop/Optimization/Project/15.093-Optimization/results/visualisations/maps.ipynb#X12sZmlsZQ%3D%3D?line=30'>31</a>\u001b[0m             line\u001b[39m=\u001b[39m\u001b[39mdict\u001b[39m(width\u001b[39m=\u001b[39m\u001b[39m1\u001b[39m, color\u001b[39m=\u001b[39m\u001b[39m'\u001b[39m\u001b[39mblue\u001b[39m\u001b[39m'\u001b[39m),\n\u001b[1;32m     <a href='vscode-notebook-cell:/Users/maiwenn/Desktop/Optimization/Project/15.093-Optimization/results/visualisations/maps.ipynb#X12sZmlsZQ%3D%3D?line=31'>32</a>\u001b[0m             showlegend\u001b[39m=\u001b[39m\u001b[39mFalse\u001b[39;00m\n\u001b[1;32m     <a href='vscode-notebook-cell:/Users/maiwenn/Desktop/Optimization/Project/15.093-Optimization/results/visualisations/maps.ipynb#X12sZmlsZQ%3D%3D?line=32'>33</a>\u001b[0m         ))\n\u001b[1;32m     <a href='vscode-notebook-cell:/Users/maiwenn/Desktop/Optimization/Project/15.093-Optimization/results/visualisations/maps.ipynb#X12sZmlsZQ%3D%3D?line=34'>35</a>\u001b[0m fig\u001b[39m.\u001b[39mupdate_layout(\n\u001b[1;32m     <a href='vscode-notebook-cell:/Users/maiwenn/Desktop/Optimization/Project/15.093-Optimization/results/visualisations/maps.ipynb#X12sZmlsZQ%3D%3D?line=35'>36</a>\u001b[0m     \u001b[39m# mapbox_style=\"open-street-map\",\u001b[39;00m\n\u001b[1;32m     <a href='vscode-notebook-cell:/Users/maiwenn/Desktop/Optimization/Project/15.093-Optimization/results/visualisations/maps.ipynb#X12sZmlsZQ%3D%3D?line=36'>37</a>\u001b[0m     mapbox_style\u001b[39m=\u001b[39m\u001b[39m\"\u001b[39m\u001b[39mcarto-positron\u001b[39m\u001b[39m\"\u001b[39m,\n\u001b[0;32m   (...)\u001b[0m\n\u001b[1;32m     <a href='vscode-notebook-cell:/Users/maiwenn/Desktop/Optimization/Project/15.093-Optimization/results/visualisations/maps.ipynb#X12sZmlsZQ%3D%3D?line=50'>51</a>\u001b[0m     showlegend\u001b[39m=\u001b[39m\u001b[39mTrue\u001b[39;00m\n\u001b[1;32m     <a href='vscode-notebook-cell:/Users/maiwenn/Desktop/Optimization/Project/15.093-Optimization/results/visualisations/maps.ipynb#X12sZmlsZQ%3D%3D?line=51'>52</a>\u001b[0m )\n\u001b[1;32m     <a href='vscode-notebook-cell:/Users/maiwenn/Desktop/Optimization/Project/15.093-Optimization/results/visualisations/maps.ipynb#X12sZmlsZQ%3D%3D?line=52'>53</a>\u001b[0m fig\u001b[39m.\u001b[39mshow()\n",
      "\u001b[0;31mKeyError\u001b[0m: 0"
     ]
    }
   ],
   "source": [
    "def plot_trips(v,z,van_id):\n",
    "    fig = go.Figure()\n",
    "    \n",
    "    fig.add_trace(go.Scattermapbox(\n",
    "        lat=station_information_topn['lat'],\n",
    "        lon=station_information_topn['lon'],\n",
    "        mode='markers',\n",
    "        marker=go.scattermapbox.Marker(\n",
    "            size=8,\n",
    "        )))\n",
    "\n",
    "    # plot trips\n",
    "    for t in range(24):\n",
    "        if z[:,:,van_id,t].sum()>0:\n",
    "            i,j = np.argwhere(z[:,:,van_id,t] != 0)[0]\n",
    "            fig.add_trace(go.Scattermapbox(\n",
    "                mode=\"lines\",\n",
    "                lon=[station_information.loc[station_information['station_id']==\n",
    "                        row_to_station_id[i],\"lon\"].iloc[0],\n",
    "                     station_information.loc[station_information['station_id']==\n",
    "                                             row_to_station_id[j],\"lon\"].iloc[0]],\n",
    "                lat=[station_information.loc[station_information['station_id']==row_to_station_id[i],\"lat\"].iloc[0],station_information.loc[station_information['station_id']==row_to_station_id[j],\"lat\"].iloc[0]],\n",
    "                line=dict(width=z[i,j,van_id,t]/5, color='red'),\n",
    "                showlegend=True\n",
    "            ))\n",
    "        else:\n",
    "            pass\n",
    "        i,j = np.argwhere(v[:,:,van_id,t] != 0)[0]\n",
    "        if i!=j:\n",
    "            fig.add_trace(go.Scattermapbox(\n",
    "                mode=\"lines\",\n",
    "                lon=[station_information.loc[station_information['station_id']==row_to_station_id[i],\"lon\"].iloc[0],station_information.loc[station_information['station_id']==row_to_station_id[j],\"lon\"].iloc[0]],\n",
    "                lat=[station_information.loc[station_information['station_id']==row_to_station_id[i],\"lat\"].iloc[0],station_information.loc[station_information['station_id']==row_to_station_id[j],\"lat\"].iloc[0]],\n",
    "                line=dict(width=1, color='blue'),\n",
    "                showlegend=False\n",
    "            ))\n",
    "\n",
    "    fig.update_layout(\n",
    "        # mapbox_style=\"open-street-map\",\n",
    "        mapbox_style=\"carto-positron\",\n",
    "        hovermode='closest',\n",
    "        # margin={\"r\":0,\"t\":0,\"l\":0,\"b\":0},\n",
    "        mapbox=dict(\n",
    "            bearing=0,\n",
    "            center=go.layout.mapbox.Center(\n",
    "                lat=42.364981,\n",
    "                lon=-71.079021,\n",
    "            ),\n",
    "            pitch=0,\n",
    "            zoom=11\n",
    "        ),\n",
    "        width=800,\n",
    "        height=800,\n",
    "        showlegend=True\n",
    "    )\n",
    "    fig.show()\n",
    "plot_trips(v,z,0)"
   ]
  },
  {
   "cell_type": "code",
   "execution_count": 71,
   "metadata": {},
   "outputs": [],
   "source": [
    "# load results \n",
    "results = pd.read_csv('../data/sequential_model_day1/results.csv') \n",
    "results.columns = [\"start\",\"end\",\"van\",\"hour\",\"bikes\"]"
   ]
  },
  {
   "cell_type": "code",
   "execution_count": 74,
   "metadata": {},
   "outputs": [],
   "source": [
    "# see itinerary of van 1\n",
    "results_van1 = results[results['van']==1]\n",
    "results_van1[\"start\"] = results_van1[\"start\"].map(stations_match)\n",
    "results_van1[\"end\"] = results_van1[\"end\"].map(stations_match)\n",
    "results_van1[\"start_lat\"] = results_van1[\"start\"].map(dict(zip(station_information[\"station_id\"],station_information[\"lat\"])))\n",
    "results_van1[\"start_lon\"] = results_van1[\"start\"].map(dict(zip(station_information[\"station_id\"],station_information[\"lon\"])))\n",
    "results_van1[\"end_lat\"] = results_van1[\"end\"].map(dict(zip(station_information[\"station_id\"],station_information[\"lat\"])))\n",
    "results_van1[\"end_lon\"] = results_van1[\"end\"].map(dict(zip(station_information[\"station_id\"],station_information[\"lon\"])))\n",
    "results_van1 = results_van1.reset_index(drop=True)"
   ]
  },
  {
   "cell_type": "code",
   "execution_count": 75,
   "metadata": {},
   "outputs": [
    {
     "data": {
      "text/html": [
       "<div>\n",
       "<style scoped>\n",
       "    .dataframe tbody tr th:only-of-type {\n",
       "        vertical-align: middle;\n",
       "    }\n",
       "\n",
       "    .dataframe tbody tr th {\n",
       "        vertical-align: top;\n",
       "    }\n",
       "\n",
       "    .dataframe thead th {\n",
       "        text-align: right;\n",
       "    }\n",
       "</style>\n",
       "<table border=\"1\" class=\"dataframe\">\n",
       "  <thead>\n",
       "    <tr style=\"text-align: right;\">\n",
       "      <th></th>\n",
       "      <th>start</th>\n",
       "      <th>end</th>\n",
       "      <th>van</th>\n",
       "      <th>hour</th>\n",
       "      <th>bikes</th>\n",
       "      <th>start_lat</th>\n",
       "      <th>start_lon</th>\n",
       "      <th>end_lat</th>\n",
       "      <th>end_lon</th>\n",
       "    </tr>\n",
       "  </thead>\n",
       "  <tbody>\n",
       "    <tr>\n",
       "      <th>5</th>\n",
       "      <td>45</td>\n",
       "      <td>46</td>\n",
       "      <td>1.0</td>\n",
       "      <td>1.0</td>\n",
       "      <td>0.0</td>\n",
       "      <td>NaN</td>\n",
       "      <td>NaN</td>\n",
       "      <td>42.343666</td>\n",
       "      <td>-71.085824</td>\n",
       "    </tr>\n",
       "    <tr>\n",
       "      <th>6</th>\n",
       "      <td>45</td>\n",
       "      <td>46</td>\n",
       "      <td>1.0</td>\n",
       "      <td>2.0</td>\n",
       "      <td>0.0</td>\n",
       "      <td>NaN</td>\n",
       "      <td>NaN</td>\n",
       "      <td>42.343666</td>\n",
       "      <td>-71.085824</td>\n",
       "    </tr>\n",
       "    <tr>\n",
       "      <th>7</th>\n",
       "      <td>45</td>\n",
       "      <td>46</td>\n",
       "      <td>1.0</td>\n",
       "      <td>3.0</td>\n",
       "      <td>0.0</td>\n",
       "      <td>NaN</td>\n",
       "      <td>NaN</td>\n",
       "      <td>42.343666</td>\n",
       "      <td>-71.085824</td>\n",
       "    </tr>\n",
       "    <tr>\n",
       "      <th>8</th>\n",
       "      <td>45</td>\n",
       "      <td>46</td>\n",
       "      <td>1.0</td>\n",
       "      <td>4.0</td>\n",
       "      <td>0.0</td>\n",
       "      <td>NaN</td>\n",
       "      <td>NaN</td>\n",
       "      <td>42.343666</td>\n",
       "      <td>-71.085824</td>\n",
       "    </tr>\n",
       "    <tr>\n",
       "      <th>9</th>\n",
       "      <td>45</td>\n",
       "      <td>46</td>\n",
       "      <td>1.0</td>\n",
       "      <td>5.0</td>\n",
       "      <td>0.0</td>\n",
       "      <td>NaN</td>\n",
       "      <td>NaN</td>\n",
       "      <td>42.343666</td>\n",
       "      <td>-71.085824</td>\n",
       "    </tr>\n",
       "    <tr>\n",
       "      <th>10</th>\n",
       "      <td>45</td>\n",
       "      <td>46</td>\n",
       "      <td>1.0</td>\n",
       "      <td>6.0</td>\n",
       "      <td>0.0</td>\n",
       "      <td>NaN</td>\n",
       "      <td>NaN</td>\n",
       "      <td>42.343666</td>\n",
       "      <td>-71.085824</td>\n",
       "    </tr>\n",
       "    <tr>\n",
       "      <th>11</th>\n",
       "      <td>45</td>\n",
       "      <td>46</td>\n",
       "      <td>1.0</td>\n",
       "      <td>7.0</td>\n",
       "      <td>0.0</td>\n",
       "      <td>NaN</td>\n",
       "      <td>NaN</td>\n",
       "      <td>42.343666</td>\n",
       "      <td>-71.085824</td>\n",
       "    </tr>\n",
       "    <tr>\n",
       "      <th>12</th>\n",
       "      <td>45</td>\n",
       "      <td>46</td>\n",
       "      <td>1.0</td>\n",
       "      <td>8.0</td>\n",
       "      <td>0.0</td>\n",
       "      <td>NaN</td>\n",
       "      <td>NaN</td>\n",
       "      <td>42.343666</td>\n",
       "      <td>-71.085824</td>\n",
       "    </tr>\n",
       "    <tr>\n",
       "      <th>13</th>\n",
       "      <td>45</td>\n",
       "      <td>46</td>\n",
       "      <td>1.0</td>\n",
       "      <td>9.0</td>\n",
       "      <td>0.0</td>\n",
       "      <td>NaN</td>\n",
       "      <td>NaN</td>\n",
       "      <td>42.343666</td>\n",
       "      <td>-71.085824</td>\n",
       "    </tr>\n",
       "    <tr>\n",
       "      <th>14</th>\n",
       "      <td>45</td>\n",
       "      <td>46</td>\n",
       "      <td>1.0</td>\n",
       "      <td>10.0</td>\n",
       "      <td>0.0</td>\n",
       "      <td>NaN</td>\n",
       "      <td>NaN</td>\n",
       "      <td>42.343666</td>\n",
       "      <td>-71.085824</td>\n",
       "    </tr>\n",
       "    <tr>\n",
       "      <th>15</th>\n",
       "      <td>45</td>\n",
       "      <td>39</td>\n",
       "      <td>1.0</td>\n",
       "      <td>11.0</td>\n",
       "      <td>0.0</td>\n",
       "      <td>NaN</td>\n",
       "      <td>NaN</td>\n",
       "      <td>42.338515</td>\n",
       "      <td>-71.074041</td>\n",
       "    </tr>\n",
       "    <tr>\n",
       "      <th>0</th>\n",
       "      <td>39</td>\n",
       "      <td>45</td>\n",
       "      <td>1.0</td>\n",
       "      <td>12.0</td>\n",
       "      <td>10.0</td>\n",
       "      <td>42.338515</td>\n",
       "      <td>-71.074041</td>\n",
       "      <td>NaN</td>\n",
       "      <td>NaN</td>\n",
       "    </tr>\n",
       "    <tr>\n",
       "      <th>16</th>\n",
       "      <td>45</td>\n",
       "      <td>46</td>\n",
       "      <td>1.0</td>\n",
       "      <td>12.0</td>\n",
       "      <td>0.0</td>\n",
       "      <td>NaN</td>\n",
       "      <td>NaN</td>\n",
       "      <td>42.343666</td>\n",
       "      <td>-71.085824</td>\n",
       "    </tr>\n",
       "    <tr>\n",
       "      <th>1</th>\n",
       "      <td>46</td>\n",
       "      <td>45</td>\n",
       "      <td>1.0</td>\n",
       "      <td>13.0</td>\n",
       "      <td>6.0</td>\n",
       "      <td>42.343666</td>\n",
       "      <td>-71.085824</td>\n",
       "      <td>NaN</td>\n",
       "      <td>NaN</td>\n",
       "    </tr>\n",
       "    <tr>\n",
       "      <th>17</th>\n",
       "      <td>45</td>\n",
       "      <td>46</td>\n",
       "      <td>1.0</td>\n",
       "      <td>13.0</td>\n",
       "      <td>0.0</td>\n",
       "      <td>NaN</td>\n",
       "      <td>NaN</td>\n",
       "      <td>42.343666</td>\n",
       "      <td>-71.085824</td>\n",
       "    </tr>\n",
       "    <tr>\n",
       "      <th>18</th>\n",
       "      <td>45</td>\n",
       "      <td>46</td>\n",
       "      <td>1.0</td>\n",
       "      <td>14.0</td>\n",
       "      <td>0.0</td>\n",
       "      <td>NaN</td>\n",
       "      <td>NaN</td>\n",
       "      <td>42.343666</td>\n",
       "      <td>-71.085824</td>\n",
       "    </tr>\n",
       "    <tr>\n",
       "      <th>19</th>\n",
       "      <td>45</td>\n",
       "      <td>46</td>\n",
       "      <td>1.0</td>\n",
       "      <td>15.0</td>\n",
       "      <td>0.0</td>\n",
       "      <td>NaN</td>\n",
       "      <td>NaN</td>\n",
       "      <td>42.343666</td>\n",
       "      <td>-71.085824</td>\n",
       "    </tr>\n",
       "    <tr>\n",
       "      <th>20</th>\n",
       "      <td>45</td>\n",
       "      <td>46</td>\n",
       "      <td>1.0</td>\n",
       "      <td>16.0</td>\n",
       "      <td>0.0</td>\n",
       "      <td>NaN</td>\n",
       "      <td>NaN</td>\n",
       "      <td>42.343666</td>\n",
       "      <td>-71.085824</td>\n",
       "    </tr>\n",
       "    <tr>\n",
       "      <th>21</th>\n",
       "      <td>45</td>\n",
       "      <td>46</td>\n",
       "      <td>1.0</td>\n",
       "      <td>17.0</td>\n",
       "      <td>0.0</td>\n",
       "      <td>NaN</td>\n",
       "      <td>NaN</td>\n",
       "      <td>42.343666</td>\n",
       "      <td>-71.085824</td>\n",
       "    </tr>\n",
       "    <tr>\n",
       "      <th>22</th>\n",
       "      <td>45</td>\n",
       "      <td>46</td>\n",
       "      <td>1.0</td>\n",
       "      <td>18.0</td>\n",
       "      <td>0.0</td>\n",
       "      <td>NaN</td>\n",
       "      <td>NaN</td>\n",
       "      <td>42.343666</td>\n",
       "      <td>-71.085824</td>\n",
       "    </tr>\n",
       "    <tr>\n",
       "      <th>2</th>\n",
       "      <td>46</td>\n",
       "      <td>45</td>\n",
       "      <td>1.0</td>\n",
       "      <td>19.0</td>\n",
       "      <td>12.0</td>\n",
       "      <td>42.343666</td>\n",
       "      <td>-71.085824</td>\n",
       "      <td>NaN</td>\n",
       "      <td>NaN</td>\n",
       "    </tr>\n",
       "    <tr>\n",
       "      <th>23</th>\n",
       "      <td>45</td>\n",
       "      <td>46</td>\n",
       "      <td>1.0</td>\n",
       "      <td>19.0</td>\n",
       "      <td>0.0</td>\n",
       "      <td>NaN</td>\n",
       "      <td>NaN</td>\n",
       "      <td>42.343666</td>\n",
       "      <td>-71.085824</td>\n",
       "    </tr>\n",
       "    <tr>\n",
       "      <th>3</th>\n",
       "      <td>46</td>\n",
       "      <td>45</td>\n",
       "      <td>1.0</td>\n",
       "      <td>20.0</td>\n",
       "      <td>2.0</td>\n",
       "      <td>42.343666</td>\n",
       "      <td>-71.085824</td>\n",
       "      <td>NaN</td>\n",
       "      <td>NaN</td>\n",
       "    </tr>\n",
       "    <tr>\n",
       "      <th>24</th>\n",
       "      <td>45</td>\n",
       "      <td>46</td>\n",
       "      <td>1.0</td>\n",
       "      <td>20.0</td>\n",
       "      <td>0.0</td>\n",
       "      <td>NaN</td>\n",
       "      <td>NaN</td>\n",
       "      <td>42.343666</td>\n",
       "      <td>-71.085824</td>\n",
       "    </tr>\n",
       "    <tr>\n",
       "      <th>25</th>\n",
       "      <td>45</td>\n",
       "      <td>46</td>\n",
       "      <td>1.0</td>\n",
       "      <td>21.0</td>\n",
       "      <td>0.0</td>\n",
       "      <td>NaN</td>\n",
       "      <td>NaN</td>\n",
       "      <td>42.343666</td>\n",
       "      <td>-71.085824</td>\n",
       "    </tr>\n",
       "    <tr>\n",
       "      <th>26</th>\n",
       "      <td>45</td>\n",
       "      <td>46</td>\n",
       "      <td>1.0</td>\n",
       "      <td>22.0</td>\n",
       "      <td>0.0</td>\n",
       "      <td>NaN</td>\n",
       "      <td>NaN</td>\n",
       "      <td>42.343666</td>\n",
       "      <td>-71.085824</td>\n",
       "    </tr>\n",
       "    <tr>\n",
       "      <th>4</th>\n",
       "      <td>46</td>\n",
       "      <td>45</td>\n",
       "      <td>1.0</td>\n",
       "      <td>23.0</td>\n",
       "      <td>1.0</td>\n",
       "      <td>42.343666</td>\n",
       "      <td>-71.085824</td>\n",
       "      <td>NaN</td>\n",
       "      <td>NaN</td>\n",
       "    </tr>\n",
       "    <tr>\n",
       "      <th>27</th>\n",
       "      <td>45</td>\n",
       "      <td>46</td>\n",
       "      <td>1.0</td>\n",
       "      <td>23.0</td>\n",
       "      <td>0.0</td>\n",
       "      <td>NaN</td>\n",
       "      <td>NaN</td>\n",
       "      <td>42.343666</td>\n",
       "      <td>-71.085824</td>\n",
       "    </tr>\n",
       "    <tr>\n",
       "      <th>28</th>\n",
       "      <td>45</td>\n",
       "      <td>46</td>\n",
       "      <td>1.0</td>\n",
       "      <td>24.0</td>\n",
       "      <td>0.0</td>\n",
       "      <td>NaN</td>\n",
       "      <td>NaN</td>\n",
       "      <td>42.343666</td>\n",
       "      <td>-71.085824</td>\n",
       "    </tr>\n",
       "  </tbody>\n",
       "</table>\n",
       "</div>"
      ],
      "text/plain": [
       "    start  end  van  hour  bikes  start_lat  start_lon    end_lat    end_lon\n",
       "5      45   46  1.0   1.0    0.0        NaN        NaN  42.343666 -71.085824\n",
       "6      45   46  1.0   2.0    0.0        NaN        NaN  42.343666 -71.085824\n",
       "7      45   46  1.0   3.0    0.0        NaN        NaN  42.343666 -71.085824\n",
       "8      45   46  1.0   4.0    0.0        NaN        NaN  42.343666 -71.085824\n",
       "9      45   46  1.0   5.0    0.0        NaN        NaN  42.343666 -71.085824\n",
       "10     45   46  1.0   6.0    0.0        NaN        NaN  42.343666 -71.085824\n",
       "11     45   46  1.0   7.0    0.0        NaN        NaN  42.343666 -71.085824\n",
       "12     45   46  1.0   8.0    0.0        NaN        NaN  42.343666 -71.085824\n",
       "13     45   46  1.0   9.0    0.0        NaN        NaN  42.343666 -71.085824\n",
       "14     45   46  1.0  10.0    0.0        NaN        NaN  42.343666 -71.085824\n",
       "15     45   39  1.0  11.0    0.0        NaN        NaN  42.338515 -71.074041\n",
       "0      39   45  1.0  12.0   10.0  42.338515 -71.074041        NaN        NaN\n",
       "16     45   46  1.0  12.0    0.0        NaN        NaN  42.343666 -71.085824\n",
       "1      46   45  1.0  13.0    6.0  42.343666 -71.085824        NaN        NaN\n",
       "17     45   46  1.0  13.0    0.0        NaN        NaN  42.343666 -71.085824\n",
       "18     45   46  1.0  14.0    0.0        NaN        NaN  42.343666 -71.085824\n",
       "19     45   46  1.0  15.0    0.0        NaN        NaN  42.343666 -71.085824\n",
       "20     45   46  1.0  16.0    0.0        NaN        NaN  42.343666 -71.085824\n",
       "21     45   46  1.0  17.0    0.0        NaN        NaN  42.343666 -71.085824\n",
       "22     45   46  1.0  18.0    0.0        NaN        NaN  42.343666 -71.085824\n",
       "2      46   45  1.0  19.0   12.0  42.343666 -71.085824        NaN        NaN\n",
       "23     45   46  1.0  19.0    0.0        NaN        NaN  42.343666 -71.085824\n",
       "3      46   45  1.0  20.0    2.0  42.343666 -71.085824        NaN        NaN\n",
       "24     45   46  1.0  20.0    0.0        NaN        NaN  42.343666 -71.085824\n",
       "25     45   46  1.0  21.0    0.0        NaN        NaN  42.343666 -71.085824\n",
       "26     45   46  1.0  22.0    0.0        NaN        NaN  42.343666 -71.085824\n",
       "4      46   45  1.0  23.0    1.0  42.343666 -71.085824        NaN        NaN\n",
       "27     45   46  1.0  23.0    0.0        NaN        NaN  42.343666 -71.085824\n",
       "28     45   46  1.0  24.0    0.0        NaN        NaN  42.343666 -71.085824"
      ]
     },
     "execution_count": 75,
     "metadata": {},
     "output_type": "execute_result"
    }
   ],
   "source": [
    "results_van1.sort_values(by=['hour','bikes'], ascending=[True,False])"
   ]
  },
  {
   "cell_type": "code",
   "execution_count": 76,
   "metadata": {},
   "outputs": [],
   "source": [
    "# load optimal results\n",
    "results_day = results.groupby([\"start\",\"end\"])[\"bikes\"].sum().reset_index()\n",
    "results_day[\"start\"] = results_day[\"start\"].map(stations_match)\n",
    "results_day[\"end\"] = results_day[\"end\"].map(stations_match)\n",
    "results_day[\"start_lat\"] = results_day[\"start\"].map(dict(zip(station_information[\"station_id\"],station_information[\"lat\"])))\n",
    "results_day[\"start_lon\"] = results_day[\"start\"].map(dict(zip(station_information[\"station_id\"],station_information[\"lon\"])))\n",
    "results_day[\"end_lat\"] = results_day[\"end\"].map(dict(zip(station_information[\"station_id\"],station_information[\"lat\"])))\n",
    "results_day[\"end_lon\"] = results_day[\"end\"].map(dict(zip(station_information[\"station_id\"],station_information[\"lon\"])))\n",
    "results_day.dropna(inplace=True)\n",
    "results_day = results_day.reset_index(drop=True)\n"
   ]
  },
  {
   "cell_type": "code",
   "execution_count": 77,
   "metadata": {},
   "outputs": [
    {
     "data": {
      "application/vnd.plotly.v1+json": {
       "config": {
        "plotlyServerURL": "https://plot.ly"
       },
       "data": [
        {
         "lat": [
          42.34011512249236,
          42.345392,
          42.341814,
          42.36125721646537,
          42.3533905070523,
          42.353334,
          42.35169201885973,
          42.350406,
          42.338629,
          42.33624444796878,
          42.33639915372498,
          42.3374174845973,
          42.3615457081725,
          42.34807412317439,
          42.36426344063853,
          42.347241,
          42.35991176110118,
          42.34652003998412,
          42.352175,
          42.35892,
          42.35148193460858,
          42.341332,
          42.34157471873748,
          42.331184,
          42.36371276003581,
          42.33462893055976,
          42.34881026188269,
          42.34369055719748,
          42.348706,
          42.35533501941256,
          42.34992828230057,
          42.35732921867706,
          42.338514601786,
          42.363871,
          42.352261,
          42.35200960743121,
          42.357143,
          42.36041774637169,
          42.3436658245146,
          42.362811,
          42.35585435522005,
          42.351146,
          42.3511419825475,
          42.3350989929096,
          42.348717,
          42.35082680669095,
          42.354979,
          42.34740620525209,
          42.329842993518085,
          42.340814,
          42.35553628489709,
          42.351356,
          42.36079296858265,
          42.34908155168097,
          42.34404051001636,
          42.351004495946704,
          42.347763454147454,
          42.34922469338298,
          42.3581,
          42.36507,
          42.341598,
          42.3722168027866,
          42.383638948222654,
          42.36224178650923,
          42.373328798874056,
          42.373268,
          42.36346469304347,
          42.366426,
          42.386844,
          42.37964789967527,
          42.37875351212593,
          42.3621312344991,
          42.352409,
          42.33826680058037,
          42.367074071490926,
          42.378338,
          42.33274392304887,
          42.366621,
          42.379011,
          42.370677,
          42.366277,
          42.31218918475612,
          42.32033973515723,
          42.375603,
          42.372969,
          42.373379,
          42.369239074859216,
          42.371848,
          42.38567578752914,
          42.396969,
          42.39920335720869,
          42.400877,
          42.346551241753566,
          42.380287,
          42.357218503176526,
          42.325333,
          42.3625,
          42.377945,
          42.36590788445084,
          42.376369,
          42.40449,
          42.406302,
          42.33073332585453,
          42.40231703379005,
          42.387995,
          42.370803,
          42.36608797388682,
          42.397828,
          42.335741,
          42.356052,
          42.33595897943309,
          42.345733,
          42.309054,
          42.32176525723952,
          42.315692,
          42.320561,
          42.377022,
          42.31727474327453,
          42.32293117195949,
          42.310579,
          42.344827,
          42.344796,
          42.39778339961249,
          42.326599,
          42.36178043960605,
          42.388966,
          42.36356015842989,
          42.396105,
          42.369885,
          42.366446738529454,
          42.392766,
          42.336448,
          42.363796,
          42.344137,
          42.358155,
          42.345901,
          42.390446216041305,
          42.35317809186252,
          42.32760387040573,
          42.33758601097239,
          42.3391085,
          42.309796,
          42.344792,
          42.317642,
          42.378965,
          42.303469,
          42.37408991426522,
          42.3106,
          42.3489528466951,
          42.34894857235593,
          42.38674802045056,
          42.36264779118595,
          42.35957320109044,
          42.35560121327927,
          42.37478628706384,
          42.381650612901176,
          42.36769018024484,
          42.39558845716709,
          42.35775309465199,
          42.36544486137399,
          42.3481,
          42.32784317478686,
          42.39108438146733,
          42.3624278429124,
          42.365673,
          42.331370168043215,
          42.354659,
          42.33376472623494,
          42.38614141163957,
          42.37197678467975,
          42.31787329345602,
          42.32143814183195,
          42.318697341722434,
          42.332817,
          42.316902,
          42.30791,
          42.309572,
          42.324081,
          42.30785224238503,
          42.3598253979878,
          42.35057,
          42.383532520117896,
          42.36501119822304,
          42.36884408289836,
          42.369536,
          42.37534192670574,
          42.370744,
          42.38240377674137,
          42.386781,
          42.351586001198456,
          42.373312125824704,
          42.37250864997261,
          42.343749,
          42.38267827521855,
          42.37119727759414,
          42.35154734791375,
          42.34949599514002,
          42.361619320766856,
          42.30412792739016,
          42.346197076555455,
          42.39517150121575,
          42.3876281075134,
          42.39223284004628,
          42.39407223665884,
          42.29442578670662,
          42.28297567840305,
          42.29916497936589,
          42.29963348842063,
          42.2856944,
          42.292917,
          42.300923,
          42.306539,
          42.380857,
          42.316966,
          42.3334,
          42.3636929,
          42.3936,
          42.374878467440965,
          42.396386809455,
          42.3817508,
          42.38100143038052,
          42.336585554561154,
          42.34953016890375,
          42.37500235137831,
          42.39120971915856,
          42.36599432867437,
          42.267902,
          42.287072,
          42.348358628170445,
          42.29266592872725,
          42.27462067181224,
          42.28630716010807,
          42.34465062887831,
          42.280725142920296,
          42.34024644768889,
          42.35182806892068,
          42.335543083570826,
          42.286212948246096,
          42.2945833,
          42.290333,
          42.2873611,
          42.35276620545606,
          42.348278385426255,
          42.2773889,
          42.34286835071959,
          42.385223935870535,
          42.374124549426526,
          42.3121203,
          42.380429474494896,
          42.33392270136997,
          42.3294633,
          42.34924376955301,
          42.33023070528729,
          42.34521562115022,
          42.338431795290944,
          42.34942609892521,
          42.34278116224413,
          42.38536765218425,
          42.31786020589988,
          42.36254854409333,
          42.35096144421219,
          42.380788172914286,
          42.349589423682445,
          42.28634589486312,
          42.35668334969929,
          42.36027370454934,
          42.37927324600841,
          42.38032335045416,
          42.34254913737952,
          42.36135837662249,
          42.37426713524931,
          42.35159662465317,
          42.33664795427071,
          42.36860524248197,
          42.41143222973408,
          42.406956789102416,
          42.39648358247693,
          42.39329263225162,
          42.41427294293992,
          42.412504507772105,
          42.410346909767846,
          42.40328056972533,
          42.4093300667225,
          42.39836059620832,
          42.36550728505653,
          42.34854543411198,
          42.34734473177431,
          42.32464510949409,
          42.33985827126298,
          42.34012242696642,
          42.34135615767354,
          42.32039374304257,
          42.39189811591863,
          42.38831607584243,
          42.38717463348314,
          42.38952436305763,
          42.291679428741226,
          42.34303291130257,
          42.36955297756508,
          42.39790817368333,
          42.34954403114251,
          42.36435589027983,
          42.34474224772802,
          42.37544912547037,
          42.35872530462163,
          42.29118034790426,
          42.278811581565975,
          42.28484472443536,
          42.3060456272408,
          42.3193094317828,
          42.35294569782581,
          42.280728147169015,
          42.36178741066188,
          42.27719469639791,
          42.281986277339136,
          42.28633199112775,
          42.28277901074054,
          42.277484442008216,
          42.27094707029229,
          42.36774122306014,
          42.37207657915397,
          42.35656092308941,
          42.38445225635844,
          42.29606704649873,
          42.33286288486264,
          42.31886468217537,
          42.34960945333059,
          42.34679008347347,
          42.4206487,
          42.34414898749529,
          42.35019319808638,
          42.37207611472287,
          42.38294430172271,
          42.365260317694485,
          42.36530094929082,
          42.35849449039304,
          42.41606457115141,
          42.40935395518158,
          42.39239749145834,
          42.40726052447951,
          42.40994213011757,
          42.35574334805774,
          42.35389024396587,
          42.36068455768156,
          42.35711920909866,
          42.32956868185623,
          42.36054174140606,
          42.36085937353302,
          42.34960049864208,
          42.354104081396585,
          42.36277388549605,
          42.38066930871317,
          42.37057753242139,
          42.363003781560096,
          42.40016804853787,
          42.341780891371904,
          42.40616124132245,
          42.364119035231525,
          42.408088,
          42.40741,
          42.330528,
          42.392525,
          42.324173,
          42.379295,
          42.286012,
          42.339194,
          42.368019,
          42.28887,
          42.367621,
          42.380078,
          42.36466403441681,
          42.398135645582464,
          42.3931961102951,
          42.39022671103383,
          42.39453079292221,
          42.39636527849676,
          42.398417726101584,
          42.36762048745005,
          42.414202132001854,
          42.28611420958351,
          42.29376656473529,
          42.2911685327193,
          42.3867355,
          42.36895180540729,
          42.52189284110247,
          42.53466911383265,
          42.51836788262243,
          42.51803519796769,
          42.52345239346618,
          42.51142784358897,
          42.50182398896298,
          42.33987891612856,
          42.322065656952944,
          42.365148708129546,
          42.330062324403,
          42.33620336883013,
          42.351458116963016,
          42.358477644348106,
          42.39301840035393,
          42.3443517550051,
          42.390719,
          42.389456,
          42.286011,
          42.34805541493346,
          42.3607028354884,
          42.29704126420948,
          42.31242399029812,
          42.40833705812975,
          42.40715655698643,
          42.26286746177123,
          42.27265394101898,
          42.35766247889882,
          42.278747,
          42.2556,
          42.28578,
          42.2681,
          42.36473898691789,
          42.3864,
          42.371141,
          42.339202,
          42.2568376,
          42.2645666,
          42.3664204,
          42.33329254719182,
          42.3362358,
          42.33420351352245,
          42.3502102,
          42.5223714,
          42.38518146513944,
          42.38736953747185,
          42.4023682,
          42.3629016,
          42.3528376,
          42.33584612997077,
          42.38004534693313,
          42.503332,
          42.506395,
          42.516223,
          42.523994,
          42.520136,
          42.520897,
          42.411709,
          42.417724,
          42.401697,
          42.373079797934935,
          42.36304549626695,
          42.426541,
          42.42386,
          42.408156
         ],
         "lon": [
          -71.10061883926392,
          -71.069616,
          -71.090179,
          -71.06528744101524,
          -71.04457139968872,
          -71.137313,
          -71.11903488636017,
          -71.108279,
          -71.1065,
          -71.08798563480377,
          -71.07306711393903,
          -71.10286116600037,
          -71.13776206970215,
          -71.07657015323639,
          -71.1182756971175,
          -71.105301,
          -71.0514298081398,
          -71.08065776545118,
          -71.055547,
          -71.057629,
          -71.04436084628105,
          -71.076847,
          -71.06890439987183,
          -71.095171,
          -71.12459778785706,
          -71.10407917767589,
          -71.04167744055303,
          -71.10235286881107,
          -71.097009,
          -71.0582291708306,
          -71.07739206866427,
          -71.14673539996147,
          -71.07404083013535,
          -71.050877,
          -71.123831,
          -71.07060294892108,
          -71.050699,
          -71.05752243543975,
          -71.08582377433777,
          -71.056067,
          -71.05459745998814,
          -71.066289,
          -71.07329249382019,
          -71.07903778553009,
          -71.085954,
          -71.0898108780384,
          -71.063348,
          -71.08678414955648,
          -71.08386572459494,
          -71.0816197,
          -71.07286870479584,
          -71.059367,
          -71.07118962337152,
          -71.08192384243011,
          -71.05737626552582,
          -71.04930013418198,
          -71.0453599691391,
          -71.13275302578586,
          -71.093198,
          -71.1031,
          -71.123338,
          -71.12188071012497,
          -71.10853672027588,
          -71.0831107199192,
          -71.12098601080106,
          -71.118579,
          -71.10057324171066,
          -71.105495,
          -71.09812,
          -71.09540475672475,
          -71.10707223415375,
          -71.09115600585936,
          -71.062679,
          -71.13894682028331,
          -71.07679277658461,
          -71.048927,
          -71.11626680949485,
          -71.114214,
          -71.119945,
          -71.076529,
          -71.09169,
          -71.03648586203235,
          -71.05118036270142,
          -71.064608,
          -71.094445,
          -71.111075,
          -71.11687034368515,
          -71.060292,
          -71.11412136298895,
          -71.123024,
          -71.11102235516228,
          -71.116772,
          -71.1283321143128,
          -71.125107,
          -71.1138716340065,
          -71.075354,
          -71.08822,
          -71.116865,
          -71.06446668505669,
          -71.114025,
          -71.123413,
          -71.132446,
          -71.05699850837482,
          -71.12671129423688,
          -71.119084,
          -71.104412,
          -71.08633603909765,
          -71.130516,
          -71.03877,
          -71.069849,
          -71.04622899561036,
          -71.100694,
          -71.11543,
          -71.10984160567114,
          -71.098634,
          -71.06198,
          -71.056605,
          -71.06537003967787,
          -71.10014140605927,
          -71.107341,
          -71.028664,
          -71.031614,
          -71.10594004465383,
          -71.066498,
          -71.10809952020645,
          -71.132788,
          -71.08216792345047,
          -71.139459,
          -71.069957,
          -71.07654601335526,
          -71.129042,
          -71.023739,
          -71.129164,
          -71.052608,
          -71.052163,
          -71.063187,
          -71.10856622457504,
          -71.04817356923377,
          -71.11089169979095,
          -71.09627097845076,
          -71.0514432,
          -71.092225,
          -71.044024,
          -71.056664,
          -71.068607,
          -71.085347,
          -71.06905996799469,
          -71.0539,
          -71.16031676530838,
          -71.15027189254761,
          -71.11901879310608,
          -71.10006093978882,
          -71.10129475593567,
          -71.10394477844238,
          -71.13320231437683,
          -71.13426981498378,
          -71.07116281986237,
          -71.14260613918304,
          -71.10393404960632,
          -71.08277142047882,
          -71.03764,
          -71.1253622174263,
          -71.09039425849915,
          -71.08495473861694,
          -71.064263,
          -71.1268836054569,
          -71.053181,
          -71.12046446660315,
          -71.07828140258789,
          -71.07200495972165,
          -71.08243077993393,
          -71.09126061201096,
          -71.0697814822197,
          -71.081198,
          -71.091946,
          -71.080952,
          -71.0729,
          -71.083235,
          -71.06512248516083,
          -71.05979576244862,
          -71.166491,
          -71.01619094610214,
          -71.03528559207916,
          -71.03977829217911,
          -71.039431,
          -71.03128910064696,
          -71.044201,
          -71.03024303913116,
          -71.006098,
          -71.04569256305693,
          -71.0410200806291,
          -71.11305356025696,
          -71.062256,
          -71.143478951426,
          -71.09759867191315,
          -71.12126246094704,
          -71.10057592391968,
          -71.0804355052096,
          -71.07929527759552,
          -71.10728681087494,
          -71.09850591982195,
          -71.08318716287613,
          -71.07746601104736,
          -71.11133694648743,
          -71.07821760713703,
          -71.05466698296368,
          -71.07345871645519,
          -71.06068975823291,
          -71.0641389,
          -71.06575,
          -71.114249,
          -71.107669,
          -71.070629,
          -71.104374,
          -71.02495,
          -71.0875672,
          -71.143941,
          -71.06383498767171,
          -71.12011306006025,
          -71.0839523,
          -71.10402522613185,
          -71.0988699646623,
          -71.13022770741735,
          -71.14871613699506,
          -71.12260755160605,
          -71.09522221614498,
          -71.093641,
          -71.127754,
          -71.13997217276847,
          -71.12119538714069,
          -71.09372552493369,
          -71.12820532182013,
          -71.09732501226972,
          -71.08617242434775,
          -71.15168806174552,
          -71.06781138111728,
          -71.15061519672052,
          -71.07942931372236,
          -71.087111,
          -71.071806,
          -71.071111,
          -71.15988485533308,
          -71.08044855314802,
          -71.09325,
          -71.14127840855872,
          -71.01063068965232,
          -71.05481199938367,
          -71.1142981,
          -71.06055721676967,
          -71.10446508982932,
          -71.0901582,
          -71.09728209692548,
          -71.05060093123029,
          -71.0638403149278,
          -71.08169049924982,
          -71.06209959843909,
          -71.05747275072645,
          -71.13775670528412,
          -71.07798628527235,
          -71.0573735833168,
          -71.07782810926437,
          -71.15412890911102,
          -71.0794677917329,
          -71.13672129828046,
          -71.06166645884514,
          -71.12852452327388,
          -71.10341902831351,
          -71.10878612855231,
          -71.07421449387857,
          -71.09670273977825,
          -71.10026478767395,
          -71.0756166279316,
          -71.0689445958451,
          -71.09930185605663,
          -71.06823265090497,
          -71.05650289605819,
          -71.06546759905541,
          -71.0724475979805,
          -71.04479655659816,
          -71.05842225271772,
          -71.05260457852637,
          -71.04762639859473,
          -71.06381878293178,
          -71.06373842814719,
          -71.0801375997653,
          -71.06559185315746,
          -71.1001680795016,
          -71.12135231494904,
          -71.13421171095978,
          -71.12070563810447,
          -71.08336953450817,
          -71.05355408051764,
          -71.09745375830244,
          -71.1106824874878,
          -71.08714388528824,
          -71.11694140364307,
          -71.05726346409938,
          -71.06688730436872,
          -71.08579014980933,
          -71.14797130814623,
          -71.0724207387284,
          -71.0695936904267,
          -71.07648162175792,
          -71.03918548682486,
          -71.07079532006537,
          -71.117736660035,
          -71.11687703062671,
          -71.11874517062459,
          -71.11570891001975,
          -71.09639923859504,
          -71.05656400803126,
          -71.13423757273267,
          -71.14393111327445,
          -71.06955613950048,
          -71.07147924620222,
          -71.15344755369732,
          -71.15728851416861,
          -71.16341467955863,
          -71.07337901405117,
          -71.0333597474255,
          -71.08995433905875,
          -71.14167537549292,
          -71.07514854529654,
          -71.11601199963843,
          -71.09218861916816,
          -71.04536797860419,
          -71.10391523698127,
          -71.14549813806661,
          -71.0437126,
          -71.11467361450195,
          -71.07744187116623,
          -71.15683130688922,
          -71.12449831038248,
          -71.18573324459247,
          -71.06092190993877,
          -71.05426469875965,
          -71.15336636682059,
          -71.14906518727366,
          -71.15058331757609,
          -71.14382132425817,
          -71.14009319811885,
          -71.18641942508475,
          -71.19943707257335,
          -71.20146199598821,
          -71.1860453666327,
          -71.19367271661758,
          -71.08669817447662,
          -71.08551858007559,
          -71.2262749671936,
          -71.21382214128971,
          -71.15764854490408,
          -71.03907315999093,
          -71.03558540113227,
          -71.08974037706501,
          -71.14456963094199,
          -71.03987016504107,
          -71.06041654944418,
          -71.02876782417297,
          -71.008942,
          -71.0139,
          -71.192861,
          -71.105587,
          -71.10196,
          -71.027733,
          -71.090986,
          -71.06975,
          -71.1242,
          -71.095003,
          -71.187936,
          -71.090098,
          -71.17569386959076,
          -71.030709722545,
          -71.03344559669495,
          -71.03857017704286,
          -71.03085594484583,
          -71.03987179230899,
          -71.02390923402707,
          -71.1565663665533,
          -71.15051883389242,
          -71.14636927843094,
          -71.1365658044815,
          -71.06300890445709,
          -71.0946444,
          -71.10998779535294,
          -70.8806911110878,
          -70.87021440267563,
          -70.88952362537384,
          -70.89570075273514,
          -70.89611113071442,
          -70.89183300733566,
          -70.89478075504303,
          -71.16708934307098,
          -71.2063729763031,
          -71.20236039161682,
          -71.20668411254883,
          -71.207794547081,
          -71.20764970779419,
          -71.06135129928589,
          -71.08071684837341,
          -71.12490355968475,
          -71.1538877,
          -71.139019,
          -71.054689,
          -71.2477594614029,
          -71.05524927377701,
          -71.09171926975249,
          -71.09616905450821,
          -70.99804848432541,
          -70.99272429943085,
          -71.12163126468657,
          -71.119903922081,
          -71.1084133386612,
          -71.080286,
          -71.12444,
          -71.109725,
          -71.11924,
          -71.05934903025626,
          -71.09601,
          -71.076198,
          -71.090511,
          -71.122509,
          -71.1145523,
          -71.0885418,
          -71.10124647617339,
          -71.1934421,
          -71.08767616843123,
          -71.0446705,
          -70.8903331,
          -71.0151367,
          -71.12761001482795,
          -71.07573182424781,
          -71.0915669,
          -71.1296752,
          -71.08038157224655,
          -71.0730457305908,
          -70.891444,
          -70.88693,
          -70.905535,
          -70.89684,
          -70.906271,
          -70.910528,
          -71.110444,
          -71.108102,
          -71.106128,
          -71.08634233665725,
          -71.08287078916874,
          -71.073179,
          -71.067793,
          -71.0429
         ],
         "marker": {
          "size": 9
         },
         "mode": "markers",
         "type": "scattermapbox"
        },
        {
         "lat": [
          42.338514601786,
          null
         ],
         "line": {
          "color": "red",
          "width": 2
         },
         "lon": [
          -71.07404083013535,
          null
         ],
         "mode": "lines",
         "type": "scattermapbox"
        },
        {
         "lat": [
          42.3436658245146,
          null
         ],
         "line": {
          "color": "red",
          "width": 1.2
         },
         "lon": [
          -71.08582377433777,
          null
         ],
         "mode": "lines",
         "type": "scattermapbox"
        },
        {
         "lat": [
          42.3436658245146,
          null
         ],
         "line": {
          "color": "red",
          "width": 2.4
         },
         "lon": [
          -71.08582377433777,
          null
         ],
         "mode": "lines",
         "type": "scattermapbox"
        },
        {
         "lat": [
          42.3436658245146,
          null
         ],
         "line": {
          "color": "red",
          "width": 0.4
         },
         "lon": [
          -71.08582377433777,
          null
         ],
         "mode": "lines",
         "type": "scattermapbox"
        },
        {
         "lat": [
          42.3436658245146,
          null
         ],
         "line": {
          "color": "red",
          "width": 0.2
         },
         "lon": [
          -71.08582377433777,
          null
         ],
         "mode": "lines",
         "type": "scattermapbox"
        },
        {
         "lat": [
          null,
          42.3436658245146
         ],
         "line": {
          "color": "red",
          "width": 0
         },
         "lon": [
          null,
          -71.08582377433777
         ],
         "mode": "lines",
         "type": "scattermapbox"
        },
        {
         "lat": [
          null,
          42.3436658245146
         ],
         "line": {
          "color": "red",
          "width": 0
         },
         "lon": [
          null,
          -71.08582377433777
         ],
         "mode": "lines",
         "type": "scattermapbox"
        },
        {
         "lat": [
          null,
          42.3436658245146
         ],
         "line": {
          "color": "red",
          "width": 0
         },
         "lon": [
          null,
          -71.08582377433777
         ],
         "mode": "lines",
         "type": "scattermapbox"
        },
        {
         "lat": [
          null,
          42.3436658245146
         ],
         "line": {
          "color": "red",
          "width": 0
         },
         "lon": [
          null,
          -71.08582377433777
         ],
         "mode": "lines",
         "type": "scattermapbox"
        },
        {
         "lat": [
          null,
          42.3436658245146
         ],
         "line": {
          "color": "red",
          "width": 0
         },
         "lon": [
          null,
          -71.08582377433777
         ],
         "mode": "lines",
         "type": "scattermapbox"
        },
        {
         "lat": [
          null,
          42.3436658245146
         ],
         "line": {
          "color": "red",
          "width": 0
         },
         "lon": [
          null,
          -71.08582377433777
         ],
         "mode": "lines",
         "type": "scattermapbox"
        },
        {
         "lat": [
          null,
          42.3436658245146
         ],
         "line": {
          "color": "red",
          "width": 0
         },
         "lon": [
          null,
          -71.08582377433777
         ],
         "mode": "lines",
         "type": "scattermapbox"
        },
        {
         "lat": [
          null,
          42.3436658245146
         ],
         "line": {
          "color": "red",
          "width": 0
         },
         "lon": [
          null,
          -71.08582377433777
         ],
         "mode": "lines",
         "type": "scattermapbox"
        },
        {
         "lat": [
          null,
          42.3436658245146
         ],
         "line": {
          "color": "red",
          "width": 0
         },
         "lon": [
          null,
          -71.08582377433777
         ],
         "mode": "lines",
         "type": "scattermapbox"
        },
        {
         "lat": [
          null,
          42.3436658245146
         ],
         "line": {
          "color": "red",
          "width": 0
         },
         "lon": [
          null,
          -71.08582377433777
         ],
         "mode": "lines",
         "type": "scattermapbox"
        },
        {
         "lat": [
          null,
          42.338514601786
         ],
         "line": {
          "color": "red",
          "width": 0
         },
         "lon": [
          null,
          -71.07404083013535
         ],
         "mode": "lines",
         "type": "scattermapbox"
        },
        {
         "lat": [
          null,
          42.3436658245146
         ],
         "line": {
          "color": "red",
          "width": 0
         },
         "lon": [
          null,
          -71.08582377433777
         ],
         "mode": "lines",
         "type": "scattermapbox"
        },
        {
         "lat": [
          null,
          42.3436658245146
         ],
         "line": {
          "color": "red",
          "width": 0
         },
         "lon": [
          null,
          -71.08582377433777
         ],
         "mode": "lines",
         "type": "scattermapbox"
        },
        {
         "lat": [
          null,
          42.3436658245146
         ],
         "line": {
          "color": "red",
          "width": 0
         },
         "lon": [
          null,
          -71.08582377433777
         ],
         "mode": "lines",
         "type": "scattermapbox"
        },
        {
         "lat": [
          null,
          42.3436658245146
         ],
         "line": {
          "color": "red",
          "width": 0
         },
         "lon": [
          null,
          -71.08582377433777
         ],
         "mode": "lines",
         "type": "scattermapbox"
        },
        {
         "lat": [
          null,
          42.3436658245146
         ],
         "line": {
          "color": "red",
          "width": 0
         },
         "lon": [
          null,
          -71.08582377433777
         ],
         "mode": "lines",
         "type": "scattermapbox"
        },
        {
         "lat": [
          null,
          42.3436658245146
         ],
         "line": {
          "color": "red",
          "width": 0
         },
         "lon": [
          null,
          -71.08582377433777
         ],
         "mode": "lines",
         "type": "scattermapbox"
        },
        {
         "lat": [
          null,
          42.3436658245146
         ],
         "line": {
          "color": "red",
          "width": 0
         },
         "lon": [
          null,
          -71.08582377433777
         ],
         "mode": "lines",
         "type": "scattermapbox"
        },
        {
         "lat": [
          null,
          42.3436658245146
         ],
         "line": {
          "color": "red",
          "width": 0
         },
         "lon": [
          null,
          -71.08582377433777
         ],
         "mode": "lines",
         "type": "scattermapbox"
        },
        {
         "lat": [
          null,
          42.3436658245146
         ],
         "line": {
          "color": "red",
          "width": 0
         },
         "lon": [
          null,
          -71.08582377433777
         ],
         "mode": "lines",
         "type": "scattermapbox"
        },
        {
         "lat": [
          null,
          42.3436658245146
         ],
         "line": {
          "color": "red",
          "width": 0
         },
         "lon": [
          null,
          -71.08582377433777
         ],
         "mode": "lines",
         "type": "scattermapbox"
        },
        {
         "lat": [
          null,
          42.3436658245146
         ],
         "line": {
          "color": "red",
          "width": 0
         },
         "lon": [
          null,
          -71.08582377433777
         ],
         "mode": "lines",
         "type": "scattermapbox"
        },
        {
         "lat": [
          null,
          42.3436658245146
         ],
         "line": {
          "color": "red",
          "width": 0
         },
         "lon": [
          null,
          -71.08582377433777
         ],
         "mode": "lines",
         "type": "scattermapbox"
        },
        {
         "lat": [
          null,
          42.3436658245146
         ],
         "line": {
          "color": "red",
          "width": 0
         },
         "lon": [
          null,
          -71.08582377433777
         ],
         "mode": "lines",
         "type": "scattermapbox"
        }
       ],
       "layout": {
        "autosize": true,
        "height": 600,
        "hovermode": "closest",
        "mapbox": {
         "bearing": 0,
         "center": {
          "lat": 42.364981,
          "lon": -71.079021
         },
         "pitch": 0,
         "style": "carto-positron",
         "zoom": 10
        },
        "template": {
         "data": {
          "bar": [
           {
            "error_x": {
             "color": "#2a3f5f"
            },
            "error_y": {
             "color": "#2a3f5f"
            },
            "marker": {
             "line": {
              "color": "#E5ECF6",
              "width": 0.5
             },
             "pattern": {
              "fillmode": "overlay",
              "size": 10,
              "solidity": 0.2
             }
            },
            "type": "bar"
           }
          ],
          "barpolar": [
           {
            "marker": {
             "line": {
              "color": "#E5ECF6",
              "width": 0.5
             },
             "pattern": {
              "fillmode": "overlay",
              "size": 10,
              "solidity": 0.2
             }
            },
            "type": "barpolar"
           }
          ],
          "carpet": [
           {
            "aaxis": {
             "endlinecolor": "#2a3f5f",
             "gridcolor": "white",
             "linecolor": "white",
             "minorgridcolor": "white",
             "startlinecolor": "#2a3f5f"
            },
            "baxis": {
             "endlinecolor": "#2a3f5f",
             "gridcolor": "white",
             "linecolor": "white",
             "minorgridcolor": "white",
             "startlinecolor": "#2a3f5f"
            },
            "type": "carpet"
           }
          ],
          "choropleth": [
           {
            "colorbar": {
             "outlinewidth": 0,
             "ticks": ""
            },
            "type": "choropleth"
           }
          ],
          "contour": [
           {
            "colorbar": {
             "outlinewidth": 0,
             "ticks": ""
            },
            "colorscale": [
             [
              0,
              "#0d0887"
             ],
             [
              0.1111111111111111,
              "#46039f"
             ],
             [
              0.2222222222222222,
              "#7201a8"
             ],
             [
              0.3333333333333333,
              "#9c179e"
             ],
             [
              0.4444444444444444,
              "#bd3786"
             ],
             [
              0.5555555555555556,
              "#d8576b"
             ],
             [
              0.6666666666666666,
              "#ed7953"
             ],
             [
              0.7777777777777778,
              "#fb9f3a"
             ],
             [
              0.8888888888888888,
              "#fdca26"
             ],
             [
              1,
              "#f0f921"
             ]
            ],
            "type": "contour"
           }
          ],
          "contourcarpet": [
           {
            "colorbar": {
             "outlinewidth": 0,
             "ticks": ""
            },
            "type": "contourcarpet"
           }
          ],
          "heatmap": [
           {
            "colorbar": {
             "outlinewidth": 0,
             "ticks": ""
            },
            "colorscale": [
             [
              0,
              "#0d0887"
             ],
             [
              0.1111111111111111,
              "#46039f"
             ],
             [
              0.2222222222222222,
              "#7201a8"
             ],
             [
              0.3333333333333333,
              "#9c179e"
             ],
             [
              0.4444444444444444,
              "#bd3786"
             ],
             [
              0.5555555555555556,
              "#d8576b"
             ],
             [
              0.6666666666666666,
              "#ed7953"
             ],
             [
              0.7777777777777778,
              "#fb9f3a"
             ],
             [
              0.8888888888888888,
              "#fdca26"
             ],
             [
              1,
              "#f0f921"
             ]
            ],
            "type": "heatmap"
           }
          ],
          "heatmapgl": [
           {
            "colorbar": {
             "outlinewidth": 0,
             "ticks": ""
            },
            "colorscale": [
             [
              0,
              "#0d0887"
             ],
             [
              0.1111111111111111,
              "#46039f"
             ],
             [
              0.2222222222222222,
              "#7201a8"
             ],
             [
              0.3333333333333333,
              "#9c179e"
             ],
             [
              0.4444444444444444,
              "#bd3786"
             ],
             [
              0.5555555555555556,
              "#d8576b"
             ],
             [
              0.6666666666666666,
              "#ed7953"
             ],
             [
              0.7777777777777778,
              "#fb9f3a"
             ],
             [
              0.8888888888888888,
              "#fdca26"
             ],
             [
              1,
              "#f0f921"
             ]
            ],
            "type": "heatmapgl"
           }
          ],
          "histogram": [
           {
            "marker": {
             "pattern": {
              "fillmode": "overlay",
              "size": 10,
              "solidity": 0.2
             }
            },
            "type": "histogram"
           }
          ],
          "histogram2d": [
           {
            "colorbar": {
             "outlinewidth": 0,
             "ticks": ""
            },
            "colorscale": [
             [
              0,
              "#0d0887"
             ],
             [
              0.1111111111111111,
              "#46039f"
             ],
             [
              0.2222222222222222,
              "#7201a8"
             ],
             [
              0.3333333333333333,
              "#9c179e"
             ],
             [
              0.4444444444444444,
              "#bd3786"
             ],
             [
              0.5555555555555556,
              "#d8576b"
             ],
             [
              0.6666666666666666,
              "#ed7953"
             ],
             [
              0.7777777777777778,
              "#fb9f3a"
             ],
             [
              0.8888888888888888,
              "#fdca26"
             ],
             [
              1,
              "#f0f921"
             ]
            ],
            "type": "histogram2d"
           }
          ],
          "histogram2dcontour": [
           {
            "colorbar": {
             "outlinewidth": 0,
             "ticks": ""
            },
            "colorscale": [
             [
              0,
              "#0d0887"
             ],
             [
              0.1111111111111111,
              "#46039f"
             ],
             [
              0.2222222222222222,
              "#7201a8"
             ],
             [
              0.3333333333333333,
              "#9c179e"
             ],
             [
              0.4444444444444444,
              "#bd3786"
             ],
             [
              0.5555555555555556,
              "#d8576b"
             ],
             [
              0.6666666666666666,
              "#ed7953"
             ],
             [
              0.7777777777777778,
              "#fb9f3a"
             ],
             [
              0.8888888888888888,
              "#fdca26"
             ],
             [
              1,
              "#f0f921"
             ]
            ],
            "type": "histogram2dcontour"
           }
          ],
          "mesh3d": [
           {
            "colorbar": {
             "outlinewidth": 0,
             "ticks": ""
            },
            "type": "mesh3d"
           }
          ],
          "parcoords": [
           {
            "line": {
             "colorbar": {
              "outlinewidth": 0,
              "ticks": ""
             }
            },
            "type": "parcoords"
           }
          ],
          "pie": [
           {
            "automargin": true,
            "type": "pie"
           }
          ],
          "scatter": [
           {
            "fillpattern": {
             "fillmode": "overlay",
             "size": 10,
             "solidity": 0.2
            },
            "type": "scatter"
           }
          ],
          "scatter3d": [
           {
            "line": {
             "colorbar": {
              "outlinewidth": 0,
              "ticks": ""
             }
            },
            "marker": {
             "colorbar": {
              "outlinewidth": 0,
              "ticks": ""
             }
            },
            "type": "scatter3d"
           }
          ],
          "scattercarpet": [
           {
            "marker": {
             "colorbar": {
              "outlinewidth": 0,
              "ticks": ""
             }
            },
            "type": "scattercarpet"
           }
          ],
          "scattergeo": [
           {
            "marker": {
             "colorbar": {
              "outlinewidth": 0,
              "ticks": ""
             }
            },
            "type": "scattergeo"
           }
          ],
          "scattergl": [
           {
            "marker": {
             "colorbar": {
              "outlinewidth": 0,
              "ticks": ""
             }
            },
            "type": "scattergl"
           }
          ],
          "scattermapbox": [
           {
            "marker": {
             "colorbar": {
              "outlinewidth": 0,
              "ticks": ""
             }
            },
            "type": "scattermapbox"
           }
          ],
          "scatterpolar": [
           {
            "marker": {
             "colorbar": {
              "outlinewidth": 0,
              "ticks": ""
             }
            },
            "type": "scatterpolar"
           }
          ],
          "scatterpolargl": [
           {
            "marker": {
             "colorbar": {
              "outlinewidth": 0,
              "ticks": ""
             }
            },
            "type": "scatterpolargl"
           }
          ],
          "scatterternary": [
           {
            "marker": {
             "colorbar": {
              "outlinewidth": 0,
              "ticks": ""
             }
            },
            "type": "scatterternary"
           }
          ],
          "surface": [
           {
            "colorbar": {
             "outlinewidth": 0,
             "ticks": ""
            },
            "colorscale": [
             [
              0,
              "#0d0887"
             ],
             [
              0.1111111111111111,
              "#46039f"
             ],
             [
              0.2222222222222222,
              "#7201a8"
             ],
             [
              0.3333333333333333,
              "#9c179e"
             ],
             [
              0.4444444444444444,
              "#bd3786"
             ],
             [
              0.5555555555555556,
              "#d8576b"
             ],
             [
              0.6666666666666666,
              "#ed7953"
             ],
             [
              0.7777777777777778,
              "#fb9f3a"
             ],
             [
              0.8888888888888888,
              "#fdca26"
             ],
             [
              1,
              "#f0f921"
             ]
            ],
            "type": "surface"
           }
          ],
          "table": [
           {
            "cells": {
             "fill": {
              "color": "#EBF0F8"
             },
             "line": {
              "color": "white"
             }
            },
            "header": {
             "fill": {
              "color": "#C8D4E3"
             },
             "line": {
              "color": "white"
             }
            },
            "type": "table"
           }
          ]
         },
         "layout": {
          "annotationdefaults": {
           "arrowcolor": "#2a3f5f",
           "arrowhead": 0,
           "arrowwidth": 1
          },
          "autotypenumbers": "strict",
          "coloraxis": {
           "colorbar": {
            "outlinewidth": 0,
            "ticks": ""
           }
          },
          "colorscale": {
           "diverging": [
            [
             0,
             "#8e0152"
            ],
            [
             0.1,
             "#c51b7d"
            ],
            [
             0.2,
             "#de77ae"
            ],
            [
             0.3,
             "#f1b6da"
            ],
            [
             0.4,
             "#fde0ef"
            ],
            [
             0.5,
             "#f7f7f7"
            ],
            [
             0.6,
             "#e6f5d0"
            ],
            [
             0.7,
             "#b8e186"
            ],
            [
             0.8,
             "#7fbc41"
            ],
            [
             0.9,
             "#4d9221"
            ],
            [
             1,
             "#276419"
            ]
           ],
           "sequential": [
            [
             0,
             "#0d0887"
            ],
            [
             0.1111111111111111,
             "#46039f"
            ],
            [
             0.2222222222222222,
             "#7201a8"
            ],
            [
             0.3333333333333333,
             "#9c179e"
            ],
            [
             0.4444444444444444,
             "#bd3786"
            ],
            [
             0.5555555555555556,
             "#d8576b"
            ],
            [
             0.6666666666666666,
             "#ed7953"
            ],
            [
             0.7777777777777778,
             "#fb9f3a"
            ],
            [
             0.8888888888888888,
             "#fdca26"
            ],
            [
             1,
             "#f0f921"
            ]
           ],
           "sequentialminus": [
            [
             0,
             "#0d0887"
            ],
            [
             0.1111111111111111,
             "#46039f"
            ],
            [
             0.2222222222222222,
             "#7201a8"
            ],
            [
             0.3333333333333333,
             "#9c179e"
            ],
            [
             0.4444444444444444,
             "#bd3786"
            ],
            [
             0.5555555555555556,
             "#d8576b"
            ],
            [
             0.6666666666666666,
             "#ed7953"
            ],
            [
             0.7777777777777778,
             "#fb9f3a"
            ],
            [
             0.8888888888888888,
             "#fdca26"
            ],
            [
             1,
             "#f0f921"
            ]
           ]
          },
          "colorway": [
           "#636efa",
           "#EF553B",
           "#00cc96",
           "#ab63fa",
           "#FFA15A",
           "#19d3f3",
           "#FF6692",
           "#B6E880",
           "#FF97FF",
           "#FECB52"
          ],
          "font": {
           "color": "#2a3f5f"
          },
          "geo": {
           "bgcolor": "white",
           "lakecolor": "white",
           "landcolor": "#E5ECF6",
           "showlakes": true,
           "showland": true,
           "subunitcolor": "white"
          },
          "hoverlabel": {
           "align": "left"
          },
          "hovermode": "closest",
          "mapbox": {
           "style": "light"
          },
          "paper_bgcolor": "white",
          "plot_bgcolor": "#E5ECF6",
          "polar": {
           "angularaxis": {
            "gridcolor": "white",
            "linecolor": "white",
            "ticks": ""
           },
           "bgcolor": "#E5ECF6",
           "radialaxis": {
            "gridcolor": "white",
            "linecolor": "white",
            "ticks": ""
           }
          },
          "scene": {
           "xaxis": {
            "backgroundcolor": "#E5ECF6",
            "gridcolor": "white",
            "gridwidth": 2,
            "linecolor": "white",
            "showbackground": true,
            "ticks": "",
            "zerolinecolor": "white"
           },
           "yaxis": {
            "backgroundcolor": "#E5ECF6",
            "gridcolor": "white",
            "gridwidth": 2,
            "linecolor": "white",
            "showbackground": true,
            "ticks": "",
            "zerolinecolor": "white"
           },
           "zaxis": {
            "backgroundcolor": "#E5ECF6",
            "gridcolor": "white",
            "gridwidth": 2,
            "linecolor": "white",
            "showbackground": true,
            "ticks": "",
            "zerolinecolor": "white"
           }
          },
          "shapedefaults": {
           "line": {
            "color": "#2a3f5f"
           }
          },
          "ternary": {
           "aaxis": {
            "gridcolor": "white",
            "linecolor": "white",
            "ticks": ""
           },
           "baxis": {
            "gridcolor": "white",
            "linecolor": "white",
            "ticks": ""
           },
           "bgcolor": "#E5ECF6",
           "caxis": {
            "gridcolor": "white",
            "linecolor": "white",
            "ticks": ""
           }
          },
          "title": {
           "x": 0.05
          },
          "xaxis": {
           "automargin": true,
           "gridcolor": "white",
           "linecolor": "white",
           "ticks": "",
           "title": {
            "standoff": 15
           },
           "zerolinecolor": "white",
           "zerolinewidth": 2
          },
          "yaxis": {
           "automargin": true,
           "gridcolor": "white",
           "linecolor": "white",
           "ticks": "",
           "title": {
            "standoff": 15
           },
           "zerolinecolor": "white",
           "zerolinewidth": 2
          }
         }
        },
        "width": 600
       }
      }
     },
     "metadata": {},
     "output_type": "display_data"
    }
   ],
   "source": [
    "import plotly.graph_objects as go \n",
    "\n",
    "fig = go.Figure(go.Scattermapbox(\n",
    "    lat=station_information['lat'],\n",
    "    lon=station_information['lon'],\n",
    "    mode='markers',\n",
    "    marker=go.scattermapbox.Marker(\n",
    "        size=9\n",
    "    ),\n",
    "))\n",
    "\n",
    "fig.update_layout(\n",
    "    autosize=True,\n",
    "    mapbox_style=\"carto-positron\",\n",
    "    hovermode='closest',\n",
    "    mapbox=dict(\n",
    "        bearing=0,\n",
    "        center=go.layout.mapbox.Center(\n",
    "            lat=42.364981,\n",
    "            lon=-71.079021,\n",
    "        ),\n",
    "        pitch=0,\n",
    "        zoom=10\n",
    "    ),\n",
    "    height=600,\n",
    "    width=600\n",
    ")\n",
    "\n",
    "for i in range(len(results_van1)):\n",
    "    fig.add_trace(\n",
    "        go.Scattermapbox(\n",
    "            mode=\"lines\",\n",
    "            lon=[results_van1.loc[i,\"start_lon\"],results_van1.loc[i,\"end_lon\"]],\n",
    "            lat=[results_van1.loc[i,\"start_lat\"],results_van1.loc[i,\"end_lat\"]],\n",
    "            line=dict(width=results_van1.loc[i,\"bikes\"]/5, color='red'),\n",
    "        )\n",
    "    )\n",
    "    \n",
    "fig.show()"
   ]
  },
  {
   "cell_type": "code",
   "execution_count": null,
   "metadata": {},
   "outputs": [],
   "source": []
  }
 ],
 "metadata": {
  "kernelspec": {
   "display_name": "Python 3.9.13 ('env_maiwenn')",
   "language": "python",
   "name": "python3"
  },
  "language_info": {
   "codemirror_mode": {
    "name": "ipython",
    "version": 3
   },
   "file_extension": ".py",
   "mimetype": "text/x-python",
   "name": "python",
   "nbconvert_exporter": "python",
   "pygments_lexer": "ipython3",
   "version": "3.9.13"
  },
  "orig_nbformat": 4,
  "vscode": {
   "interpreter": {
    "hash": "32466a21a07a3c6fbc499a46ef5738207d953e31ba20ebfadb807195852ba7c1"
   }
  }
 },
 "nbformat": 4,
 "nbformat_minor": 2
}
