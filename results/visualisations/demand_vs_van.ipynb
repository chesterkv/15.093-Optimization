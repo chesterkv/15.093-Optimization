{
 "cells": [
  {
   "cell_type": "code",
   "execution_count": 1,
   "metadata": {},
   "outputs": [],
   "source": [
    "import pandas as pd\n",
    "import numpy as np\n",
    "import plotly.graph_objects as go\n",
    "import os"
   ]
  },
  {
   "cell_type": "code",
   "execution_count": 2,
   "metadata": {},
   "outputs": [
    {
     "data": {
      "text/html": [
       "<div>\n",
       "<style scoped>\n",
       "    .dataframe tbody tr th:only-of-type {\n",
       "        vertical-align: middle;\n",
       "    }\n",
       "\n",
       "    .dataframe tbody tr th {\n",
       "        vertical-align: top;\n",
       "    }\n",
       "\n",
       "    .dataframe thead th {\n",
       "        text-align: right;\n",
       "    }\n",
       "</style>\n",
       "<table border=\"1\" class=\"dataframe\">\n",
       "  <thead>\n",
       "    <tr style=\"text-align: right;\">\n",
       "      <th></th>\n",
       "      <th>K</th>\n",
       "      <th>distance_vans</th>\n",
       "      <th>nb_rebalancings</th>\n",
       "      <th>unmet_demand</th>\n",
       "    </tr>\n",
       "  </thead>\n",
       "  <tbody>\n",
       "    <tr>\n",
       "      <th>0</th>\n",
       "      <td>1</td>\n",
       "      <td>39.539498</td>\n",
       "      <td>20.0</td>\n",
       "      <td>404.0</td>\n",
       "    </tr>\n",
       "    <tr>\n",
       "      <th>1</th>\n",
       "      <td>2</td>\n",
       "      <td>55.316144</td>\n",
       "      <td>33.0</td>\n",
       "      <td>352.0</td>\n",
       "    </tr>\n",
       "    <tr>\n",
       "      <th>2</th>\n",
       "      <td>3</td>\n",
       "      <td>57.803399</td>\n",
       "      <td>39.0</td>\n",
       "      <td>340.0</td>\n",
       "    </tr>\n",
       "    <tr>\n",
       "      <th>3</th>\n",
       "      <td>4</td>\n",
       "      <td>51.311275</td>\n",
       "      <td>45.0</td>\n",
       "      <td>334.0</td>\n",
       "    </tr>\n",
       "    <tr>\n",
       "      <th>4</th>\n",
       "      <td>5</td>\n",
       "      <td>55.412496</td>\n",
       "      <td>51.0</td>\n",
       "      <td>334.0</td>\n",
       "    </tr>\n",
       "    <tr>\n",
       "      <th>5</th>\n",
       "      <td>6</td>\n",
       "      <td>51.108369</td>\n",
       "      <td>48.0</td>\n",
       "      <td>325.0</td>\n",
       "    </tr>\n",
       "    <tr>\n",
       "      <th>6</th>\n",
       "      <td>7</td>\n",
       "      <td>53.501373</td>\n",
       "      <td>55.0</td>\n",
       "      <td>318.0</td>\n",
       "    </tr>\n",
       "    <tr>\n",
       "      <th>7</th>\n",
       "      <td>8</td>\n",
       "      <td>48.886492</td>\n",
       "      <td>60.0</td>\n",
       "      <td>317.0</td>\n",
       "    </tr>\n",
       "    <tr>\n",
       "      <th>8</th>\n",
       "      <td>9</td>\n",
       "      <td>53.638721</td>\n",
       "      <td>56.0</td>\n",
       "      <td>292.0</td>\n",
       "    </tr>\n",
       "    <tr>\n",
       "      <th>9</th>\n",
       "      <td>10</td>\n",
       "      <td>50.466131</td>\n",
       "      <td>53.0</td>\n",
       "      <td>298.0</td>\n",
       "    </tr>\n",
       "  </tbody>\n",
       "</table>\n",
       "</div>"
      ],
      "text/plain": [
       "    K  distance_vans  nb_rebalancings  unmet_demand\n",
       "0   1      39.539498             20.0         404.0\n",
       "1   2      55.316144             33.0         352.0\n",
       "2   3      57.803399             39.0         340.0\n",
       "3   4      51.311275             45.0         334.0\n",
       "4   5      55.412496             51.0         334.0\n",
       "5   6      51.108369             48.0         325.0\n",
       "6   7      53.501373             55.0         318.0\n",
       "7   8      48.886492             60.0         317.0\n",
       "8   9      53.638721             56.0         292.0\n",
       "9  10      50.466131             53.0         298.0"
      ]
     },
     "execution_count": 2,
     "metadata": {},
     "output_type": "execute_result"
    }
   ],
   "source": [
    "analysis_K_30_day1= pd.read_csv('../data/analysis_K_30_day1.csv')\n",
    "analysis_K_30_day2= pd.read_csv('../data/analysis_K_30_day2.csv')\n",
    "analysis_K_30_day3= pd.read_csv('../data/analysis_K_30_day3.csv')\n",
    "analysis_K_30_day4= pd.read_csv('../data/analysis_K_30_day4.csv')\n",
    "analysis_K_30_day5= pd.read_csv('../data/analysis_K_30_day5.csv')\n",
    "analysis_K_30_day1"
   ]
  },
  {
   "cell_type": "code",
   "execution_count": 3,
   "metadata": {},
   "outputs": [],
   "source": [
    "# Build average results over the 5 days\n",
    "analysis_K_30_avg=analysis_K_30_day1.copy()\n",
    "analysis_K_30_avg[\"distance_vans\"]=(analysis_K_30_day1[\"distance_vans\"]+analysis_K_30_day2[\"distance_vans\"]+analysis_K_30_day3[\"distance_vans\"]+analysis_K_30_day4[\"distance_vans\"]+analysis_K_30_day5[\"distance_vans\"])/5\n",
    "analysis_K_30_avg[\"nb_rebalancings\"]=(analysis_K_30_day1[\"nb_rebalancings\"]+analysis_K_30_day2[\"nb_rebalancings\"]+analysis_K_30_day3[\"nb_rebalancings\"]+analysis_K_30_day4[\"nb_rebalancings\"]+analysis_K_30_day5[\"nb_rebalancings\"])/5\n",
    "analysis_K_30_avg[\"unmet_demand\"]=(analysis_K_30_day1[\"unmet_demand\"]+analysis_K_30_day2[\"unmet_demand\"]+analysis_K_30_day3[\"unmet_demand\"]+analysis_K_30_day4[\"unmet_demand\"]+analysis_K_30_day5[\"unmet_demand\"])/5"
   ]
  },
  {
   "cell_type": "code",
   "execution_count": 4,
   "metadata": {},
   "outputs": [
    {
     "data": {
      "image/png": "[encoded data removed]",
      "text/plain": [
       "<Figure size 640x480 with 2 Axes>"
      ]
     },
     "metadata": {},
     "output_type": "display_data"
    }
   ],
   "source": [
    "# plot unmet_demand and distance_vans for each K\n",
    "import matplotlib.pyplot as plt\n",
    "K=analysis_K_30_avg['K']\n",
    "\n",
    "# create figure and axis objects with subplots()\n",
    "fig,ax = plt.subplots()\n",
    "# make a plot\n",
    "ax.plot(K,analysis_K_30_avg['distance_vans'],color=\"tab:purple\")\n",
    "# set x-axis label\n",
    "ax.set_xlabel(\"Number of vans\", fontsize = 14)\n",
    "# set y-axis label\n",
    "ax.set_ylabel(\"Rebalancing travels\",\n",
    "              color=\"tab:purple\",\n",
    "              fontsize=14)\n",
    "# twin object for two different y-axis on the sample plot\n",
    "ax2=ax.twinx()\n",
    "# make a plot with different y-axis using second axis object\n",
    "ax2.plot(K,analysis_K_30_avg['unmet_demand'],color=\"tab:orange\")\n",
    "ax2.set_ylabel(\"Unmet demand\",color=\"tab:orange\",fontsize=14)\n",
    "plt.show()\n",
    "# save the plot as a file\n",
    "#fig.savefig('Costs_vs_K.png',\n",
    "#            format='png',\n",
    "#            dpi=100,\n",
    "#            bbox_inches='tight')"
   ]
  },
  {
   "cell_type": "code",
   "execution_count": 16,
   "metadata": {},
   "outputs": [
    {
     "data": {
      "image/png": "[encoded data removed]",
      "text/plain": [
       "<Figure size 640x480 with 2 Axes>"
      ]
     },
     "metadata": {},
     "output_type": "display_data"
    }
   ],
   "source": [
    "# plot unmet_demand and distance_vans for each K\n",
    "import matplotlib.pyplot as plt\n",
    "K=analysis_K_30_avg['K']\n",
    "\n",
    "# create figure and axis objects with subplots()\n",
    "fig,ax = plt.subplots()\n",
    "# make a plot\n",
    "ax.plot(K,analysis_K_30_avg['nb_rebalancings'],color=\"dodgerblue\")\n",
    "# set x-axis label\n",
    "ax.set_xlabel(\"Number of vans\", fontsize = 14)\n",
    "# set y-axis label\n",
    "ax.set_ylabel(\"Number of rebalancings\",\n",
    "              color=\"dodgerblue\",\n",
    "              fontsize=14)\n",
    "# twin object for two different y-axis on the sample plot\n",
    "ax2=ax.twinx()\n",
    "# make a plot with different y-axis using second axis object\n",
    "ax2.plot(K,analysis_K_30_avg['unmet_demand'],color=\"firebrick\")\n",
    "ax2.set_ylabel(\"Unmet demand\",color=\"firebrick\",fontsize=14)\n",
    "plt.show()\n",
    "# save the plot as a file\n",
    "fig.savefig('Costs_vs_K.png',\n",
    "            format='png',\n",
    "            dpi=100,\n",
    "            bbox_inches='tight')"
   ]
  },
  {
   "cell_type": "code",
   "execution_count": 13,
   "metadata": {},
   "outputs": [
    {
     "data": {
      "application/vnd.plotly.v1+json": {
       "config": {
        "plotlyServerURL": "https://plot.ly"
       },
       "data": [
        {
         "line": {
          "color": "dodgerblue"
         },
         "name": "Number of rebalancing trips",
         "type": "scatter",
         "x": [
          1,
          2,
          3,
          4,
          5,
          6,
          7,
          8,
          9,
          10
         ],
         "xaxis": "x",
         "y": [
          21,
          34.79999999999792,
          41.8,
          50.2,
          52.2,
          53,
          59.2,
          59.40000003930154,
          58.6,
          63.6
         ],
         "yaxis": "y"
        },
        {
         "line": {
          "color": "firebrick"
         },
         "name": "Unmet demand",
         "type": "scatter",
         "x": [
          1,
          2,
          3,
          4,
          5,
          6,
          7,
          8,
          9,
          10
         ],
         "xaxis": "x",
         "y": [
          706.3999999246953,
          640.9999999225035,
          612.6,
          606,
          612.4000000001007,
          582,
          571.1999999336404,
          573.1999997158334,
          567,
          555.2
         ],
         "yaxis": "y2"
        }
       ],
       "layout": {
        "height": 500,
        "margin": {
         "b": 30,
         "l": 60,
         "r": 60,
         "t": 60
        },
        "paper_bgcolor": "rgba(0,0,0,0)",
        "plot_bgcolor": "rgba(0,0,0,0)",
        "showlegend": false,
        "template": {
         "data": {
          "bar": [
           {
            "error_x": {
             "color": "#2a3f5f"
            },
            "error_y": {
             "color": "#2a3f5f"
            },
            "marker": {
             "line": {
              "color": "#E5ECF6",
              "width": 0.5
             },
             "pattern": {
              "fillmode": "overlay",
              "size": 10,
              "solidity": 0.2
             }
            },
            "type": "bar"
           }
          ],
          "barpolar": [
           {
            "marker": {
             "line": {
              "color": "#E5ECF6",
              "width": 0.5
             },
             "pattern": {
              "fillmode": "overlay",
              "size": 10,
              "solidity": 0.2
             }
            },
            "type": "barpolar"
           }
          ],
          "carpet": [
           {
            "aaxis": {
             "endlinecolor": "#2a3f5f",
             "gridcolor": "white",
             "linecolor": "white",
             "minorgridcolor": "white",
             "startlinecolor": "#2a3f5f"
            },
            "baxis": {
             "endlinecolor": "#2a3f5f",
             "gridcolor": "white",
             "linecolor": "white",
             "minorgridcolor": "white",
             "startlinecolor": "#2a3f5f"
            },
            "type": "carpet"
           }
          ],
          "choropleth": [
           {
            "colorbar": {
             "outlinewidth": 0,
             "ticks": ""
            },
            "type": "choropleth"
           }
          ],
          "contour": [
           {
            "colorbar": {
             "outlinewidth": 0,
             "ticks": ""
            },
            "colorscale": [
             [
              0,
              "#0d0887"
             ],
             [
              0.1111111111111111,
              "#46039f"
             ],
             [
              0.2222222222222222,
              "#7201a8"
             ],
             [
              0.3333333333333333,
              "#9c179e"
             ],
             [
              0.4444444444444444,
              "#bd3786"
             ],
             [
              0.5555555555555556,
              "#d8576b"
             ],
             [
              0.6666666666666666,
              "#ed7953"
             ],
             [
              0.7777777777777778,
              "#fb9f3a"
             ],
             [
              0.8888888888888888,
              "#fdca26"
             ],
             [
              1,
              "#f0f921"
             ]
            ],
            "type": "contour"
           }
          ],
          "contourcarpet": [
           {
            "colorbar": {
             "outlinewidth": 0,
             "ticks": ""
            },
            "type": "contourcarpet"
           }
          ],
          "heatmap": [
           {
            "colorbar": {
             "outlinewidth": 0,
             "ticks": ""
            },
            "colorscale": [
             [
              0,
              "#0d0887"
             ],
             [
              0.1111111111111111,
              "#46039f"
             ],
             [
              0.2222222222222222,
              "#7201a8"
             ],
             [
              0.3333333333333333,
              "#9c179e"
             ],
             [
              0.4444444444444444,
              "#bd3786"
             ],
             [
              0.5555555555555556,
              "#d8576b"
             ],
             [
              0.6666666666666666,
              "#ed7953"
             ],
             [
              0.7777777777777778,
              "#fb9f3a"
             ],
             [
              0.8888888888888888,
              "#fdca26"
             ],
             [
              1,
              "#f0f921"
             ]
            ],
            "type": "heatmap"
           }
          ],
          "heatmapgl": [
           {
            "colorbar": {
             "outlinewidth": 0,
             "ticks": ""
            },
            "colorscale": [
             [
              0,
              "#0d0887"
             ],
             [
              0.1111111111111111,
              "#46039f"
             ],
             [
              0.2222222222222222,
              "#7201a8"
             ],
             [
              0.3333333333333333,
              "#9c179e"
             ],
             [
              0.4444444444444444,
              "#bd3786"
             ],
             [
              0.5555555555555556,
              "#d8576b"
             ],
             [
              0.6666666666666666,
              "#ed7953"
             ],
             [
              0.7777777777777778,
              "#fb9f3a"
             ],
             [
              0.8888888888888888,
              "#fdca26"
             ],
             [
              1,
              "#f0f921"
             ]
            ],
            "type": "heatmapgl"
           }
          ],
          "histogram": [
           {
            "marker": {
             "pattern": {
              "fillmode": "overlay",
              "size": 10,
              "solidity": 0.2
             }
            },
            "type": "histogram"
           }
          ],
          "histogram2d": [
           {
            "colorbar": {
             "outlinewidth": 0,
             "ticks": ""
            },
            "colorscale": [
             [
              0,
              "#0d0887"
             ],
             [
              0.1111111111111111,
              "#46039f"
             ],
             [
              0.2222222222222222,
              "#7201a8"
             ],
             [
              0.3333333333333333,
              "#9c179e"
             ],
             [
              0.4444444444444444,
              "#bd3786"
             ],
             [
              0.5555555555555556,
              "#d8576b"
             ],
             [
              0.6666666666666666,
              "#ed7953"
             ],
             [
              0.7777777777777778,
              "#fb9f3a"
             ],
             [
              0.8888888888888888,
              "#fdca26"
             ],
             [
              1,
              "#f0f921"
             ]
            ],
            "type": "histogram2d"
           }
          ],
          "histogram2dcontour": [
           {
            "colorbar": {
             "outlinewidth": 0,
             "ticks": ""
            },
            "colorscale": [
             [
              0,
              "#0d0887"
             ],
             [
              0.1111111111111111,
              "#46039f"
             ],
             [
              0.2222222222222222,
              "#7201a8"
             ],
             [
              0.3333333333333333,
              "#9c179e"
             ],
             [
              0.4444444444444444,
              "#bd3786"
             ],
             [
              0.5555555555555556,
              "#d8576b"
             ],
             [
              0.6666666666666666,
              "#ed7953"
             ],
             [
              0.7777777777777778,
              "#fb9f3a"
             ],
             [
              0.8888888888888888,
              "#fdca26"
             ],
             [
              1,
              "#f0f921"
             ]
            ],
            "type": "histogram2dcontour"
           }
          ],
          "mesh3d": [
           {
            "colorbar": {
             "outlinewidth": 0,
             "ticks": ""
            },
            "type": "mesh3d"
           }
          ],
          "parcoords": [
           {
            "line": {
             "colorbar": {
              "outlinewidth": 0,
              "ticks": ""
             }
            },
            "type": "parcoords"
           }
          ],
          "pie": [
           {
            "automargin": true,
            "type": "pie"
           }
          ],
          "scatter": [
           {
            "fillpattern": {
             "fillmode": "overlay",
             "size": 10,
             "solidity": 0.2
            },
            "type": "scatter"
           }
          ],
          "scatter3d": [
           {
            "line": {
             "colorbar": {
              "outlinewidth": 0,
              "ticks": ""
             }
            },
            "marker": {
             "colorbar": {
              "outlinewidth": 0,
              "ticks": ""
             }
            },
            "type": "scatter3d"
           }
          ],
          "scattercarpet": [
           {
            "marker": {
             "colorbar": {
              "outlinewidth": 0,
              "ticks": ""
             }
            },
            "type": "scattercarpet"
           }
          ],
          "scattergeo": [
           {
            "marker": {
             "colorbar": {
              "outlinewidth": 0,
              "ticks": ""
             }
            },
            "type": "scattergeo"
           }
          ],
          "scattergl": [
           {
            "marker": {
             "colorbar": {
              "outlinewidth": 0,
              "ticks": ""
             }
            },
            "type": "scattergl"
           }
          ],
          "scattermapbox": [
           {
            "marker": {
             "colorbar": {
              "outlinewidth": 0,
              "ticks": ""
             }
            },
            "type": "scattermapbox"
           }
          ],
          "scatterpolar": [
           {
            "marker": {
             "colorbar": {
              "outlinewidth": 0,
              "ticks": ""
             }
            },
            "type": "scatterpolar"
           }
          ],
          "scatterpolargl": [
           {
            "marker": {
             "colorbar": {
              "outlinewidth": 0,
              "ticks": ""
             }
            },
            "type": "scatterpolargl"
           }
          ],
          "scatterternary": [
           {
            "marker": {
             "colorbar": {
              "outlinewidth": 0,
              "ticks": ""
             }
            },
            "type": "scatterternary"
           }
          ],
          "surface": [
           {
            "colorbar": {
             "outlinewidth": 0,
             "ticks": ""
            },
            "colorscale": [
             [
              0,
              "#0d0887"
             ],
             [
              0.1111111111111111,
              "#46039f"
             ],
             [
              0.2222222222222222,
              "#7201a8"
             ],
             [
              0.3333333333333333,
              "#9c179e"
             ],
             [
              0.4444444444444444,
              "#bd3786"
             ],
             [
              0.5555555555555556,
              "#d8576b"
             ],
             [
              0.6666666666666666,
              "#ed7953"
             ],
             [
              0.7777777777777778,
              "#fb9f3a"
             ],
             [
              0.8888888888888888,
              "#fdca26"
             ],
             [
              1,
              "#f0f921"
             ]
            ],
            "type": "surface"
           }
          ],
          "table": [
           {
            "cells": {
             "fill": {
              "color": "#EBF0F8"
             },
             "line": {
              "color": "white"
             }
            },
            "header": {
             "fill": {
              "color": "#C8D4E3"
             },
             "line": {
              "color": "white"
             }
            },
            "type": "table"
           }
          ]
         },
         "layout": {
          "annotationdefaults": {
           "arrowcolor": "#2a3f5f",
           "arrowhead": 0,
           "arrowwidth": 1
          },
          "autotypenumbers": "strict",
          "coloraxis": {
           "colorbar": {
            "outlinewidth": 0,
            "ticks": ""
           }
          },
          "colorscale": {
           "diverging": [
            [
             0,
             "#8e0152"
            ],
            [
             0.1,
             "#c51b7d"
            ],
            [
             0.2,
             "#de77ae"
            ],
            [
             0.3,
             "#f1b6da"
            ],
            [
             0.4,
             "#fde0ef"
            ],
            [
             0.5,
             "#f7f7f7"
            ],
            [
             0.6,
             "#e6f5d0"
            ],
            [
             0.7,
             "#b8e186"
            ],
            [
             0.8,
             "#7fbc41"
            ],
            [
             0.9,
             "#4d9221"
            ],
            [
             1,
             "#276419"
            ]
           ],
           "sequential": [
            [
             0,
             "#0d0887"
            ],
            [
             0.1111111111111111,
             "#46039f"
            ],
            [
             0.2222222222222222,
             "#7201a8"
            ],
            [
             0.3333333333333333,
             "#9c179e"
            ],
            [
             0.4444444444444444,
             "#bd3786"
            ],
            [
             0.5555555555555556,
             "#d8576b"
            ],
            [
             0.6666666666666666,
             "#ed7953"
            ],
            [
             0.7777777777777778,
             "#fb9f3a"
            ],
            [
             0.8888888888888888,
             "#fdca26"
            ],
            [
             1,
             "#f0f921"
            ]
           ],
           "sequentialminus": [
            [
             0,
             "#0d0887"
            ],
            [
             0.1111111111111111,
             "#46039f"
            ],
            [
             0.2222222222222222,
             "#7201a8"
            ],
            [
             0.3333333333333333,
             "#9c179e"
            ],
            [
             0.4444444444444444,
             "#bd3786"
            ],
            [
             0.5555555555555556,
             "#d8576b"
            ],
            [
             0.6666666666666666,
             "#ed7953"
            ],
            [
             0.7777777777777778,
             "#fb9f3a"
            ],
            [
             0.8888888888888888,
             "#fdca26"
            ],
            [
             1,
             "#f0f921"
            ]
           ]
          },
          "colorway": [
           "#636efa",
           "#EF553B",
           "#00cc96",
           "#ab63fa",
           "#FFA15A",
           "#19d3f3",
           "#FF6692",
           "#B6E880",
           "#FF97FF",
           "#FECB52"
          ],
          "font": {
           "color": "#2a3f5f"
          },
          "geo": {
           "bgcolor": "white",
           "lakecolor": "white",
           "landcolor": "#E5ECF6",
           "showlakes": true,
           "showland": true,
           "subunitcolor": "white"
          },
          "hoverlabel": {
           "align": "left"
          },
          "hovermode": "closest",
          "mapbox": {
           "style": "light"
          },
          "paper_bgcolor": "white",
          "plot_bgcolor": "#E5ECF6",
          "polar": {
           "angularaxis": {
            "gridcolor": "white",
            "linecolor": "white",
            "ticks": ""
           },
           "bgcolor": "#E5ECF6",
           "radialaxis": {
            "gridcolor": "white",
            "linecolor": "white",
            "ticks": ""
           }
          },
          "scene": {
           "xaxis": {
            "backgroundcolor": "#E5ECF6",
            "gridcolor": "white",
            "gridwidth": 2,
            "linecolor": "white",
            "showbackground": true,
            "ticks": "",
            "zerolinecolor": "white"
           },
           "yaxis": {
            "backgroundcolor": "#E5ECF6",
            "gridcolor": "white",
            "gridwidth": 2,
            "linecolor": "white",
            "showbackground": true,
            "ticks": "",
            "zerolinecolor": "white"
           },
           "zaxis": {
            "backgroundcolor": "#E5ECF6",
            "gridcolor": "white",
            "gridwidth": 2,
            "linecolor": "white",
            "showbackground": true,
            "ticks": "",
            "zerolinecolor": "white"
           }
          },
          "shapedefaults": {
           "line": {
            "color": "#2a3f5f"
           }
          },
          "ternary": {
           "aaxis": {
            "gridcolor": "white",
            "linecolor": "white",
            "ticks": ""
           },
           "baxis": {
            "gridcolor": "white",
            "linecolor": "white",
            "ticks": ""
           },
           "bgcolor": "#E5ECF6",
           "caxis": {
            "gridcolor": "white",
            "linecolor": "white",
            "ticks": ""
           }
          },
          "title": {
           "x": 0.05
          },
          "xaxis": {
           "automargin": true,
           "gridcolor": "white",
           "linecolor": "white",
           "ticks": "",
           "title": {
            "standoff": 15
           },
           "zerolinecolor": "white",
           "zerolinewidth": 2
          },
          "yaxis": {
           "automargin": true,
           "gridcolor": "white",
           "linecolor": "white",
           "ticks": "",
           "title": {
            "standoff": 15
           },
           "zerolinecolor": "white",
           "zerolinewidth": 2
          }
         }
        },
        "width": 800,
        "xaxis": {
         "anchor": "y",
         "domain": [
          0,
          0.94
         ],
         "linecolor": "black",
         "linewidth": 1,
         "showgrid": false,
         "showline": true,
         "tickfont": {
          "size": 14
         },
         "title": {
          "font": {
           "color": "black",
           "size": 18
          },
          "text": "Number of vans"
         }
        },
        "yaxis": {
         "anchor": "x",
         "domain": [
          0,
          1
         ],
         "linecolor": "black",
         "linewidth": 1,
         "showgrid": false,
         "showline": true,
         "tickfont": {
          "size": 14
         },
         "title": {
          "font": {
           "color": "dodgerblue",
           "size": 18
          },
          "text": "Number of rebalancing trips"
         }
        },
        "yaxis2": {
         "anchor": "x",
         "linecolor": "black",
         "linewidth": 1,
         "overlaying": "y",
         "showgrid": false,
         "showline": true,
         "side": "right",
         "tickfont": {
          "size": 14
         },
         "title": {
          "font": {
           "color": "firebrick",
           "size": 18
          },
          "text": "Unmet demand"
         }
        }
       }
      }
     },
     "metadata": {},
     "output_type": "display_data"
    }
   ],
   "source": [
    "import plotly.graph_objects as go\n",
    "from plotly.subplots import make_subplots\n",
    "\n",
    "fig = make_subplots(specs=[[{\"secondary_y\": True}]])\n",
    "fig.add_trace(\n",
    "    go.Scatter(x=analysis_K_30_avg['K'], y=analysis_K_30_avg['nb_rebalancings'], name=\"Number of rebalancing trips\", line=dict(color='dodgerblue')),\n",
    "    secondary_y=False,\n",
    ")\n",
    "fig.add_trace(\n",
    "    go.Scatter(x=analysis_K_30_avg['K'], y=analysis_K_30_avg['unmet_demand'], name=\"Unmet demand\", line=dict(color='firebrick')),\n",
    "    secondary_y=True,\n",
    ")\n",
    "fig.update_layout(\n",
    "    paper_bgcolor='rgba(0,0,0,0)',\n",
    "    plot_bgcolor='rgba(0,0,0,0)',\n",
    "    showlegend=False,\n",
    "    width=800,\n",
    "    height=500,\n",
    "    margin=dict(l=60, r=60, b=30, t=60),\n",
    "    yaxis = dict(tickfont = dict(size=14)),\n",
    "    xaxis = dict(tickfont = dict(size=14))\n",
    ")\n",
    "fig.update_xaxes(title_text=\"Number of vans\",showgrid=False, showline=True, linewidth=1, linecolor='black', title_font=dict(color=\"black\",size=18))\n",
    "fig.update_yaxes(title_text=\"Number of rebalancing trips\", secondary_y=False, showgrid=False, showline=True, linewidth=1, linecolor='black', title_font=dict(color=\"dodgerblue\",size=18))\n",
    "fig.update_yaxes(title_text=\"Unmet demand\", secondary_y=True, showgrid=False, showline=True, linewidth=1, linecolor='black', title_font=dict(color=\"firebrick\",size=18), tickfont = dict(size=14))\n",
    "fig.show()\n",
    "fig.write_image(\"demand_vs_vans_report.pdf\")"
   ]
  },
  {
   "cell_type": "markdown",
   "metadata": {},
   "source": [
    "## Unmet demand reduction analysis"
   ]
  },
  {
   "cell_type": "code",
   "execution_count": 38,
   "metadata": {},
   "outputs": [],
   "source": [
    "# folder should be named 'nb_stations'_'nb_vans'_'S'_*\n",
    "def load_results(data_folder):\n",
    "    results_folder = os.path.join(\"../../results/data\", data_folder)\n",
    "    nb_stations = int(data_folder.split('_')[2])\n",
    "    nb_vans = int(data_folder.split('_')[4])\n",
    "\n",
    "    with open(os.path.join(results_folder, 'x.csv'), 'r') as f:\n",
    "        x = f.read().splitlines()\n",
    "    x = np.array(x).astype(float).reshape((nb_stations,nb_stations,nb_vans,24),order='F')\n",
    "\n",
    "    with open(os.path.join(results_folder, 'v.csv'), 'r') as f:\n",
    "        v = f.read().splitlines()\n",
    "    v = np.array(v).astype(float).reshape((nb_stations,nb_stations,nb_vans,24),order='F')\n",
    "\n",
    "    with open(os.path.join(results_folder, 'z.csv'), 'r') as f:\n",
    "        z = f.read().splitlines()\n",
    "    z = np.array(z).astype(float).reshape((nb_stations,nb_stations,nb_vans,24),order='F')\n",
    "\n",
    "    with open(os.path.join(results_folder, 'y.csv'), 'r') as f:\n",
    "        y = f.read().splitlines()\n",
    "    y = np.array(y).astype(float).reshape((nb_stations,24),order='F')\n",
    "\n",
    "    with open(os.path.join(results_folder, 'w.csv'), 'r') as f:\n",
    "        w = f.read().splitlines()\n",
    "    w = np.array(w).astype(float).reshape((nb_stations,nb_stations,24),order='F')\n",
    "\n",
    "    with open(os.path.join(results_folder, 'u.csv'), 'r') as f:\n",
    "        u = f.read().splitlines()\n",
    "    u = np.array(u).astype(float).reshape((nb_stations,nb_stations,24),order='F')\n",
    "\n",
    "    with open(os.path.join(results_folder, 'd.csv'), 'r') as f:\n",
    "        d = f.read().splitlines()\n",
    "    d = np.array(d).astype(float).reshape((nb_stations,nb_stations,24),order='F')\n",
    "\n",
    "    return x, v, z, y, w, u, d"
   ]
  },
  {
   "cell_type": "code",
   "execution_count": 39,
   "metadata": {},
   "outputs": [],
   "source": [
    "_, _, _, _, _, u_w, d1 = load_results('2022-12-08T143901_nstations_31_nvans_5_capacity_20_lambda_4_timelimit_160_norebal')"
   ]
  },
  {
   "cell_type": "code",
   "execution_count": 40,
   "metadata": {},
   "outputs": [
    {
     "data": {
      "text/plain": [
       "12031.0"
      ]
     },
     "execution_count": 40,
     "metadata": {},
     "output_type": "execute_result"
    }
   ],
   "source": [
    "# demand day 1\n",
    "# sum all the elements of d1\n",
    "np.sum(d1)"
   ]
  },
  {
   "cell_type": "code",
   "execution_count": 41,
   "metadata": {},
   "outputs": [
    {
     "data": {
      "text/plain": [
       "334.0"
      ]
     },
     "execution_count": 41,
     "metadata": {},
     "output_type": "execute_result"
    }
   ],
   "source": [
    "# Unmet demand with rebalancing\n",
    "analysis_K_30_day1[\"unmet_demand\"][4] # for 5 vans"
   ]
  },
  {
   "cell_type": "code",
   "execution_count": 42,
   "metadata": {},
   "outputs": [
    {
     "data": {
      "text/plain": [
       "298.0"
      ]
     },
     "execution_count": 42,
     "metadata": {},
     "output_type": "execute_result"
    }
   ],
   "source": [
    "# Unmet demand with rebalancing\n",
    "analysis_K_30_day1[\"unmet_demand\"][9] # for 10 vans"
   ]
  },
  {
   "cell_type": "code",
   "execution_count": 34,
   "metadata": {},
   "outputs": [
    {
     "data": {
      "text/plain": [
       "623.0"
      ]
     },
     "execution_count": 34,
     "metadata": {},
     "output_type": "execute_result"
    }
   ],
   "source": [
    "# Unmet demand on day 1 without rebalancing\n",
    "np.sum(u_w)"
   ]
  }
 ],
 "metadata": {
  "kernelspec": {
   "display_name": "bluebikes",
   "language": "python",
   "name": "python3"
  },
  "language_info": {
   "codemirror_mode": {
    "name": "ipython",
    "version": 3
   },
   "file_extension": ".py",
   "mimetype": "text/x-python",
   "name": "python",
   "nbconvert_exporter": "python",
   "pygments_lexer": "ipython3",
   "version": "3.9.13"
  },
  "orig_nbformat": 4,
  "vscode": {
   "interpreter": {
    "hash": "4934479fb73bb3f36ddc663d43cd9cd9cc75d216a7a2302a9f36b7bc65466e85"
   }
  }
 },
 "nbformat": 4,
 "nbformat_minor": 2
}
