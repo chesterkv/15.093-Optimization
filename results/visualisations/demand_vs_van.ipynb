{
 "cells": [
  {
   "cell_type": "code",
   "execution_count": null,
   "metadata": {},
   "outputs": [],
   "source": []
  }
 ],
 "metadata": {
  "kernelspec": {
   "display_name": "Python 3.9.13 ('env_maiwenn')",
   "language": "python",
   "name": "python3"
  },
  "language_info": {
   "name": "python",
   "version": "3.9.13"
  },
  "orig_nbformat": 4,
  "vscode": {
   "interpreter": {
    "hash": "32466a21a07a3c6fbc499a46ef5738207d953e31ba20ebfadb807195852ba7c1"
   }
  }
 },
 "nbformat": 4,
 "nbformat_minor": 2
}
